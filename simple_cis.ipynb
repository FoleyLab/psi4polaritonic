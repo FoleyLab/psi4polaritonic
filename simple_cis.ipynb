{
 "cells": [
  {
   "cell_type": "code",
   "execution_count": null,
   "metadata": {},
   "outputs": [],
   "source": [
    "import psi4\n",
    "import numpy as np\n",
    "from helper_cqed_rhf import *\n",
    "from helper_ciss_prism import *\n",
    "from matplotlib import pyplot as plt\n",
    "from psi4.driver.procrouting.response.scf_response import tdscf_excitations\n",
    "\n",
    "\n",
    "\n",
    "mol_str = \"\"\"\n",
    "H \n",
    "H 1 1.0\n",
    "symmetry c1\n",
    "\"\"\"\n",
    "\n",
    "options_dict = {'basis': 'sto-3g',\n",
    "                'save_jk': True,\n",
    "                  'scf_type': 'pk',\n",
    "                  'e_convergence': 1e-8,\n",
    "                  'd_convergence': 1e-8\n",
    "                  }\n",
    "\n",
    "\n",
    "psi4.set_options(options_dict)\n",
    "mol = psi4.geometry(mol_str)\n",
    "rhf_energy, wfn = psi4.energy(\"scf/sto-3g\", molecule=mol, return_wfn=True)\n",
    "print(rhf_energy)\n",
    "    \n",
    "# calculate the excited-state energies and save them to a dictionary called 'res'\n",
    "res = tdscf_excitations(wfn, states=1, triplets = \"NONE\", tda=True)\n",
    "psi4_excitation_e = [r[\"EXCITATION ENERGY\"] for r in res]\n",
    "\n",
    "\n"
   ]
  },
  {
   "cell_type": "code",
   "execution_count": null,
   "metadata": {},
   "outputs": [],
   "source": [
    "print(psi4_excitation_e)"
   ]
  },
  {
   "cell_type": "code",
   "execution_count": null,
   "metadata": {},
   "outputs": [],
   "source": [
    "# set cavity parameters\n",
    "om = 0.0\n",
    "# define the lambda vector\n",
    "lam = np.array([0, 0, 0.01])\n",
    "\n",
    "#rhf_energy, wfn = psi4.energy(\"scf/sto-3g\", molecule=mol, return_wfn=True)\n",
    "\n",
    "\n",
    "\n",
    "\n",
    "# cqed-rhf\n",
    "#cqed_rhf_dict = cqed_rhf(lam, molstr, options_dict)\n",
    "\n",
    "# cqed-cis\n",
    "cqed_cis_dict = cs_cqed_cis(lam, om, mol_str, options_dict)\n",
    "\n",
    "\n",
    "\n",
    "rhf_pf_e = cqed_cis_dict[\"RHF ENERGY\"]\n",
    "cis_dse_e = cqed_cis_dict[\"CIS-DSE ENERGY\"]\n"
   ]
  },
  {
   "cell_type": "code",
   "execution_count": null,
   "metadata": {},
   "outputs": [],
   "source": [
    "print(cis_dse_e[:]+rhf_pf_e)\n",
    "\n",
    "#assert np.isclose(cis_dse_e[0], psi4_excitation_e[0])"
   ]
  },
  {
   "cell_type": "code",
   "execution_count": null,
   "metadata": {},
   "outputs": [],
   "source": [
    "print(-1.0661086492+0.71381802)\n"
   ]
  },
  {
   "cell_type": "code",
   "execution_count": null,
   "metadata": {},
   "outputs": [],
   "source": [
    "print(cqed_cis_dict[\"H CIS-DSE\"])"
   ]
  },
  {
   "cell_type": "code",
   "execution_count": null,
   "metadata": {},
   "outputs": [],
   "source": []
  }
 ],
 "metadata": {
  "kernelspec": {
   "display_name": "Python 3 (ipykernel)",
   "language": "python",
   "name": "python3"
  },
  "language_info": {
   "codemirror_mode": {
    "name": "ipython",
    "version": 3
   },
   "file_extension": ".py",
   "mimetype": "text/x-python",
   "name": "python",
   "nbconvert_exporter": "python",
   "pygments_lexer": "ipython3",
   "version": "3.9.13"
  }
 },
 "nbformat": 4,
 "nbformat_minor": 4
}
