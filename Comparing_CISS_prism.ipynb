{
 "cells": [
  {
   "cell_type": "code",
   "execution_count": null,
   "metadata": {},
   "outputs": [],
   "source": [
    "from __future__ import print_function\n",
    "\n",
    "\"\"\"\n",
    "A script to run cqed_rhf method on the formaldehyde coupled to a photon with \n",
    "different polarizations and coupling magnitude |\\lambda| = 0.2 atomic units\n",
    "to produce data from Table I of McTague and Foley \n",
    "\"\"\"\n",
    "\n",
    "__authors__   = [\"Jon McTague\", \"Jonathan Foley\"]\n",
    "__credits__   = [\"Jon McTague\", \"Jonathan Foley\"]\n",
    "\n",
    "__copyright_amp__ = \"(c) 2014-2018, The Psi4NumPy Developers\"\n",
    "__license__   = \"BSD-3-Clause\"\n",
    "__date__      = \"2021-01-15\"\n",
    "\n",
    "# ==> Import Psi4, NumPy, & SciPy <==\n",
    "import psi4\n",
    "import numpy as np\n",
    "from helper_cqed_rhf import *\n",
    "from helper_ciss_prism import *\n",
    "from matplotlib import pyplot as plt\n",
    "\n",
    "# Set Psi4 & NumPy Memory Options\n",
    "psi4.set_memory('2 GB')\n",
    "psi4.core.set_output_file('output.dat', False)\n",
    "\n",
    "numpy_memory = 2"
   ]
  },
  {
   "cell_type": "code",
   "execution_count": null,
   "metadata": {},
   "outputs": [],
   "source": [
    "# rhf/cc-pVDZ optimized geometry of formaldehyde\n",
    "molstr = \"\"\"\n",
    "\n",
    "0 1\n",
    "O 0.0000000000 0.0000000000 5.91268220e-01\n",
    "C 0.0000000000 0.0000000000 -5.90400099e-01\n",
    "H 0.0000000000 9.32184336e-01 -1.17703144e+00\n",
    "H 0.0000000000 -9.32184336e-01 -1.17703144e+00\n",
    "no_reorient\n",
    "symmetry c1\n",
    "\"\"\"\n",
    "\n",
    "# options dict\n",
    "options_dict = {'basis': 'cc-pVDZ',\n",
    "               'save_jk': True, \n",
    "               'scf_type': 'pk',\n",
    "               'e_convergence' : 1e-8,\n",
    "               'd_convergence' : 1e-7}\n",
    "\n"
   ]
  },
  {
   "cell_type": "code",
   "execution_count": null,
   "metadata": {},
   "outputs": [],
   "source": [
    "# set cavity parameters\n",
    "om = 0.3780197\n",
    "lam = np.array([0, 0, 0.00])\n",
    "\n",
    "# cqed-rhf\n",
    "#cqed_rhf_dict = cqed_rhf(lam, molstr, options_dict)\n",
    "\n",
    "# cqed-cis\n",
    "cqed_cis_dict = cs_cqed_cis(lam, om, molstr, options_dict)"
   ]
  },
  {
   "cell_type": "code",
   "execution_count": null,
   "metadata": {},
   "outputs": [],
   "source": [
    "scf_e = cqed_cis_dict[\"RHF ENERGY\"]\n",
    "cqed_scf_e = cqed_cis_dict[\"CQED-RHF ENERGY\"]\n",
    "\n",
    "ciss_pf_e = cqed_cis_dict[\"CISS-PF ENERGY\"]\n",
    "ciss_jc_e = cqed_cis_dict[\"CISS-JC ENERGY\"]\n",
    "cis_pf_e = cqed_cis_dict[\"CIS-PF ENERGY\"]\n",
    "cis_jc_e = cqed_cis_dict[\"CIS-JC ENERGY\"]\n",
    "cis_dse_e = cqed_cis_dict[\"CIS-DSE ENERGY\"]\n",
    "\n",
    "\n",
    "print(ciss_pf_e[1:8])\n",
    "print(ciss_jc_e[1:8])\n",
    "print(cis_pf_e[0:7])\n",
    "print(cis_jc_e[0:7])\n",
    "print(cis_dse_e[0:7])\n"
   ]
  },
  {
   "cell_type": "code",
   "execution_count": null,
   "metadata": {},
   "outputs": [],
   "source": [
    "lam_z = [0.0, 0.01, 0.02, 0.03, 0.04, 0.05, 0.06, 0.07, 0.08, 0.09, 0.1]"
   ]
  },
  {
   "cell_type": "code",
   "execution_count": null,
   "metadata": {},
   "outputs": [],
   "source": [
    "\n",
    "ciss_pf = np.zeros((5,len(lam_z)))\n",
    "ciss_jc = np.zeros((5,len(lam_z)))\n",
    "cis_pf = np.zeros((5,len(lam_z)))\n",
    "cis_jc = np.zeros((5,len(lam_z)))\n",
    "\n",
    "# lambda vector\n",
    "#lam = np.array([0,0,lam_z])\n",
    "\n",
    "# loop over the different bond-lengths, create different instances\n",
    "# of MgH+ molecule and compute and store various quantities\n",
    "ctr = 0\n",
    "for l in lam_z:\n",
    "    lam = np.array([0, 0, l])\n",
    "    \n",
    "    cqed_cis_dict = cs_cqed_cis(lam, om, molstr, options_dict)\n",
    "    # get cqed_scf_e\n",
    "    cqed_scf_e = cqed_cis_dict[\"CQED-RHF ENERGY\"]\n",
    "    \n",
    "    # get eigenvalues from CISS-PF\n",
    "    ciss_pf_e = cqed_cis_dict[\"CISS-PF ENERGY\"]\n",
    "    # get eigenvalues from CISS-JC\n",
    "    ciss_jc_e = cqed_cis_dict[\"CISS-JC ENERGY\"]\n",
    "    # get eigenvalues from CIS-PF\n",
    "    cis_pf_e = cqed_cis_dict[\"CIS-PF ENERGY\"]\n",
    "    # get eigenvalues from CIS-JC\n",
    "    cis_jc_e = cqed_cis_dict[\"CIS-JC ENERGY\"]\n",
    "    \n",
    "\n",
    "    \n",
    "    ciss_pf[:5,ctr] = cqed_scf_e+ciss_pf_e[:5]\n",
    "    ciss_jc[:5,ctr] = cqed_scf_e+ciss_jc_e[:5]\n",
    "    \n",
    "    cis_pf[0,ctr] = cqed_scf_e\n",
    "    cis_jc[0,ctr] = cqed_scf_e\n",
    "\n",
    "    cis_pf[1:5,ctr] = cqed_scf_e + cis_pf_e[0:4]\n",
    "    cis_jc[1:5,ctr] = cqed_scf_e + cis_jc_e[0:4]\n",
    "    ctr += 1\n",
    "    \n",
    "    "
   ]
  },
  {
   "cell_type": "code",
   "execution_count": null,
   "metadata": {},
   "outputs": [],
   "source": [
    "from matplotlib import pyplot as plt\n",
    "\n",
    "plt.plot(lam_z, ciss_pf[2,:], 'r-o', label='CISS-PF')\n",
    "plt.plot(lam_z, ciss_jc[2,:], 'g-o', label='CISS-JC')\n",
    "plt.plot(lam_z, cis_pf[2,:], 'b-o', label='CIS-PF')\n",
    "plt.plot(lam_z, cis_jc[2,:], 'm-o', label='CIS-JC')\n",
    "plt.plot(lam_z, ciss_pf[3,:], 'r-o')\n",
    "plt.plot(lam_z, ciss_jc[3,:], 'g-o')\n",
    "plt.plot(lam_z, cis_pf[3,:], 'b-o')\n",
    "plt.plot(lam_z, cis_jc[3,:], 'm-o')\n",
    "plt.plot(lam_z, ciss_pf[0,:], 'r--')\n",
    "plt.plot(lam_z, ciss_jc[0,:], 'g--')\n",
    "plt.plot(lam_z, cis_pf[0,:], 'b--')\n",
    "plt.plot(lam_z, cis_jc[0,:], 'm--')\n",
    "\n",
    "plt.xlabel(\"$\\lambda$ (a.u.)\")\n",
    "plt.ylabel(\"Energy (a.u.)\")\n",
    "plt.legend()\n",
    "#plt.savefig(\"Compare_Prism.png\")\n",
    "plt.show()"
   ]
  },
  {
   "cell_type": "code",
   "execution_count": null,
   "metadata": {},
   "outputs": [],
   "source": [
    "plt.plot(lam_z, ciss_pf[0,:], 'r-o', label='CISS-PF')\n",
    "plt.plot(lam_z, ciss_jc[0,:], 'g-o', label='CISS-JC')\n",
    "plt.plot(lam_z, cis_pf[0,:], 'b-o', label='CIS-PF')\n",
    "plt.plot(lam_z, cis_jc[0,:], 'm-o', label='CIS-JC')\n",
    "\n",
    "plt.xlabel(\"$\\lambda$ (a.u.)\")\n",
    "plt.ylabel(\"Energy (a.u.)\")\n",
    "plt.legend()\n",
    "#plt.savefig(\"Compare_Prism.png\")\n",
    "plt.show()"
   ]
  },
  {
   "cell_type": "code",
   "execution_count": null,
   "metadata": {},
   "outputs": [],
   "source": []
  }
 ],
 "metadata": {
  "kernelspec": {
   "display_name": "Python 3 (ipykernel)",
   "language": "python",
   "name": "python3"
  },
  "language_info": {
   "codemirror_mode": {
    "name": "ipython",
    "version": 3
   },
   "file_extension": ".py",
   "mimetype": "text/x-python",
   "name": "python",
   "nbconvert_exporter": "python",
   "pygments_lexer": "ipython3",
   "version": "3.9.13"
  }
 },
 "nbformat": 4,
 "nbformat_minor": 4
}
