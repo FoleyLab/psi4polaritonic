{
 "cells": [
  {
   "cell_type": "code",
   "execution_count": 3,
   "metadata": {},
   "outputs": [],
   "source": [
    "from __future__ import print_function\n",
    "\n",
    "\"\"\"\n",
    "A script to run cqed_rhf method on the formaldehyde molecule in a cc-pVDZ basis set.\n",
    "\"\"\"\n",
    "\n",
    "__authors__   = [\"Jon McTague\", \"Jonathan Foley\"]\n",
    "__credits__   = [\"Jon McTague\", \"Jonathan Foley\"]\n",
    "\n",
    "__copyright_amp__ = \"(c) 2014-2018, The Psi4NumPy Developers\"\n",
    "__license__   = \"BSD-3-Clause\"\n",
    "__date__      = \"2021-01-15\"\n",
    "\n",
    "# ==> Import Psi4, NumPy, & SciPy <==\n",
    "import psi4\n",
    "import numpy as np\n",
    "from helper_cqed_rhf import *\n",
    "from helper_cs_cqed_cis import *\n",
    "from matplotlib import pyplot as plt\n",
    "\n",
    "# Set Psi4 & NumPy Memory Options\n",
    "psi4.set_memory('2 GB')\n",
    "psi4.core.set_output_file('output.dat', False)\n",
    "\n",
    "numpy_memory = 2\n"
   ]
  },
  {
   "cell_type": "code",
   "execution_count": 6,
   "metadata": {},
   "outputs": [
    {
     "name": "stdout",
     "output_type": "stream",
     "text": [
      "-113.87722217661772\n"
     ]
    }
   ],
   "source": [
    "\n",
    "# rhf/cc-pVDZ optimized geometry of formaldehyde\n",
    "molstr = \"\"\"\n",
    "\n",
    "0 1\n",
    "O 0.0000000000 0.0000000000 5.91268220e-01\n",
    "C 0.0000000000 0.0000000000 -5.90400099e-01\n",
    "H 0.0000000000 9.32184336e-01 -1.17703144e+00\n",
    "H 0.0000000000 -9.32184336e-01 -1.17703144e+00\n",
    "no_reorient\n",
    "symmetry c2v\n",
    "\"\"\"\n",
    "\n",
    "# options dict\n",
    "options_dict = {'basis': 'cc-pVDZ',\n",
    "               'save_jk': True, \n",
    "               'scf_type': 'pk',\n",
    "               'e_convergence' : 1e-10,\n",
    "               'd_convergence' : 1e-10}\n",
    "\n",
    "psi4.set_options(options_dict)\n",
    "mol = psi4.geometry(molstr)\n",
    "\n",
    "\n",
    "energy, wfn = psi4.energy(\"scf/cc-pVDZ\", molecule=mol, return_wfn=True)\n",
    "print(energy)\n",
    "\n",
    "HOMO = 8\n",
    "LUMO = 9 # These are is the HOMO and LUMO for HF.\n",
    "                # The HOMO/LUMO is based on the total number of electrons. HF has 10 electrons\n",
    "                # and each orbital can have two electrons. 5 is the HOMO and 6 is the LUMO\n",
    "\n",
    "\n",
    "\n",
    "psi4.set_options({\n",
    "    'CUBEPROP_TASKS': ['ORBITALS', 'DENSITY'], # calculate orbitals\n",
    "    'CUBEPROP_ORBITALS': [4, 5, 6, 7, 8, 9, 10, 11, 12, 13, 14],    # calculate HOMO and LUMO. \n",
    "})\n",
    "cube = psi4.cubeprop(wfn)"
   ]
  },
  {
   "cell_type": "code",
   "execution_count": 7,
   "metadata": {},
   "outputs": [
    {
     "name": "stdout",
     "output_type": "stream",
     "text": [
      "CubeViewer: listing cube files from the directory .\n",
      "Reading 19 cube files\n"
     ]
    },
    {
     "name": "stderr",
     "output_type": "stream",
     "text": [
      "/opt/anaconda3/lib//python3.8/site-packages/fortecubeview/py3js_renderer.py:1096: FutureWarning: marching_cubes_lewiner is deprecated in favor of marching_cubes. marching_cubes_lewiner will be removed in version 0.19\n",
      "  values = skimage.measure.marching_cubes_lewiner(data, level * 0.995)\n",
      "/opt/anaconda3/lib//python3.8/site-packages/fortecubeview/cube_file.py:213: RuntimeWarning: invalid value encountered in double_scalars\n",
      "  if partial_sum / sum < fraction:\n"
     ]
    },
    {
     "data": {
      "application/vnd.jupyter.widget-view+json": {
       "model_id": "2432d5db63ee4c3c905bf84139841808",
       "version_major": 2,
       "version_minor": 0
      },
      "text/plain": [
       "VBox(children=(HTML(value=''), Renderer(camera=OrthographicCamera(bottom=-5.0, children=(DirectionalLight(colo…"
      ]
     },
     "metadata": {},
     "output_type": "display_data"
    },
    {
     "data": {
      "application/vnd.jupyter.widget-view+json": {
       "model_id": "e890b14528eb471092c2681c3dea6111",
       "version_major": 2,
       "version_minor": 0
      },
      "text/plain": [
       "HTML(value='\\n        <style>\\n           .jupyter-widgets-output-area .output_scroll {\\n                heigh…"
      ]
     },
     "metadata": {},
     "output_type": "display_data"
    },
    {
     "data": {
      "application/vnd.jupyter.widget-view+json": {
       "model_id": "b08df600bc3d4d0e8dd1a5949bbae64c",
       "version_major": 2,
       "version_minor": 0
      },
      "text/plain": [
       "interactive(children=(Select(description='Cube files:', options=('Density (alpha)', 'Density (beta)', 'Density…"
      ]
     },
     "metadata": {},
     "output_type": "display_data"
    },
    {
     "data": {
      "text/plain": [
       "<fortecubeview.cube_viewer.CubeViewer at 0x7fcda1f69d60>"
      ]
     },
     "execution_count": 7,
     "metadata": {},
     "output_type": "execute_result"
    }
   ],
   "source": [
    "import fortecubeview\n",
    "fortecubeview.plot()"
   ]
  },
  {
   "cell_type": "code",
   "execution_count": null,
   "metadata": {},
   "outputs": [],
   "source": [
    "# different magnitudes of the lambda vector\n",
    "l = 0.5\n",
    "\n",
    "no_lam = np.array([0., 0., 0.])\n",
    "lam_y = np.array([0, l, 0])\n",
    "lam_z = np.array([0, 0, l])\n",
    "lam_yz = np.array([0, l/np.sqrt(2), l/np.sqrt(2)])\n",
    "    \n",
    "# results for y-polarized\n",
    "y_dict = cqed_rhf(lam_y, molstr, options_dict)\n",
    "    \n",
    "z_dict = cqed_rhf(lam_z, molstr, options_dict)\n",
    "\n",
    "yz_dict = cqed_rhf(lam_yz, molstr, options_dict)\n",
    "\n",
    "no_lam_dict = cqed_rhf(no_lam, molstr, options_dict)\n",
    "\n"
   ]
  },
  {
   "cell_type": "code",
   "execution_count": null,
   "metadata": {},
   "outputs": [],
   "source": [
    "# RHF Wavefunction dict from the original RHF wavefunction object 'wfn'\n",
    "rhf_wfn_dict = psi4.core.Wavefunction.to_file(wfn)\n",
    "\n",
    "D_psi = rhf_wfn_dict['matrix']['Da']\n",
    "\n",
    "D_my = yz_dict[\"CQED-RHF DENSITY MATRIX\"]\n",
    "\n",
    "C_my = yz_dict[\"CQED-RHF C\"]\n",
    "\n",
    "print(D_my - D_psi)\n"
   ]
  },
  {
   "cell_type": "code",
   "execution_count": null,
   "metadata": {},
   "outputs": [],
   "source": [
    "rhf_wfn_dict['matrix']['Da'] = D_my\n",
    "rhf_wfn_dict['matrix']['Db'] = D_psi\n",
    "\n",
    "rhf_wfn_dict['matrix']['Ca'] = C_my\n",
    "rhf_wfn_dict['matrix']['Cb'] = C_my\n",
    "# Now create a new wavefunction object that has the CQED-RHF orbitals 'cqedrhf_wfn'\n",
    "cqedrhf_wfn = psi4.core.Wavefunction.from_file(rhf_wfn_dict) \n",
    "# Confirm you have copied the CQED-RHF orbitals properly \n",
    "# by again getting a dic of the wavefunction and comparing\n",
    "# the orbitals to the original numpy array 'C' that resulted\n",
    "# from the CQED-RHF iterations\n",
    "cqedrhf_wfn_dict = psi4.core.Wavefunction.to_file(cqedrhf_wfn)\n",
    "\n",
    "assert np.allclose(cqedrhf_wfn_dict['matrix']['Db'], D_my, 1e-6)\n",
    "#assert np.allclose(cqedrhf_wfn_dict['matrix']['Cb'], C, 1e-6)\n",
    "\n"
   ]
  },
  {
   "cell_type": "code",
   "execution_count": null,
   "metadata": {},
   "outputs": [],
   "source": [
    "\n",
    "HOMO = 8\n",
    "LUMO = 9 # These are is the HOMO and LUMO for HF.\n",
    "                # The HOMO/LUMO is based on the total number of electrons. HF has 10 electrons\n",
    "                # and each orbital can have two electrons. 5 is the HOMO and 6 is the LUMO\n",
    "\n",
    "\n",
    "psi4.set_options({\n",
    "    'CUBEPROP_TASKS': ['ORBITALS', 'DENSITY'], # calculate orbitals\n",
    "    'CUBEPROP_ORBITALS': [HOMO-1, HOMO, LUMO, LUMO+1],    # calculate HOMO and LUMO. \n",
    "})\n",
    "cube = psi4.cubeprop(cqedrhf_wfn)"
   ]
  },
  {
   "cell_type": "code",
   "execution_count": null,
   "metadata": {},
   "outputs": [],
   "source": [
    "import fortecubeview\n",
    "fortecubeview.plot()"
   ]
  },
  {
   "cell_type": "code",
   "execution_count": null,
   "metadata": {},
   "outputs": [],
   "source": [
    "mol.save_xyz_file(\"geom.xyz\", 1)"
   ]
  },
  {
   "cell_type": "code",
   "execution_count": null,
   "metadata": {},
   "outputs": [],
   "source": [
    "f = open(\"geom.xyz\")\n",
    "xyz = f.read()\n",
    "f.close()"
   ]
  },
  {
   "cell_type": "markdown",
   "metadata": {},
   "source": [
    "Run the scan below to generate data for Figure 1: (Top)  Total  CQED-RHF  energy,  (middle)  canonical  RHFcontribution to the total energy, (bottom) Pauli-Fierz contribution tothe total energy as a function of|λ|along they−and/orz−axes"
   ]
  },
  {
   "cell_type": "code",
   "execution_count": null,
   "metadata": {},
   "outputs": [],
   "source": [
    "import py3Dmol"
   ]
  },
  {
   "cell_type": "code",
   "execution_count": null,
   "metadata": {},
   "outputs": [],
   "source": [
    "def open_cube(cube_file):\n",
    "    \"\"\"\n",
    "    Open and parse a cube file.\n",
    "    \n",
    "    The low and high isovalues are returned, along with the cube values. The low and high values represent the\n",
    "    isocontour range for 85% of the density.\n",
    "    \n",
    "    Parameters\n",
    "    ----------\n",
    "    cube_file : str\n",
    "        The filepath to the cube file to read.\n",
    "    \n",
    "    Returns\n",
    "    -------\n",
    "    low : float\n",
    "        Low limit for isocontour range to capture 85% of the density.\n",
    "    high : float\n",
    "        High limit for isocontour range to capture 85% of the density.\n",
    "    \n",
    "    \"\"\"\n",
    "    \n",
    "    # Get isovalues\n",
    "    f = open(cube_file, \"r\")\n",
    "    f.readline()\n",
    "    line = f.readline()\n",
    "    f.close()\n",
    "    split_line = line.split(\":\")\n",
    "    \n",
    "    isovalues = split_line[-1][2:-2]\n",
    "    isovalues = isovalues.split(\",\")\n",
    "    \n",
    "    high = float(isovalues[1])\n",
    "    low = float(isovalues[0])\n",
    "    \n",
    "    # Read cube file\n",
    "    f = open(cube_file, \"r\")\n",
    "    data = f.read()\n",
    "    f.close()\n",
    "    print(low, high)\n",
    "    return low, high, data"
   ]
  },
  {
   "cell_type": "code",
   "execution_count": null,
   "metadata": {},
   "outputs": [],
   "source": [
    "import glob\n"
   ]
  },
  {
   "cell_type": "code",
   "execution_count": null,
   "metadata": {},
   "outputs": [],
   "source": [
    "cube_files = glob.glob(\"*.cube\")\n",
    "print(cube_files)\n",
    "\n",
    "cube = cube_files[3]\n",
    "isohigh, isolow, orbital = open_cube(cube)\n",
    "    \n",
    "# Process the file name to get the orbital\n",
    "orbital_num = cube.split(\"_\")[2]\n",
    "    \n",
    "print(F\"Showing visualization for orbital {orbital_num}\")\n",
    "    \n",
    "# Use pymol3D to make visualization\n",
    "v = py3Dmol.view()\n",
    "    \n",
    "# Add surfaces\n",
    "v.addVolumetricData(orbital, \"cube\", {'isoval': isohigh, 'color': \"red\", 'opacity': 0.90})\n",
    "#v.addVolumetricData(orbital, \"cube\", {'isoval': isolow, 'color': \"blue\", 'opacity': 0.90})\n",
    "    \n",
    "# Add molecule\n",
    "v.addModel(xyz, 'mol')\n",
    "v.setStyle({'stick':{}})\n",
    "    \n",
    "# Zoom to molecule and show\n",
    "v.zoomTo()\n",
    "v.show()"
   ]
  },
  {
   "cell_type": "code",
   "execution_count": null,
   "metadata": {},
   "outputs": [],
   "source": []
  }
 ],
 "metadata": {
  "kernelspec": {
   "display_name": "Python 3",
   "language": "python",
   "name": "python3"
  },
  "language_info": {
   "codemirror_mode": {
    "name": "ipython",
    "version": 3
   },
   "file_extension": ".py",
   "mimetype": "text/x-python",
   "name": "python",
   "nbconvert_exporter": "python",
   "pygments_lexer": "ipython3",
   "version": "3.8.5"
  }
 },
 "nbformat": 4,
 "nbformat_minor": 4
}
