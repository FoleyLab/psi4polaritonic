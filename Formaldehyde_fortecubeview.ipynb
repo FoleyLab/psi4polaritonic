{
 "cells": [
  {
   "cell_type": "code",
   "execution_count": 1,
   "metadata": {},
   "outputs": [],
   "source": [
    "from __future__ import print_function\n",
    "\n",
    "\"\"\"\n",
    "A script to run cqed_rhf method on the formaldehyde molecule in a cc-pVDZ basis set.\n",
    "\"\"\"\n",
    "\n",
    "__authors__   = [\"Jon McTague\", \"Jonathan Foley\"]\n",
    "__credits__   = [\"Jon McTague\", \"Jonathan Foley\"]\n",
    "\n",
    "__copyright_amp__ = \"(c) 2014-2018, The Psi4NumPy Developers\"\n",
    "__license__   = \"BSD-3-Clause\"\n",
    "__date__      = \"2021-01-15\"\n",
    "\n",
    "# ==> Import Psi4, NumPy, & SciPy <==\n",
    "import psi4\n",
    "import numpy as np\n",
    "from helper_cqed_rhf import *\n",
    "from helper_cs_cqed_cis import *\n",
    "from matplotlib import pyplot as plt\n",
    "\n",
    "# Set Psi4 & NumPy Memory Options\n",
    "psi4.set_memory('2 GB')\n",
    "psi4.core.set_output_file('output.dat', False)\n",
    "\n",
    "numpy_memory = 2\n"
   ]
  },
  {
   "cell_type": "code",
   "execution_count": 2,
   "metadata": {},
   "outputs": [
    {
     "name": "stdout",
     "output_type": "stream",
     "text": [
      "-113.87722217661776\n",
      "CubeViewer: listing cube files from the directory .\n",
      "Reading 102 cube files\n"
     ]
    },
    {
     "name": "stderr",
     "output_type": "stream",
     "text": [
      "/opt/anaconda3/lib//python3.8/site-packages/fortecubeview/py3js_renderer.py:1096: FutureWarning: marching_cubes_lewiner is deprecated in favor of marching_cubes. marching_cubes_lewiner will be removed in version 0.19\n",
      "  values = skimage.measure.marching_cubes_lewiner(data, level * 0.995)\n"
     ]
    },
    {
     "data": {
      "application/vnd.jupyter.widget-view+json": {
       "model_id": "ad113eeb3daf4ef79d5a2b5d4a6f384e",
       "version_major": 2,
       "version_minor": 0
      },
      "text/plain": [
       "VBox(children=(HTML(value=''), Renderer(camera=OrthographicCamera(bottom=-5.0, children=(DirectionalLight(colo…"
      ]
     },
     "metadata": {},
     "output_type": "display_data"
    },
    {
     "data": {
      "application/vnd.jupyter.widget-view+json": {
       "model_id": "883710958f9d49c49b76dab51a9d3bcf",
       "version_major": 2,
       "version_minor": 0
      },
      "text/plain": [
       "HTML(value='\\n        <style>\\n           .jupyter-widgets-output-area .output_scroll {\\n                heigh…"
      ]
     },
     "metadata": {},
     "output_type": "display_data"
    },
    {
     "data": {
      "application/vnd.jupyter.widget-view+json": {
       "model_id": "7672a261d0d749b09277043a9dbe3b83",
       "version_major": 2,
       "version_minor": 0
      },
      "text/plain": [
       "interactive(children=(Select(description='Cube files:', options=(\"MO    1a (1-A')\", \"MO    1b (1-A')\", \"MO    …"
      ]
     },
     "metadata": {},
     "output_type": "display_data"
    },
    {
     "data": {
      "text/plain": [
       "<fortecubeview.cube_viewer.CubeViewer at 0x7fc5e08b5910>"
      ]
     },
     "execution_count": 2,
     "metadata": {},
     "output_type": "execute_result"
    }
   ],
   "source": [
    "\n",
    "# rhf/cc-pVDZ optimized geometry of formaldehyde\n",
    "molstr = \"\"\"\n",
    "\n",
    "0 1\n",
    "O 0.0000000000 0.0000000000 5.91268220e-01\n",
    "C 0.0000000000 0.0000000000 -5.90400099e-01\n",
    "H 0.0000000000 9.32184336e-01 -1.17703144e+00\n",
    "H 0.0000000000 -9.32184336e-01 -1.17703144e+00\n",
    "no_reorient\n",
    "symmetry cs\n",
    "\"\"\"\n",
    "\n",
    "# options dict\n",
    "options_dict = {'basis': 'cc-pVDZ',\n",
    "               'save_jk': True, \n",
    "               'scf_type': 'pk',\n",
    "               'e_convergence' : 1e-10,\n",
    "               'd_convergence' : 1e-10}\n",
    "\n",
    "psi4.set_options(options_dict)\n",
    "mol = psi4.geometry(molstr)\n",
    "\n",
    "\n",
    "energy, wfn = psi4.energy(\"scf/cc-pVDZ\", molecule=mol, return_wfn=True)\n",
    "print(energy)\n",
    "\n",
    "HOMO = 8\n",
    "LUMO = 9 # These are is the HOMO and LUMO for HF.\n",
    "                # The HOMO/LUMO is based on the total number of electrons. HF has 10 electrons\n",
    "                # and each orbital can have two electrons. 5 is the HOMO and 6 is the LUMO\n",
    "\n",
    "\n",
    "\n",
    "#psi4.set_options({\n",
    "#    'CUBEPROP_TASKS': ['ORBITALS', 'DENSITY'], # calculate orbitals\n",
    "#    'CUBEPROP_ORBITALS': [4, 5, 6, 7, 8, 9, 10, 11, 12, 13, 14],    # calculate HOMO and LUMO. \n",
    "#})\n",
    "psi4.set_options({\n",
    "    'CUBEPROP_TASKS': ['ORBITALS'], # calculate orbitals\n",
    "})\n",
    "cube = psi4.cubeprop(wfn)\n",
    "import fortecubeview\n",
    "fortecubeview.plot(colorscheme='emory', opacity=.95)"
   ]
  },
  {
   "cell_type": "code",
   "execution_count": 2,
   "metadata": {},
   "outputs": [
    {
     "name": "stdout",
     "output_type": "stream",
     "text": [
      "CubeViewer: listing cube files from the directory .\n",
      "Reading 102 cube files\n"
     ]
    },
    {
     "name": "stderr",
     "output_type": "stream",
     "text": [
      "/opt/anaconda3/lib//python3.8/site-packages/fortecubeview/py3js_renderer.py:1096: FutureWarning: marching_cubes_lewiner is deprecated in favor of marching_cubes. marching_cubes_lewiner will be removed in version 0.19\n",
      "  values = skimage.measure.marching_cubes_lewiner(data, level * 0.995)\n"
     ]
    },
    {
     "data": {
      "application/vnd.jupyter.widget-view+json": {
       "model_id": "9702571301704a7fb7ac8e16f3505e68",
       "version_major": 2,
       "version_minor": 0
      },
      "text/plain": [
       "VBox(children=(HTML(value=''), Renderer(camera=OrthographicCamera(bottom=-5.0, children=(DirectionalLight(colo…"
      ]
     },
     "metadata": {},
     "output_type": "display_data"
    },
    {
     "data": {
      "application/vnd.jupyter.widget-view+json": {
       "model_id": "97b5c3076d94487582a30622f6bb30a0",
       "version_major": 2,
       "version_minor": 0
      },
      "text/plain": [
       "HTML(value='\\n        <style>\\n           .jupyter-widgets-output-area .output_scroll {\\n                heigh…"
      ]
     },
     "metadata": {},
     "output_type": "display_data"
    },
    {
     "data": {
      "application/vnd.jupyter.widget-view+json": {
       "model_id": "4f5cde0108524ef2a3ca905b2c23c05f",
       "version_major": 2,
       "version_minor": 0
      },
      "text/plain": [
       "interactive(children=(Select(description='Cube files:', options=(\"MO    1a (1-A')\", \"MO    1b (1-A')\", \"MO    …"
      ]
     },
     "metadata": {},
     "output_type": "display_data"
    },
    {
     "data": {
      "text/plain": [
       "<fortecubeview.cube_viewer.CubeViewer at 0x7f9f8038f250>"
      ]
     },
     "execution_count": 2,
     "metadata": {},
     "output_type": "execute_result"
    }
   ],
   "source": [
    "import fortecubeview\n",
    "fortecubeview.plot(colorscheme='emory', opacity=.95)"
   ]
  },
  {
   "cell_type": "code",
   "execution_count": 12,
   "metadata": {},
   "outputs": [
    {
     "name": "stdout",
     "output_type": "stream",
     "text": [
      "C\n",
      "38\n",
      "Cocc\n",
      "38\n",
      "\n",
      "Start SCF iterations:\n",
      "\n",
      "Canonical RHF One-electron energy = -218.2835959999194131\n",
      "CQED-RHF One-electron energy      = -217.9897365386672448\n",
      "Nuclear repulsion energy          = 31.7803657982661569\n",
      "Dipole energy                     = 0.0000000000000000\n",
      "SCF Iteration   1: Energy = -113.7363030943151898   dE = -1.13736E+02   dRMS = 2.04063E-03\n",
      "SCF Iteration   2: Energy = -113.7414221172238342   dE = -5.11902E-03   dRMS = 6.67606E-04\n",
      "SCF Iteration   3: Energy = -113.7417301257044357   dE = -3.08008E-04   dRMS = 3.16945E-04\n",
      "SCF Iteration   4: Energy = -113.7417743475720044   dE = -4.42219E-05   dRMS = 2.21700E-04\n",
      "SCF Iteration   5: Energy = -113.7417876864722928   dE = -1.33389E-05   dRMS = 1.66260E-04\n",
      "SCF Iteration   6: Energy = -113.7417939719871924   dE = -6.28551E-06   dRMS = 1.23578E-04\n",
      "SCF Iteration   7: Energy = -113.7417973912125433   dE = -3.41923E-06   dRMS = 9.48446E-05\n",
      "SCF Iteration   8: Energy = -113.7417993297345333   dE = -1.93852E-06   dRMS = 7.11153E-05\n",
      "SCF Iteration   9: Energy = -113.7418004378677381   dE = -1.10813E-06   dRMS = 5.43615E-05\n",
      "SCF Iteration  10: Energy = -113.7418010742646572   dE = -6.36397E-07   dRMS = 4.09609E-05\n",
      "SCF Iteration  11: Energy = -113.7418014396691319   dE = -3.65404E-07   dRMS = 3.12018E-05\n",
      "SCF Iteration  12: Energy = -113.7418016497556152   dE = -2.10086E-07   dRMS = 2.35765E-05\n",
      "SCF Iteration  13: Energy = -113.7418017704790714   dE = -1.20723E-07   dRMS = 1.79222E-05\n",
      "SCF Iteration  14: Energy = -113.7418018398949471   dE = -6.94159E-08   dRMS = 1.35635E-05\n",
      "SCF Iteration  15: Energy = -113.7418018797942239   dE = -3.98993E-08   dRMS = 1.02987E-05\n",
      "SCF Iteration  16: Energy = -113.7418019027353182   dE = -2.29411E-08   dRMS = 7.80074E-06\n",
      "SCF Iteration  17: Energy = -113.7418019159231619   dE = -1.31878E-08   dRMS = 5.91928E-06\n",
      "SCF Iteration  18: Energy = -113.7418019235055908   dE = -7.58243E-09   dRMS = 4.48568E-06\n",
      "SCF Iteration  19: Energy = -113.7418019278646568   dE = -4.35907E-09   dRMS = 3.40260E-06\n",
      "SCF Iteration  20: Energy = -113.7418019303708547   dE = -2.50620E-09   dRMS = 2.57918E-06\n",
      "SCF Iteration  21: Energy = -113.7418019318116365   dE = -1.44078E-09   dRMS = 1.95606E-06\n",
      "SCF Iteration  22: Energy = -113.7418019326400724   dE = -8.28436E-10   dRMS = 1.48291E-06\n",
      "SCF Iteration  23: Energy = -113.7418019331162782   dE = -4.76206E-10   dRMS = 1.12453E-06\n",
      "SCF Iteration  24: Energy = -113.7418019333899792   dE = -2.73701E-10   dRMS = 8.52579E-07\n",
      "SCF Iteration  25: Energy = -113.7418019335472650   dE = -1.57286E-10   dRMS = 6.46497E-07\n",
      "SCF Iteration  26: Energy = -113.7418019336377881   dE = -9.05231E-11   dRMS = 4.90172E-07\n",
      "SCF Iteration  27: Energy = -113.7418019336895725   dE = -5.17844E-11   dRMS = 3.71679E-07\n",
      "SCF Iteration  28: Energy = -113.7418019337198416   dE = -3.02691E-11   dRMS = 2.81812E-07\n",
      "SCF Iteration  29: Energy = -113.7418019337367809   dE = -1.69393E-11   dRMS = 2.13683E-07\n",
      "SCF Iteration  30: Energy = -113.7418019337468706   dE = -1.00897E-11   dRMS = 1.62020E-07\n",
      "SCF Iteration  31: Energy = -113.7418019337524981   dE = -5.62750E-12   dRMS = 1.22850E-07\n",
      "SCF Iteration  32: Energy = -113.7418019337558519   dE = -3.35376E-12   dRMS = 9.31484E-08\n",
      "SCF Iteration  33: Energy = -113.7418019337577562   dE = -1.90425E-12   dRMS = 7.06287E-08\n",
      "SCF Iteration  34: Energy = -113.7418019337588646   dE = -1.10845E-12   dRMS = 5.35528E-08\n",
      "SCF Iteration  35: Energy = -113.7418019337594899   dE = -6.25278E-13   dRMS = 4.06057E-08\n",
      "SCF Iteration  36: Energy = -113.7418019337598309   dE = -3.41061E-13   dRMS = 3.07886E-08\n",
      "SCF Iteration  37: Energy = -113.7418019337598594   dE = -2.84217E-14   dRMS = 2.33450E-08\n",
      "SCF Iteration  38: Energy = -113.7418019337599446   dE = -8.52651E-14   dRMS = 1.77009E-08\n",
      "SCF Iteration  39: Energy = -113.7418019337600583   dE = -1.13687E-13   dRMS = 1.34215E-08\n",
      "SCF Iteration  40: Energy = -113.7418019337602573   dE = -1.98952E-13   dRMS = 1.01766E-08\n",
      "SCF Iteration  41: Energy = -113.7418019337602288   dE =  2.84217E-14   dRMS = 7.71624E-09\n",
      "SCF Iteration  42: Energy = -113.7418019337602857   dE = -5.68434E-14   dRMS = 5.85072E-09\n",
      "SCF Iteration  43: Energy = -113.7418019337603141   dE = -2.84217E-14   dRMS = 4.43621E-09\n",
      "SCF Iteration  44: Energy = -113.7418019337602288   dE =  8.52651E-14   dRMS = 3.36369E-09\n",
      "SCF Iteration  45: Energy = -113.7418019337602857   dE = -5.68434E-14   dRMS = 2.55046E-09\n",
      "SCF Iteration  46: Energy = -113.7418019337602857   dE =  0.00000E+00   dRMS = 1.93385E-09\n",
      "SCF Iteration  47: Energy = -113.7418019337602573   dE =  2.84217E-14   dRMS = 1.46631E-09\n",
      "SCF Iteration  48: Energy = -113.7418019337602573   dE =  0.00000E+00   dRMS = 1.11181E-09\n",
      "SCF Iteration  49: Energy = -113.7418019337602288   dE =  2.84217E-14   dRMS = 8.43008E-10\n",
      "SCF Iteration  50: Energy = -113.7418019337602004   dE =  2.84217E-14   dRMS = 6.39198E-10\n",
      "SCF Iteration  51: Energy = -113.7418019337602288   dE = -2.84217E-14   dRMS = 4.84662E-10\n",
      "SCF Iteration  52: Energy = -113.7418019337603425   dE = -1.13687E-13   dRMS = 3.67487E-10\n",
      "SCF Iteration  53: Energy = -113.7418019337602857   dE =  5.68434E-14   dRMS = 2.78641E-10\n",
      "SCF Iteration  54: Energy = -113.7418019337601720   dE =  1.13687E-13   dRMS = 2.11275E-10\n",
      "SCF Iteration  55: Energy = -113.7418019337603425   dE = -1.70530E-13   dRMS = 1.60196E-10\n",
      "SCF Iteration  56: Energy = -113.7418019337603425   dE =  0.00000E+00   dRMS = 1.21466E-10\n",
      "SCF Iteration  57: Energy = -113.7418019337602288   dE =  1.13687E-13   dRMS = 9.20997E-11\n",
      "Total time for SCF iterations: 0.698 seconds \n",
      "\n",
      "QED-RHF   energy: -113.74180193 hartree\n",
      "Psi4  SCF energy: -113.87722218 hartree\n",
      "C\n",
      "38\n",
      "Cocc\n",
      "38\n",
      "\n",
      "Start SCF iterations:\n",
      "\n",
      "Canonical RHF One-electron energy = -218.2835959999194131\n",
      "CQED-RHF One-electron energy      = -217.6226228150973441\n",
      "Nuclear repulsion energy          = 31.7803657982661569\n",
      "Dipole energy                     = 0.0285247015140974\n",
      "SCF Iteration   1: Energy = -113.7094339212750072   dE = -1.13709E+02   dRMS = 2.17092E-03\n",
      "SCF Iteration   2: Energy = -113.7148707941490784   dE = -5.43687E-03   dRMS = 1.02633E-03\n",
      "SCF Iteration   3: Energy = -113.7153785544496571   dE = -5.07760E-04   dRMS = 5.17417E-04\n",
      "SCF Iteration   4: Energy = -113.7155049861283658   dE = -1.26432E-04   dRMS = 4.14524E-04\n",
      "SCF Iteration   5: Energy = -113.7155541076680265   dE = -4.91215E-05   dRMS = 2.60091E-04\n",
      "SCF Iteration   6: Energy = -113.7155763202785437   dE = -2.22126E-05   dRMS = 2.01902E-04\n",
      "SCF Iteration   7: Energy = -113.7155868574683950   dE = -1.05372E-05   dRMS = 1.32719E-04\n",
      "SCF Iteration   8: Energy = -113.7155919828424544   dE = -5.12537E-06   dRMS = 1.00240E-04\n",
      "SCF Iteration   9: Energy = -113.7155945020129906   dE = -2.51917E-06   dRMS = 6.75208E-05\n",
      "SCF Iteration  10: Energy = -113.7155957517484381   dE = -1.24974E-06   dRMS = 5.00710E-05\n",
      "SCF Iteration  11: Energy = -113.7155963742978599   dE = -6.22549E-07   dRMS = 3.42741E-05\n",
      "SCF Iteration  12: Energy = -113.7155966857895493   dE = -3.11492E-07   dRMS = 2.50946E-05\n",
      "SCF Iteration  13: Energy = -113.7155968419493064   dE = -1.56160E-07   dRMS = 1.73689E-05\n",
      "SCF Iteration  14: Energy = -113.7155969204091690   dE = -7.84599E-08   dRMS = 1.26036E-05\n",
      "SCF Iteration  15: Energy = -113.7155969598680372   dE = -3.94589E-08   dRMS = 8.79106E-06\n",
      "SCF Iteration  16: Energy = -113.7155969797348263   dE = -1.98668E-08   dRMS = 6.33896E-06\n",
      "SCF Iteration  17: Energy = -113.7155969897416838   dE = -1.00069E-08   dRMS = 4.44543E-06\n",
      "SCF Iteration  18: Energy = -113.7155969947854430   dE = -5.04376E-09   dRMS = 3.19121E-06\n",
      "SCF Iteration  19: Energy = -113.7155969973278360   dE = -2.54239E-09   dRMS = 2.24646E-06\n",
      "SCF Iteration  20: Energy = -113.7155969986098114   dE = -1.28198E-09   dRMS = 1.60759E-06\n",
      "SCF Iteration  21: Energy = -113.7155969992562490   dE = -6.46438E-10   dRMS = 1.13468E-06\n",
      "SCF Iteration  22: Energy = -113.7155969995822886   dE = -3.26040E-10   dRMS = 8.10197E-07\n",
      "SCF Iteration  23: Energy = -113.7155969997469640   dE = -1.64675E-10   dRMS = 5.72928E-07\n",
      "SCF Iteration  24: Energy = -113.7155969998298701   dE = -8.29061E-11   dRMS = 4.08452E-07\n",
      "SCF Iteration  25: Energy = -113.7155969998716358   dE = -4.17657E-11   dRMS = 2.89215E-07\n",
      "SCF Iteration  26: Energy = -113.7155969998927816   dE = -2.11458E-11   dRMS = 2.05961E-07\n",
      "SCF Iteration  27: Energy = -113.7155969999032550   dE = -1.04734E-11   dRMS = 1.45971E-07\n",
      "SCF Iteration  28: Energy = -113.7155969999086551   dE = -5.40012E-12   dRMS = 1.03871E-07\n",
      "SCF Iteration  29: Energy = -113.7155969999114120   dE = -2.75691E-12   dRMS = 7.36645E-08\n",
      "SCF Iteration  30: Energy = -113.7155969999129184   dE = -1.50635E-12   dRMS = 5.23903E-08\n"
     ]
    },
    {
     "name": "stdout",
     "output_type": "stream",
     "text": [
      "SCF Iteration  31: Energy = -113.7155969999136715   dE = -7.53175E-13   dRMS = 3.71717E-08\n",
      "SCF Iteration  32: Energy = -113.7155969999139558   dE = -2.84217E-13   dRMS = 2.64264E-08\n",
      "SCF Iteration  33: Energy = -113.7155969999141831   dE = -2.27374E-13   dRMS = 1.87560E-08\n",
      "SCF Iteration  34: Energy = -113.7155969999143821   dE = -1.98952E-13   dRMS = 1.33306E-08\n",
      "SCF Iteration  35: Energy = -113.7155969999141405   dE =  2.41585E-13   dRMS = 9.46343E-09\n",
      "SCF Iteration  36: Energy = -113.7155969999144247   dE = -2.84217E-13   dRMS = 6.72475E-09\n",
      "SCF Iteration  37: Energy = -113.7155969999144389   dE = -1.42109E-14   dRMS = 4.77468E-09\n",
      "SCF Iteration  38: Energy = -113.7155969999141405   dE =  2.98428E-13   dRMS = 3.39245E-09\n",
      "SCF Iteration  39: Energy = -113.7155969999144531   dE = -3.12639E-13   dRMS = 2.40897E-09\n",
      "SCF Iteration  40: Energy = -113.7155969999140837   dE =  3.69482E-13   dRMS = 1.71143E-09\n",
      "SCF Iteration  41: Energy = -113.7155969999142826   dE = -1.98952E-13   dRMS = 1.21538E-09\n",
      "SCF Iteration  42: Energy = -113.7155969999144247   dE = -1.42109E-13   dRMS = 8.63397E-10\n",
      "SCF Iteration  43: Energy = -113.7155969999144105   dE =  1.42109E-14   dRMS = 6.13176E-10\n",
      "SCF Iteration  44: Energy = -113.7155969999142684   dE =  1.42109E-13   dRMS = 4.35578E-10\n",
      "SCF Iteration  45: Energy = -113.7155969999142826   dE = -1.42109E-14   dRMS = 3.09355E-10\n",
      "SCF Iteration  46: Energy = -113.7155969999142542   dE =  2.84217E-14   dRMS = 2.19747E-10\n",
      "SCF Iteration  47: Energy = -113.7155969999143537   dE = -9.94760E-14   dRMS = 1.56072E-10\n",
      "SCF Iteration  48: Energy = -113.7155969999143394   dE =  1.42109E-14   dRMS = 1.10862E-10\n",
      "SCF Iteration  49: Energy = -113.7155969999144816   dE = -1.42109E-13   dRMS = 7.87400E-11\n",
      "Total time for SCF iterations: 0.664 seconds \n",
      "\n",
      "QED-RHF   energy: -113.71559700 hartree\n",
      "Psi4  SCF energy: -113.87722218 hartree\n",
      "C\n",
      "38\n",
      "Cocc\n",
      "38\n",
      "\n",
      "Start SCF iterations:\n",
      "\n",
      "Canonical RHF One-electron energy = -218.2835959999194131\n",
      "CQED-RHF One-electron energy      = -217.8061796768820386\n",
      "Nuclear repulsion energy          = 31.7803657982661569\n",
      "Dipole energy                     = 0.0142623507570482\n",
      "SCF Iteration   1: Energy = -113.7228685077951269   dE = -1.13723E+02   dRMS = 2.16876E-03\n",
      "SCF Iteration   2: Energy = -113.7282528209207300   dE = -5.38431E-03   dRMS = 8.46355E-04\n",
      "SCF Iteration   3: Energy = -113.7286889666430909   dE = -4.36146E-04   dRMS = 4.27413E-04\n",
      "SCF Iteration   4: Energy = -113.7287812472690831   dE = -9.22806E-05   dRMS = 3.23115E-04\n",
      "SCF Iteration   5: Energy = -113.7288131295568689   dE = -3.18823E-05   dRMS = 2.18596E-04\n",
      "SCF Iteration   6: Energy = -113.7288271434591280   dE = -1.40139E-05   dRMS = 1.67272E-04\n",
      "SCF Iteration   7: Energy = -113.7288339957377872   dE = -6.85228E-06   dRMS = 1.18511E-04\n",
      "SCF Iteration   8: Energy = -113.7288375348278322   dE = -3.53909E-06   dRMS = 8.95995E-05\n",
      "SCF Iteration   9: Energy = -113.7288394050653864   dE = -1.87024E-06   dRMS = 6.45385E-05\n",
      "SCF Iteration  10: Energy = -113.7288404074925552   dE = -1.00243E-06   dRMS = 4.83501E-05\n",
      "SCF Iteration  11: Energy = -113.7288409474617623   dE = -5.39969E-07   dRMS = 3.51320E-05\n",
      "SCF Iteration  12: Energy = -113.7288412395450052   dE = -2.92083E-07   dRMS = 2.61596E-05\n",
      "SCF Iteration  13: Energy = -113.7288413976948220   dE = -1.58150E-07   dRMS = 1.91074E-05\n",
      "SCF Iteration  14: Energy = -113.7288414834497416   dE = -8.57549E-08   dRMS = 1.41716E-05\n",
      "SCF Iteration  15: Energy = -113.7288415299544937   dE = -4.65048E-08   dRMS = 1.03846E-05\n",
      "SCF Iteration  16: Energy = -113.7288415551880547   dE = -2.52336E-08   dRMS = 7.68285E-06\n",
      "SCF Iteration  17: Energy = -113.7288415688792895   dE = -1.36912E-08   dRMS = 5.64118E-06\n",
      "SCF Iteration  18: Energy = -113.7288415763097618   dE = -7.43047E-09   dRMS = 4.16691E-06\n",
      "SCF Iteration  19: Energy = -113.7288415803420065   dE = -4.03224E-09   dRMS = 3.06344E-06\n",
      "SCF Iteration  20: Energy = -113.7288415825305350   dE = -2.18853E-09   dRMS = 2.26060E-06\n",
      "SCF Iteration  21: Energy = -113.7288415837183493   dE = -1.18781E-09   dRMS = 1.66326E-06\n",
      "SCF Iteration  22: Energy = -113.7288415843629110   dE = -6.44562E-10   dRMS = 1.22660E-06\n",
      "SCF Iteration  23: Energy = -113.7288415847129102   dE = -3.49999E-10   dRMS = 9.02930E-07\n",
      "SCF Iteration  24: Energy = -113.7288415849028809   dE = -1.89971E-10   dRMS = 6.65627E-07\n",
      "SCF Iteration  25: Energy = -113.7288415850058954   dE = -1.03014E-10   dRMS = 4.90132E-07\n",
      "SCF Iteration  26: Energy = -113.7288415850620140   dE = -5.61187E-11   dRMS = 3.61231E-07\n",
      "SCF Iteration  27: Energy = -113.7288415850919705   dE = -2.99565E-11   dRMS = 2.66042E-07\n",
      "SCF Iteration  28: Energy = -113.7288415851086114   dE = -1.66409E-11   dRMS = 1.96046E-07\n",
      "SCF Iteration  29: Energy = -113.7288415851176353   dE = -9.02389E-12   dRMS = 1.44402E-07\n",
      "SCF Iteration  30: Energy = -113.7288415851224102   dE = -4.77485E-12   dRMS = 1.06400E-07\n",
      "SCF Iteration  31: Energy = -113.7288415851251102   dE = -2.70006E-12   dRMS = 7.83770E-08\n",
      "SCF Iteration  32: Energy = -113.7288415851266876   dE = -1.57740E-12   dRMS = 5.77471E-08\n",
      "SCF Iteration  33: Energy = -113.7288415851273129   dE = -6.25278E-13   dRMS = 4.25401E-08\n",
      "SCF Iteration  34: Energy = -113.7288415851275971   dE = -2.84217E-13   dRMS = 3.13418E-08\n",
      "SCF Iteration  35: Energy = -113.7288415851278955   dE = -2.98428E-13   dRMS = 2.30890E-08\n",
      "SCF Iteration  36: Energy = -113.7288415851282224   dE = -3.26850E-13   dRMS = 1.70107E-08\n",
      "SCF Iteration  37: Energy = -113.7288415851281798   dE =  4.26326E-14   dRMS = 1.25317E-08\n",
      "SCF Iteration  38: Energy = -113.7288415851281087   dE =  7.10543E-14   dRMS = 9.23250E-09\n",
      "SCF Iteration  39: Energy = -113.7288415851280519   dE =  5.68434E-14   dRMS = 6.80161E-09\n",
      "SCF Iteration  40: Energy = -113.7288415851282082   dE = -1.56319E-13   dRMS = 5.01093E-09\n",
      "SCF Iteration  41: Energy = -113.7288415851282082   dE =  0.00000E+00   dRMS = 3.69160E-09\n",
      "SCF Iteration  42: Energy = -113.7288415851281513   dE =  5.68434E-14   dRMS = 2.71968E-09\n",
      "SCF Iteration  43: Energy = -113.7288415851283361   dE = -1.84741E-13   dRMS = 2.00362E-09\n",
      "SCF Iteration  44: Energy = -113.7288415851281940   dE =  1.42109E-13   dRMS = 1.47611E-09\n",
      "SCF Iteration  45: Energy = -113.7288415851284498   dE = -2.55795E-13   dRMS = 1.08747E-09\n",
      "SCF Iteration  46: Energy = -113.7288415851281655   dE =  2.84217E-13   dRMS = 8.01160E-10\n",
      "SCF Iteration  47: Energy = -113.7288415851281655   dE =  0.00000E+00   dRMS = 5.90227E-10\n",
      "SCF Iteration  48: Energy = -113.7288415851282366   dE = -7.10543E-14   dRMS = 4.34831E-10\n",
      "SCF Iteration  49: Energy = -113.7288415851282934   dE = -5.68434E-14   dRMS = 3.20346E-10\n",
      "SCF Iteration  50: Energy = -113.7288415851283787   dE = -8.52651E-14   dRMS = 2.36005E-10\n",
      "SCF Iteration  51: Energy = -113.7288415851283503   dE =  2.84217E-14   dRMS = 1.73868E-10\n",
      "SCF Iteration  52: Energy = -113.7288415851282366   dE =  1.13687E-13   dRMS = 1.28091E-10\n",
      "SCF Iteration  53: Energy = -113.7288415851282366   dE =  0.00000E+00   dRMS = 9.43660E-11\n",
      "Total time for SCF iterations: 0.662 seconds \n",
      "\n",
      "QED-RHF   energy: -113.72884159 hartree\n",
      "Psi4  SCF energy: -113.87722218 hartree\n",
      "C\n",
      "38\n",
      "Cocc\n",
      "38\n",
      "\n",
      "Start SCF iterations:\n",
      "\n",
      "Canonical RHF One-electron energy = -218.2835959999194131\n",
      "CQED-RHF One-electron energy      = -218.2835959999194131\n",
      "Nuclear repulsion energy          = 31.7803657982661569\n",
      "Dipole energy                     = 0.0000000000000000\n",
      "SCF Iteration   1: Energy = -113.8772221766176642   dE = -1.13877E+02   dRMS = 6.35492E-12\n",
      "SCF Iteration   2: Energy = -113.8772221766179769   dE = -3.12639E-13   dRMS = 3.06563E-12\n",
      "Total time for SCF iterations: 0.026 seconds \n",
      "\n",
      "QED-RHF   energy: -113.87722218 hartree\n",
      "Psi4  SCF energy: -113.87722218 hartree\n"
     ]
    }
   ],
   "source": [
    "# different magnitudes of the lambda vector\n",
    "l = 0.2\n",
    "\n",
    "no_lam = np.array([0., 0., 0.])\n",
    "lam_y = np.array([0, l, 0])\n",
    "lam_z = np.array([0, 0, l])\n",
    "lam_yz = np.array([0, l/np.sqrt(2), l/np.sqrt(2)])\n",
    "    \n",
    "# results for y-polarized\n",
    "y_dict = cqed_rhf(lam_y, molstr, options_dict)\n",
    "    \n",
    "z_dict = cqed_rhf(lam_z, molstr, options_dict)\n",
    "\n",
    "yz_dict = cqed_rhf(lam_yz, molstr, options_dict)\n",
    "\n",
    "no_lam_dict = cqed_rhf(no_lam, molstr, options_dict)\n",
    "\n"
   ]
  },
  {
   "cell_type": "code",
   "execution_count": 13,
   "metadata": {},
   "outputs": [],
   "source": [
    "C_y = y_dict['CQED-RHF C']\n",
    "C_z = z_dict['CQED-RHF C']\n",
    "C_yz = yz_dict['CQED-RHF C']\n"
   ]
  },
  {
   "cell_type": "code",
   "execution_count": 14,
   "metadata": {},
   "outputs": [],
   "source": [
    "# store wfn as dictionary\n",
    "rhf_wfn_dict = psi4.core.Wavefunction.to_file(wfn)\n",
    "\n",
    "# swap out orbitals\n",
    "rhf_wfn_dict['matrix']['Ca'] = C_y\n",
    "rhf_wfn_dict['matrix']['Cb'] = C_y\n",
    "\n",
    "# Now create a new wavefunction object that has the CQED-RHF orbitals 'cqedrhf_wfn'\n",
    "cqedrhf_wfn = psi4.core.Wavefunction.from_file(rhf_wfn_dict) \n",
    "# Confirm you have copied the CQED-RHF orbitals properly \n",
    "# by again getting a dic of the wavefunction and comparing\n",
    "# the orbitals to the original numpy array 'C' that resulted\n",
    "# from the CQED-RHF iterations\n",
    "cqedrhf_wfn_dict = psi4.core.Wavefunction.to_file(cqedrhf_wfn)\n",
    "\n",
    "assert np.allclose(cqedrhf_wfn_dict['matrix']['Ca'], C_y, 1e-6)\n",
    "\n"
   ]
  },
  {
   "cell_type": "code",
   "execution_count": 15,
   "metadata": {},
   "outputs": [],
   "source": [
    "\n",
    "HOMO = 8\n",
    "LUMO = 9 # These are is the HOMO and LUMO for HF.\n",
    "                # The HOMO/LUMO is based on the total number of electrons. HF has 10 electrons\n",
    "                # and each orbital can have two electrons. 5 is the HOMO and 6 is the LUMO\n",
    "\n",
    "\n",
    "psi4.set_options({\n",
    "    'CUBEPROP_TASKS': ['ORBITALS'], # calculate orbitals\n",
    "    'CUBEPROP_ORBITALS': [5],    # calculate HOMO and LUMO. \n",
    "})\n",
    "cube = psi4.cubeprop(cqedrhf_wfn)"
   ]
  },
  {
   "cell_type": "code",
   "execution_count": 16,
   "metadata": {},
   "outputs": [
    {
     "name": "stdout",
     "output_type": "stream",
     "text": [
      "CubeViewer: listing cube files from the directory .\n",
      "Reading 26 cube files\n"
     ]
    },
    {
     "name": "stderr",
     "output_type": "stream",
     "text": [
      "/opt/anaconda3/lib//python3.8/site-packages/fortecubeview/py3js_renderer.py:1096: FutureWarning: marching_cubes_lewiner is deprecated in favor of marching_cubes. marching_cubes_lewiner will be removed in version 0.19\n",
      "  values = skimage.measure.marching_cubes_lewiner(data, level * 0.995)\n"
     ]
    },
    {
     "data": {
      "application/vnd.jupyter.widget-view+json": {
       "model_id": "983cc5239a5c40569a1f75a2edfca146",
       "version_major": 2,
       "version_minor": 0
      },
      "text/plain": [
       "VBox(children=(HTML(value=''), Renderer(camera=OrthographicCamera(bottom=-5.0, children=(DirectionalLight(colo…"
      ]
     },
     "metadata": {},
     "output_type": "display_data"
    },
    {
     "data": {
      "application/vnd.jupyter.widget-view+json": {
       "model_id": "0d2f1c53fd404d0387a094bb047ac87c",
       "version_major": 2,
       "version_minor": 0
      },
      "text/plain": [
       "HTML(value='\\n        <style>\\n           .jupyter-widgets-output-area .output_scroll {\\n                heigh…"
      ]
     },
     "metadata": {},
     "output_type": "display_data"
    },
    {
     "data": {
      "application/vnd.jupyter.widget-view+json": {
       "model_id": "27db289d94cf4a3f947a705c50330d50",
       "version_major": 2,
       "version_minor": 0
      },
      "text/plain": [
       "interactive(children=(Select(description='Cube files:', options=('MO    5a (5-A)', 'MO    6a (5-A1)', 'MO    7…"
      ]
     },
     "metadata": {},
     "output_type": "display_data"
    },
    {
     "data": {
      "text/plain": [
       "<fortecubeview.cube_viewer.CubeViewer at 0x7f966e28ec40>"
      ]
     },
     "execution_count": 16,
     "metadata": {},
     "output_type": "execute_result"
    }
   ],
   "source": [
    "import fortecubeview\n",
    "fortecubeview.plot(colorscheme='emory', opacity=.95)"
   ]
  },
  {
   "cell_type": "code",
   "execution_count": null,
   "metadata": {},
   "outputs": [],
   "source": [
    "help(fortecubeview.plot)"
   ]
  },
  {
   "cell_type": "code",
   "execution_count": null,
   "metadata": {},
   "outputs": [],
   "source": [
    "mol.save_xyz_file(\"geom.xyz\", 1)"
   ]
  },
  {
   "cell_type": "code",
   "execution_count": null,
   "metadata": {},
   "outputs": [],
   "source": [
    "f = open(\"geom.xyz\")\n",
    "xyz = f.read()\n",
    "f.close()"
   ]
  },
  {
   "cell_type": "markdown",
   "metadata": {},
   "source": [
    "Run the scan below to generate data for Figure 1: (Top)  Total  CQED-RHF  energy,  (middle)  canonical  RHFcontribution to the total energy, (bottom) Pauli-Fierz contribution tothe total energy as a function of|λ|along they−and/orz−axes"
   ]
  },
  {
   "cell_type": "code",
   "execution_count": null,
   "metadata": {},
   "outputs": [],
   "source": [
    "import py3Dmol"
   ]
  },
  {
   "cell_type": "code",
   "execution_count": null,
   "metadata": {},
   "outputs": [],
   "source": [
    "def open_cube(cube_file):\n",
    "    \"\"\"\n",
    "    Open and parse a cube file.\n",
    "    \n",
    "    The low and high isovalues are returned, along with the cube values. The low and high values represent the\n",
    "    isocontour range for 85% of the density.\n",
    "    \n",
    "    Parameters\n",
    "    ----------\n",
    "    cube_file : str\n",
    "        The filepath to the cube file to read.\n",
    "    \n",
    "    Returns\n",
    "    -------\n",
    "    low : float\n",
    "        Low limit for isocontour range to capture 85% of the density.\n",
    "    high : float\n",
    "        High limit for isocontour range to capture 85% of the density.\n",
    "    \n",
    "    \"\"\"\n",
    "    \n",
    "    # Get isovalues\n",
    "    f = open(cube_file, \"r\")\n",
    "    f.readline()\n",
    "    line = f.readline()\n",
    "    f.close()\n",
    "    split_line = line.split(\":\")\n",
    "    \n",
    "    isovalues = split_line[-1][2:-2]\n",
    "    isovalues = isovalues.split(\",\")\n",
    "    \n",
    "    high = float(isovalues[1])\n",
    "    low = float(isovalues[0])\n",
    "    \n",
    "    # Read cube file\n",
    "    f = open(cube_file, \"r\")\n",
    "    data = f.read()\n",
    "    f.close()\n",
    "    print(low, high)\n",
    "    return low, high, data"
   ]
  },
  {
   "cell_type": "code",
   "execution_count": null,
   "metadata": {},
   "outputs": [],
   "source": [
    "import glob\n"
   ]
  },
  {
   "cell_type": "code",
   "execution_count": null,
   "metadata": {},
   "outputs": [],
   "source": [
    "cube_files = glob.glob(\"*.cube\")\n",
    "print(cube_files)\n",
    "\n",
    "cube = cube_files[3]\n",
    "isohigh, isolow, orbital = open_cube(cube)\n",
    "    \n",
    "# Process the file name to get the orbital\n",
    "orbital_num = cube.split(\"_\")[2]\n",
    "    \n",
    "print(F\"Showing visualization for orbital {orbital_num}\")\n",
    "    \n",
    "# Use pymol3D to make visualization\n",
    "v = py3Dmol.view()\n",
    "    \n",
    "# Add surfaces\n",
    "v.addVolumetricData(orbital, \"cube\", {'isoval': isohigh, 'color': \"red\", 'opacity': 0.90})\n",
    "#v.addVolumetricData(orbital, \"cube\", {'isoval': isolow, 'color': \"blue\", 'opacity': 0.90})\n",
    "    \n",
    "# Add molecule\n",
    "v.addModel(xyz, 'mol')\n",
    "v.setStyle({'stick':{}})\n",
    "    \n",
    "# Zoom to molecule and show\n",
    "v.zoomTo()\n",
    "v.show()"
   ]
  },
  {
   "cell_type": "code",
   "execution_count": null,
   "metadata": {},
   "outputs": [],
   "source": []
  }
 ],
 "metadata": {
  "kernelspec": {
   "display_name": "Python 3",
   "language": "python",
   "name": "python3"
  },
  "language_info": {
   "codemirror_mode": {
    "name": "ipython",
    "version": 3
   },
   "file_extension": ".py",
   "mimetype": "text/x-python",
   "name": "python",
   "nbconvert_exporter": "python",
   "pygments_lexer": "ipython3",
   "version": "3.8.5"
  }
 },
 "nbformat": 4,
 "nbformat_minor": 4
}
