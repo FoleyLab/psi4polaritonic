{
 "cells": [
  {
   "cell_type": "code",
   "execution_count": null,
   "id": "932a1cc9",
   "metadata": {},
   "outputs": [],
   "source": [
    "import psi4\n",
    "import numpy as np\n",
    "import helper_cqed_rhf as pf_hf_full_simp\n",
    "import helper_cqed_rhf_el as pf_hf_simp\n",
    "import helper_cqed_rhf_el_nuc as pf_hf_no_simp\n"
   ]
  },
  {
   "cell_type": "code",
   "execution_count": null,
   "id": "499a0c3c",
   "metadata": {},
   "outputs": [],
   "source": [
    "psi4.set_memory(\"2 GB\")\n",
    "psi4.core.set_output_file(\"output.dat\", False)\n",
    "\n",
    "numpy_memory = 2\n",
    "\n",
    "\n",
    "# options for H2O\n",
    "h2o_options_dict = {\n",
    "    \"basis\": \"cc-pVDZ\",\n",
    "    \"save_jk\": True,\n",
    "    \"scf_type\": \"pk\",\n",
    "    \"e_convergence\": 1e-12,\n",
    "    \"d_convergence\": 1e-12,\n",
    "}\n",
    "\n",
    "\n",
    "# molecule string for H2O\n",
    "h2o_string = \"\"\"\n",
    "\n",
    "0 1\n",
    "    O      0.000000000000   0.000000000000  -0.068516219320\n",
    "    H      0.000000000000  -0.790689573744   0.543701060715\n",
    "    H      0.000000000000   0.790689573744   0.543701060715\n",
    "no_reorient\n",
    "symmetry c1\n",
    "\"\"\"\n",
    "\n",
    "# energy for H2O from hilbert package described in [DePrince:2021:094112]\n",
    "expected_h2o_e = -76.016355284146\n",
    "\n",
    "# electric field for H2O - polarized along z-axis with mangitude 0.05 atomic units\n",
    "lam_h2o = np.array([0.0, 0.0, 0.1])\n",
    "\n",
    "\n",
    "# run cqed_rhf on H2O\n",
    "h2o_full_simp = pf_hf_full_simp.cqed_rhf(lam_h2o, h2o_string, h2o_options_dict)\n",
    "h2o_simp = pf_hf_simp.cqed_rhf(lam_h2o, h2o_string, h2o_options_dict)\n",
    "h2o_no_simp = pf_hf_no_simp.cqed_rhf(lam_h2o, h2o_string, h2o_options_dict)\n",
    "\n",
    "# parse dictionary for ordinary RHF and CQED-RHF energy\n",
    "full_simp_cqed_rhf_e = h2o_full_simp[\"CQED-RHF ENERGY\"]\n",
    "simp_cqed_rhf_e      = h2o_simp[\"CQED-RHF ENERGY\"]\n",
    "no_simp_cqed_rhf_e   = h2o_no_simp[\"CQED-RHF ENERGY\"]\n",
    "\n",
    "\n",
    "h2o_rhf_e = h2o_full_simp[\"RHF ENERGY\"]\n",
    "\n",
    "\n"
   ]
  },
  {
   "cell_type": "code",
   "execution_count": null,
   "id": "2ed867b8",
   "metadata": {},
   "outputs": [],
   "source": [
    "print(F'\\n    RHF Energy:                {h2o_rhf_e:.12f}')\n",
    "#print(F\"\\n   )\n",
    "#print(\"    CQED-RHF Energy:           %.8f\" % h2o_cqed_rhf_e)\n",
    "#print(\"    Reference CQED-RHF Energy: %.8f\\n\" % expected_h2o_e)\n",
    "\n",
    "psi4.compare_values(full_simp_cqed_rhf_e, no_simp_cqed_rhf_e, 12, \"Simplification Comparison (full-no)\")\n",
    "psi4.compare_values(full_simp_cqed_rhf_e, simp_cqed_rhf_e, 12, \"Simplification Comparison (full-partial)\")\n",
    "\n",
    "#psi4.compare_values(full_simp_cqed_rhf_e, expected_h2o_e, 8, \"H2O CQED-RHF E\")"
   ]
  },
  {
   "cell_type": "code",
   "execution_count": null,
   "id": "9d575db9",
   "metadata": {},
   "outputs": [],
   "source": [
    "# run cqed_rhf on H2O\n",
    "h2o_full_simp = pf_hf_full_simp.cqed_rhf(lam_h2o, h2o_string, h2o_options_dict)\n",
    "h2o_simp = pf_hf_simp.cqed_rhf(lam_h2o, h2o_string, h2o_options_dict)\n",
    "h2o_no_simp = pf_hf_no_simp.cqed_rhf(lam_h2o, h2o_string, h2o_options_dict)\n",
    "\n",
    "# parse dictionary for ordinary RHF and CQED-RHF energy\n",
    "full_simp_cqed_rhf_e = h2o_full_simp[\"CQED-RHF ENERGY\"]\n",
    "simp_cqed_rhf_e      = h2o_simp[\"CQED-RHF ENERGY\"]\n",
    "no_simp_cqed_rhf_e   = h2o_no_simp[\"CQED-RHF ENERGY\"]\n",
    "\n",
    "\n",
    "h2o_rhf_e = h2o_full_simp[\"RHF ENERGY\"]"
   ]
  },
  {
   "cell_type": "code",
   "execution_count": null,
   "id": "e3a71583",
   "metadata": {},
   "outputs": [],
   "source": []
  }
 ],
 "metadata": {
  "kernelspec": {
   "display_name": "Python 3 (ipykernel)",
   "language": "python",
   "name": "python3"
  },
  "language_info": {
   "codemirror_mode": {
    "name": "ipython",
    "version": 3
   },
   "file_extension": ".py",
   "mimetype": "text/x-python",
   "name": "python",
   "nbconvert_exporter": "python",
   "pygments_lexer": "ipython3",
   "version": "3.9.13"
  }
 },
 "nbformat": 4,
 "nbformat_minor": 5
}
