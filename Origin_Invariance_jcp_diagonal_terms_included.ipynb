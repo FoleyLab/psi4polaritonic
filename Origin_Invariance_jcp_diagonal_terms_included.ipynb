{
 "cells": [
  {
   "cell_type": "code",
   "execution_count": null,
   "metadata": {},
   "outputs": [],
   "source": [
    "import psi4\n",
    "import numpy as np\n",
    "from helper_cqed_rhf import *\n",
    "from helper_cs_cqed_cis import *\n",
    "from helper_cis import *\n",
    "from matplotlib import pyplot as plt\n",
    "from psi4.driver.procrouting.response.scf_response import tdscf_excitations\n",
    "\n",
    "\n",
    "# rhf/cc-pVDZ optimized geometry of formaldehyde\n",
    "molstr = \"\"\"\n",
    "\n",
    "0 1\n",
    "O 0.0000000000 0.0000000000 5.91268220e-01\n",
    "C 0.0000000000 0.0000000000 -5.90400099e-01\n",
    "H 0.0000000000 9.32184336e-01 -1.17703144e+00\n",
    "H 0.0000000000 -9.32184336e-01 -1.17703144e+00\n",
    "no_reorient\n",
    "symmetry c1\n",
    "\"\"\"\n",
    "\n",
    "# options dict\n",
    "options_dict = {'basis': 'cc-pVDZ',\n",
    "               'save_jk': True, \n",
    "               'scf_type': 'pk',\n",
    "               'e_convergence' : 1e-10,\n",
    "               'd_convergence' : 1e-10}\n",
    "\n",
    "psi4.set_options(options_dict)\n",
    "mol = psi4.geometry(molstr)\n",
    "\n",
    "\n",
    "rhf_energy, wfn = psi4.energy(\"scf/cc-pVDZ\", molecule=mol, return_wfn=True)\n",
    "print(rhf_energy)\n",
    "    \n",
    "# calculate the excited-state energies and save them to a dictionary called 'res'\n",
    "res = tdscf_excitations(wfn, states=5, triplets = \"NONE\", tda=True)\n",
    "\n",
    "\n",
    "# parse res for excitation energies\n",
    "psi4_excitation_e = [r[\"EXCITATION ENERGY\"] for r in res]\n",
    "\n",
    "psi4_tdm = [r[\"ELECTRIC DIPOLE TRANSITION MOMENT (LEN)\"] for r in res]\n",
    "\n",
    "\n",
    "\n",
    "\n",
    "# run helper_cis()\n",
    "#cis_e, cis_c, cis_mu, tdm = cis(molstr, options_dict)\n",
    "\n",
    "print(\"psi4 dE\")\n",
    "print(psi4_excitation_e[0] * 27.211, psi4_excitation_e[1] * 27.211, psi4_excitation_e[2] * 27.211, psi4_excitation_e[3] * 27.211, psi4_excitation_e[4] * 27.211)\n",
    "print(\"psi4 transition dipole moments\")\n",
    "print(psi4_tdm)"
   ]
  },
  {
   "cell_type": "code",
   "execution_count": null,
   "metadata": {},
   "outputs": [],
   "source": [
    "# magnitude of coupling\n",
    "l = 0.1\n",
    "\n",
    "# photon frequency\n",
    "om = 10.4/27.211\n",
    "\n",
    "no_lam = np.array([0., 0., 0.])\n",
    "lam_z = np.array([0, 0, l])\n",
    "lam_yz = np.array([0, l/np.sqrt(2), l/np.sqrt(2)])\n",
    "    \n",
    "# cqed-rhf results\n",
    "#no_lam_cqed_rhf_dict = cqed_rhf(no_lam, molstr, options_dict)\n",
    "yz_cqed_rhf_dict = cqed_rhf(lam_yz,molstr, options_dict)\n",
    "#z_cqed_rhf_dict = cqed_rhf(lam_z, molstr, options_dict)\n",
    "\n",
    "# cqed-cis results \n",
    "#no_lam_cqed_cis_dict = cs_cqed_cis(no_lam, om, molstr, options_dict)\n",
    "yes_diags_yz_cqed_cis_origin = cs_cqed_cis(lam_yz, om, molstr, options_dict, diag=True)\n",
    "no_diags_yz_cqed_cis_origin = cs_cqed_cis(lam_yz, om, molstr, options_dict, diag=False)\n",
    "\n",
    "\n"
   ]
  },
  {
   "cell_type": "code",
   "execution_count": null,
   "metadata": {},
   "outputs": [],
   "source": [
    "expected_cqed_rhf_origin = yz_cqed_rhf_dict['CQED-RHF ENERGY']\n",
    "expected_0_yes_diags_origin = yes_diags_yz_cqed_cis_origin['CQED-CIS ENERGY'][0]\n",
    "expected_1_yes_diags_origin = yes_diags_yz_cqed_cis_origin['CQED-CIS ENERGY'][1]\n",
    "expected_2_yes_diags_origin = yes_diags_yz_cqed_cis_origin['CQED-CIS ENERGY'][2]\n",
    "expected_3_yes_diags_origin = yes_diags_yz_cqed_cis_origin['CQED-CIS ENERGY'][3]\n",
    "expected_4_yes_diags_origin = yes_diags_yz_cqed_cis_origin['CQED-CIS ENERGY'][4]\n",
    "\n",
    "print(\"cqed_cis excitation w/ diags @ origin\", yes_diags_yz_cqed_cis_origin['CQED-CIS ENERGY'][0]*27.211)\n",
    "print(\"cqed_cis excitation w/ diags @ origin\", yes_diags_yz_cqed_cis_origin['CQED-CIS ENERGY'][1]*27.211)\n",
    "print(\"cqed_cis excitation w/ diags @ origin\", yes_diags_yz_cqed_cis_origin['CQED-CIS ENERGY'][2]*27.211)\n",
    "print(\"cqed_cis excitation w/ diags @ origin\", yes_diags_yz_cqed_cis_origin['CQED-CIS ENERGY'][3]*27.211)\n",
    "print(\"cqed_cis excitation w/ diags @ origin\", yes_diags_yz_cqed_cis_origin['CQED-CIS ENERGY'][4]*27.211)\n",
    "\n"
   ]
  },
  {
   "cell_type": "code",
   "execution_count": null,
   "metadata": {},
   "outputs": [],
   "source": [
    "expected_0_no_diags_origin = no_diags_yz_cqed_cis_origin['CQED-CIS ENERGY'][0]\n",
    "expected_1_no_diags_origin = no_diags_yz_cqed_cis_origin['CQED-CIS ENERGY'][1]\n",
    "expected_2_no_diags_origin = no_diags_yz_cqed_cis_origin['CQED-CIS ENERGY'][2]\n",
    "expected_3_no_diags_origin = no_diags_yz_cqed_cis_origin['CQED-CIS ENERGY'][3]\n",
    "expected_4_no_diags_origin = no_diags_yz_cqed_cis_origin['CQED-CIS ENERGY'][4]\n",
    "print(\"cqed_cis excitation w/out diags @ origin\", no_diags_yz_cqed_cis_origin['CQED-CIS ENERGY'][0]*27.211)\n",
    "print(\"cqed_cis excitation w/out diags @ origin\", no_diags_yz_cqed_cis_origin['CQED-CIS ENERGY'][1]*27.211)\n",
    "print(\"cqed_cis excitation w/out diags @ origin\", no_diags_yz_cqed_cis_origin['CQED-CIS ENERGY'][2]*27.211)\n",
    "print(\"cqed_cis excitation w/out diags @ origin\", no_diags_yz_cqed_cis_origin['CQED-CIS ENERGY'][3]*27.211)\n",
    "print(\"cqed_cis excitation w/out diags @ origin\", no_diags_yz_cqed_cis_origin['CQED-CIS ENERGY'][4]*27.211)"
   ]
  },
  {
   "cell_type": "code",
   "execution_count": null,
   "metadata": {},
   "outputs": [],
   "source": [
    "geom = np.array([[0.0000000000, 0.0000000000, 5.91268220e-01], \n",
    "                 [0.0000000000, 0.0000000000, -5.90400099e-01],\n",
    "                 [0.0000000000, 9.32184336e-01, -1.17703144e+00],\n",
    "                 [0.0000000000, -9.32184336e-01, -1.17703144e+00]])\n",
    "\n",
    "\n",
    "delta_x = np.array([[1.0, 0, 0], [1.0, 0, 0], [1.0, 0, 0], [1.0, 0, 0]])\n",
    "delta_y = np.array([[0.0, 1., 0], [.0, 1.0, 0], [0.0, 1.0, 0], [0.0, 1.0, 0]])\n",
    "delta_z = np.array([[0.0, 0., 1.], [.0, 0, 1.0], [0.0, 0, 1.0], [.0, 0, 1.0]])\n",
    "\n",
    "\n",
    "print(geom+100*delta_x + 300*delta_y + 100*delta_z)\n"
   ]
  },
  {
   "cell_type": "code",
   "execution_count": null,
   "metadata": {},
   "outputs": [],
   "source": [
    "molstr = \"\"\"\n",
    "\n",
    "0 1\n",
    "O 100.         300.         100.59126822\n",
    "C 100.         300.          99.4095999\n",
    "H 100.         300.93218434  98.82296856\n",
    "H 100.         299.06781566  98.82296856\n",
    "no_reorient\n",
    "symmetry c1\n",
    "\"\"\""
   ]
  },
  {
   "cell_type": "code",
   "execution_count": null,
   "metadata": {},
   "outputs": [],
   "source": [
    "expected_psi4_rhf_energy = -113.87722217661789\n",
    "psi4.set_options(options_dict)\n",
    "mol = psi4.geometry(molstr)\n",
    "\n",
    "\n",
    "rhf_energy, wfn = psi4.energy(\"scf/cc-pVDZ\", molecule=mol, return_wfn=True)\n",
    "\n",
    "assert np.isclose(expected_psi4_rhf_energy, rhf_energy, 1e-9)"
   ]
  },
  {
   "cell_type": "code",
   "execution_count": null,
   "metadata": {},
   "outputs": [],
   "source": [
    "# cqed-rhf results\n",
    "\n",
    "yz_cqed_rhf_dict_shifted = cqed_rhf(lam_yz,molstr, options_dict)\n",
    "\n",
    "\n",
    "\n",
    "# cqed-cis results \n",
    "#no_lam_cqed_cis_dict = cs_cqed_cis(no_lam, om, molstr, options_dict)\n",
    "yes_diags_yz_cqed_cis_shifted = cs_cqed_cis(lam_yz, om, molstr, options_dict, diag=True)\n",
    "no_diags_yz_cqed_cis_shifted = cs_cqed_cis(lam_yz, om, molstr, options_dict, diag=False)\n"
   ]
  },
  {
   "cell_type": "code",
   "execution_count": null,
   "metadata": {},
   "outputs": [],
   "source": [
    "expected_cqed_rhf_shifted = yz_cqed_rhf_dict_shifted['CQED-RHF ENERGY']\n",
    "expected_0_yes_diags_shifted = yes_diags_yz_cqed_cis_shifted['CQED-CIS ENERGY'][0]\n",
    "expected_1_yes_diags_shifted = yes_diags_yz_cqed_cis_shifted['CQED-CIS ENERGY'][1]\n",
    "expected_2_yes_diags_shifted = yes_diags_yz_cqed_cis_shifted['CQED-CIS ENERGY'][2]\n",
    "expected_3_yes_diags_shifted = yes_diags_yz_cqed_cis_shifted['CQED-CIS ENERGY'][3]\n",
    "expected_4_yes_diags_shifted = yes_diags_yz_cqed_cis_shifted['CQED-CIS ENERGY'][4]"
   ]
  },
  {
   "cell_type": "code",
   "execution_count": null,
   "metadata": {},
   "outputs": [],
   "source": [
    "expected_0_no_diags_shifted = no_diags_yz_cqed_cis_shifted['CQED-CIS ENERGY'][0]\n",
    "expected_1_no_diags_shifted = no_diags_yz_cqed_cis_shifted['CQED-CIS ENERGY'][1]\n",
    "expected_2_no_diags_shifted = no_diags_yz_cqed_cis_shifted['CQED-CIS ENERGY'][2]\n",
    "expected_3_no_diags_shifted = no_diags_yz_cqed_cis_shifted['CQED-CIS ENERGY'][3]\n",
    "expected_4_no_diags_shifted = no_diags_yz_cqed_cis_shifted['CQED-CIS ENERGY'][4]"
   ]
  },
  {
   "cell_type": "code",
   "execution_count": null,
   "metadata": {},
   "outputs": [],
   "source": [
    "assert np.isclose(expected_cqed_rhf_origin,expected_cqed_rhf_shifted)\n",
    "\n",
    "assert np.isclose(expected_0_yes_diags_origin,expected_0_yes_diags_shifted,1e-10)\n",
    "assert np.isclose(expected_1_yes_diags_origin,expected_1_yes_diags_shifted,1e-10)\n",
    "assert np.isclose(expected_2_yes_diags_origin,expected_2_yes_diags_shifted,1e-10)\n",
    "assert np.isclose(expected_3_yes_diags_origin,expected_3_yes_diags_shifted,1e-10)\n",
    "assert np.isclose(expected_4_yes_diags_origin,expected_4_yes_diags_shifted,1e-10)"
   ]
  },
  {
   "cell_type": "code",
   "execution_count": null,
   "metadata": {},
   "outputs": [],
   "source": [
    "assert np.isclose(expected_0_no_diags_origin,expected_0_no_diags_shifted,1e-10)\n",
    "assert np.isclose(expected_1_no_diags_origin,expected_1_no_diags_shifted,1e-10)\n",
    "assert np.isclose(expected_2_no_diags_origin,expected_2_no_diags_shifted,1e-10)\n",
    "assert np.isclose(expected_3_no_diags_origin,expected_3_no_diags_shifted,1e-10)\n",
    "assert np.isclose(expected_4_no_diags_origin,expected_4_no_diags_shifted,1e-10)"
   ]
  },
  {
   "cell_type": "code",
   "execution_count": null,
   "metadata": {},
   "outputs": [],
   "source": []
  },
  {
   "cell_type": "code",
   "execution_count": null,
   "metadata": {},
   "outputs": [],
   "source": []
  }
 ],
 "metadata": {
  "kernelspec": {
   "display_name": "Python 3",
   "language": "python",
   "name": "python3"
  },
  "language_info": {
   "codemirror_mode": {
    "name": "ipython",
    "version": 3
   },
   "file_extension": ".py",
   "mimetype": "text/x-python",
   "name": "python",
   "nbconvert_exporter": "python",
   "pygments_lexer": "ipython3",
   "version": "3.8.5"
  }
 },
 "nbformat": 4,
 "nbformat_minor": 4
}
