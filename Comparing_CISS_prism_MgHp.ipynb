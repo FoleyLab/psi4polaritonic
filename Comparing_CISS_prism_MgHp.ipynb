{
 "cells": [
  {
   "cell_type": "code",
   "execution_count": 1,
   "metadata": {},
   "outputs": [
    {
     "name": "stdout",
     "output_type": "stream",
     "text": [
      "\n",
      "  Memory set to   1.863 GiB by Python driver.\n"
     ]
    }
   ],
   "source": [
    "from __future__ import print_function\n",
    "\n",
    "\"\"\"\n",
    "A script to run the ciss_prism method and compare results from the CISS-PF method to benchmark values provided by Marco Bauer's update\n",
    "to the psi4numpy implementation in PR 128: https://github.com/psi4/psi4numpy/pull/128 \n",
    "\"\"\"\n",
    "\n",
    "__authors__   = [\"Jon McTague\", \"Jonathan Foley\"]\n",
    "__credits__   = [\"Jon McTague\", \"Jonathan Foley\"]\n",
    "\n",
    "__copyright_amp__ = \"(c) 2014-2018, The Psi4NumPy Developers\"\n",
    "__license__   = \"BSD-3-Clause\"\n",
    "__date__      = \"2021-01-15\"\n",
    "\n",
    "# ==> Import Psi4, NumPy, & SciPy <==\n",
    "import psi4\n",
    "import numpy as np\n",
    "from helper_cqed_rhf import *\n",
    "from helper_ciss_prism import *\n",
    "from matplotlib import pyplot as plt\n",
    "\n",
    "# Set Psi4 & NumPy Memory Options\n",
    "psi4.set_memory('2 GB')\n",
    "psi4.core.set_output_file('output.dat', False)\n",
    "\n",
    "numpy_memory = 2"
   ]
  },
  {
   "cell_type": "code",
   "execution_count": 2,
   "metadata": {},
   "outputs": [],
   "source": [
    "# rhf/cc-pVDZ optimized geometry of formaldehyde\n",
    "molstr = \"\"\"\n",
    "Mg\n",
    "H 1 2.2\n",
    "symmetry c1\n",
    "1 1\n",
    "\"\"\"\n",
    "\n",
    "# options dict\n",
    "options_dict = {\n",
    "    \"basis\": \"cc-pVDZ\",\n",
    "    \"save_jk\": True,\n",
    "    \"scf_type\": \"pk\",\n",
    "    \"e_convergence\": 1e-10,\n",
    "    \"d_convergence\": 1e-10,\n",
    "}\n"
   ]
  },
  {
   "cell_type": "code",
   "execution_count": 3,
   "metadata": {},
   "outputs": [
    {
     "name": "stdout",
     "output_type": "stream",
     "text": [
      "\n",
      "Start SCF iterations:\n",
      "\n",
      "Canonical RHF One-electron energy = -281.6658725092593158\n",
      "CQED-RHF One-electron energy      = -281.6641286091231109\n",
      "Nuclear repulsion energy          = 2.8864211491090908\n",
      "Dipole energy                     = 0.0009465637016117\n",
      "SCF Iteration   1: Energy = -199.8633303817346700   dE = -1.99863E+02   dRMS = 2.52850E-05\n",
      "SCF Iteration   2: Energy = -199.8633315502319761   dE = -1.16850E-06   dRMS = 9.55045E-06\n",
      "SCF Iteration   3: Energy = -199.8633316895826226   dE = -1.39351E-07   dRMS = 3.61517E-06\n",
      "SCF Iteration   4: Energy = -199.8633317095168991   dE = -1.99343E-08   dRMS = 1.37921E-06\n",
      "SCF Iteration   5: Energy = -199.8633317124264295   dE = -2.90953E-09   dRMS = 5.28065E-07\n",
      "SCF Iteration   6: Energy = -199.8633317128546594   dE = -4.28230E-10   dRMS = 2.02751E-07\n",
      "SCF Iteration   7: Energy = -199.8633317129183524   dE = -6.36931E-11   dRMS = 7.79875E-08\n",
      "SCF Iteration   8: Energy = -199.8633317129279305   dE = -9.57812E-12   dRMS = 3.00308E-08\n",
      "SCF Iteration   9: Energy = -199.8633317129290958   dE = -1.16529E-12   dRMS = 1.15716E-08\n",
      "SCF Iteration  10: Energy = -199.8633317129296074   dE = -5.11591E-13   dRMS = 4.46056E-09\n",
      "SCF Iteration  11: Energy = -199.8633317129291811   dE =  4.26326E-13   dRMS = 1.71984E-09\n",
      "SCF Iteration  12: Energy = -199.8633317129296074   dE = -4.26326E-13   dRMS = 6.63204E-10\n",
      "SCF Iteration  13: Energy = -199.8633317129292948   dE =  3.12639E-13   dRMS = 2.55767E-10\n",
      "SCF Iteration  14: Energy = -199.8633317129296358   dE = -3.41061E-13   dRMS = 9.86426E-11\n",
      "Total time for SCF iterations: 0.017 seconds \n",
      "\n",
      "QED-RHF   energy: -199.86333171 hartree\n",
      "Psi4  SCF energy: -199.86395910 hartree\n",
      "102\n"
     ]
    }
   ],
   "source": [
    "om = 4.75 / psi4.constants.Hartree_energy_in_eV \n",
    "lam = np.array([0.0, 0.0, 0.0125])\n",
    "\n",
    "# cqed-cis\n",
    "cqed_cis_dict = cs_cqed_cis(lam, om, molstr, options_dict)"
   ]
  },
  {
   "cell_type": "code",
   "execution_count": 5,
   "metadata": {},
   "outputs": [
    {
     "name": "stdout",
     "output_type": "stream",
     "text": [
      "    CASE 2 CQED-CIS E.....................................................................PASSED\n"
     ]
    },
    {
     "data": {
      "text/plain": [
       "True"
      ]
     },
     "execution_count": 5,
     "metadata": {},
     "output_type": "execute_result"
    }
   ],
   "source": [
    "# check to see if first CQED-CIS excitation energy matches value from [McTague:2021:ChemRxiv] Figure 3 for case 2\n",
    "# This still needs to be corrected in the paper!\n",
    "cqed_cis_e = cqed_cis_dict[\"CISS-PF ENERGY\"]\n",
    "psi4.compare_values(cqed_cis_e[1], 0.1655708380, 8, \"CASE 2 CQED-CIS E\")"
   ]
  },
  {
   "cell_type": "code",
   "execution_count": 6,
   "metadata": {},
   "outputs": [
    {
     "name": "stdout",
     "output_type": "stream",
     "text": [
      "[-2.50831265e-04  1.65570838e-01  1.82666685e-01  2.33013343e-01\n",
      "  2.33013343e-01  3.26752661e-01  3.52111065e-01  3.82625009e-01\n",
      "  4.08684345e-01  4.08684345e-01  4.31229200e-01  4.37681931e-01\n",
      "  4.37681931e-01  5.03842661e-01  5.33896963e-01  5.33896963e-01\n",
      "  5.35062460e-01  5.35062460e-01  5.58883867e-01  6.07806968e-01\n",
      "  6.13500370e-01  6.13500370e-01  6.29180166e-01  7.09636550e-01\n",
      "  7.09636550e-01  7.10599172e-01  7.10599172e-01  8.03099505e-01\n",
      "  9.09966590e-01  1.08470876e+00  1.59381966e+00  1.59381966e+00\n",
      "  1.76865421e+00  1.76865421e+00  1.81887974e+00  1.99363725e+00\n",
      "  2.00938263e+00  2.00938263e+00  2.01326695e+00  2.13500867e+00\n",
      "  2.13500867e+00  2.13597037e+00  2.13597037e+00  2.14002076e+00\n",
      "  2.18189205e+00  2.18352779e+00  2.18352779e+00  2.18820281e+00\n",
      "  2.25311962e+00  2.25311962e+00  2.27266394e+00  2.30946749e+00\n",
      "  2.30946749e+00  2.31042890e+00  2.31042890e+00  2.31448030e+00\n",
      "  2.35699191e+00  2.37746044e+00  2.38006681e+00  2.38006681e+00\n",
      "  2.42445862e+00  2.42445862e+00  2.42688353e+00  2.42827170e+00\n",
      "  2.42827170e+00  2.43069505e+00  2.43069505e+00  2.43203610e+00\n",
      "  2.43340276e+00  2.43340276e+00  2.44755962e+00  2.45469144e+00\n",
      "  2.45469144e+00  2.45482980e+00  2.45482980e+00  2.45537452e+00\n",
      "  2.45811819e+00  2.45811819e+00  2.46047503e+00  2.46047503e+00\n",
      "  2.46330018e+00  2.46330018e+00  2.46621251e+00  2.48043579e+00\n",
      "  2.55343352e+00  2.55597435e+00  2.55597435e+00  2.58720824e+00\n",
      "  2.59029233e+00  2.59029233e+00  2.60281738e+00  2.60281738e+00\n",
      "  2.60299058e+00  2.60524381e+00  2.60524381e+00  2.60636512e+00\n",
      "  2.60636512e+00  2.60658676e+00  2.62925072e+00  2.62925072e+00\n",
      "  2.62936674e+00  2.62936674e+00  2.62994071e+00  2.63259182e+00\n",
      "  2.63259182e+00  2.63503380e+00  2.63503380e+00  2.63779233e+00\n",
      "  2.63779233e+00  2.64068177e+00  2.65522641e+00  2.76176190e+00\n",
      "  2.76475416e+00  2.76475416e+00  3.01635402e+00  3.02254720e+00\n",
      "  3.02254720e+00  3.19355206e+00  3.19978963e+00  3.19978963e+00\n",
      "  3.50282496e+00  3.62449440e+00  3.62449440e+00  3.67692146e+00\n",
      "  3.73920371e+00  3.76290361e+00  3.76290361e+00  3.77102412e+00\n",
      "  3.77102412e+00  3.77135586e+00  3.77211638e+00  3.79894407e+00\n",
      "  3.79894407e+00  3.86362941e+00  3.90955936e+00  3.91336142e+00\n",
      "  3.91336142e+00  3.91722659e+00  3.93843516e+00  3.93843516e+00\n",
      "  3.94003231e+00  3.94003231e+00  3.94238271e+00  3.94238271e+00\n",
      "  3.94818509e+00  3.94818509e+00  3.94851384e+00  3.94920795e+00\n",
      "  3.97968676e+00  3.98711271e+00  3.98711271e+00  4.03953892e+00\n",
      "  4.07029174e+00  4.08790944e+00  4.08790944e+00  4.08924438e+00\n",
      "  4.11299715e+00  4.11299715e+00  4.11688208e+00  4.11688208e+00\n",
      "  4.15666235e+00  4.16408968e+00  4.16408968e+00  4.24475316e+00\n",
      "  4.50330540e+00  4.68057259e+00  5.25151799e+00  5.25151799e+00\n",
      "  5.42870600e+00  5.42870600e+00  5.46744649e+00  5.64448425e+00\n",
      "  4.87443438e+01  4.88701366e+01  4.88701366e+01  4.89185677e+01\n",
      "  4.89930193e+01  4.90446120e+01  4.90446120e+01  4.91336377e+01\n",
      "  4.91660541e+01  4.91815110e+01  4.91815110e+01  4.91817986e+01\n",
      "  4.92124186e+01  4.92124186e+01  4.92154981e+01  4.92154981e+01\n",
      "  4.93095546e+01  4.93432340e+01  4.93560670e+01  4.93560670e+01\n",
      "  4.93562135e+01  4.93869779e+01  4.93869779e+01  4.93899793e+01\n",
      "  4.93899793e+01  4.95176271e+01  4.97793831e+01  4.99566370e+01\n",
      "  5.05278378e+01  5.05278378e+01  5.07049958e+01  5.07049958e+01\n",
      "  5.07402599e+01  5.09172746e+01]\n"
     ]
    }
   ],
   "source": [
    "print(cqed_cis_e)"
   ]
  },
  {
   "cell_type": "code",
   "execution_count": null,
   "metadata": {},
   "outputs": [],
   "source": []
  }
 ],
 "metadata": {
  "kernelspec": {
   "display_name": "Python 3 (ipykernel)",
   "language": "python",
   "name": "python3"
  },
  "language_info": {
   "codemirror_mode": {
    "name": "ipython",
    "version": 3
   },
   "file_extension": ".py",
   "mimetype": "text/x-python",
   "name": "python",
   "nbconvert_exporter": "python",
   "pygments_lexer": "ipython3",
   "version": "3.9.13"
  }
 },
 "nbformat": 4,
 "nbformat_minor": 4
}
