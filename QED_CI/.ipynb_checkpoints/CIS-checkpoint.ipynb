{
 "cells": [
  {
   "cell_type": "code",
   "execution_count": 1,
   "id": "be6d590d",
   "metadata": {},
   "outputs": [
    {
     "name": "stdout",
     "output_type": "stream",
     "text": [
      "\n",
      "Starting SCF and integral build...\n"
     ]
    }
   ],
   "source": [
    "__authors__ = \"Tianyuan Zhang\"\n",
    "__credits__ = [\"Tianyuan Zhang\", \"Jeffrey B. Schriber\", \"Daniel G. A. Smith\"]\n",
    "\n",
    "__copyright__ = \"(c) 2014-2018, The Psi4NumPy Developers\"\n",
    "__license__ = \"BSD-3-Clause\"\n",
    "__date__ = \"2017-05-26\"\n",
    "\n",
    "import time\n",
    "import numpy as np\n",
    "np.set_printoptions(precision=5, linewidth=200, suppress=True)\n",
    "import psi4\n",
    "\n",
    "# Memory for Psi4 in GB\n",
    "psi4.core.set_output_file('output.dat', False)\n",
    "\n",
    "# Memory for numpy in GB\n",
    "numpy_memory = 2\n",
    "\n",
    "#mol = psi4.geometry(\"\"\"\n",
    "#O\n",
    "#H 1 1.1\n",
    "#H 1 1.1 2 104\n",
    "#symmetry c1\n",
    "#\"\"\")\n",
    "mol = psi4.geometry(\"\"\"\n",
    "H\n",
    "H 1 1.0\n",
    "symmetry c1\n",
    "\"\"\")\n",
    "\n",
    "psi4.set_options({'basis': 'sto-3g',\n",
    "                  'scf_type': 'pk',\n",
    "                  'e_convergence': 1e-8,\n",
    "                  'd_convergence': 1e-8})\n",
    "\n",
    "print('\\nStarting SCF and integral build...')\n",
    "\n",
    "\n"
   ]
  },
  {
   "cell_type": "code",
   "execution_count": 2,
   "id": "a3f650a8",
   "metadata": {},
   "outputs": [
    {
     "name": "stdout",
     "output_type": "stream",
     "text": [
      "\n",
      "Size of the SO ERI tensor will be 0.00 GB.\n",
      "\n",
      "Total time taken for ERI integrals: 0.001 seconds.\n",
      "\n",
      "[[-0.9795  -0.68286]\n",
      " [-0.68286 -0.9795 ]]\n"
     ]
    }
   ],
   "source": [
    "t = time.time()\n",
    "\n",
    "# First compute SCF energy using Psi4\n",
    "scf_e, wfn = psi4.energy('SCF', return_wfn=True)\n",
    "\n",
    "# Grab data from wavfunction class\n",
    "C = wfn.Ca()\n",
    "ndocc = wfn.doccpi()[0]\n",
    "nmo = wfn.nmo()\n",
    "nvirt = nmo - ndocc\n",
    "nDet_S = ndocc * nvirt * 2\n",
    "\n",
    "# Compute size of SO-ERI tensor in GB\n",
    "ERI_Size = (nmo**4) * 128e-9\n",
    "print('\\nSize of the SO ERI tensor will be %4.2f GB.' % ERI_Size)\n",
    "memory_footprint = ERI_Size * 5.2\n",
    "if memory_footprint > numpy_memory:\n",
    "    clean()\n",
    "    raise Exception(\"Estimated memory utilization (%4.2f GB) exceeds numpy_memory \\\n",
    "                    limit of %4.2f GB.\" % (memory_footprint, numpy_memory))\n",
    "\n",
    "# Integral generation from Psi4's MintsHelper\n",
    "t = time.time()\n",
    "mints = psi4.core.MintsHelper(wfn.basisset())\n",
    "H = np.asarray(mints.ao_kinetic()) + np.asarray(mints.ao_potential())\n",
    "\n",
    "print('\\nTotal time taken for ERI integrals: %.3f seconds.\\n' % (time.time() - t))\n",
    "print(H)"
   ]
  },
  {
   "cell_type": "code",
   "execution_count": 3,
   "id": "dc45dfda",
   "metadata": {},
   "outputs": [
    {
     "name": "stdout",
     "output_type": "stream",
     "text": [
      "Starting AO -> spin-orbital MO transformation...\n",
      "..finished transformation in 0.001 seconds.\n",
      "\n",
      "[[-1.11084  0.     ]\n",
      " [ 0.      -0.58912]]\n"
     ]
    }
   ],
   "source": [
    "print('Starting AO -> spin-orbital MO transformation...')\n",
    "t = time.time()\n",
    "MO = np.asarray(mints.mo_spin_eri(C, C))\n",
    "#print(MO)\n",
    "# Update H, transform to MO basis and tile for alpha/beta spin\n",
    "H = np.einsum('uj,vi,uv', C, C, H)\n",
    "print('..finished transformation in %.3f seconds.\\n' % (time.time() - t))\n",
    "print(H)"
   ]
  },
  {
   "cell_type": "code",
   "execution_count": 4,
   "id": "50340edd",
   "metadata": {},
   "outputs": [
    {
     "name": "stdout",
     "output_type": "stream",
     "text": [
      "..finished transformation in 24.635 seconds.\n",
      "\n"
     ]
    },
    {
     "name": "stderr",
     "output_type": "stream",
     "text": [
      "/var/folders/5f/ftf5xlgj4dv_6xxqh_p9pwyc0000gq/T/ipykernel_9462/2790351766.py:5: DeprecationWarning: `np.int` is a deprecated alias for the builtin `int`. To silence this warning, use `int` by itself. Doing this will not modify any behavior and is safe. When replacing `np.int`, you may wish to use e.g. `np.int64` or `np.int32` to specify the precision. If you wish to review your current use, check the release note link for additional information.\n",
      "Deprecated in NumPy 1.20; for more details and guidance: https://numpy.org/devdocs/release/1.20.0-notes.html#deprecations\n",
      "  spin_ind = np.arange(H.shape[0], dtype=np.int) % 2\n"
     ]
    }
   ],
   "source": [
    "H = np.repeat(H, 2, axis=0)\n",
    "H = np.repeat(H, 2, axis=1)\n",
    "\n",
    "# Make H block diagonal\n",
    "spin_ind = np.arange(H.shape[0], dtype=np.int) % 2\n",
    "H *= (spin_ind.reshape(-1, 1) == spin_ind)\n",
    "\n",
    "print('..finished transformation in %.3f seconds.\\n' % (time.time() - t))\n",
    "\n"
   ]
  },
  {
   "cell_type": "code",
   "execution_count": 5,
   "id": "0dbf0a51",
   "metadata": {},
   "outputs": [
    {
     "name": "stdout",
     "output_type": "stream",
     "text": [
      "Generating 3 CIS singlet Determinants...\n",
      "[0, 1]\n",
      "..finished generating determinants in 0.001 seconds.\n",
      "\n",
      "Generating Hamiltonian Matrix...\n",
      "[[-1.07826  0.19679  0.     ]\n",
      " [ 0.19679 -1.07826  0.     ]\n",
      " [ 0.       0.      -1.59529]]\n",
      "..finished generating Matrix in 0.001 seconds.\n",
      "\n",
      "Diagonalizing Hamiltonian Matrix...\n"
     ]
    }
   ],
   "source": [
    "from helper_CI import Determinant, HamiltonianGenerator\n",
    "from itertools import combinations\n",
    "\n",
    "print('Generating %d CIS singlet Determinants...' % (nDet_S + 1))\n",
    "t = time.time()\n",
    "\n",
    "occList = [i for i in range(ndocc)]\n",
    "det_ref = Determinant(alphaObtList=occList, betaObtList=occList)\n",
    "detList = det_ref.generateSingleExcitationsOfDet(nmo)\n",
    "detList.append(det_ref)\n",
    "spin_obtlist = det_ref.getOrbitalMixedIndexList()\n",
    "print(spin_obtlist)\n",
    "print('..finished generating determinants in %.3f seconds.\\n' % (time.time() - t))\n",
    "\n",
    "print('Generating Hamiltonian Matrix...')\n",
    "t = time.time()\n",
    "Hamiltonian_generator = HamiltonianGenerator(H, MO)\n",
    "Hamiltonian_matrix = Hamiltonian_generator.generateMatrix(detList)\n",
    "print(Hamiltonian_matrix)\n",
    "\n",
    "print('..finished generating Matrix in %.3f seconds.\\n' % (time.time() - t))\n",
    "\n",
    "print('Diagonalizing Hamiltonian Matrix...')\n"
   ]
  },
  {
   "cell_type": "code",
   "execution_count": 10,
   "id": "7bd4f630",
   "metadata": {},
   "outputs": [
    {
     "name": "stdout",
     "output_type": "stream",
     "text": [
      "3\n",
      "|[1][0]> |[1][0]> [] [] 1\n",
      "|[1][0]> |[0][1]> [2, 1] [0, 3] 1\n",
      "|[1][0]> |[0][0]> [2] [0] 1\n",
      "|[0][1]> |[1][0]> [0, 3] [2, 1] 1\n",
      "|[0][1]> |[0][1]> [] [] 1\n",
      "|[0][1]> |[0][0]> [3] [1] 1\n",
      "|[0][0]> |[1][0]> [0] [2] 1\n",
      "|[0][0]> |[0][1]> [1] [3] 1\n",
      "|[0][0]> |[0][0]> [] [] 1\n"
     ]
    }
   ],
   "source": [
    "numDet = len(detList)\n",
    "print(numDet)\n",
    "for i in range(numDet):\n",
    "    for j in range(numDet):\n",
    "        unique1, unique2, sign = detList[i].getUniqueOrbitalsInMixIndexListsPlusSign(detList[j])\n",
    "        print(detList[i], detList[j], unique1, unique2, sign)"
   ]
  },
  {
   "cell_type": "code",
   "execution_count": 6,
   "id": "6d4c95ab",
   "metadata": {},
   "outputs": [
    {
     "name": "stdout",
     "output_type": "stream",
     "text": [
      "0 0 -1.110844179650526\n",
      "1 1 -2.221688359301052\n",
      "0 1 0 1 -1.595285859855316\n",
      "-1.595285859855316\n"
     ]
    }
   ],
   "source": [
    "H_elm = 0\n",
    "for m in spin_obtlist:\n",
    "    H_elm += H[m,m]\n",
    "    print(m,m,H_elm)\n",
    "length = len(spin_obtlist)\n",
    "for m in range(length-1):\n",
    "    for n in range(m+1, length):\n",
    "        H_elm += MO[m, n, m, n ]\n",
    "        print(m,n,m,n,H_elm)\n",
    "        \n",
    "print(H_elm)"
   ]
  },
  {
   "cell_type": "code",
   "execution_count": null,
   "id": "628aed2f",
   "metadata": {},
   "outputs": [],
   "source": [
    "unique1, unique2, sign = det1.getUniqueOrbitalsInMixIndexListsPlusSign(det2)\n",
    "        return sign * self.antiSym2eInt[unique1[0], unique1[1], unique2[0], unique2[1]]"
   ]
  },
  {
   "cell_type": "code",
   "execution_count": null,
   "id": "c7c0bc13",
   "metadata": {},
   "outputs": [],
   "source": [
    "t = time.time()\n",
    "\n",
    "e_cis, wavefunctions = np.linalg.eigh(Hamiltonian_matrix)\n",
    "print('..finished diagonalization in %.3f seconds.\\n' % (time.time() - t))\n",
    "\n",
    "print('# Determinants:     % 16d' % (len(detList)))\n",
    "\n",
    "print('SCF energy:         % 16.10f' % (scf_e))\n",
    "\n",
    "hartree2eV = 27.211\n",
    "\n",
    "print('\\nCIS Excitation Energies (Singlets only):')\n",
    "print(' #        Hartree                  eV')\n",
    "print('--  --------------------  --------------------')\n",
    "for i in range(1, len(e_cis)):\n",
    "    excit_e = e_cis[i] + mol.nuclear_repulsion_energy() - scf_e\n",
    "    print('%2d %20.10f %20.10f' % (i, excit_e, excit_e * hartree2eV))"
   ]
  },
  {
   "cell_type": "code",
   "execution_count": null,
   "id": "2e81a3a8",
   "metadata": {},
   "outputs": [],
   "source": []
  }
 ],
 "metadata": {
  "kernelspec": {
   "display_name": "Python 3 (ipykernel)",
   "language": "python",
   "name": "python3"
  },
  "language_info": {
   "codemirror_mode": {
    "name": "ipython",
    "version": 3
   },
   "file_extension": ".py",
   "mimetype": "text/x-python",
   "name": "python",
   "nbconvert_exporter": "python",
   "pygments_lexer": "ipython3",
   "version": "3.9.13"
  }
 },
 "nbformat": 4,
 "nbformat_minor": 5
}
