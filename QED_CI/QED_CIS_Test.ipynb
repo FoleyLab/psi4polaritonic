{
 "cells": [
  {
   "cell_type": "markdown",
   "id": "b57aeeca",
   "metadata": {},
   "source": [
    "Notebook to use the helper_CI tools to build the QED-CIS matrix using\n",
    "$$ <ij||kl> + D_{ij||kl} + T + V + Q + d $$\n",
    "\n",
    "Note we might want to look at these equations [here](https://www.chem.fsu.edu/~deprince/programming_projects/cis/).\n",
    "Ideally, this will yield the same result as ../simple_cis.ipynb."
   ]
  },
  {
   "cell_type": "code",
   "execution_count": 1,
   "id": "dc0e5f9a",
   "metadata": {},
   "outputs": [],
   "source": [
    "import time\n",
    "import numpy as np\n",
    "np.set_printoptions(precision=5, linewidth=200, suppress=True)\n",
    "import psi4\n",
    "from helper_cqed_rhf import cqed_rhf\n"
   ]
  },
  {
   "cell_type": "code",
   "execution_count": 2,
   "id": "491aa9c6",
   "metadata": {},
   "outputs": [],
   "source": [
    "def spin_idx_to_spat_idx_and_spin(P):\n",
    "    \"\"\" function to take the numeric label of a spin orbital\n",
    "        and return the spatial index and the spin index separately.\n",
    "        Starts counting from 0:\n",
    "        \n",
    "        Arguments\n",
    "        ---------\n",
    "        P : int\n",
    "            spin orbital label\n",
    "        \n",
    "        Returns\n",
    "        -------\n",
    "        [p, spin] : numpy array of ints\n",
    "            p is the spatial orbital index and spin is the spin index.\n",
    "            spin = 1  -> alpha\n",
    "            spin = -1 -> beta\n",
    "            \n",
    "        Example\n",
    "        -------\n",
    "        >>> spin_idx_to_spat_idx_and_spin(0)\n",
    "        >>> [0, 1]\n",
    "        >>> spin_idx_to_spat_idx_and_spin(3)\n",
    "        >>> [1, -1]\n",
    "        \n",
    "    \"\"\"\n",
    "    spin = 1\n",
    "    if P % 2 == 0:\n",
    "        p = P / 2\n",
    "        spin = 1\n",
    "    else:\n",
    "        p = (P-1) / 2\n",
    "        spin = -1\n",
    "    return np.array([p, spin], dtype=int)\n",
    "\n",
    "\n",
    "def map_spatial_to_spin(tei_spatial, I, J, K, L):\n",
    "    \"\"\" function to take two electron integrals in the spatial orbital basis\n",
    "        in chemist notation along with 4 indices I, J, K, L and return\n",
    "        the corresponding two electron integral in the spin orbital basis\n",
    "        in phycisit notation, <IJ||KL>\n",
    "    \n",
    "    \"\"\"\n",
    "    # Phys to Chem: <IJ||KL> -> [IK|JL] - [IL|JK]\n",
    "    i_s = spin_idx_to_spat_idx_and_spin(I)\n",
    "    k_s = spin_idx_to_spat_idx_and_spin(K)\n",
    "    j_s = spin_idx_to_spat_idx_and_spin(J)\n",
    "    l_s = spin_idx_to_spat_idx_and_spin(L)\n",
    "    \n",
    "    #print(i_s[1])\n",
    "    # (ik|jl)\n",
    "    spat_ikjl = tei_spatial[i_s[0], k_s[0], j_s[0], l_s[0]] * ( i_s[1] == k_s[1] ) *  ( j_s[1] == l_s[1] )\n",
    "    \n",
    "    # (il|jk)\n",
    "    spat_iljk = tei_spatial[i_s[0], l_s[0], j_s[0], k_s[0]] * ( i_s[1] == l_s[1] ) *  ( j_s[1] == k_s[1] )\n",
    "    \n",
    "    return spat_ikjl - spat_iljk\n",
    "\n",
    "def map_spatial_dipole_to_spin(mu, I, J, K, L):\n",
    "    \"\"\" function to take two electron integrals in the spatial orbital basis\n",
    "        in chemist notation along with 4 indices I, J, K, L and return\n",
    "        the corresponding two electron integral in the spin orbital basis\n",
    "        in phycisit notation, <IJ||KL>\n",
    "    \n",
    "    \"\"\"\n",
    "    # Phys to Chem: <IJ||KL> -> [IK|JL] - [IL|JK]\n",
    "    i_s = spin_idx_to_spat_idx_and_spin(I)\n",
    "    k_s = spin_idx_to_spat_idx_and_spin(K)\n",
    "    j_s = spin_idx_to_spat_idx_and_spin(J)\n",
    "    l_s = spin_idx_to_spat_idx_and_spin(L)\n",
    "    \n",
    "    #print(i_s[1])\n",
    "    # (ik|jl)\n",
    "    spat_ikjl = mu[i_s[0], k_s[0]] * mu[j_s[0], l_s[0]] * ( i_s[1] == k_s[1] ) *  ( j_s[1] == l_s[1] )\n",
    "    \n",
    "    # (il|jk)\n",
    "    spat_iljk = mu[i_s[0], l_s[0]] * mu[j_s[0], k_s[0]] * ( i_s[1] == l_s[1] ) *  ( j_s[1] == k_s[1] )\n",
    "    \n",
    "    return spat_ikjl - spat_iljk"
   ]
  },
  {
   "cell_type": "code",
   "execution_count": 3,
   "id": "86d13e78",
   "metadata": {},
   "outputs": [],
   "source": [
    "# some test options\n",
    "neglect_mumu = False\n",
    "neglect_oe_terms = False"
   ]
  },
  {
   "cell_type": "code",
   "execution_count": 12,
   "id": "1244efd8",
   "metadata": {},
   "outputs": [
    {
     "name": "stdout",
     "output_type": "stream",
     "text": [
      "\n",
      "Starting SCF and integral build...\n",
      "\n",
      "Start SCF iterations:\n",
      "\n",
      "Canonical RHF One-electron energy = -2.2216883593010519\n",
      "CQED-RHF One-electron energy      = -2.2148046877305525\n",
      "Nuclear repulsion energy          = 0.5291772106700000\n",
      "Dipole energy                     = 0.0000000000000000\n",
      "SCF Iteration   1: Energy = -1.0592249776148162   dE = -1.05922E+00   dRMS = 1.40570E-16\n",
      "SCF Iteration   2: Energy = -1.0592249776148157   dE =  4.44089E-16   dRMS = 3.69647E-17\n",
      "Total time for SCF iterations: 0.000 seconds \n",
      "\n",
      "QED-RHF   energy: -1.05922498 hartree\n",
      "Psi4  SCF energy: -1.06610865 hartree\n",
      "\n",
      "Size of the Hamiltonian Matrix will be 0.00 GB.\n"
     ]
    }
   ],
   "source": [
    "\n",
    "# Check energy against psi4?\n",
    "compare_psi4 = True\n",
    "\n",
    "# Memory for Psi4 in GB\n",
    "# psi4.core.set_memory(int(2e9), False)\n",
    "psi4.core.set_output_file('output.dat', False)\n",
    "\n",
    "# Memory for numpy in GB\n",
    "numpy_memory = 2\n",
    "\n",
    "mol_str = \"\"\"\n",
    "H \n",
    "H 1 1.0\n",
    "symmetry c1\n",
    "\"\"\"\n",
    "\n",
    "options_dict = {'basis': 'sto-3g',\n",
    "                  'scf_type': 'pk',\n",
    "                  'e_convergence': 1e-8,\n",
    "                  'd_convergence': 1e-8\n",
    "                  }\n",
    "\n",
    "\n",
    "\n",
    "# photon energy\n",
    "omega_val = 4.75 / psi4.constants.Hartree_energy_in_eV\n",
    "\n",
    "# define the lambda vector\n",
    "lambda_vector = np.array([0.05, 0.05, 0.05])\n",
    "\n",
    "mol = psi4.geometry(mol_str)\n",
    "\n",
    "\n",
    "psi4.set_options(options_dict)\n",
    "\n",
    "print('\\nStarting SCF and integral build...')\n",
    "t = time.time()\n",
    "\n",
    "# First compute SCF energy using Psi4\n",
    "scf_e, wfn = psi4.energy('SCF', return_wfn=True)\n",
    "\n",
    "# now compute cqed-rhf to get transformation vectors with cavity\n",
    "cqed_rhf_dict = cqed_rhf(lambda_vector, mol_str, options_dict)\n",
    "\n",
    "# grab necessary quantities from cqed_rhf_dict\n",
    "scf_e = cqed_rhf_dict[\"RHF ENERGY\"]\n",
    "cqed_scf_e = cqed_rhf_dict[\"CQED-RHF ENERGY\"]\n",
    "wfn = cqed_rhf_dict[\"PSI4 WFN\"]\n",
    "C = cqed_rhf_dict[\"CQED-RHF C\"]\n",
    "D = cqed_rhf_dict[\"CQED-RHF DENSITY MATRIX\"]\n",
    "eps = cqed_rhf_dict[\"CQED-RHF EPS\"]\n",
    "dc = cqed_rhf_dict[\"DIPOLE ENERGY\"]\n",
    "\n",
    "# collect rhf wfn object as dictionary\n",
    "wfn_dict = psi4.core.Wavefunction.to_file(wfn)\n",
    "\n",
    "# update wfn_dict with orbitals from CQED-RHF\n",
    "wfn_dict[\"matrix\"][\"Ca\"] = C\n",
    "wfn_dict[\"matrix\"][\"Cb\"] = C\n",
    "# update wfn object\n",
    "wfn = psi4.core.Wavefunction.from_file(wfn_dict)\n",
    "\n",
    "# Grab data from wavfunction class\n",
    "Ca = wfn.Ca()\n",
    "ndocc = wfn.doccpi()[0]\n",
    "nmo = wfn.nmo()\n",
    "\n",
    "# Compute size of Hamiltonian in GB\n",
    "from scipy.special import comb\n",
    "nDet = comb(nmo, ndocc)**2\n",
    "H_Size = nDet**2 * 8e-9\n",
    "print('\\nSize of the Hamiltonian Matrix will be %4.2f GB.' % H_Size)\n",
    "if H_Size > numpy_memory:\n",
    "    #clean()\n",
    "    raise Exception(\"Estimated memory utilization (%4.2f GB) exceeds numpy_memory \\\n",
    "                    limit of %4.2f GB.\" % (H_Size, numpy_memory))\n",
    "\n",
    "# Integral generation from Psi4's MintsHelper\n",
    "t = time.time()\n",
    "mints = psi4.core.MintsHelper(wfn.basisset())\n"
   ]
  },
  {
   "cell_type": "code",
   "execution_count": 5,
   "id": "f68014b1",
   "metadata": {},
   "outputs": [],
   "source": [
    "# dipole arrays in AO basis\n",
    "mu_ao_x = np.asarray(mints.ao_dipole()[0])\n",
    "mu_ao_y = np.asarray(mints.ao_dipole()[1])\n",
    "mu_ao_z = np.asarray(mints.ao_dipole()[2])\n",
    "\n",
    "# transform dipole array to HF-PF basis\n",
    "mu_cmo_x = np.dot(C.T, mu_ao_x).dot(C)\n",
    "mu_cmo_y = np.dot(C.T, mu_ao_y).dot(C)\n",
    "mu_cmo_z = np.dot(C.T, mu_ao_z).dot(C)\n",
    "\n",
    "# electronic dipole expectation value with CQED-RHF density\n",
    "mu_exp_x = np.einsum(\"pq,pq->\", 2 * mu_ao_x, D)\n",
    "mu_exp_y = np.einsum(\"pq,pq->\", 2 * mu_ao_y, D)\n",
    "mu_exp_z = np.einsum(\"pq,pq->\", 2 * mu_ao_z, D)\n",
    "\n",
    "# get electronic dipole expectation value\n",
    "mu_exp_el = np.array([mu_exp_x, mu_exp_y, mu_exp_z])\n",
    "\n",
    "# \\lambda \\cdot < \\mu > where < \\mu > contains only electronic terms \n",
    "l_dot_mu_exp = np.dot(lambda_vector, mu_exp_el)\n",
    "\n",
    "# \\lambda \\cdot \\mu_{el} in ao basis\n",
    "l_dot_mu_el = lambda_vector[0] * mu_ao_x\n",
    "l_dot_mu_el += lambda_vector[1] * mu_ao_y\n",
    "l_dot_mu_el += lambda_vector[2] * mu_ao_z\n",
    "\n",
    "# \\lambda \\cdot \\mu_{el} in PF basis basis\n",
    "l_dot_mu_el_cmo = lambda_vector[0] * mu_cmo_x\n",
    "l_dot_mu_el_cmo += lambda_vector[1] * mu_cmo_y\n",
    "l_dot_mu_el_cmo += lambda_vector[2] * mu_cmo_z\n",
    "\n",
    "# get \\lambda * <\\mu>_e \\lambda * \\hat{\\mu} term\n",
    "d_PF = -l_dot_mu_exp * l_dot_mu_el\n",
    "\n",
    "# quadrupole arrays\n",
    "Q_ao_xx = np.asarray(mints.ao_quadrupole()[0])\n",
    "Q_ao_xy = np.asarray(mints.ao_quadrupole()[1])\n",
    "Q_ao_xz = np.asarray(mints.ao_quadrupole()[2])\n",
    "Q_ao_yy = np.asarray(mints.ao_quadrupole()[3])\n",
    "Q_ao_yz = np.asarray(mints.ao_quadrupole()[4])\n",
    "Q_ao_zz = np.asarray(mints.ao_quadrupole()[5])\n",
    "\n",
    "\n",
    "# Pauli-Fierz 1-e quadrupole terms, Line 2 of Eq. (9) in [McTague:2021:ChemRxiv]\n",
    "Q_PF = -0.5 * lambda_vector[0] * lambda_vector[0] * Q_ao_xx\n",
    "Q_PF -= 0.5 * lambda_vector[1] * lambda_vector[1] * Q_ao_yy\n",
    "Q_PF -= 0.5 * lambda_vector[2] * lambda_vector[2] * Q_ao_zz\n",
    "\n",
    "# accounting for the fact that Q_ij = Q_ji\n",
    "# by weighting Q_ij x 2 which cancels factor of 1/2\n",
    "Q_PF -= lambda_vector[0] * lambda_vector[1] * Q_ao_xy\n",
    "Q_PF -= lambda_vector[0] * lambda_vector[2] * Q_ao_xz\n",
    "Q_PF -= lambda_vector[1] * lambda_vector[2] * Q_ao_yz\n",
    "\n"
   ]
  },
  {
   "cell_type": "code",
   "execution_count": 13,
   "id": "973e74eb",
   "metadata": {},
   "outputs": [
    {
     "name": "stdout",
     "output_type": "stream",
     "text": [
      "\n",
      "Total time taken for ERI integrals: 733.138 seconds.\n",
      "\n",
      "Starting AO -> spin-orbital MO transformation...\n",
      "..finished transformation in 0.005 seconds.\n",
      "\n"
     ]
    },
    {
     "name": "stderr",
     "output_type": "stream",
     "text": [
      "/var/folders/5f/ftf5xlgj4dv_6xxqh_p9pwyc0000gq/T/ipykernel_73644/1785954010.py:41: DeprecationWarning: `np.int` is a deprecated alias for the builtin `int`. To silence this warning, use `int` by itself. Doing this will not modify any behavior and is safe. When replacing `np.int`, you may wish to use e.g. `np.int64` or `np.int32` to specify the precision. If you wish to review your current use, check the release note link for additional information.\n",
      "Deprecated in NumPy 1.20; for more details and guidance: https://numpy.org/devdocs/release/1.20.0-notes.html#deprecations\n",
      "  spin_ind = np.arange(H.shape[0], dtype=np.int) % 2\n"
     ]
    }
   ],
   "source": [
    "# preparing 1e- and 2e- arrays\n",
    "H = np.asarray(mints.ao_kinetic()) + np.asarray(mints.ao_potential()) + Q_PF + d_PF\n",
    "\n",
    "\n",
    "\n",
    "print('\\nTotal time taken for ERI integrals: %.3f seconds.\\n' % (time.time() - t))\n",
    "\n",
    "#Make spin-orbital MO\n",
    "print('Starting AO -> spin-orbital MO transformation...')\n",
    "t = time.time()\n",
    "MO = np.asarray(mints.mo_spin_eri(Ca, Ca))\n",
    "\n",
    "nso = 2 * nmo\n",
    "TDI_spin = np.zeros((nso, nso, nso, nso))\n",
    "for i in range(nso):\n",
    "    for j in range(nso):\n",
    "        for k in range(nso):\n",
    "            for l in range(nso):\n",
    "                TDI_spin[i, j, k, l] = map_spatial_dipole_to_spin(l_dot_mu_el_cmo, i, j, k, l)\n",
    "                \n",
    "# check to see if we should ignore dipole-dipole terms\n",
    "if neglect_mumu:\n",
    "    print(\"neglecting dipole dipole\")\n",
    "else:\n",
    "    MO += TDI_spin\n",
    "\n",
    "# Update H, transform to MO basis and tile for alpha/beta spin\n",
    "H = np.einsum('uj,vi,uv', Ca, Ca, H)\n",
    "H = np.repeat(H, 2, axis=0)\n",
    "H = np.repeat(H, 2, axis=1)\n",
    "\n",
    "# prepare the g matrix by transforming the l_dot_mu_el matrix\n",
    "g_mat = np.einsum('uj,vi,uv', Ca, Ca, l_dot_mu_el)\n",
    "g_mat = np.repeat(g_mat, 2, axis=0)\n",
    "g_mat = np.repeat(g_mat, 2, axis=1)\n",
    "\n",
    "\n",
    "#print(H)\n",
    "\n",
    "# Make H block diagonal\n",
    "spin_ind = np.arange(H.shape[0], dtype=np.int) % 2\n",
    "H *= (spin_ind.reshape(-1, 1) == spin_ind)\n",
    "g_mat *= (spin_ind.reshape(-1, 1) == spin_ind)\n",
    "g_mat *= -np.sqrt(omega_val/2)\n",
    "\n",
    "print('..finished transformation in %.3f seconds.\\n' % (time.time() - t))\n",
    "\n",
    "\n",
    "\n"
   ]
  },
  {
   "cell_type": "markdown",
   "id": "740df1e1",
   "metadata": {},
   "source": [
    "Here we are going to generate the set of all singly-excited determinants $|\\Phi_i^a\\rangle$\n",
    "that we will call `singlesDets` and the reference determinant $|\\Phi_0\\rangle$ \n",
    "that we will calle `refDet`."
   ]
  },
  {
   "cell_type": "code",
   "execution_count": 10,
   "id": "0095b35a",
   "metadata": {},
   "outputs": [
    {
     "name": "stdout",
     "output_type": "stream",
     "text": [
      "Generating singly-excited determinants\n",
      " adding alpha: (0,) and beta: (1,)\n",
      "\n",
      " adding alpha: (1,) and beta: (0,)\n",
      "\n",
      "..finished generating singly-excited determinants in 0.000 seconds.\n",
      "\n",
      "..there are 2 determinants \n",
      "\n",
      "|[0][1]>\n",
      "|[1][0]>\n",
      "Generating reference determinant\n",
      "|[0][0]>\n"
     ]
    }
   ],
   "source": [
    "# prepare the determinant list\n",
    "from helper_CI import Determinant, HamiltonianGenerator, compute_excitation_level\n",
    "from itertools import combinations\n",
    "\n",
    "print('Generating singly-excited determinants')\n",
    "t = time.time()\n",
    "singlesDets = []\n",
    "for alpha in combinations(range(nmo), ndocc):\n",
    "    alpha_ex_level = compute_excitation_level(alpha, ndocc)\n",
    "    for beta in combinations(range(nmo), ndocc):\n",
    "        beta_ex_level = compute_excitation_level(beta, ndocc)\n",
    "        if alpha_ex_level + beta_ex_level == 1:\n",
    "            print(F' adding alpha: {alpha} and beta: {beta}\\n') \n",
    "            singlesDets.append(Determinant(alphaObtList=alpha, betaObtList=beta))\n",
    "\n",
    "print('..finished generating singly-excited determinants in %.3f seconds.\\n' % (time.time() - t))\n",
    "print(F'..there are {len(singlesDets)} determinants \\n')\n",
    "for i in range(len(singlesDets)):\n",
    "    print(singlesDets[i])\n",
    "    \n",
    "print('Generating reference determinant')\n",
    "\n",
    "occList = [i for i in range(ndocc)]\n",
    "refDet = Determinant(alphaObtList=occList, betaObtList=occList)\n",
    "print(refDet)\n"
   ]
  },
  {
   "cell_type": "markdown",
   "id": "ba57365b",
   "metadata": {},
   "source": [
    "##### this illustrates some functionality of the determinant class.\n",
    "numDet = len(detList)\n",
    "print(numDet)\n",
    "for i in range(numDet):\n",
    "    for j in range(numDet):\n",
    "        unique1, unique2, sign = detList[i].getUniqueOrbitalsInMixIndexListsPlusSign(detList[j])\n",
    "        print(detList[i], detList[j], unique1, unique2, sign)\n",
    "        \n"
   ]
  },
  {
   "cell_type": "markdown",
   "id": "3fd1e0ae",
   "metadata": {},
   "source": [
    "First we are going to generate the ${\\bf A + \\Delta} + n\\hbar{\\bf \\Omega}$ block of the Hamiltonian\n",
    "which results from $\\langle \\Phi_i^a,n | \\hat{H} | \\Phi_j^b,n\\rangle$ terms.\n",
    "We can compute ${\\bf A + \\Delta}$ once and then add it to the appropriate block of\n",
    "the Hamiltonian matrix with the appropriate block of $n\\hbar{\\bf \\Omega}$. "
   ]
  },
  {
   "cell_type": "code",
   "execution_count": 11,
   "id": "4bedfcdf",
   "metadata": {},
   "outputs": [
    {
     "name": "stdout",
     "output_type": "stream",
     "text": [
      "Generating A+\\Delta sublock...\n",
      "printing H\n",
      "[[-1.07094  0.19975]\n",
      " [ 0.19975 -1.07094]]\n"
     ]
    }
   ],
   "source": [
    "print('Generating A+\\Delta sublock...')\n",
    "A_D_generator = HamiltonianGenerator(H, MO)\n",
    "\n",
    "\n",
    "A_D_matrix = A_D_generator.generateMatrix(singlesDets)\n",
    "print(\"printing H\")\n",
    "print(A_D_matrix)"
   ]
  },
  {
   "cell_type": "markdown",
   "id": "bb104812",
   "metadata": {},
   "source": [
    "Next we are going to generate the ${\\bf g}$ blocks which arise from $ -\\sqrt{\\frac{\\omega}{2}}  \\langle \\Phi_i^a,n | {\\bf \\lambda} \\cdot {\\bf \\hat{\\mu}} (\\hat{b}^{\\dagger} + \\hat{b}) | \\Phi_j^b,m\\rangle$"
   ]
  },
  {
   "cell_type": "code",
   "execution_count": 18,
   "id": "56c72397",
   "metadata": {},
   "outputs": [
    {
     "name": "stdout",
     "output_type": "stream",
     "text": [
      "Generating g sublock...\n",
      "printing g\n",
      "[[0. 0.]\n",
      " [0. 0.]]\n"
     ]
    }
   ],
   "source": [
    "print('Generating g sublock...')\n",
    "g_generator = HamiltonianGenerator(g_mat, MO * 0)\n",
    "\n",
    "G_matrix = g_generator.generateMatrix(singlesDets)\n",
    "print(\"printing g\")\n",
    "print(G_matrix)"
   ]
  },
  {
   "cell_type": "markdown",
   "id": "1d78dee2",
   "metadata": {},
   "source": [
    "Next we are going to generate the ${\\bf G}$ blocks which arise from $ -\\sqrt{\\frac{\\omega}{2}}  \\langle \\Phi_0,n | {\\bf \\lambda} \\cdot {\\bf \\hat{\\mu}} (\\hat{b}^{\\dagger} + \\hat{b}) | \\Phi_j^b,m\\rangle$"
   ]
  },
  {
   "cell_type": "code",
   "execution_count": 26,
   "id": "9d4a9043",
   "metadata": {},
   "outputs": [
    {
     "name": "stdout",
     "output_type": "stream",
     "text": [
      "[[0.01608 0.01608]]\n",
      "[[0.01608]\n",
      " [0.01608]]\n"
     ]
    }
   ],
   "source": [
    "n_s = len(singlesDets)\n",
    "g_vec = np.zeros((1,n_s))\n",
    "for i in range(n_s):\n",
    "    g_vec[0,i] = g_generator.calcMatrixElement(refDet, singlesDets[i])\n",
    "print(g_vec)\n",
    "g_dag = np.conj(g_vec).T\n",
    "print(g_dag)"
   ]
  },
  {
   "cell_type": "markdown",
   "id": "090186e3",
   "metadata": {},
   "source": [
    "Now generate ${\\bf \\Omega}$ "
   ]
  },
  {
   "cell_type": "code",
   "execution_count": 27,
   "id": "0bf98984",
   "metadata": {},
   "outputs": [
    {
     "name": "stdout",
     "output_type": "stream",
     "text": [
      "[[0.17456 0.     ]\n",
      " [0.      0.17456]]\n"
     ]
    }
   ],
   "source": [
    "Omega_matrix = np.identity(n_s) * omega_val\n",
    "print(Omega_matrix)"
   ]
  },
  {
   "cell_type": "markdown",
   "id": "e9141049",
   "metadata": {},
   "source": [
    "Now build the entire matrix"
   ]
  },
  {
   "cell_type": "code",
   "execution_count": 32,
   "id": "2d9c520e",
   "metadata": {},
   "outputs": [],
   "source": [
    "# define the offsets\n",
    "R0_offset = 0\n",
    "S0_offset = 1\n",
    "R1_offset = n_s + 1\n",
    "S1_offset = n_s + 2\n",
    "\n",
    "H_CISS_PF = np.zeros((n_s * 2 + 2, n_s * 2 + 2))\n",
    "H_CISS_PF[R0_offset:S0_offset, S1_offset:] = g_vec\n",
    "H_CISS_PF[S0_offset:R1_offset, R1_offset:S1_offset] = g_dag\n",
    "H_CISS_PF[R1_offset:S1_offset, S0_offset:R1_offset] = g_vec\n",
    "H_CISS_PF[S1_offset:,          R0_offset:S0_offset] = g_dag\n",
    "\n",
    "H_CISS_PF[S0_offset:R1_offset, S0_offset:R1_offset] = A_D_matrix\n",
    "\n",
    "H_CISS_PF[R1_offset, R1_offset] = omega_val\n",
    "\n",
    "H_CISS_PF[S1_offset:, S1_offset:] = A_D_matrix + Omega_matrix\n",
    "\n",
    "H_CISS_PF[S1_offset:,S0_offset:R1_offset] = G_matrix\n",
    "H_CISS_PF[S0_offset:R1_offset, S1_offset:] = G_matrix\n"
   ]
  },
  {
   "cell_type": "code",
   "execution_count": 34,
   "id": "ccc8eaf3",
   "metadata": {},
   "outputs": [
    {
     "name": "stdout",
     "output_type": "stream",
     "text": [
      "..finished generating Matrix in 14.304 seconds.\n",
      "\n",
      "Diagonalizing Hamiltonian Matrix...\n",
      "[-1.27069 -1.09613 -0.87168 -0.69737  0.00074  0.17505]\n"
     ]
    }
   ],
   "source": [
    "print('..finished generating Matrix in %.3f seconds.\\n' % (time.time() - t))\n",
    "\n",
    "print('Diagonalizing Hamiltonian Matrix...')\n",
    "\n",
    "t = time.time()\n",
    "\n",
    "e_fci, wavefunctions = np.linalg.eigh(H_CISS_PF)\n",
    "print(e_fci)"
   ]
  },
  {
   "cell_type": "code",
   "execution_count": 39,
   "id": "a77f35d8",
   "metadata": {},
   "outputs": [
    {
     "name": "stdout",
     "output_type": "stream",
     "text": [
      "..finished diagonalization in 318.148 seconds.\n",
      "\n",
      "0.31771108719597885\n",
      "\n",
      "0.4922703689800386\n",
      "\n",
      "0.7167221575689043\n",
      "\n",
      "0.8910342054744401\n",
      "\n",
      "1.5891436243991675\n",
      "\n",
      "1.763455672304703\n",
      "\n",
      "# Determinants:                    2\n",
      "SCF energy:            -1.0661086492\n",
      "FCI correlation:        0.8979178770\n",
      "Total FCI energy:      -0.1681907721\n"
     ]
    }
   ],
   "source": [
    "print('..finished diagonalization in %.3f seconds.\\n' % (time.time() - t))\n",
    "for i in range(0,len(e_fci)):\n",
    "    en = e_fci[i] + mol.nuclear_repulsion_energy() + dc - cqed_scf_e\n",
    "    print(F'{en}\\n')\n",
    "fci_mol_e = e_fci[3] + mol.nuclear_repulsion_energy() + dc\n",
    "\n",
    "print('# Determinants:     % 16d' % (len(singlesDets)))\n",
    "\n",
    "print('SCF energy:         % 16.10f' % (scf_e))\n",
    "print('FCI correlation:    % 16.10f' % (fci_mol_e - scf_e))\n",
    "print('Total FCI energy:   % 16.10f' % (fci_mol_e))"
   ]
  },
  {
   "cell_type": "code",
   "execution_count": null,
   "id": "ddbdd02b",
   "metadata": {},
   "outputs": [],
   "source": [
    "assert np.isclose(0.71721636, 0.7172163598047324, 1e-7)"
   ]
  },
  {
   "cell_type": "code",
   "execution_count": null,
   "id": "7fdcc9c9",
   "metadata": {},
   "outputs": [],
   "source": [
    "print(dc)\n",
    "print(Hamiltonian_matrix)"
   ]
  },
  {
   "cell_type": "code",
   "execution_count": null,
   "id": "b92f8ca7",
   "metadata": {},
   "outputs": [],
   "source": [
    "print(H)"
   ]
  },
  {
   "cell_type": "code",
   "execution_count": null,
   "id": "343d7b09",
   "metadata": {},
   "outputs": [],
   "source": [
    "print(MO)"
   ]
  },
  {
   "cell_type": "code",
   "execution_count": null,
   "id": "ba2dae71",
   "metadata": {},
   "outputs": [],
   "source": [
    "# Create instance of MintsHelper class\n",
    "#mints = psi4.core.MintsHelper(wfn.basisset())\n",
    "# 2 electron integrals in CQED-RHF basis\n",
    "Ca = wfn.Ca()\n",
    "#MO_spin = np.asarray(mints.mo_spin_eri(Ca, Ca))\n",
    "\n",
    "MO_spat = np.asarray(mints.mo_eri(Ca, Ca, Ca, Ca))\n"
   ]
  },
  {
   "cell_type": "code",
   "execution_count": null,
   "id": "ce73d826",
   "metadata": {},
   "outputs": [],
   "source": [
    "nso = 2 * nmo\n",
    "MO_spin = np.zeros((nso, nso, nso, nso))\n",
    "for i in range(nso):\n",
    "    for j in range(nso):\n",
    "        for k in range(nso):\n",
    "            for l in range(nso):\n",
    "                MO_spin[i, j, k, l] = map_spatial_to_spin(MO_spat, i, j, k, l)\n",
    "                \n",
    "                \n",
    "    \n",
    "    "
   ]
  },
  {
   "cell_type": "code",
   "execution_count": null,
   "id": "7b1f35ac",
   "metadata": {},
   "outputs": [],
   "source": [
    "assert np.allclose(MO_spin, MO)"
   ]
  },
  {
   "cell_type": "code",
   "execution_count": null,
   "id": "0a1edd8d",
   "metadata": {},
   "outputs": [],
   "source": []
  }
 ],
 "metadata": {
  "kernelspec": {
   "display_name": "Python 3 (ipykernel)",
   "language": "python",
   "name": "python3"
  },
  "language_info": {
   "codemirror_mode": {
    "name": "ipython",
    "version": 3
   },
   "file_extension": ".py",
   "mimetype": "text/x-python",
   "name": "python",
   "nbconvert_exporter": "python",
   "pygments_lexer": "ipython3",
   "version": "3.9.13"
  }
 },
 "nbformat": 4,
 "nbformat_minor": 5
}
