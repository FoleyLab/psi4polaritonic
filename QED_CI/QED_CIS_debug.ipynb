{
 "cells": [
  {
   "cell_type": "markdown",
   "id": "b57aeeca",
   "metadata": {},
   "source": [
    "Notebook to use the helper_CI tools to build the QED-CIS matrix using\n",
    "$$ <ij||kl> + D_{ij||kl} + T + V + Q + d $$\n",
    "\n",
    "Note we might want to look at these equations [here](https://www.chem.fsu.edu/~deprince/programming_projects/cis/).\n",
    "Ideally, this will yield the same result as ../simple_cis.ipynb."
   ]
  },
  {
   "cell_type": "code",
   "execution_count": 1,
   "id": "dc0e5f9a",
   "metadata": {},
   "outputs": [],
   "source": [
    "import time\n",
    "import numpy as np\n",
    "np.set_printoptions(precision=5, linewidth=200, suppress=True)\n",
    "import psi4\n",
    "from helper_cqed_rhf import cqed_rhf\n",
    "# Compute size of Hamiltonian in GB\n",
    "from scipy.special import comb\n",
    "# prepare the determinant list\n",
    "from helper_CI import Determinant, HamiltonianGenerator, compute_excitation_level\n",
    "from itertools import combinations"
   ]
  },
  {
   "cell_type": "code",
   "execution_count": 2,
   "id": "491aa9c6",
   "metadata": {},
   "outputs": [],
   "source": [
    "def spin_idx_to_spat_idx_and_spin(P):\n",
    "    \"\"\" function to take the numeric label of a spin orbital\n",
    "        and return the spatial index and the spin index separately.\n",
    "        Starts counting from 0:\n",
    "        \n",
    "        Arguments\n",
    "        ---------\n",
    "        P : int\n",
    "            spin orbital label\n",
    "        \n",
    "        Returns\n",
    "        -------\n",
    "        [p, spin] : numpy array of ints\n",
    "            p is the spatial orbital index and spin is the spin index.\n",
    "            spin = 1  -> alpha\n",
    "            spin = -1 -> beta\n",
    "            \n",
    "        Example\n",
    "        -------\n",
    "        >>> spin_idx_to_spat_idx_and_spin(0)\n",
    "        >>> [0, 1]\n",
    "        >>> spin_idx_to_spat_idx_and_spin(3)\n",
    "        >>> [1, -1]\n",
    "        \n",
    "    \"\"\"\n",
    "    spin = 1\n",
    "    if P % 2 == 0:\n",
    "        p = P / 2\n",
    "        spin = 1\n",
    "    else:\n",
    "        p = (P-1) / 2\n",
    "        spin = -1\n",
    "    return np.array([p, spin], dtype=int)\n",
    "\n",
    "\n",
    "def map_spatial_to_spin(tei_spatial, I, J, K, L):\n",
    "    \"\"\" function to take two electron integrals in the spatial orbital basis\n",
    "        in chemist notation along with 4 indices I, J, K, L and return\n",
    "        the corresponding two electron integral in the spin orbital basis\n",
    "        in phycisit notation, <IJ||KL>\n",
    "    \n",
    "    \"\"\"\n",
    "    # Phys to Chem: <IJ||KL> -> [IK|JL] - [IL|JK]\n",
    "    i_s = spin_idx_to_spat_idx_and_spin(I)\n",
    "    k_s = spin_idx_to_spat_idx_and_spin(K)\n",
    "    j_s = spin_idx_to_spat_idx_and_spin(J)\n",
    "    l_s = spin_idx_to_spat_idx_and_spin(L)\n",
    "    \n",
    "    #print(i_s[1])\n",
    "    # (ik|jl)\n",
    "    spat_ikjl = tei_spatial[i_s[0], k_s[0], j_s[0], l_s[0]] * ( i_s[1] == k_s[1] ) *  ( j_s[1] == l_s[1] )\n",
    "    \n",
    "    # (il|jk)\n",
    "    spat_iljk = tei_spatial[i_s[0], l_s[0], j_s[0], k_s[0]] * ( i_s[1] == l_s[1] ) *  ( j_s[1] == k_s[1] )\n",
    "    \n",
    "    return spat_ikjl - spat_iljk\n",
    "\n",
    "def map_spatial_dipole_to_spin(mu, I, J, K, L):\n",
    "    \"\"\" function to take two electron integrals in the spatial orbital basis\n",
    "        in chemist notation along with 4 indices I, J, K, L and return\n",
    "        the corresponding two electron integral in the spin orbital basis\n",
    "        in phycisit notation, <IJ||KL>\n",
    "    \n",
    "    \"\"\"\n",
    "    # Phys to Chem: <IJ||KL> -> [IK|JL] - [IL|JK]\n",
    "    i_s = spin_idx_to_spat_idx_and_spin(I)\n",
    "    k_s = spin_idx_to_spat_idx_and_spin(K)\n",
    "    j_s = spin_idx_to_spat_idx_and_spin(J)\n",
    "    l_s = spin_idx_to_spat_idx_and_spin(L)\n",
    "    \n",
    "    #print(i_s[1])\n",
    "    # (ik|jl)\n",
    "    spat_ikjl = mu[i_s[0], k_s[0]] * mu[j_s[0], l_s[0]] * ( i_s[1] == k_s[1] ) *  ( j_s[1] == l_s[1] )\n",
    "    \n",
    "    # (il|jk)\n",
    "    spat_iljk = mu[i_s[0], l_s[0]] * mu[j_s[0], k_s[0]] * ( i_s[1] == l_s[1] ) *  ( j_s[1] == k_s[1] )\n",
    "    \n",
    "    return spat_ikjl - spat_iljk"
   ]
  },
  {
   "cell_type": "code",
   "execution_count": null,
   "id": "1244efd8",
   "metadata": {},
   "outputs": [],
   "source": [
    "\n",
    "# Check energy against psi4?\n",
    "compare_psi4 = True\n",
    "\n",
    "# Memory for Psi4 in GB\n",
    "# psi4.core.set_memory(int(2e9), False)\n",
    "psi4.core.set_output_file('output.dat', False)\n",
    "\n",
    "# Memory for numpy in GB\n",
    "numpy_memory = 2\n",
    "\n",
    "mol_str = \"\"\"\n",
    "H \n",
    "H 1 1.0\n",
    "symmetry c1\n",
    "\"\"\"\n",
    "\n",
    "options_dict = {'basis': 'sto-3g',\n",
    "                  'scf_type': 'pk',\n",
    "                  'e_convergence': 1e-8,\n",
    "                  'd_convergence': 1e-8\n",
    "                  }\n",
    "\n",
    "\n",
    "\n",
    "# photon energy\n",
    "omega_val = 4.75 / psi4.constants.Hartree_energy_in_eV\n",
    "\n",
    "# define the lambda vector\n",
    "lambda_vector = np.array([0.1, 0.1, 0.1])\n",
    "\n",
    "mol = psi4.geometry(mol_str)\n",
    "\n",
    "\n",
    "psi4.set_options(options_dict)\n",
    "\n",
    "print('\\nStarting SCF and integral build...')\n",
    "t = time.time()\n",
    "\n",
    "# First compute SCF energy using Psi4\n",
    "scf_e, wfn = psi4.energy('SCF', return_wfn=True)\n",
    "\n",
    "# now compute cqed-rhf to get transformation vectors with cavity\n",
    "cqed_rhf_dict = cqed_rhf(lambda_vector, mol_str, options_dict)\n",
    "\n",
    "# grab necessary quantities from cqed_rhf_dict\n",
    "rhf_reference_energy = cqed_rhf_dict[\"RHF ENERGY\"]\n",
    "cqed_reference_energy = cqed_rhf_dict[\"CQED-RHF ENERGY\"]\n",
    "C = cqed_rhf_dict[\"CQED-RHF C\"]\n",
    "D = cqed_rhf_dict[\"CQED-RHF DENSITY MATRIX\"]\n",
    "eps = cqed_rhf_dict[\"CQED-RHF EPS\"]\n",
    "dc = cqed_rhf_dict[\"DIPOLE ENERGY (1/2 (\\lambda \\cdot <\\mu>_e)^2)\"]\n",
    "\n",
    "# collect rhf wfn object as dictionary\n",
    "wfn_dict = psi4.core.Wavefunction.to_file(wfn)\n",
    "\n",
    "# update wfn_dict with orbitals from CQED-RHF\n",
    "wfn_dict[\"matrix\"][\"Ca\"] = C\n",
    "wfn_dict[\"matrix\"][\"Cb\"] = C\n",
    "# update wfn object\n",
    "wfn = psi4.core.Wavefunction.from_file(wfn_dict)\n",
    "\n",
    "# Grab data from wavfunction class\n",
    "Ca = wfn.Ca()\n",
    "ndocc = wfn.doccpi()[0]\n",
    "nmo = wfn.nmo()\n",
    "\n",
    "\n",
    "\n",
    "mints = psi4.core.MintsHelper(wfn.basisset())\n"
   ]
  },
  {
   "cell_type": "markdown",
   "id": "424be4e7",
   "metadata": {},
   "source": []
  },
  {
   "cell_type": "code",
   "execution_count": null,
   "id": "f68014b1",
   "metadata": {},
   "outputs": [],
   "source": []
  },
  {
   "cell_type": "markdown",
   "id": "25c3542e",
   "metadata": {},
   "source": [
    "Here we will build both the matrix of 1e integrals ($\\langle p|\\hat{O}_1|q \\rangle$, where \n",
    "$\\hat{O}_1$ contains electronic kinetic, nuclear-electron attraction, scaled quadrupole, and scaled dipole) in the AO basis so that they are (nao x nao) arrays, and we will build the $\\langle pq||rs\\rangle$ integrals augmented\n",
    "by 2-electron scaled dipole integrals in the spin orbital \n",
    "basis which are (nso x nso x nso x nso) = (2 * nao x 2 * nao x 2 * nao x 2 * nao)."
   ]
  },
  {
   "cell_type": "code",
   "execution_count": null,
   "id": "e7f36a5b",
   "metadata": {},
   "outputs": [],
   "source": [
    "# preparing 1e- and 2e- arrays\n",
    "H = np.asarray(mints.ao_kinetic()) + np.asarray(mints.ao_potential()) + Q_PF + d_PF\n",
    "\n",
    "\n",
    "\n",
    "print('\\nTotal time taken for ERI integrals: %.3f seconds.\\n' % (time.time() - t))\n",
    "\n",
    "#Make spin-orbital MO\n",
    "print('Starting AO -> spin-orbital MO transformation...')\n",
    "t = time.time()\n",
    "MO = np.asarray(mints.mo_spin_eri(Ca, Ca))\n",
    "\n",
    "nso = 2 * nmo\n",
    "TDI_spin = np.zeros((nso, nso, nso, nso))\n",
    "for i in range(nso):\n",
    "    for j in range(nso):\n",
    "        for k in range(nso):\n",
    "            for l in range(nso):\n",
    "                TDI_spin[i, j, k, l] = map_spatial_dipole_to_spin(l_dot_mu_el_cmo, i, j, k, l)\n",
    "                \n",
    "\n",
    "MO += TDI_spin\n",
    "    \n",
    "print(\"Printing 1-e H matrix\")   \n",
    "print(H)\n",
    "print(F'The dimensions of the 1-e H matrix is {H.shape}')\n",
    "print(F'The dimesions of the 2-e integral arrays in the spin orbital basis is {MO.shape}')"
   ]
  },
  {
   "cell_type": "markdown",
   "id": "c91abe48",
   "metadata": {},
   "source": [
    "Now we are going to transform 1-e integrals into the CQED-RHF basis"
   ]
  },
  {
   "cell_type": "code",
   "execution_count": null,
   "id": "973e74eb",
   "metadata": {},
   "outputs": [],
   "source": [
    "\n",
    "# Update H, transform to MO basis and tile for alpha/beta spin\n",
    "H = np.einsum('uj,vi,uv', Ca, Ca, H)\n",
    "\n",
    "\n",
    "# prepare the g matrix by transforming the l_dot_mu_el matrix * sqrt(\\omega / 2)\n",
    "g_mat = np.einsum('uj,vi,uv', Ca, Ca, -np.sqrt(omega_val / 2) * l_dot_mu_el)\n",
    "\n",
    "print(H)\n",
    "print(g_mat)\n",
    "\n",
    "\n"
   ]
  },
  {
   "cell_type": "markdown",
   "id": "24297856",
   "metadata": {},
   "source": [
    "Now we are going to put the 1-e arrays into the spin-orbital basis, so that each in the resulting\n",
    "arrays is of the form $H_{pq} = \\langle \\chi_p | \\hat{O}_1 | \\chi_q \\rangle$.  This array will be \n",
    "organized into spin blocks as follows:\n",
    "\n",
    "\\begin{equation}\n",
    "\\begin{bmatrix}\n",
    "\\langle p | \\hat{O}_1 |q\\rangle  & \\langle p | \\hat{O}_1| \\overline{q}\\rangle \\\\\n",
    "\\langle \\overline{p} | \\hat{O}_1|q\\rangle  & \\langle \\overline{p}| \\hat{O}_1| \\overline{q}\\rangle\n",
    "\\end{bmatrix}\n",
    "\\end{equation}"
   ]
  },
  {
   "cell_type": "code",
   "execution_count": null,
   "id": "2036f2ea",
   "metadata": {},
   "outputs": [],
   "source": [
    "H = np.repeat(H, 2, axis=0)\n",
    "print(\"printing H after 1st repeat\")\n",
    "print(H)\n",
    "H = np.repeat(H, 2, axis=1)\n",
    "print(\"printing H after 2nd repeat\")\n",
    "print(H)\n",
    "g_mat = np.repeat(g_mat, 2, axis=0)\n",
    "g_mat = np.repeat(g_mat, 2, axis=1)\n",
    "print(\"printing g_mat after 2nd repeate\")\n",
    "print(g_mat)\n",
    "\n",
    "\n",
    "# Make H block diagonal\n",
    "spin_ind = np.arange(H.shape[0], dtype=np.int) % 2\n",
    "H *= (spin_ind.reshape(-1, 1) == spin_ind)\n",
    "g_mat *= (spin_ind.reshape(-1, 1) == spin_ind)\n",
    "\n",
    "print(\"after spin blocking\")\n",
    "print(H)\n",
    "print(g_mat)\n",
    "\n",
    "print('..finished transformation in %.3f seconds.\\n' % (time.time() - t))"
   ]
  },
  {
   "cell_type": "markdown",
   "id": "c153fc7b",
   "metadata": {},
   "source": []
  },
  {
   "cell_type": "markdown",
   "id": "3d4d477f",
   "metadata": {},
   "source": [
    "Here we are going to generate the set of all singly-excited determinants $|\\Phi_i^a\\rangle$\n",
    "that we will call `singlesDets` and the reference determinant $|\\Phi_0\\rangle$ \n",
    "that we will calle `refDet`."
   ]
  },
  {
   "cell_type": "code",
   "execution_count": null,
   "id": "196f4e7a",
   "metadata": {},
   "outputs": [],
   "source": [
    "\n",
    "\n",
    "print('Generating singly-excited determinants')\n",
    "t = time.time()\n",
    "singlesDets = []\n",
    "for alpha in combinations(range(nmo), ndocc):\n",
    "    alpha_ex_level = compute_excitation_level(alpha, ndocc)\n",
    "    for beta in combinations(range(nmo), ndocc):\n",
    "        beta_ex_level = compute_excitation_level(beta, ndocc)\n",
    "        if alpha_ex_level + beta_ex_level == 1:\n",
    "            print(F' adding alpha: {alpha} and beta: {beta}\\n') \n",
    "            singlesDets.append(Determinant(alphaObtList=alpha, betaObtList=beta))\n",
    "\n",
    "print('..finished generating singly-excited determinants in %.3f seconds.\\n' % (time.time() - t))\n",
    "print(F'..there are {len(singlesDets)} determinants \\n')\n",
    "for i in range(len(singlesDets)):\n",
    "    print(singlesDets[i])\n",
    "    \n",
    "print('Generating reference determinant')\n",
    "\n",
    "occList = [i for i in range(ndocc)]\n",
    "refDet = Determinant(alphaObtList=occList, betaObtList=occList)\n",
    "print(refDet)\n"
   ]
  },
  {
   "cell_type": "markdown",
   "id": "81c2b483",
   "metadata": {},
   "source": [
    "##### this illustrates some functionality of the determinant class.\n",
    "numDet = len(detList)\n",
    "print(numDet)\n",
    "for i in range(numDet):\n",
    "    for j in range(numDet):\n",
    "        unique1, unique2, sign = detList[i].getUniqueOrbitalsInMixIndexListsPlusSign(detList[j])\n",
    "        print(detList[i], detList[j], unique1, unique2, sign)\n",
    "        \n"
   ]
  },
  {
   "cell_type": "markdown",
   "id": "4663b3a5",
   "metadata": {},
   "source": [
    "First we are going to generate the ${\\bf A + \\Delta} + n\\hbar{\\bf \\Omega}$ block of the Hamiltonian\n",
    "which results from $\\langle \\Phi_i^a,n | \\hat{H} | \\Phi_j^b,n\\rangle$ terms.\n",
    "We can compute ${\\bf A + \\Delta}$ once and then add it to the appropriate block of\n",
    "the Hamiltonian matrix with the appropriate block of $n\\hbar{\\bf \\Omega}$. "
   ]
  },
  {
   "cell_type": "code",
   "execution_count": null,
   "id": "c1ce1899",
   "metadata": {},
   "outputs": [],
   "source": [
    "print('Generating A+\\Delta sublock...')\n",
    "A_D_generator = HamiltonianGenerator(H, MO)\n",
    "\n",
    "\n",
    "A_D_matrix = A_D_generator.generateMatrix(singlesDets)\n",
    "print(\"printing H\")\n",
    "print(A_D_matrix)"
   ]
  },
  {
   "cell_type": "markdown",
   "id": "d05c1074",
   "metadata": {},
   "source": [
    "Next we are going to generate the ${\\bf g}$ blocks which arise from $ -\\sqrt{\\frac{\\omega}{2}}  \\langle \\Phi_i^a,n | {\\bf \\lambda} \\cdot {\\bf \\hat{\\mu}} (\\hat{b}^{\\dagger} + \\hat{b}) | \\Phi_j^b,m\\rangle$"
   ]
  },
  {
   "cell_type": "code",
   "execution_count": null,
   "id": "46ceca30",
   "metadata": {},
   "outputs": [],
   "source": [
    "print('Generating g sublock...')\n",
    "g_generator = HamiltonianGenerator(g_mat, MO * 0)\n",
    "\n",
    "G_matrix = g_generator.generateMatrix(singlesDets)\n",
    "print(\"printing g\")\n",
    "print(G_matrix)"
   ]
  },
  {
   "cell_type": "markdown",
   "id": "51ef1cf6",
   "metadata": {},
   "source": [
    "Next we are going to generate the ${\\bf G}$ blocks which arise from $ -\\sqrt{\\frac{\\omega}{2}}  \\langle \\Phi_0,n | {\\bf \\lambda} \\cdot {\\bf \\hat{\\mu}} (\\hat{b}^{\\dagger} + \\hat{b}) | \\Phi_j^b,m\\rangle$"
   ]
  },
  {
   "cell_type": "code",
   "execution_count": null,
   "id": "f0d3dbe8",
   "metadata": {},
   "outputs": [],
   "source": [
    "n_s = len(singlesDets)\n",
    "g_vec = np.zeros((1,n_s))\n",
    "for i in range(n_s):\n",
    "    g_vec[0,i] = g_generator.calcMatrixElement(refDet, singlesDets[i])\n",
    "print(g_vec)\n",
    "g_dag = np.conj(g_vec).T\n",
    "print(g_dag)"
   ]
  },
  {
   "cell_type": "markdown",
   "id": "4b833647",
   "metadata": {},
   "source": [
    "Now generate ${\\bf \\Omega}$ "
   ]
  },
  {
   "cell_type": "code",
   "execution_count": null,
   "id": "f4f467f5",
   "metadata": {},
   "outputs": [],
   "source": [
    "Omega_matrix = np.identity(n_s) * omega_val\n",
    "print(Omega_matrix)"
   ]
  },
  {
   "cell_type": "markdown",
   "id": "a3ddab1f",
   "metadata": {},
   "source": [
    "Generate $E_0$"
   ]
  },
  {
   "cell_type": "code",
   "execution_count": null,
   "id": "7530935c",
   "metadata": {},
   "outputs": [],
   "source": [
    "E_0 = A_D_generator.calcMatrixElement(refDet, refDet)\n",
    "print(E_0)"
   ]
  },
  {
   "cell_type": "markdown",
   "id": "698d83a1",
   "metadata": {},
   "source": [
    "Now build the entire matrix"
   ]
  },
  {
   "cell_type": "code",
   "execution_count": null,
   "id": "d98161c1",
   "metadata": {},
   "outputs": [],
   "source": [
    "# define the offsets\n",
    "R0_offset = 0\n",
    "S0_offset = 1\n",
    "R1_offset = n_s + 1\n",
    "S1_offset = n_s + 2\n",
    "\n",
    "\n",
    "H_CISS_PF = np.zeros((n_s * 2 + 2, n_s * 2 + 2))\n",
    "H_label = np.zeros((n_s * 2 + 2, n_s * 2 + 2),dtype=str)\n",
    "\n",
    "H_CISS_PF[R0_offset, R0_offset] = E_0\n",
    "H_label[R0_offset, R0_offset] ='E'\n",
    "H_CISS_PF[R0_offset:S0_offset, S1_offset:] = g_vec\n",
    "H_label[R0_offset:S0_offset, S1_offset:] = 'g'\n",
    "\n",
    "\n",
    "H_CISS_PF[S0_offset:R1_offset, R1_offset:S1_offset] = g_dag\n",
    "H_label[S0_offset:R1_offset, R1_offset:S1_offset] = 'g'\n",
    "\n",
    "H_CISS_PF[R1_offset:S1_offset, S0_offset:R1_offset] = g_vec \n",
    "H_label[R1_offset:S1_offset, S0_offset:R1_offset] = 'g'\n",
    "\n",
    "H_CISS_PF[S1_offset:,          R0_offset:S0_offset] = g_dag\n",
    "H_label[S1_offset:,          R0_offset:S0_offset] = 'g'\n",
    "\n",
    "H_CISS_PF[S0_offset:R1_offset, S0_offset:R1_offset] = A_D_matrix\n",
    "H_label[S0_offset:R1_offset, S0_offset:R1_offset] = 'a'\n",
    "\n",
    "H_CISS_PF[R1_offset, R1_offset] = E_0 + omega_val\n",
    "H_label[R1_offset, R1_offset] = 'o'\n",
    "\n",
    "\n",
    "H_CISS_PF[S1_offset:, S1_offset:] = A_D_matrix + Omega_matrix\n",
    "H_label[S1_offset:, S1_offset:] = 'A'\n",
    "\n",
    "H_CISS_PF[S1_offset:,S0_offset:R1_offset] = G_matrix\n",
    "H_label[S1_offset:,S0_offset:R1_offset] = 'G'\n",
    "\n",
    "H_CISS_PF[S0_offset:R1_offset, S1_offset:] = G_matrix\n",
    "H_label[S0_offset:R1_offset, S1_offset:] = 'G'\n",
    "\n",
    "print(\"Printing the Hamiltonian schematic\")\n",
    "print(H_label)\n",
    "\n",
    "print(\"Printing the Hamiltonian matrix\")\n",
    "print(H_CISS_PF)\n",
    "\n"
   ]
  },
  {
   "cell_type": "code",
   "execution_count": null,
   "id": "ccc8eaf3",
   "metadata": {},
   "outputs": [],
   "source": [
    "print('..finished generating Matrix in %.3f seconds.\\n' % (time.time() - t))\n",
    "\n",
    "print('Diagonalizing Hamiltonian Matrix...')\n",
    "\n",
    "t = time.time()\n",
    "#print(E_0)\n",
    "e_fci, wavefunctions = np.linalg.eigh(H_CISS_PF)\n",
    "#print(e_fci)\n",
    "for i in range(len(e_fci)):\n",
    "    ex_e = e_fci[i]-E_0\n",
    "    print(F'{ex_e:.12e}')"
   ]
  },
  {
   "cell_type": "code",
   "execution_count": null,
   "id": "a77f35d8",
   "metadata": {},
   "outputs": [],
   "source": [
    "print('..finished diagonalization in %.3f seconds.\\n' % (time.time() - t))\n",
    "for i in range(0,len(e_fci)):\n",
    "    en = e_fci[i] + mol.nuclear_repulsion_energy() + dc - cqed_scf_e\n",
    "    print(F'{en}\\n')\n",
    "fci_mol_e = e_fci[3] + mol.nuclear_repulsion_energy() + dc\n",
    "\n",
    "print('# Determinants:     % 16d' % (len(singlesDets)))\n",
    "\n",
    "print('SCF energy:         % 16.10f' % (scf_e))\n",
    "print('FCI correlation:    % 16.10f' % (fci_mol_e - scf_e))\n",
    "print('Total FCI energy:   % 16.10f' % (fci_mol_e))"
   ]
  },
  {
   "cell_type": "code",
   "execution_count": null,
   "id": "d6e3a281",
   "metadata": {},
   "outputs": [],
   "source": [
    "assert np.isclose(0.71721636, 0.7172163598047324, 1e-7)"
   ]
  },
  {
   "cell_type": "code",
   "execution_count": null,
   "id": "7fdcc9c9",
   "metadata": {},
   "outputs": [],
   "source": [
    "print(dc)\n",
    "print(Hamiltonian_matrix)"
   ]
  },
  {
   "cell_type": "code",
   "execution_count": null,
   "id": "b92f8ca7",
   "metadata": {},
   "outputs": [],
   "source": [
    "print(H)"
   ]
  },
  {
   "cell_type": "code",
   "execution_count": null,
   "id": "343d7b09",
   "metadata": {},
   "outputs": [],
   "source": [
    "print(MO)"
   ]
  },
  {
   "cell_type": "code",
   "execution_count": null,
   "id": "ba2dae71",
   "metadata": {},
   "outputs": [],
   "source": [
    "# Create instance of MintsHelper class\n",
    "#mints = psi4.core.MintsHelper(wfn.basisset())\n",
    "# 2 electron integrals in CQED-RHF basis\n",
    "Ca = wfn.Ca()\n",
    "#MO_spin = np.asarray(mints.mo_spin_eri(Ca, Ca))\n",
    "\n",
    "MO_spat = np.asarray(mints.mo_eri(Ca, Ca, Ca, Ca))\n"
   ]
  },
  {
   "cell_type": "code",
   "execution_count": null,
   "id": "ce73d826",
   "metadata": {},
   "outputs": [],
   "source": [
    "nso = 2 * nmo\n",
    "MO_spin = np.zeros((nso, nso, nso, nso))\n",
    "for i in range(nso):\n",
    "    for j in range(nso):\n",
    "        for k in range(nso):\n",
    "            for l in range(nso):\n",
    "                MO_spin[i, j, k, l] = map_spatial_to_spin(MO_spat, i, j, k, l)\n",
    "                \n",
    "                \n",
    "    \n",
    "    "
   ]
  },
  {
   "cell_type": "code",
   "execution_count": null,
   "id": "7b1f35ac",
   "metadata": {},
   "outputs": [],
   "source": [
    "assert np.allclose(MO_spin, MO)"
   ]
  },
  {
   "cell_type": "code",
   "execution_count": null,
   "id": "0a1edd8d",
   "metadata": {},
   "outputs": [],
   "source": []
  }
 ],
 "metadata": {
  "kernelspec": {
   "display_name": "Python 3 (ipykernel)",
   "language": "python",
   "name": "python3"
  },
  "language_info": {
   "codemirror_mode": {
    "name": "ipython",
    "version": 3
   },
   "file_extension": ".py",
   "mimetype": "text/x-python",
   "name": "python",
   "nbconvert_exporter": "python",
   "pygments_lexer": "ipython3",
   "version": "3.9.7"
  }
 },
 "nbformat": 4,
 "nbformat_minor": 5
}
