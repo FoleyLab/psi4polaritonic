{
 "cells": [
  {
   "cell_type": "markdown",
   "metadata": {
    "collapsed": true
   },
   "source": [
    "# Hartree-Fock Self-Consistent Field Theory for the Pauli-Fierz Hamiltonian (QED-HF)"
   ]
  },
  {
   "cell_type": "code",
   "execution_count": 2,
   "metadata": {},
   "outputs": [],
   "source": [
    "\"\"\"Tutorial implementing a QED-HF program\"\"\"\n",
    "\n",
    "__authors__ = \"J. McTague, J. Foley, A. E. DePrince III\"\n",
    "__credits__ = \"J. McTague, J. Foley, A. E. DePrince III\"\n",
    "__email__   = \"jfoley19@uncc.edu, deprince@fsu.edu\"\n",
    "\n",
    "__copyright__ = \"(c) 2014-2018, The Psi4NumPy Developers\"\n",
    "__license__   = \"BSD-3-Clause\"\n",
    "__date__      = \"6/15/2022\""
   ]
  },
  {
   "cell_type": "markdown",
   "metadata": {},
   "source": [
    "\n",
    "\n",
    "\n",
    "# I. Theoretical Overview\n",
    "\n",
    "The Pauli-Fierz Hamiltonian, $\\hat{H}_{PF}$, is defined in the dipole approximation and in the coherent state basis as:\n",
    "$$\\hat{H}_{PF} = \\hat{H}_e + \\hat{H}_p + \\hat{H}_{ep} + \\hat{H}_{dse}\\tag{1}$$\n",
    "***\n",
    "### *Electronic Term*\n",
    "\n",
    "\n",
    "\n",
    "The term $\\hat{H}_e$ represents the electronic Hamiltonian and is given through:\n",
    "$$\\hat{H}_e = \\sum^{N_e}_{i} \\hat{T}_e(x_i) + \\sum^{N_e}_i \\sum^{N_N}_A \\hat{V}_{eN}(x_i, X_A) + \\sum^{N_e}_i \\sum^{N_e}_j (\\hat{V}_{ee}(x_i, x_j) + V_{N,N}\\tag{2}$$\n",
    "Where $\\hat{T}_e(x_i)$ is the electronic kinetic operator for electron $i$, $\\hat{V}_{eN}(x_i, X_A)$ is the attractive coulomb operator for electron $i$ and nucleus $A$, $\\hat{V}_{ee}(x_i , x_j)$ is the repulsive coulomb operator for electrons $i$ and $j$, and $V_{N,N}$ is the total repulsive coulomb potential between all nuclei. When using the Born-Oppenheimer Approximation, the term $V_{N,N}$ is treated a constant. Additionally, we can neglect the nuclear kinetic energy, and the electron-nuclear attraction will depend upon the coordinates of the fixed nuclear coordinates.\n",
    "***\n",
    "### *Photonic Term*\n",
    "\n",
    "The next term considered within the Pauli-Fierz Hamiltonian is the photonic Hamiltonian, $\\hat{H}_p$, which is defined as:\n",
    "$$\\hat{H}_p = \\omega\\hat{b}^{\\dagger{}}\\hat{b}\\tag{3}$$\n",
    "Here, $\\omega$ represents the frequency of a photon. \n",
    "\n",
    "***\n",
    "### *Bilinear Coupling Term*\n",
    "The third term in the Hamiltonian is a bilinear coupling term that describes coupling of the photonic and electronic degrees of freedom given by, $\\hat{H}_{ep}$ and is defined as:\n",
    "$$\\hat{H}_{ep} = \\sqrt{\\frac{\\omega}{2}}\\left(\\lambda \\cdot (\\bf{\\hat{\\mu}}_{\\rm e} - \\langle {\\bf{\\hat{\\mu}}}_{\\rm e} \\rangle)\\right)\\left(\\hat{b}^{\\dagger{}}+\\hat{b}\\right)\\tag{6}$$\n",
    "\n",
    "\n",
    "Where $\\lambda$ describes the coupling vector, $\\hat{\\mu}_{\\rm e}$ is the electronic dipole operator, and $\\langle \\hat{\\mu}_{\\rm e} \\rangle$ is the electronic dipole expectation value in the ground state. \n",
    "\n",
    "***\n",
    "### *Dipole Self Energy Term*\n",
    "The final component of the Hamiltonian, $\\hat{H}_{dse}$ is the dipole self energy term, and is defined through:\n",
    "$$\\hat{H}_{dse} = \\frac{1}{2}\\left(\\lambda \\cdot (\\bf{\\hat{\\mu}}_{\\rm e} - \\langle {\\bf{\\hat{\\mu}}}_{\\rm e} \\rangle)\\right)^2\\tag{8}$$\n",
    "\n",
    "***\n",
    "### *Hartree-Fock Reference*\n",
    "Having discussed the terms that comprise our Hamiltonian, we can now begin our HF-PF procedure, which we initiate through the introduciton of a product wavefunction, $|R\\rangle$. Here, we define $|R\\rangle$ through the following: \n",
    "$$|R\\rangle = |\\Phi_{0}\\rangle |0\\rangle\\tag{9}$$\n",
    "Here, we have defined $|R\\rangle$ as the product wavefunciton between an electronic Slater determinant, $\\Phi_{0}$ and a zero-photon number state, $|0\\rangle$.  We assume $|\\Phi_{0}\\rangle$ is a restricted reference. We can begin by performing a canonical RHF calculation to initialize the Slater determinant. \n",
    "With $|R\\rangle$ defined, we can now apply Equation 9 to Equation 1, arriving at the following:\n",
    "$$\\langle R|\\hat{H}_{ep}|R\\rangle + \\langle 0|\\hat{H}_{p}|0\\rangle + \\langle \\Phi_{0}| \\hat{H}_{e} + \\hat{H}_{dse}|\\Phi_{0}\\rangle\\tag{10}$$\n",
    "\n",
    "As we are using a zero-photon number state, we find that the $\\hat{H}_{ep}$ and $\\hat{H}_{p}$ terms both go to zero, leaving behind only the $\\hat{H}_e$ and $\\hat{H}_{dse}$. The resulting terms are seen in Equation 11.\n",
    "$$\\langle\\Phi_{0}|\\hat{H}_{e}|\\Phi_{0}\\rangle + \\langle\\Phi_{0}|\\hat{H}_{dse}|\\Phi_{0}\\rangle\\tag{11}$$\n",
    "\n",
    "From this new equation, our QED-HF implementation differs from ordinary HF via the dipole self energy term--as $\\hat{H}_{e}$ provides the ordinary terms to the Fock matrix. \n",
    "***\n",
    "\n"
   ]
  },
  {
   "cell_type": "markdown",
   "metadata": {},
   "source": [
    "The QED-HF energy can be written as \n",
    "    \\begin{equation}\n",
    "    E = \\sum_{\\mu\\nu} ( T_{\\mu\\nu} + V_{\\mu\\nu} + \\frac{1}{2} J_{\\mu\\nu} - \\frac{1}{2} K_{\\mu\\nu}) \\gamma_{\\rm \\mu\\nu}  \\nonumber \\\\\n",
    "    + \\langle \\frac{1}{2} [{\\bf{\\lambda}} \\cdot ({\\bf{\\hat{\\mu}}} - \\langle {\\bf{\\hat{\\mu}}} \\rangle)]^2 \\rangle \\tag{12}\n",
    "\\end{equation}\n",
    "Here, $\\mu$ and $\\nu$ represent atomic basis functions, and\n",
    "$T_{\\mu\\nu}$, $V_{\\mu\\nu}$, $J_{\\mu\\nu}$, and $K_{\\mu\\nu}$ are electron kinetic energy integrals, electron-nucleus potential energy integrals, elements of the Coulomb matrix, and elements of the exchange matrix, respectively. The elements of the Coulomb and exchange matrices are defined by\n",
    "\\begin{equation}\n",
    "    J_{\\mu\\nu} = \\sum_{\\lambda \\sigma} (\\mu\\nu|\\lambda\\sigma) \\gamma_{\\lambda \\sigma}  \\tag{13}\n",
    "\\end{equation}\n",
    "and \n",
    "\\begin{equation}\n",
    "    K_{\\mu\\nu} = \\sum_{\\lambda \\sigma} (\\mu \\lambda | \\sigma \\nu)  \\gamma_{\\lambda\\sigma} \\tag{14}\n",
    "\\end{equation}\n",
    "where the symbol $(\\mu\\nu|\\lambda\\sigma)$ represents a two-electron repulsion integral in chemists' notation, and \n",
    "$\\gamma_{\\mu\\nu} = \\sum_i^{N_{\\rm e}} c^*_{\\mu i} c_{\\nu i}$ is the one-particle reduced density matrix\n",
    "(with $\\{c_{\\mu i}\\}$ and $N_{\\rm e}$ being molecular orbital coefficients and the number of electrons, respectively).\n",
    "The last term in Eq. (12) is the dipole self-energy; note that, in the coherent-state basis, this quantity depends on only electronic degrees of freedom. Note also that the bilinear coupling term does not contribute to the QED-HF total energy when the Hamiltonian is represented in the coherent-state basis. )."
   ]
  },
  {
   "cell_type": "markdown",
   "metadata": {},
   "source": [
    "We expand the dipole self-energy operator as\n",
    "\\begin{eqnarray}\n",
    "\\label{EQN:DSE_OPERATOR}\n",
    "    \\frac{1}{2} [{\\bf{\\lambda}} \\cdot ({\\bf{\\hat{\\mu}}}_e - \\langle {\\bf{\\hat{\\mu}}}_e \\rangle)]^2 &=& \\frac{1}{2} ( {\\bf{\\lambda}}\\cdot  {\\bf{\\hat{\\mu}}}_{\\rm e} ) ^2 -  ( {\\bf{\\lambda}}\\cdot {\\bf{\\hat{\\mu}}}_{\\rm e} ) ( {\\bf{\\lambda}}\\cdot \\langle {\\bf{\\hat{\\mu}}}_{\\rm e}\\rangle )+ \\frac{1}{2} ( {\\bf{\\lambda}}\\cdot \\langle {\\bf{\\hat{\\mu}}}_{\\rm e}\\rangle ) ^2. \\tag{15}\n",
    "\\end{eqnarray}\n",
    "Now, the square of the electric dipole operator (the first term on the right-hand side of Eq.~\\ref{EQN:DSE_OPERATOR}) can be expanded in terms of one- and two-electron contributions as\n",
    "\\begin{equation}\n",
    "\\label{EQN:DIPOLE_SQUARED_FIRST_QUANTIZATION}\n",
    "    ( {\\bf{\\lambda}}\\cdot  {\\bf{\\hat{\\mu}}}_{\\rm e} ) ^2 = \\sum_{i \\neq j} [ {\\bf{\\lambda}}\\cdot  {\\bf{\\hat{\\mu}}}_{\\rm e}(i) ][ {\\bf{\\lambda}}\\cdot  {\\bf{\\hat{\\mu}}}_{\\rm e}(j)] + \\sum_i [ {\\bf{\\lambda}}\\cdot  {\\bf{\\hat{\\mu}}}_{\\rm e}(i) ]^2. \\tag{16}\n",
    "\\end{equation}\n",
    "where $i$ and $j$ represent different electrons.\n",
    "The right-hand side of Eq. (16) can be expressed in second-quantized notation as\n",
    "\\begin{eqnarray}\n",
    "\\label{EQN:DIPOLE_SQUARED}\n",
    "    ( {\\bf{\\lambda}}\\cdot  {\\bf{\\hat{\\mu}}}_{\\rm e} ) ^2 &=&  \\sum_{\\mu\\nu\\lambda\\sigma} d_{\\mu\\nu} d_{\\lambda\\sigma} \\hat{a}^\\dagger_\\mu \\hat{a}^\\dagger_\\lambda \\hat{a}_\\sigma \\hat{a}_\\nu - \\sum_{\\mu\\nu} q_{\\mu\\nu} \\hat{a}^\\dagger_\\mu \\hat{a}_\\nu. \\tag{17}\n",
    "\\end{eqnarray}\n",
    "where $\\hat{a}^\\dagger$ and $\\hat{a}$ represent fermionic creation and annihilation operators, respectively. The symbols $d_{\\mu\\nu}$ and $q_{\\mu\\nu}$ represent modified electric dipole and electric quadrupole integrals, which have the form\n",
    "\\begin{equation}\n",
    "    d_{\\mu\\nu} = - \\sum_{a \\in \\{x,y,z\\}} \\lambda_a \\int \\chi^*_\\mu r_a \\chi_{\\nu} d\\tau, \\tag{18}\n",
    "\\end{equation}\n",
    "and\n",
    "\\begin{equation}\n",
    "    q_{\\mu\\nu} = - \\sum_{ab \\in \\{x,y,z\\}} \\lambda_a \\lambda_b \\int \\chi^*_\\mu r_a r_b \\chi_{\\nu} d\\tau. \\tag{19}\n",
    "\\end{equation}\n",
    "respectively, and are evaluated over atomic basis functions, $\\chi_\\mu$. Here, $\\lambda_a$ is a cartesian component of ${\\bf{\\lambda}}$, and $r_a$ is a cartesian component of the position vector [{\\it e.g.}, for ${\\mathbf{r}} = (x, y, z)$, $r_x$ = $x$]. \n",
    "\n"
   ]
  },
  {
   "cell_type": "markdown",
   "metadata": {},
   "source": [
    "For a single Slater determinant, the expectation value of Eq. (15) is\n",
    "\n",
    "\\begin{equation}\n",
    "    \\langle \\frac{1}{2} [{\\bf{\\lambda}} \\cdot ({\\bf{\\hat{\\mu}}}_e - \\langle {\\bf{\\hat{\\mu}}}_e \\rangle)]^2 \\rangle = \\frac{1}{2} \\sum_{\\mu\\nu\\lambda\\sigma} d_{\\mu\\nu} d_{\\lambda\\sigma} ( \\gamma_{\\mu\\nu} \\gamma_{\\lambda\\sigma} - \\gamma_{\\mu\\sigma}\\gamma_{\\lambda\\nu}) + \\sum_{\\mu\\nu}O^{\\rm DSE}_{\\mu\\nu} \\gamma_{\\mu\\nu}+ \\frac{1}{2} ({\\bf{\\lambda}}\\cdot\\langle {\\bf{\\mu}}_{\\rm e}\\rangle)^2, \\tag{20}\n",
    "\\end{equation}\n",
    "\n",
    "or\n",
    "\\begin{eqnarray}\n",
    "    \\langle \\frac{1}{2} [{\\bf{\\lambda}} \\cdot ({\\bf{\\hat{\\mu}}}_e - \\langle {\\bf{\\hat{\\mu}}}_e \\rangle)]^2 \\rangle &=& \\sum_{\\mu\\nu} (\\frac{1}{2} J^{\\rm DSE}_{\\mu\\nu} - \\frac{1}{2} K^{\\rm DSE}_{\\mu\\nu} + O^{\\rm DSE}_{\\mu\\nu} ) \\gamma_{\\mu\\nu} \\nonumber \\\\\n",
    "    &+& \\frac{1}{2} ({\\bf{\\lambda}}\\cdot\\langle {\\bf{\\mu}}_{\\rm e}\\rangle)^2, \\tag{21}\n",
    "\\end{eqnarray}\n",
    "where\n",
    "\\begin{equation}\n",
    "    J^{\\rm DSE}_{\\mu\\nu} = d_{\\mu\\nu} \\sum_{\\lambda \\sigma} d_{\\lambda \\sigma} \\gamma_{\\lambda\\sigma} \\tag{22}\n",
    "\\end{equation}\n",
    "and\n",
    "\\begin{equation}\n",
    "    K^{\\rm DSE}_{\\mu\\nu} = \\sum_{\\lambda \\sigma} d_{\\mu\\sigma} d_{\\lambda \\nu} \\gamma_{\\lambda\\sigma}. \\tag{23}\n",
    "\\end{equation}\n",
    "\n",
    "With all of the components of the energy defined, we can make this energy stationary with respect to the orbitals that define \n",
    "\n",
    "QED-HF are determined as eigenfunctions of the modified \n",
    "Fock matrix,\n",
    "\\begin{eqnarray}\n",
    "    F_{\\mu\\nu} &=& T_{\\mu\\nu} + V_{\\mu\\nu} + J_{\\mu\\nu} - K_{\\mu\\nu} \\nonumber \\\\\n",
    "    &+& O^{\\rm DSE}_{\\rm \\mu\\nu} + J_{\\mu\\nu}^{\\rm DSE} - K_{\\mu\\nu}^{\\rm DSE}  \\tag{24}\n",
    "\\end{eqnarray}\n",
    "where we can identify the last three terms as the unique contribution to the Fock operator coming from the dipole self energy,\n",
    "$F^{{\\rm DSE}}_{\\mu\\nu} = O^{\\rm DSE}_{\\rm \\mu\\nu} + J_{\\mu\\nu}^{\\rm DSE} - K_{\\mu\\nu}^{\\rm DSE}$. For organizational purposes, we will refer to \n",
    "the first four terms that contribute to the canonical Fock operator as $F^{\\rm C}_{\\mu\\nu}$."
   ]
  },
  {
   "cell_type": "markdown",
   "metadata": {},
   "source": [
    "## II. Implementation\n",
    "\n",
    "Using the above overview, let's write a HF-PF program using <span style=\"font-variant: small-caps\"> Psi4 </span> and NumPy.  First, we need to import these Python modules: "
   ]
  },
  {
   "cell_type": "code",
   "execution_count": 3,
   "metadata": {},
   "outputs": [],
   "source": [
    "# ==> Import Psi4 & NumPy <==\n",
    "import psi4\n",
    "import numpy as np"
   ]
  },
  {
   "cell_type": "markdown",
   "metadata": {},
   "source": [
    "We will set some basic Psi4 options in the next blook.  For more detailed information, you may wish to refer to the [Psi4Numpy Tutorials](https://github.com/psi4/psi4numpy/tree/master/Tutorials)."
   ]
  },
  {
   "cell_type": "code",
   "execution_count": 4,
   "metadata": {},
   "outputs": [
    {
     "name": "stdout",
     "output_type": "stream",
     "text": [
      "\n",
      "  Memory set to 476.837 MiB by Python driver.\n"
     ]
    }
   ],
   "source": [
    "# ==> Set Basic Psi4 Options <==\n",
    "# Memory specification\n",
    "psi4.set_memory(int(5e8))\n",
    "numpy_memory = 2\n",
    "\n",
    "# Set output file\n",
    "psi4.core.set_output_file('output.dat', False)\n",
    "\n",
    "# Define Physicist's water -- don't forget C1 symmetry!\n",
    "mol = psi4.geometry(\"\"\"\n",
    "O\n",
    "H 1 1.1\n",
    "H 1 1.1 2 104\n",
    "symmetry c1\n",
    "\"\"\")\n",
    "\n",
    "# Set computation options\n",
    "psi4.set_options({'basis': 'cc-pvdz',\n",
    "                  'scf_type': 'pk',\n",
    "                  'e_convergence': 1e-8})\n",
    "\n",
    "# run an RHF calculation with psi4 and save the wavefunction object and RHF energy\n",
    "scf_e, wfn = psi4.energy('scf', return_wfn=True)"
   ]
  },
  {
   "cell_type": "markdown",
   "metadata": {},
   "source": [
    "The HF-PF method also needs information about the fundamental coupling strength\n",
    "between the molecule and the cavity photon.  We will define the cavity coupling vector $\\vec{\\lambda}$ below."
   ]
  },
  {
   "cell_type": "code",
   "execution_count": 5,
   "metadata": {},
   "outputs": [],
   "source": [
    "# Define a lambda vector\n",
    "lambda_vector = np.array([0.0, 0.0, 0.05])"
   ]
  },
  {
   "cell_type": "markdown",
   "metadata": {},
   "source": [
    "Before we can build our Fock matrix, we'll need to compute the following static one- and two-electron quantities:\n",
    "\n",
    "- Electron repulsion integrals (ERIs) **I** between our AOs\n",
    "- Overlap matrix **S**\n",
    "- Orthogonalization matrix **A** = **S**$^{-1/2}$\n",
    "- Kinetic energy integral matrix **T**\n",
    "- Coulomb attraction integrals **V**\n",
    "- Core Hamiltonian matrix **H = T + V**\n",
    "- Dipole integrals **$\\mu$** and **$\\lambda$** vector dotted into them to form **d**\n",
    "- Quadrupole integrals **Q** and **$\\lambda$** vector dotted into them to form **q**\n",
    "- Transformation vectors **C** from canonical HF calculation used to define guess Density Matrix **D**\n"
   ]
  },
  {
   "cell_type": "code",
   "execution_count": 6,
   "metadata": {},
   "outputs": [
    {
     "name": "stdout",
     "output_type": "stream",
     "text": [
      "Number of occupied orbitals:   5\n",
      "Number of basis functions:  24\n",
      "\n",
      "Size of the ERI tensor will be 0.00 GB.\n"
     ]
    }
   ],
   "source": [
    "# create instance of the mintshelper class\n",
    "mints = psi4.core.MintsHelper(wfn.basisset())\n",
    "\n",
    "# Overlap matrix, S, and orthogonalization matrix, A\n",
    "S = mints.ao_overlap()\n",
    "A = mints.ao_overlap()\n",
    "A.power(-0.5, 1.0e-16)\n",
    "A = np.asarray(A)\n",
    "\n",
    "# Number of basis Functions & doubly occupied orbitals\n",
    "nbf = S.shape[0]\n",
    "ndocc = wfn.nalpha()\n",
    "\n",
    "print('Number of occupied orbitals: %3d' % (ndocc))\n",
    "print('Number of basis functions: %3d' % (nbf))\n",
    "\n",
    "# Memory check for ERI tensor\n",
    "I_size = (nbf**4) * 8.e-9\n",
    "print('\\nSize of the ERI tensor will be {:4.2f} GB.'.format(I_size))\n",
    "if I_size > numpy_memory:\n",
    "    psi4.core.clean()\n",
    "    raise Exception(\"Estimated memory utilization (%4.2f GB) exceeds allotted memory \\\n",
    "                     limit of %4.2f GB.\" % (I_size, numpy_memory))\n",
    "\n",
    "# Build ERI Tensor\n",
    "I = np.asarray(mints.ao_eri())\n",
    "\n",
    "# Build core Hamiltonian for canonical HF theory\n",
    "# Kinetic energy matrix\n",
    "T = np.asarray(mints.ao_kinetic())\n",
    "# e-N attraction matrix\n",
    "V = np.asarray(mints.ao_potential())\n",
    "# canonical Core Hamiltonian\n",
    "H_0 = T + V\n",
    "\n",
    "# Prepare a guess density matrix from converged HF orbitals\n",
    "C = np.asarray(wfn.Ca())\n",
    "# use canonical HF orbitals for guess of the HF-PF orbitals\n",
    "Cocc = C[:, :ndocc]\n",
    "# form guess density\n",
    "D = np.einsum(\"pi,qi->pq\", Cocc, Cocc)\n",
    "\n",
    "# Prepare mu terms\n",
    "# nuclear dipole\n",
    "mu_nuc_x = mol.nuclear_dipole()[0]\n",
    "mu_nuc_y = mol.nuclear_dipole()[1]\n",
    "mu_nuc_z = mol.nuclear_dipole()[2]\n",
    "\n",
    "# electronic dipole integrals in AO basis\n",
    "mu_ao_x = np.asarray(mints.ao_dipole()[0])\n",
    "mu_ao_y = np.asarray(mints.ao_dipole()[1])\n",
    "mu_ao_z = np.asarray(mints.ao_dipole()[2])\n",
    "\n",
    "# d_ao = \\lambda \\cdot \\mu_ao\n",
    "d_ao = lambda_vector[0] * mu_ao_x\n",
    "d_ao += lambda_vector[1] * mu_ao_y\n",
    "d_ao += lambda_vector[2] * mu_ao_z\n",
    "\n",
    "# compute electronic dipole expectation values\n",
    "mu_exp_x = np.einsum(\"pq,pq->\", 2 * mu_ao_x, D)\n",
    "mu_exp_y = np.einsum(\"pq,pq->\", 2 * mu_ao_y, D)\n",
    "mu_exp_z = np.einsum(\"pq,pq->\", 2 * mu_ao_z, D)\n",
    "\n",
    "\n",
    "# Store the total RHF dipole moment which contains electronic and nuclear contribution\n",
    "rhf_dipole_moment = np.array([mu_exp_x + mu_nuc_x, mu_exp_y + mu_nuc_y, mu_exp_z + mu_nuc_z])\n",
    "\n",
    "# store <d> = \\lambda \\cdot <\\mu>\n",
    "d_exp = lambda_vector[0] * mu_exp_x + lambda_vector[1] * mu_exp_y + lambda_vector[2] * mu_exp_z\n",
    "\n",
    "# Prepare the Quadrupole terms\n",
    "Q_ao_xx = np.asarray(mints.ao_quadrupole()[0])\n",
    "Q_ao_xy = np.asarray(mints.ao_quadrupole()[1])\n",
    "Q_ao_xz = np.asarray(mints.ao_quadrupole()[2])\n",
    "Q_ao_yy = np.asarray(mints.ao_quadrupole()[3])\n",
    "Q_ao_yz = np.asarray(mints.ao_quadrupole()[4])\n",
    "Q_ao_zz = np.asarray(mints.ao_quadrupole()[5])\n",
    "\n",
    "# 1 electron quadrupole term\n",
    "q_ao = -0.5 * lambda_vector[0] * lambda_vector[0] * Q_ao_xx\n",
    "q_ao -= 0.5 * lambda_vector[1] * lambda_vector[1] * Q_ao_yy \n",
    "q_ao -= 0.5 * lambda_vector[2] * lambda_vector[2] * Q_ao_zz\n",
    "\n",
    "q_ao -= lambda_vector[0] * lambda_vector[1] * Q_ao_xy\n",
    "q_ao -= lambda_vector[0] * lambda_vector[2] * Q_ao_xz\n",
    "q_ao -= lambda_vector[1] * lambda_vector[2] * Q_ao_yz\n",
    "\n",
    "# O^{DSE}\n",
    "O_DSE = q_ao - d_exp * d_ao \n",
    "\n",
    "\n",
    "# Constant quadratic dipole energy term\n",
    "d_c = 0.5 * d_exp ** 2\n",
    "\n",
    "# Core Hamiltonian including 1-electron DSE term\n",
    "H = H_0 + O_DSE\n"
   ]
  },
  {
   "cell_type": "markdown",
   "metadata": {},
   "source": [
    "With all of the prerequisite variable having been established, we can continue onto our HF-PF procedure. We will begin by establishing our initial HF-PF energy using\n",
    "the PF-Fock matrix and the guess density matrix obtained from the canonical HF calucation. We will also pull the convergence criteria for the energy and Density Matrix from the Psi4 options."
   ]
  },
  {
   "cell_type": "code",
   "execution_count": 7,
   "metadata": {},
   "outputs": [
    {
     "name": "stdout",
     "output_type": "stream",
     "text": [
      "\n",
      "Start SCF iterations:\n",
      "\n",
      "Canonical RHF One-electron energy = -120.9634058950158817\n",
      "CQED-RHF One-electron energy      = -120.9549118136826564\n",
      "Nuclear repulsion energy          = 8.0023664821734215\n",
      "Dipole energy                     = 0.0000917586182717\n"
     ]
    }
   ],
   "source": [
    "import time\n",
    "print(\"\\nStart SCF iterations:\\n\")\n",
    "t = time.time()\n",
    "E = 0.0\n",
    "Enuc = mol.nuclear_repulsion_energy()\n",
    "Eold = 0.0\n",
    "E_1el_crhf = np.einsum(\"pq,pq->\", H_0 + H_0, D)\n",
    "E_1el = np.einsum(\"pq,pq->\", H + H, D)\n",
    "print(\"Canonical RHF One-electron energy = %4.16f\" % E_1el_crhf)\n",
    "print(\"CQED-RHF One-electron energy      = %4.16f\" % E_1el)\n",
    "print(\"Nuclear repulsion energy          = %4.16f\" % Enuc)\n",
    "print(\"Dipole energy                     = %4.16f\" % d_c)\n",
    "\n",
    "# Set convergence criteria for energy and density\n",
    "E_conv = 1.0e-8\n",
    "D_conv = 1.0e-7"
   ]
  },
  {
   "cell_type": "markdown",
   "metadata": {},
   "source": [
    "Now that we have our initial energies calculated and our convergences set, we can begin the SCF procedure. This procedure effectively follows the typical HF procedure, however, here we are considering two additional terms to append to the Fock matrix. These terms constitute the two electron contribution, seen in equation 15. These terms take on the shape of the J and K matrices that arise in the typical HF procedure. The created Fock matrix is comprised of all four of these terms. In addition, we will add on our core Hamiltonian--which has already been adapted to consider our PF contributions--to the Fock matrix. We will use this Fock matrix as well as our initial Density matrix to calculate the self consistent field energy--in which we also consider our nuclear repulsion energy and dipole energy.\n",
    "\n",
    "With our first energy calculated, we will now diagonalize our Fock matrix to gather a new coefficient matrix. We use this to build a new density matrix. \n",
    "With the new density matrix established, we must update our electronic dipole expectation values, to which we add the nuclear dipole terms as well. Additionally, we will update the expectation value of the polarization vector-electronic dipole dot product, as well as the 1 electron dipole term.\n",
    "\n",
    "Finally, we will use these udpated terms to further augment our core Hamiltonian and our dipole energy. \n",
    "\n"
   ]
  },
  {
   "cell_type": "code",
   "execution_count": 8,
   "metadata": {},
   "outputs": [
    {
     "name": "stdout",
     "output_type": "stream",
     "text": [
      "SCF Iteration   1: Energy = -75.9842660741772846   dE = -7.59843E+01   dRMS = 1.26670E-04\n",
      "SCF Iteration   2: Energy = -75.9842727678951348   dE = -6.69372E-06   dRMS = 6.47374E-05\n",
      "SCF Iteration   3: Energy = -75.9842736898977762   dE = -9.22003E-07   dRMS = 3.36301E-05\n",
      "SCF Iteration   4: Energy = -75.9842739340413544   dE = -2.44144E-07   dRMS = 2.37326E-05\n",
      "SCF Iteration   5: Energy = -75.9842740176217291   dE = -8.35804E-08   dRMS = 1.45497E-05\n",
      "SCF Iteration   6: Energy = -75.9842740493105708   dE = -3.16888E-08   dRMS = 9.93085E-06\n",
      "SCF Iteration   7: Energy = -75.9842740619681365   dE = -1.26576E-08   dRMS = 6.34142E-06\n",
      "SCF Iteration   8: Energy = -75.9842740671847565   dE = -5.21662E-09   dRMS = 4.25736E-06\n",
      "SCF Iteration   9: Energy = -75.9842740693776051   dE = -2.19285E-09   dRMS = 2.76243E-06\n",
      "SCF Iteration  10: Energy = -75.9842740703112867   dE = -9.33682E-10   dRMS = 1.84008E-06\n",
      "SCF Iteration  11: Energy = -75.9842740707120043   dE = -4.00718E-10   dRMS = 1.20286E-06\n",
      "SCF Iteration  12: Energy = -75.9842740708850073   dE = -1.73003E-10   dRMS = 7.97910E-07\n",
      "SCF Iteration  13: Energy = -75.9842740709595859   dE = -7.45786E-11   dRMS = 5.23576E-07\n",
      "SCF Iteration  14: Energy = -75.9842740709920150   dE = -3.24292E-11   dRMS = 3.46492E-07\n",
      "SCF Iteration  15: Energy = -75.9842740710060696   dE = -1.40545E-11   dRMS = 2.27832E-07\n",
      "SCF Iteration  16: Energy = -75.9842740710121802   dE = -6.11067E-12   dRMS = 1.50566E-07\n",
      "SCF Iteration  17: Energy = -75.9842740710147808   dE = -2.60059E-12   dRMS = 9.91190E-08\n",
      "Total time for SCF iterations: 0.060 seconds \n",
      "\n",
      "QED-HF   energy: -75.98427407 hartree\n",
      "Psi4  SCF energy: -75.98979579 hartree\n"
     ]
    }
   ],
   "source": [
    "t = time.time()\n",
    "# maxiter\n",
    "maxiter = 500\n",
    "for SCF_ITER in range(1, maxiter + 1):\n",
    "\n",
    "    # Canonical 2ERI contribution to Fock matrix - Eq. (15)\n",
    "    J = np.einsum(\"pqrs,rs->pq\", I, D)\n",
    "    K = np.einsum(\"prqs,rs->pq\", I, D)\n",
    "\n",
    "    # Pauli-Fierz 2-e dipole-dipole terms - Eq. (15)\n",
    "    M = np.einsum(\"pq,rs,rs->pq\", d_ao, d_ao, D)\n",
    "    N = np.einsum(\"pr,qs,rs->pq\", d_ao, d_ao, D)\n",
    "\n",
    "    # PF-Fock Matrix\n",
    "    F = H + J * 2 - K + 2 * M - N\n",
    "\n",
    "\n",
    "    ### Check Convergence of the Density Matrix\n",
    "    diis_e = np.einsum(\"ij,jk,kl->il\", F, D, S) - np.einsum(\"ij,jk,kl->il\", S, D, F)\n",
    "    diis_e = A.dot(diis_e).dot(A)\n",
    "    dRMS = np.mean(diis_e ** 2) ** 0.5\n",
    "\n",
    "    # SCF energy and update\n",
    "    SCF_E = np.einsum(\"pq,pq->\", F + H, D) + Enuc + d_c\n",
    "\n",
    "    print(\n",
    "        \"SCF Iteration %3d: Energy = %4.16f   dE = % 1.5E   dRMS = %1.5E\"\n",
    "        % (SCF_ITER, SCF_E, (SCF_E - Eold), dRMS)\n",
    "    )\n",
    "    if (abs(SCF_E - Eold) < E_conv) and (dRMS < D_conv):\n",
    "        break\n",
    "\n",
    "    Eold = SCF_E\n",
    "\n",
    "    # Diagonalize Fock matrix\n",
    "    Fp = A.dot(F).dot(A)  \n",
    "    e, C2 = np.linalg.eigh(Fp) \n",
    "    # Back transform\n",
    "    C = A.dot(C2)  \n",
    "    Cocc = C[:, :ndocc]\n",
    "    # update density\n",
    "    D = np.einsum(\"pi,qi->pq\", Cocc, Cocc)  \n",
    "\n",
    "    # update electronic dipole expectation value\n",
    "    mu_exp_x = np.einsum(\"pq,pq->\", 2 * mu_ao_x, D)\n",
    "    mu_exp_y = np.einsum(\"pq,pq->\", 2 * mu_ao_y, D)\n",
    "    mu_exp_z = np.einsum(\"pq,pq->\", 2 * mu_ao_z, D)\n",
    "\n",
    "    # update \\lambda \\cdot <\\mu>\n",
    "    d_exp = (\n",
    "        lambda_vector[0] * mu_exp_x\n",
    "        + lambda_vector[1] * mu_exp_y\n",
    "        + lambda_vector[2] * mu_exp_z\n",
    "    )\n",
    "    \n",
    "    # update 1-electron DSE term\n",
    "    O_DSE = q_ao - d_exp * d_ao \n",
    "\n",
    "\n",
    "    # update Core Hamiltonian\n",
    "    H = H_0 + O_DSE\n",
    "\n",
    "    # update constant dipole energy\n",
    "    d_c = 0.5 * d_exp ** 2\n",
    "\n",
    "    if SCF_ITER == maxiter:\n",
    "        psi4.core.clean()\n",
    "        raise Exception(\"Maximum number of SCF cycles exceeded.\")\n",
    "print(\"Total time for SCF iterations: %.3f seconds \\n\" % (time.time() - t))\n",
    "print(\"QED-HF   energy: %.8f hartree\" % SCF_E)\n",
    "print(\"Psi4  SCF energy: %.8f hartree\" % scf_e)"
   ]
  },
  {
   "cell_type": "code",
   "execution_count": 9,
   "metadata": {},
   "outputs": [
    {
     "name": "stdout",
     "output_type": "stream",
     "text": [
      "    SCF Energy............................................................................PASSED\n"
     ]
    },
    {
     "data": {
      "text/plain": [
       "True"
      ]
     },
     "execution_count": 9,
     "metadata": {},
     "output_type": "execute_result"
    }
   ],
   "source": [
    "# Compare to psi4numpy implementation\n",
    "expected_qed_hf_energy = -75.98427407\n",
    "psi4.compare_values(expected_qed_hf_energy, SCF_E, 8, 'SCF Energy')"
   ]
  },
  {
   "cell_type": "markdown",
   "metadata": {},
   "source": [
    "### References\n",
    "\n",
    "   - [[Haugland:2020:041043](https://journals.aps.org/prx/pdf/10.1103/PhysRevX.10.041043)] T. S. Haughland, E. Ronco, E. F. Kjonstad, A. Rubio, H. Koch, *Phys. Rev. X*, **10**, 041043 (2020)\n",
    "   - [[DePrince:2021:094112]](https://aip.scitation.org/doi/10.1063/5.0038748) A. E. DePrince III, *J. Chem. Phys.* **154**, 094113 (2021).\n",
    "   - [[McTague:2022:154103]](https://aip.scitation.org/doi/10.1063/5.0091953)] J. McTague, J. J. Foley IV, *J. Chem. Phys.* **156**, 154103 (2022)"
   ]
  },
  {
   "cell_type": "code",
   "execution_count": null,
   "metadata": {},
   "outputs": [],
   "source": []
  }
 ],
 "metadata": {
  "kernelspec": {
   "display_name": "Python 3 (ipykernel)",
   "language": "python",
   "name": "python3"
  },
  "language_info": {
   "codemirror_mode": {
    "name": "ipython",
    "version": 3
   },
   "file_extension": ".py",
   "mimetype": "text/x-python",
   "name": "python",
   "nbconvert_exporter": "python",
   "pygments_lexer": "ipython3",
   "version": "3.9.13"
  },
  "latex_envs": {
   "LaTeX_envs_menu_present": true,
   "bibliofile": "biblio.bib",
   "cite_by": "apalike",
   "current_citInitial": 1,
   "eqLabelWithNumbers": true,
   "eqNumInitial": 1,
   "labels_anchors": false,
   "latex_user_defs": false,
   "report_style_numbering": false,
   "user_envs_cfg": false
  }
 },
 "nbformat": 4,
 "nbformat_minor": 1
}
