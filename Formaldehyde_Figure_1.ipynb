{
 "cells": [
  {
   "cell_type": "code",
   "execution_count": 1,
   "metadata": {},
   "outputs": [],
   "source": [
    "from __future__ import print_function\n",
    "\n",
    "\"\"\"\n",
    "A script to run cqed_rhf method on the formaldehyde molecule in a cc-pVDZ basis set.\n",
    "\"\"\"\n",
    "\n",
    "__authors__   = [\"Jon McTague\", \"Jonathan Foley\"]\n",
    "__credits__   = [\"Jon McTague\", \"Jonathan Foley\"]\n",
    "\n",
    "__copyright_amp__ = \"(c) 2014-2018, The Psi4NumPy Developers\"\n",
    "__license__   = \"BSD-3-Clause\"\n",
    "__date__      = \"2021-01-15\"\n",
    "\n",
    "# ==> Import Psi4, NumPy, & SciPy <==\n",
    "import psi4\n",
    "import numpy as np\n",
    "from helper_cqed_rhf import *\n",
    "from helper_cs_cqed_cis import *\n",
    "from matplotlib import pyplot as plt\n",
    "\n",
    "# Set Psi4 & NumPy Memory Options\n",
    "psi4.set_memory('2 GB')\n",
    "psi4.core.set_output_file('output.dat', False)\n",
    "\n",
    "numpy_memory = 2\n"
   ]
  },
  {
   "cell_type": "markdown",
   "metadata": {},
   "source": [
    "First get the orbitals with full $C_{2v}$ symmetry using canonical RHF"
   ]
  },
  {
   "cell_type": "code",
   "execution_count": 3,
   "metadata": {},
   "outputs": [
    {
     "name": "stdout",
     "output_type": "stream",
     "text": [
      "-113.87722217661772\n",
      "CubeViewer: listing cube files from the directory .\n",
      "Reading 2 cube files\n"
     ]
    },
    {
     "name": "stderr",
     "output_type": "stream",
     "text": [
      "/opt/anaconda3/lib//python3.8/site-packages/fortecubeview/py3js_renderer.py:1096: FutureWarning: marching_cubes_lewiner is deprecated in favor of marching_cubes. marching_cubes_lewiner will be removed in version 0.19\n",
      "  values = skimage.measure.marching_cubes_lewiner(data, level * 0.995)\n"
     ]
    },
    {
     "data": {
      "application/vnd.jupyter.widget-view+json": {
       "model_id": "542f2492286b42eb844e78e707995090",
       "version_major": 2,
       "version_minor": 0
      },
      "text/plain": [
       "VBox(children=(HTML(value=''), Renderer(camera=OrthographicCamera(bottom=-5.0, children=(DirectionalLight(colo…"
      ]
     },
     "metadata": {},
     "output_type": "display_data"
    },
    {
     "data": {
      "application/vnd.jupyter.widget-view+json": {
       "model_id": "b980f0eb5c374a6fb0907dd3951e2889",
       "version_major": 2,
       "version_minor": 0
      },
      "text/plain": [
       "HTML(value='\\n        <style>\\n           .jupyter-widgets-output-area .output_scroll {\\n                heigh…"
      ]
     },
     "metadata": {},
     "output_type": "display_data"
    },
    {
     "data": {
      "application/vnd.jupyter.widget-view+json": {
       "model_id": "56e46d96c7d34cd0a6f6fcec11d58b2f",
       "version_major": 2,
       "version_minor": 0
      },
      "text/plain": [
       "interactive(children=(Select(description='Cube files:', options=('MO    8a (2-B2)', 'MO   10a (6-A1)'), value=…"
      ]
     },
     "metadata": {},
     "output_type": "display_data"
    },
    {
     "data": {
      "text/plain": [
       "<fortecubeview.cube_viewer.CubeViewer at 0x7f9be0334f10>"
      ]
     },
     "execution_count": 3,
     "metadata": {},
     "output_type": "execute_result"
    }
   ],
   "source": [
    "\n",
    "# rhf/cc-pVDZ optimized geometry of formaldehyde\n",
    "molstr = \"\"\"\n",
    "\n",
    "0 1\n",
    "O 0.0000000000 0.0000000000 5.91268220e-01\n",
    "C 0.0000000000 0.0000000000 -5.90400099e-01\n",
    "H 0.0000000000 9.32184336e-01 -1.17703144e+00\n",
    "H 0.0000000000 -9.32184336e-01 -1.17703144e+00\n",
    "no_reorient\n",
    "symmetry c2v\n",
    "\"\"\"\n",
    "\n",
    "# options dict\n",
    "options_dict = {'basis': 'cc-pVDZ',\n",
    "               'save_jk': True, \n",
    "               'scf_type': 'pk',\n",
    "               'e_convergence' : 1e-10,\n",
    "               'd_convergence' : 1e-10}\n",
    "\n",
    "psi4.set_options(options_dict)\n",
    "mol = psi4.geometry(molstr)\n",
    "\n",
    "\n",
    "energy, wfn = psi4.energy(\"scf/cc-pVDZ\", molecule=mol, return_wfn=True)\n",
    "print(energy)\n",
    "\n",
    "# homo\n",
    "HOMO = 8\n",
    "# lumo+1\n",
    "LUMOp1 = 10     # These are is the HOMO and LUMO+1 for formaldehyde\n",
    "\n",
    "\n",
    "\n",
    "\n",
    "#psi4.set_options({\n",
    "#    'CUBEPROP_TASKS': ['ORBITALS', 'DENSITY'], # calculate orbitals\n",
    "#    'CUBEPROP_ORBITALS': [4, 5, 6, 7, 8, 9, 10, 11, 12, 13, 14],    # calculate HOMO and LUMO. \n",
    "#})\n",
    "psi4.set_options({\n",
    "    'CUBEPROP_TASKS': ['ORBITALS'], # calculate orbitals\n",
    "    'CUBEPROP_ORBITALS': [HOMO, LUMOp1],\n",
    "})\n",
    "cube = psi4.cubeprop(wfn)\n",
    "import fortecubeview\n",
    "fortecubeview.plot(colorscheme='emory', opacity=.95)"
   ]
  },
  {
   "cell_type": "markdown",
   "metadata": {},
   "source": [
    "Now get the orbitals when there is a photon polarized along the $y-z$ axis with coupling\n",
    "vector $\\lambda_{yz} = \\left(0, \\frac{0.2}{\\sqrt{2}}, \\frac{0.2}{\\sqrt{2}} \\right) $.\n",
    "Since our CQED-RHF code does not make use of symmetry, we will set the point group to be $C_1$, even\n",
    "though in reality it is $C_s$ with this polarization."
   ]
  },
  {
   "cell_type": "code",
   "execution_count": 4,
   "metadata": {},
   "outputs": [
    {
     "name": "stdout",
     "output_type": "stream",
     "text": [
      "\n",
      "Start SCF iterations:\n",
      "\n",
      "Canonical RHF One-electron energy = -218.2835959999194131\n",
      "CQED-RHF One-electron energy      = -217.8061796768820386\n",
      "Nuclear repulsion energy          = 31.7803657982661569\n",
      "Dipole energy                     = 0.0142623507570482\n",
      "SCF Iteration   1: Energy = -113.7228685077951269   dE = -1.13723E+02   dRMS = 2.16876E-03\n",
      "SCF Iteration   2: Energy = -113.7282528209207300   dE = -5.38431E-03   dRMS = 8.46355E-04\n",
      "SCF Iteration   3: Energy = -113.7286889666430909   dE = -4.36146E-04   dRMS = 4.27413E-04\n",
      "SCF Iteration   4: Energy = -113.7287812472690831   dE = -9.22806E-05   dRMS = 3.23115E-04\n",
      "SCF Iteration   5: Energy = -113.7288131295568689   dE = -3.18823E-05   dRMS = 2.18596E-04\n",
      "SCF Iteration   6: Energy = -113.7288271434591280   dE = -1.40139E-05   dRMS = 1.67272E-04\n",
      "SCF Iteration   7: Energy = -113.7288339957377872   dE = -6.85228E-06   dRMS = 1.18511E-04\n",
      "SCF Iteration   8: Energy = -113.7288375348278322   dE = -3.53909E-06   dRMS = 8.95995E-05\n",
      "SCF Iteration   9: Energy = -113.7288394050653864   dE = -1.87024E-06   dRMS = 6.45385E-05\n",
      "SCF Iteration  10: Energy = -113.7288404074925552   dE = -1.00243E-06   dRMS = 4.83501E-05\n",
      "SCF Iteration  11: Energy = -113.7288409474617623   dE = -5.39969E-07   dRMS = 3.51320E-05\n",
      "SCF Iteration  12: Energy = -113.7288412395450052   dE = -2.92083E-07   dRMS = 2.61596E-05\n",
      "SCF Iteration  13: Energy = -113.7288413976948220   dE = -1.58150E-07   dRMS = 1.91074E-05\n",
      "SCF Iteration  14: Energy = -113.7288414834497416   dE = -8.57549E-08   dRMS = 1.41716E-05\n",
      "SCF Iteration  15: Energy = -113.7288415299544937   dE = -4.65048E-08   dRMS = 1.03846E-05\n",
      "SCF Iteration  16: Energy = -113.7288415551880547   dE = -2.52336E-08   dRMS = 7.68285E-06\n",
      "SCF Iteration  17: Energy = -113.7288415688792895   dE = -1.36912E-08   dRMS = 5.64118E-06\n",
      "SCF Iteration  18: Energy = -113.7288415763097618   dE = -7.43047E-09   dRMS = 4.16691E-06\n",
      "SCF Iteration  19: Energy = -113.7288415803420065   dE = -4.03224E-09   dRMS = 3.06344E-06\n",
      "SCF Iteration  20: Energy = -113.7288415825305350   dE = -2.18853E-09   dRMS = 2.26060E-06\n",
      "SCF Iteration  21: Energy = -113.7288415837183493   dE = -1.18781E-09   dRMS = 1.66326E-06\n",
      "SCF Iteration  22: Energy = -113.7288415843629110   dE = -6.44562E-10   dRMS = 1.22660E-06\n",
      "SCF Iteration  23: Energy = -113.7288415847129102   dE = -3.49999E-10   dRMS = 9.02930E-07\n",
      "SCF Iteration  24: Energy = -113.7288415849028809   dE = -1.89971E-10   dRMS = 6.65627E-07\n",
      "SCF Iteration  25: Energy = -113.7288415850058954   dE = -1.03014E-10   dRMS = 4.90132E-07\n",
      "SCF Iteration  26: Energy = -113.7288415850620140   dE = -5.61187E-11   dRMS = 3.61231E-07\n",
      "SCF Iteration  27: Energy = -113.7288415850919705   dE = -2.99565E-11   dRMS = 2.66042E-07\n",
      "SCF Iteration  28: Energy = -113.7288415851086114   dE = -1.66409E-11   dRMS = 1.96046E-07\n",
      "SCF Iteration  29: Energy = -113.7288415851176353   dE = -9.02389E-12   dRMS = 1.44402E-07\n",
      "SCF Iteration  30: Energy = -113.7288415851224102   dE = -4.77485E-12   dRMS = 1.06400E-07\n",
      "SCF Iteration  31: Energy = -113.7288415851251102   dE = -2.70006E-12   dRMS = 7.83770E-08\n",
      "SCF Iteration  32: Energy = -113.7288415851266876   dE = -1.57740E-12   dRMS = 5.77471E-08\n",
      "SCF Iteration  33: Energy = -113.7288415851273129   dE = -6.25278E-13   dRMS = 4.25401E-08\n",
      "SCF Iteration  34: Energy = -113.7288415851275971   dE = -2.84217E-13   dRMS = 3.13418E-08\n",
      "SCF Iteration  35: Energy = -113.7288415851278955   dE = -2.98428E-13   dRMS = 2.30890E-08\n",
      "SCF Iteration  36: Energy = -113.7288415851282224   dE = -3.26850E-13   dRMS = 1.70107E-08\n",
      "SCF Iteration  37: Energy = -113.7288415851281798   dE =  4.26326E-14   dRMS = 1.25317E-08\n",
      "SCF Iteration  38: Energy = -113.7288415851281087   dE =  7.10543E-14   dRMS = 9.23250E-09\n",
      "SCF Iteration  39: Energy = -113.7288415851280519   dE =  5.68434E-14   dRMS = 6.80161E-09\n",
      "SCF Iteration  40: Energy = -113.7288415851282082   dE = -1.56319E-13   dRMS = 5.01093E-09\n",
      "SCF Iteration  41: Energy = -113.7288415851282082   dE =  0.00000E+00   dRMS = 3.69160E-09\n",
      "SCF Iteration  42: Energy = -113.7288415851281513   dE =  5.68434E-14   dRMS = 2.71968E-09\n",
      "SCF Iteration  43: Energy = -113.7288415851283361   dE = -1.84741E-13   dRMS = 2.00362E-09\n",
      "SCF Iteration  44: Energy = -113.7288415851281940   dE =  1.42109E-13   dRMS = 1.47611E-09\n",
      "SCF Iteration  45: Energy = -113.7288415851284498   dE = -2.55795E-13   dRMS = 1.08747E-09\n",
      "SCF Iteration  46: Energy = -113.7288415851281655   dE =  2.84217E-13   dRMS = 8.01160E-10\n",
      "SCF Iteration  47: Energy = -113.7288415851281655   dE =  0.00000E+00   dRMS = 5.90227E-10\n",
      "SCF Iteration  48: Energy = -113.7288415851282366   dE = -7.10543E-14   dRMS = 4.34831E-10\n",
      "SCF Iteration  49: Energy = -113.7288415851282934   dE = -5.68434E-14   dRMS = 3.20346E-10\n",
      "SCF Iteration  50: Energy = -113.7288415851283787   dE = -8.52651E-14   dRMS = 2.36005E-10\n",
      "SCF Iteration  51: Energy = -113.7288415851283503   dE =  2.84217E-14   dRMS = 1.73868E-10\n",
      "SCF Iteration  52: Energy = -113.7288415851282366   dE =  1.13687E-13   dRMS = 1.28091E-10\n",
      "SCF Iteration  53: Energy = -113.7288415851282366   dE =  0.00000E+00   dRMS = 9.43660E-11\n",
      "Total time for SCF iterations: 0.591 seconds \n",
      "\n",
      "QED-RHF   energy: -113.72884159 hartree\n",
      "Psi4  SCF energy: -113.87722218 hartree\n",
      "CubeViewer: listing cube files from the directory .\n",
      "Reading 4 cube files\n"
     ]
    },
    {
     "name": "stderr",
     "output_type": "stream",
     "text": [
      "/opt/anaconda3/lib//python3.8/site-packages/fortecubeview/py3js_renderer.py:1096: FutureWarning: marching_cubes_lewiner is deprecated in favor of marching_cubes. marching_cubes_lewiner will be removed in version 0.19\n",
      "  values = skimage.measure.marching_cubes_lewiner(data, level * 0.995)\n"
     ]
    },
    {
     "data": {
      "application/vnd.jupyter.widget-view+json": {
       "model_id": "27d43fe0f06f4ea4849e8db6810cd6ae",
       "version_major": 2,
       "version_minor": 0
      },
      "text/plain": [
       "VBox(children=(HTML(value=''), Renderer(camera=OrthographicCamera(bottom=-5.0, children=(DirectionalLight(colo…"
      ]
     },
     "metadata": {},
     "output_type": "display_data"
    },
    {
     "data": {
      "application/vnd.jupyter.widget-view+json": {
       "model_id": "a0738eeee356413f8e10606410b65528",
       "version_major": 2,
       "version_minor": 0
      },
      "text/plain": [
       "HTML(value='\\n        <style>\\n           .jupyter-widgets-output-area .output_scroll {\\n                heigh…"
      ]
     },
     "metadata": {},
     "output_type": "display_data"
    },
    {
     "data": {
      "application/vnd.jupyter.widget-view+json": {
       "model_id": "ac29c62828b4402d8a8015615d4857ef",
       "version_major": 2,
       "version_minor": 0
      },
      "text/plain": [
       "interactive(children=(Select(description='Cube files:', options=('MO    8a (2-B2)', 'MO    8a (8-A)', 'MO   10…"
      ]
     },
     "metadata": {},
     "output_type": "display_data"
    },
    {
     "data": {
      "text/plain": [
       "<fortecubeview.cube_viewer.CubeViewer at 0x7f9bf14f4b20>"
      ]
     },
     "execution_count": 4,
     "metadata": {},
     "output_type": "execute_result"
    }
   ],
   "source": [
    "\n",
    "# rhf/cc-pVDZ optimized geometry of formaldehyde\n",
    "molstr = \"\"\"\n",
    "\n",
    "0 1\n",
    "O 0.0000000000 0.0000000000 5.91268220e-01\n",
    "C 0.0000000000 0.0000000000 -5.90400099e-01\n",
    "H 0.0000000000 9.32184336e-01 -1.17703144e+00\n",
    "H 0.0000000000 -9.32184336e-01 -1.17703144e+00\n",
    "no_reorient\n",
    "symmetry c1\n",
    "\"\"\"\n",
    "\n",
    "# options dict\n",
    "options_dict = {'basis': 'cc-pVDZ',\n",
    "               'save_jk': True, \n",
    "               'scf_type': 'pk',\n",
    "               'e_convergence' : 1e-10,\n",
    "               'd_convergence' : 1e-10}\n",
    "\n",
    "psi4.set_options(options_dict)\n",
    "mol = psi4.geometry(molstr)\n",
    "\n",
    "\n",
    "energy, wfn = psi4.energy(\"scf/cc-pVDZ\", molecule=mol, return_wfn=True)\n",
    "\n",
    "# different magnitudes of the lambda vector\n",
    "l = 0.2\n",
    "\n",
    "\n",
    "lam_yz = np.array([0, l/np.sqrt(2), l/np.sqrt(2)])\n",
    "\n",
    "yz_dict = cqed_rhf(lam_yz, molstr, options_dict)\n",
    "\n",
    "C_yz = yz_dict['CQED-RHF C']\n",
    "\n",
    "# store wfn as dictionary\n",
    "rhf_wfn_dict = psi4.core.Wavefunction.to_file(wfn)\n",
    "\n",
    "# swap out orbitals\n",
    "rhf_wfn_dict['matrix']['Ca'] = C_yz\n",
    "rhf_wfn_dict['matrix']['Cb'] = C_yz\n",
    "\n",
    "# Now create a new wavefunction object that has the CQED-RHF orbitals 'cqedrhf_wfn'\n",
    "cqedrhf_wfn = psi4.core.Wavefunction.from_file(rhf_wfn_dict) \n",
    "# Confirm you have copied the CQED-RHF orbitals properly \n",
    "# by again getting a dic of the wavefunction and comparing\n",
    "# the orbitals to the original numpy array 'C' that resulted\n",
    "# from the CQED-RHF iterations\n",
    "cqedrhf_wfn_dict = psi4.core.Wavefunction.to_file(cqedrhf_wfn)\n",
    "\n",
    "assert np.allclose(cqedrhf_wfn_dict['matrix']['Ca'], C_yz, 1e-6)\n",
    "\n",
    "\n",
    "\n",
    "# homo\n",
    "HOMO = 8\n",
    "# lumo+1\n",
    "LUMOp1 = 10     # These are is the HOMO and LUMO+1 for formaldehyde\n",
    "\n",
    "\n",
    "psi4.set_options({\n",
    "    'CUBEPROP_TASKS': ['ORBITALS'], # calculate orbitals\n",
    "    'CUBEPROP_ORBITALS': [HOMO, LUMOp1],\n",
    "})\n",
    "cube = psi4.cubeprop(cqedrhf_wfn)\n",
    "import fortecubeview\n",
    "fortecubeview.plot(colorscheme='emory', opacity=.95)"
   ]
  }
 ],
 "metadata": {
  "kernelspec": {
   "display_name": "Python 3",
   "language": "python",
   "name": "python3"
  },
  "language_info": {
   "codemirror_mode": {
    "name": "ipython",
    "version": 3
   },
   "file_extension": ".py",
   "mimetype": "text/x-python",
   "name": "python",
   "nbconvert_exporter": "python",
   "pygments_lexer": "ipython3",
   "version": "3.8.5"
  }
 },
 "nbformat": 4,
 "nbformat_minor": 4
}
