{
 "cells": [
  {
   "cell_type": "code",
   "execution_count": 1,
   "metadata": {},
   "outputs": [
    {
     "name": "stdout",
     "output_type": "stream",
     "text": [
      "\n",
      "  Memory set to   1.863 GiB by Python driver.\n"
     ]
    }
   ],
   "source": [
    "from __future__ import print_function\n",
    "\n",
    "\"\"\"\n",
    "A script to run cqed_rhf method on the formaldehyde molecule in a cc-pVDZ basis set\n",
    "and plot the HOMO and LUMO+1 orbitals under strong and no-coupling to a photon\n",
    "polarized along the $y-z$ axis, as shown in Figure 1 of McTague and Foley.\n",
    "\"\"\"\n",
    "\n",
    "__authors__   = [\"Jon McTague\", \"Jonathan Foley\"]\n",
    "__credits__   = [\"Jon McTague\", \"Jonathan Foley\"]\n",
    "\n",
    "__copyright_amp__ = \"(c) 2014-2018, The Psi4NumPy Developers\"\n",
    "__license__   = \"BSD-3-Clause\"\n",
    "__date__      = \"2021-01-15\"\n",
    "\n",
    "# ==> Import Psi4, NumPy, & SciPy <==\n",
    "import psi4\n",
    "import numpy as np\n",
    "from helper_cqed_rhf import *\n",
    "from helper_cs_cqed_cis import *\n",
    "from matplotlib import pyplot as plt\n",
    "\n",
    "# Set Psi4 & NumPy Memory Options\n",
    "psi4.set_memory('2 GB')\n",
    "psi4.core.set_output_file('output.dat', False)\n",
    "\n",
    "numpy_memory = 2\n"
   ]
  },
  {
   "cell_type": "markdown",
   "metadata": {},
   "source": [
    "First get the orbitals with full $C_{2v}$ symmetry using canonical RHF"
   ]
  },
  {
   "cell_type": "code",
   "execution_count": 5,
   "metadata": {},
   "outputs": [
    {
     "name": "stdout",
     "output_type": "stream",
     "text": [
      "CubeViewer: listing cube files from the directory .\n",
      "Reading 5 cube files\n"
     ]
    },
    {
     "name": "stderr",
     "output_type": "stream",
     "text": [
      "/opt/conda/lib/python3.9/site-packages/fortecubeview/py3js_renderer.py:1096: FutureWarning: marching_cubes_lewiner is deprecated in favor of marching_cubes. marching_cubes_lewiner will be removed in version 0.19\n",
      "  values = skimage.measure.marching_cubes_lewiner(data, level * 0.995)\n"
     ]
    },
    {
     "data": {
      "application/vnd.jupyter.widget-view+json": {
       "model_id": "6e0c04559ad14a31b2235b904e3e9d3d",
       "version_major": 2,
       "version_minor": 0
      },
      "text/plain": [
       "VBox(children=(HTML(value=''), Renderer(camera=OrthographicCamera(bottom=-5.0, children=(DirectionalLight(colo…"
      ]
     },
     "metadata": {},
     "output_type": "display_data"
    },
    {
     "data": {
      "application/vnd.jupyter.widget-view+json": {
       "model_id": "96aba1fddc8a495cbb05782088904138",
       "version_major": 2,
       "version_minor": 0
      },
      "text/plain": [
       "HTML(value='\\n        <style>\\n           .jupyter-widgets-output-area .output_scroll {\\n                heigh…"
      ]
     },
     "metadata": {},
     "output_type": "display_data"
    },
    {
     "data": {
      "application/vnd.jupyter.widget-view+json": {
       "model_id": "a1c155bc3f464a0ea1f44242b7614925",
       "version_major": 2,
       "version_minor": 0
      },
      "text/plain": [
       "interactive(children=(Select(description='Cube files:', options=('MO    8a (2-B2)', 'MO    8a (8-A)', 'MO    9…"
      ]
     },
     "metadata": {},
     "output_type": "display_data"
    },
    {
     "data": {
      "text/plain": [
       "<fortecubeview.cube_viewer.CubeViewer at 0x7f5820926c40>"
      ]
     },
     "execution_count": 5,
     "metadata": {},
     "output_type": "execute_result"
    }
   ],
   "source": [
    "import fortecubeview\n",
    "\n",
    "# options dict\n",
    "options_dict = {'basis': 'cc-pVDZ',\n",
    "               'save_jk': True, \n",
    "               'scf_type': 'pk',\n",
    "               'e_convergence' : 1e-10,\n",
    "               'd_convergence' : 1e-10}\n",
    "\n",
    "psi4.set_options(options_dict)\n",
    "\n",
    "molstr = \"\"\"\n",
    "\n",
    "0 1\n",
    "O 0.0000000000 0.0000000000 5.91268220e-01\n",
    "C 0.0000000000 0.0000000000 -5.90400099e-01\n",
    "H 0.0000000000 9.32184336e-01 -1.17703144e+00\n",
    "H 0.0000000000 -9.32184336e-01 -1.17703144e+00\n",
    "no_reorient\n",
    "symmetry c2v\n",
    "\"\"\"\n",
    "mol = psi4.geometry(molstr)\n",
    "energy, wfn = psi4.energy(\"scf/cc-pVDZ\", molecule=mol, return_wfn=True)\n",
    "psi4.set_options({\n",
    "    'CUBEPROP_TASKS': ['ORBITALS'], \n",
    "    'CUBEPROP_ORBITALS': [8, 10],\n",
    "})\n",
    "cube = psi4.cubeprop(wfn)\n",
    "fortecubeview.plot()"
   ]
  },
  {
   "cell_type": "markdown",
   "metadata": {},
   "source": [
    "Now get the orbitals when there is a photon polarized along the $y-z$ axis with coupling\n",
    "vector $\\lambda_{yz} = \\left(0, \\frac{0.2}{\\sqrt{2}}, \\frac{0.2}{\\sqrt{2}} \\right) $.\n",
    "Since our CQED-RHF code does not make use of symmetry, we will set the point group to be $C_1$, even\n",
    "though in reality it is $C_s$ with this polarization.  To get a plot of the resulting orbitals,\n",
    "we will create a dictionary from the internal `Psi4` wavefunction object (which contains information\n",
    "about the RHF orbitals), and modify this dictionary using the orbitals from our CQED-RHF calculation.\n",
    "We will then use this modified wavefunction object to generate cube files and then plot the cube\n",
    "files using fortecubeview."
   ]
  },
  {
   "cell_type": "code",
   "execution_count": 6,
   "metadata": {},
   "outputs": [
    {
     "name": "stdout",
     "output_type": "stream",
     "text": [
      "\n",
      "Start SCF iterations:\n",
      "\n",
      "Canonical RHF One-electron energy = -218.2835959999193847\n",
      "CQED-RHF One-electron energy      = -218.1642419191604176\n",
      "Nuclear repulsion energy          = 31.7803657982661569\n",
      "Dipole energy                     = 0.0035655876892623\n",
      "SCF Iteration   1: Energy = -113.8386337594120477   dE = -1.13839E+02   dRMS = 5.42191E-04\n",
      "SCF Iteration   2: Energy = -113.8390449771818567   dE = -4.11218E-04   dRMS = 2.23355E-04\n",
      "SCF Iteration   3: Energy = -113.8390792592478959   dE = -3.42821E-05   dRMS = 1.15465E-04\n",
      "SCF Iteration   4: Energy = -113.8390851913647595   dE = -5.93212E-06   dRMS = 8.97796E-05\n",
      "SCF Iteration   5: Energy = -113.8390871942177398   dE = -2.00285E-06   dRMS = 6.55615E-05\n",
      "SCF Iteration   6: Energy = -113.8390881803574644   dE = -9.86140E-07   dRMS = 5.11581E-05\n",
      "SCF Iteration   7: Energy = -113.8390887321005494   dE = -5.51743E-07   dRMS = 3.87993E-05\n",
      "SCF Iteration   8: Energy = -113.8390890528602313   dE = -3.20760E-07   dRMS = 3.00177E-05\n",
      "SCF Iteration   9: Energy = -113.8390892411569979   dE = -1.88297E-07   dRMS = 2.29380E-05\n",
      "SCF Iteration  10: Energy = -113.8390893521266634   dE = -1.10970E-07   dRMS = 1.76823E-05\n",
      "SCF Iteration  11: Energy = -113.8390894175534243   dE = -6.54268E-08   dRMS = 1.35477E-05\n",
      "SCF Iteration  12: Energy = -113.8390894561582201   dE = -3.86048E-08   dRMS = 1.04259E-05\n",
      "SCF Iteration  13: Energy = -113.8390894789318395   dE = -2.27736E-08   dRMS = 7.99781E-06\n",
      "SCF Iteration  14: Energy = -113.8390894923705758   dE = -1.34387E-08   dRMS = 6.14960E-06\n",
      "SCF Iteration  15: Energy = -113.8390895002990817   dE = -7.92851E-09   dRMS = 4.72038E-06\n",
      "SCF Iteration  16: Energy = -113.8390895049777924   dE = -4.67871E-09   dRMS = 3.62789E-06\n",
      "SCF Iteration  17: Energy = -113.8390895077384215   dE = -2.76063E-09   dRMS = 2.78567E-06\n",
      "SCF Iteration  18: Energy = -113.8390895093670423   dE = -1.62862E-09   dRMS = 2.14043E-06\n",
      "SCF Iteration  19: Energy = -113.8390895103282219   dE = -9.61180E-10   dRMS = 1.64382E-06\n",
      "SCF Iteration  20: Energy = -113.8390895108953913   dE = -5.67169E-10   dRMS = 1.26290E-06\n",
      "SCF Iteration  21: Energy = -113.8390895112302843   dE = -3.34893E-10   dRMS = 9.69984E-07\n",
      "SCF Iteration  22: Energy = -113.8390895114278294   dE = -1.97545E-10   dRMS = 7.45157E-07\n",
      "SCF Iteration  23: Energy = -113.8390895115440600   dE = -1.16231E-10   dRMS = 5.72356E-07\n",
      "SCF Iteration  24: Energy = -113.8390895116128263   dE = -6.87663E-11   dRMS = 4.39676E-07\n",
      "SCF Iteration  25: Energy = -113.8390895116533414   dE = -4.05151E-11   dRMS = 3.37725E-07\n",
      "SCF Iteration  26: Energy = -113.8390895116773578   dE = -2.40163E-11   dRMS = 2.59430E-07\n",
      "SCF Iteration  27: Energy = -113.8390895116914550   dE = -1.40972E-11   dRMS = 1.99277E-07\n",
      "SCF Iteration  28: Energy = -113.8390895116998820   dE = -8.42704E-12   dRMS = 1.53077E-07\n",
      "SCF Iteration  29: Energy = -113.8390895117047279   dE = -4.84590E-12   dRMS = 1.17585E-07\n",
      "SCF Iteration  30: Energy = -113.8390895117075559   dE = -2.82796E-12   dRMS = 9.03235E-08\n",
      "SCF Iteration  31: Energy = -113.8390895117094459   dE = -1.89004E-12   dRMS = 6.93816E-08\n",
      "SCF Iteration  32: Energy = -113.8390895117104122   dE = -9.66338E-13   dRMS = 5.32957E-08\n",
      "SCF Iteration  33: Energy = -113.8390895117107249   dE = -3.12639E-13   dRMS = 4.09390E-08\n",
      "SCF Iteration  34: Energy = -113.8390895117113644   dE = -6.39488E-13   dRMS = 3.14473E-08\n",
      "SCF Iteration  35: Energy = -113.8390895117115065   dE = -1.42109E-13   dRMS = 2.41562E-08\n",
      "SCF Iteration  36: Energy = -113.8390895117116770   dE = -1.70530E-13   dRMS = 1.85556E-08\n",
      "SCF Iteration  37: Energy = -113.8390895117118333   dE = -1.56319E-13   dRMS = 1.42535E-08\n",
      "SCF Iteration  38: Energy = -113.8390895117117481   dE =  8.52651E-14   dRMS = 1.09488E-08\n",
      "SCF Iteration  39: Energy = -113.8390895117117338   dE =  1.42109E-14   dRMS = 8.41033E-09\n",
      "SCF Iteration  40: Energy = -113.8390895117118475   dE = -1.13687E-13   dRMS = 6.46039E-09\n",
      "SCF Iteration  41: Energy = -113.8390895117118333   dE =  1.42109E-14   dRMS = 4.96255E-09\n",
      "SCF Iteration  42: Energy = -113.8390895117118475   dE = -1.42109E-14   dRMS = 3.81198E-09\n",
      "SCF Iteration  43: Energy = -113.8390895117118049   dE =  4.26326E-14   dRMS = 2.92817E-09\n",
      "SCF Iteration  44: Energy = -113.8390895117120039   dE = -1.98952E-13   dRMS = 2.24928E-09\n",
      "SCF Iteration  45: Energy = -113.8390895117118475   dE =  1.56319E-13   dRMS = 1.72778E-09\n",
      "SCF Iteration  46: Energy = -113.8390895117117338   dE =  1.13687E-13   dRMS = 1.32720E-09\n",
      "SCF Iteration  47: Energy = -113.8390895117118191   dE = -8.52651E-14   dRMS = 1.01948E-09\n",
      "SCF Iteration  48: Energy = -113.8390895117119044   dE = -8.52651E-14   dRMS = 7.83117E-10\n",
      "SCF Iteration  49: Energy = -113.8390895117118760   dE =  2.84217E-14   dRMS = 6.01551E-10\n",
      "SCF Iteration  50: Energy = -113.8390895117117907   dE =  8.52651E-14   dRMS = 4.62081E-10\n",
      "SCF Iteration  51: Energy = -113.8390895117119328   dE = -1.42109E-13   dRMS = 3.54948E-10\n",
      "SCF Iteration  52: Energy = -113.8390895117118049   dE =  1.27898E-13   dRMS = 2.72653E-10\n",
      "SCF Iteration  53: Energy = -113.8390895117119044   dE = -9.94760E-14   dRMS = 2.09438E-10\n",
      "SCF Iteration  54: Energy = -113.8390895117119044   dE =  0.00000E+00   dRMS = 1.60880E-10\n",
      "SCF Iteration  55: Energy = -113.8390895117119328   dE = -2.84217E-14   dRMS = 1.23580E-10\n",
      "SCF Iteration  56: Energy = -113.8390895117119328   dE =  0.00000E+00   dRMS = 9.49276E-11\n",
      "Total time for SCF iterations: 10.645 seconds \n",
      "\n",
      "QED-RHF   energy: -113.83908951 hartree\n",
      "Psi4  SCF energy: -113.87722218 hartree\n",
      "CubeViewer: listing cube files from the directory .\n",
      "Reading 5 cube files\n"
     ]
    },
    {
     "name": "stderr",
     "output_type": "stream",
     "text": [
      "/opt/conda/lib/python3.9/site-packages/fortecubeview/py3js_renderer.py:1096: FutureWarning: marching_cubes_lewiner is deprecated in favor of marching_cubes. marching_cubes_lewiner will be removed in version 0.19\n",
      "  values = skimage.measure.marching_cubes_lewiner(data, level * 0.995)\n"
     ]
    },
    {
     "data": {
      "application/vnd.jupyter.widget-view+json": {
       "model_id": "b48743bac2fa43e98aaf90daa7fda426",
       "version_major": 2,
       "version_minor": 0
      },
      "text/plain": [
       "VBox(children=(HTML(value=''), Renderer(camera=OrthographicCamera(bottom=-5.0, children=(DirectionalLight(colo…"
      ]
     },
     "metadata": {},
     "output_type": "display_data"
    },
    {
     "data": {
      "application/vnd.jupyter.widget-view+json": {
       "model_id": "7a6109da286249708282959409f329b9",
       "version_major": 2,
       "version_minor": 0
      },
      "text/plain": [
       "HTML(value='\\n        <style>\\n           .jupyter-widgets-output-area .output_scroll {\\n                heigh…"
      ]
     },
     "metadata": {},
     "output_type": "display_data"
    },
    {
     "data": {
      "application/vnd.jupyter.widget-view+json": {
       "model_id": "fd3ee69449f34c7ab5c20adb01df4b49",
       "version_major": 2,
       "version_minor": 0
      },
      "text/plain": [
       "interactive(children=(Select(description='Cube files:', options=('MO    8a (2-B2)', 'MO    8a (8-A)', 'MO    9…"
      ]
     },
     "metadata": {},
     "output_type": "display_data"
    },
    {
     "data": {
      "text/plain": [
       "<fortecubeview.cube_viewer.CubeViewer at 0x7f581dc57070>"
      ]
     },
     "execution_count": 6,
     "metadata": {},
     "output_type": "execute_result"
    }
   ],
   "source": [
    "\n",
    "# rhf/cc-pVDZ optimized geometry of formaldehyde\n",
    "molstr = \"\"\"\n",
    "\n",
    "0 1\n",
    "O 0.0000000000 0.0000000000 5.91268220e-01\n",
    "C 0.0000000000 0.0000000000 -5.90400099e-01\n",
    "H 0.0000000000 9.32184336e-01 -1.17703144e+00\n",
    "H 0.0000000000 -9.32184336e-01 -1.17703144e+00\n",
    "no_reorient\n",
    "symmetry c1\n",
    "\"\"\"\n",
    "\n",
    "# options dict\n",
    "options_dict = {'basis': 'cc-pVDZ',\n",
    "               'save_jk': True, \n",
    "               'scf_type': 'pk',\n",
    "               'e_convergence' : 1e-10,\n",
    "               'd_convergence' : 1e-10}\n",
    "\n",
    "psi4.set_options(options_dict)\n",
    "mol = psi4.geometry(molstr)\n",
    "\n",
    "# this wavefunction object is generated by psi4 and contains\n",
    "# the canonical RHF orbitals\n",
    "energy, wfn = psi4.energy(\"scf/cc-pVDZ\", molecule=mol, return_wfn=True)\n",
    "\n",
    "# define the magnitude of the coupling vector\n",
    "l = 0.1\n",
    "\n",
    "lam_yz = np.array([0, l/np.sqrt(2), l/np.sqrt(2)])\n",
    "\n",
    "# run our CQED-RHF calculation and store the results in a dictionary called 'yz_dict'\n",
    "yz_dict = cqed_rhf(lam_yz, molstr, options_dict)\n",
    "\n",
    "# get the CQED-RHF orbitals from yz_dict\n",
    "C_yz = yz_dict['CQED-RHF C']\n",
    "\n",
    "# get the psi4 wavefunction as a dictionary\n",
    "rhf_wfn_dict = psi4.core.Wavefunction.to_file(wfn)\n",
    "\n",
    "# swap out orbitals in the dictionary with our orbitals from CQED-RHF\n",
    "rhf_wfn_dict['matrix']['Ca'] = C_yz\n",
    "rhf_wfn_dict['matrix']['Cb'] = C_yz\n",
    "\n",
    "# Now create a new wavefunction object that has the CQED-RHF orbitals 'cqedrhf_wfn'\n",
    "cqedrhf_wfn = psi4.core.Wavefunction.from_file(rhf_wfn_dict) \n",
    "\n",
    "# Confirm you have copied the CQED-RHF orbitals properly \n",
    "# by again getting a dic of the wavefunction and comparing\n",
    "# the orbitals to the original numpy array 'C' that resulted\n",
    "# from the CQED-RHF iterations\n",
    "cqedrhf_wfn_dict = psi4.core.Wavefunction.to_file(cqedrhf_wfn)\n",
    "\n",
    "assert np.allclose(cqedrhf_wfn_dict['matrix']['Ca'], C_yz, 1e-6)\n",
    "\n",
    "\n",
    "\n",
    "# homo\n",
    "HOMO = 8\n",
    "# lumo+1\n",
    "LUMOp1 = 10     # These are is the HOMO and LUMO+1 for formaldehyde\n",
    "\n",
    "\n",
    "psi4.set_options({\n",
    "    'CUBEPROP_TASKS': ['ORBITALS'], # calculate orbitals\n",
    "    'CUBEPROP_ORBITALS': [HOMO, LUMOp1],\n",
    "})\n",
    "\n",
    "# create cube files using our modified wavefunction object\n",
    "cube = psi4.cubeprop(cqedrhf_wfn)\n",
    "\n",
    "# plot the cube files with fortecubeview\n",
    "import fortecubeview\n",
    "fortecubeview.plot(colorscheme='emory', opacity=.95)"
   ]
  },
  {
   "cell_type": "code",
   "execution_count": null,
   "metadata": {},
   "outputs": [],
   "source": []
  }
 ],
 "metadata": {
  "kernelspec": {
   "display_name": "Python 3 (ipykernel)",
   "language": "python",
   "name": "python3"
  },
  "language_info": {
   "codemirror_mode": {
    "name": "ipython",
    "version": 3
   },
   "file_extension": ".py",
   "mimetype": "text/x-python",
   "name": "python",
   "nbconvert_exporter": "python",
   "pygments_lexer": "ipython3",
   "version": "3.9.5"
  }
 },
 "nbformat": 4,
 "nbformat_minor": 4
}
