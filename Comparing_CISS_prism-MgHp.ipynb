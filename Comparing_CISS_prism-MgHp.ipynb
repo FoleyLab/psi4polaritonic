{
 "cells": [
  {
   "cell_type": "code",
   "execution_count": 1,
   "metadata": {},
   "outputs": [
    {
     "name": "stdout",
     "output_type": "stream",
     "text": [
      "\n",
      "  Memory set to   1.863 GiB by Python driver.\n"
     ]
    }
   ],
   "source": [
    "from __future__ import print_function\n",
    "\n",
    "\"\"\"\n",
    "A script to run cqed_rhf method on the formaldehyde coupled to a photon with \n",
    "different polarizations and coupling magnitude |\\lambda| = 0.2 atomic units\n",
    "to produce data from Table I of McTague and Foley \n",
    "\"\"\"\n",
    "\n",
    "__authors__   = [\"Jon McTague\", \"Jonathan Foley\"]\n",
    "__credits__   = [\"Jon McTague\", \"Jonathan Foley\"]\n",
    "\n",
    "__copyright_amp__ = \"(c) 2014-2018, The Psi4NumPy Developers\"\n",
    "__license__   = \"BSD-3-Clause\"\n",
    "__date__      = \"2021-01-15\"\n",
    "\n",
    "# ==> Import Psi4, NumPy, & SciPy <==\n",
    "import psi4\n",
    "import numpy as np\n",
    "from helper_cqed_rhf import *\n",
    "from helper_ciss_prism import *\n",
    "from matplotlib import pyplot as plt\n",
    "\n",
    "# Set Psi4 & NumPy Memory Options\n",
    "psi4.set_memory('2 GB')\n",
    "psi4.core.set_output_file('output.dat', False)\n",
    "\n",
    "numpy_memory = 2"
   ]
  },
  {
   "cell_type": "code",
   "execution_count": 46,
   "metadata": {},
   "outputs": [
    {
     "name": "stdout",
     "output_type": "stream",
     "text": [
      "\n",
      "Start SCF iterations:\n",
      "\n",
      "Canonical RHF One-electron energy = -281.6658775836986592\n",
      "CQED-RHF One-electron energy      = -281.6658775836986592\n",
      "Nuclear repulsion energy          = 2.8864211491090908\n",
      "Dipole energy                     = 0.0000000000000000\n",
      "SCF Iteration   1: Energy = -199.8639591041884387   dE = -1.99864E+02   dRMS = 4.60245E-08\n",
      "SCF Iteration   2: Energy = -199.8639591041913377   dE = -2.89901E-12   dRMS = 1.41194E-08\n",
      "Total time for SCF iterations: 0.002 seconds \n",
      "\n",
      "QED-RHF   energy: -199.86395910 hartree\n",
      "Psi4  SCF energy: -199.86395910 hartree\n",
      "102\n"
     ]
    },
    {
     "name": "stderr",
     "output_type": "stream",
     "text": [
      "/Users/jfoley19/Code/psi4polaritonic/helper_ciss_prism.py:259: ComplexWarning: Casting complex values to real discards the imaginary part\n",
      "  H_CISS_DSE[S0_offset:R1_offset, S0_offset:R1_offset] = D_matrix\n",
      "/Users/jfoley19/Code/psi4polaritonic/helper_ciss_prism.py:274: ComplexWarning: Casting complex values to real discards the imaginary part\n",
      "  H_CISS_DSE[S1_offset:, S1_offset:] = D_matrix\n",
      "/Users/jfoley19/Code/psi4polaritonic/helper_ciss_prism.py:285: ComplexWarning: Casting complex values to real discards the imaginary part\n",
      "  H_CISS_BLC[S1_offset:,S0_offset:R1_offset] = G\n",
      "/Users/jfoley19/Code/psi4polaritonic/helper_ciss_prism.py:286: ComplexWarning: Casting complex values to real discards the imaginary part\n",
      "  H_CISS_BLC[S0_offset:R1_offset, S1_offset:] = G\n"
     ]
    }
   ],
   "source": [
    "# template for z-matrix\n",
    "molstr = \"\"\"\n",
    "Mg\n",
    "H 1 2.2\n",
    "symmetry c1\n",
    "1 1\n",
    "\"\"\"\n",
    "\n",
    "# options dict\n",
    "options_dict = {'basis': 'cc-pVDZ',\n",
    "               'save_jk': True, \n",
    "               'scf_type': 'pk'}\n",
    "\n",
    "# set psi4 options\n",
    "psi4.set_options(options_dict)\n",
    "\n",
    "om = 4.75 / 27.211\n",
    "lam = np.array([0, 0, 0.00])\n",
    "\n",
    "# cqed-rhf\n",
    "#cqed_rhf_dict = cqed_rhf(lam, molstr, options_dict)\n",
    "\n",
    "# cqed-cis\n",
    "cqed_cis_dict = cs_cqed_cis(lam, om, molstr, options_dict)\n"
   ]
  },
  {
   "cell_type": "code",
   "execution_count": 47,
   "metadata": {},
   "outputs": [
    {
     "name": "stdout",
     "output_type": "stream",
     "text": [
      "[0.17384896 0.17456176 0.23332373 0.23332373 0.32799591 0.34841072\n",
      " 0.38253047]\n",
      "[0.17384896 0.17456176 0.23332373 0.23332373 0.32799591 0.34841072\n",
      " 0.38253047]\n",
      "[0.17384896 0.17456176 0.23332373 0.23332373 0.32799591 0.38253047\n",
      " 0.43118474]\n",
      "[0.17384896 0.17456176 0.23332373 0.23332373 0.32799591 0.38253047\n",
      " 0.43118474]\n",
      "[0.17384896 0.23332373 0.23332373 0.32799591 0.38253047 0.43118474\n",
      " 0.43771816]\n"
     ]
    }
   ],
   "source": [
    "scf_e = cqed_cis_dict[\"RHF ENERGY\"]\n",
    "cqed_scf_e = cqed_cis_dict[\"CQED-RHF ENERGY\"]\n",
    "\n",
    "ciss_pf_e = cqed_cis_dict[\"CISS-PF ENERGY\"]\n",
    "ciss_jc_e = cqed_cis_dict[\"CISS-JC ENERGY\"]\n",
    "cis_pf_e = cqed_cis_dict[\"CIS-PF ENERGY\"]\n",
    "cis_jc_e = cqed_cis_dict[\"CIS-JC ENERGY\"]\n",
    "cis_dse_e = cqed_cis_dict[\"CIS-DSE ENERGY\"]\n",
    "\n",
    "\n",
    "print(ciss_pf_e[1:8])\n",
    "print(ciss_jc_e[1:8])\n",
    "print(cis_pf_e[0:7])\n",
    "print(cis_jc_e[0:7])\n",
    "print(cis_dse_e[0:7])\n"
   ]
  },
  {
   "cell_type": "code",
   "execution_count": 48,
   "metadata": {},
   "outputs": [],
   "source": [
    "lam_z = [0.0, 0.005, 0.01, 0.015, 0.02, 0.025, 0.03, 0.035, 0.04, 0.045, 0.05] # 0.06, 0.07, 0.08, 0.09, 0.1]"
   ]
  },
  {
   "cell_type": "code",
   "execution_count": 49,
   "metadata": {},
   "outputs": [
    {
     "name": "stdout",
     "output_type": "stream",
     "text": [
      "\n",
      "Start SCF iterations:\n",
      "\n",
      "Canonical RHF One-electron energy = -281.6658775836986592\n",
      "CQED-RHF One-electron energy      = -281.6658775836986592\n",
      "Nuclear repulsion energy          = 2.8864211491090908\n",
      "Dipole energy                     = 0.0000000000000000\n",
      "SCF Iteration   1: Energy = -199.8639591041884387   dE = -1.99864E+02   dRMS = 4.60245E-08\n",
      "SCF Iteration   2: Energy = -199.8639591041913377   dE = -2.89901E-12   dRMS = 1.41194E-08\n",
      "Total time for SCF iterations: 0.002 seconds \n",
      "\n",
      "QED-RHF   energy: -199.86395910 hartree\n",
      "Psi4  SCF energy: -199.86395910 hartree\n"
     ]
    },
    {
     "name": "stderr",
     "output_type": "stream",
     "text": [
      "/Users/jfoley19/Code/psi4polaritonic/helper_ciss_prism.py:259: ComplexWarning: Casting complex values to real discards the imaginary part\n",
      "  H_CISS_DSE[S0_offset:R1_offset, S0_offset:R1_offset] = D_matrix\n",
      "/Users/jfoley19/Code/psi4polaritonic/helper_ciss_prism.py:274: ComplexWarning: Casting complex values to real discards the imaginary part\n",
      "  H_CISS_DSE[S1_offset:, S1_offset:] = D_matrix\n",
      "/Users/jfoley19/Code/psi4polaritonic/helper_ciss_prism.py:285: ComplexWarning: Casting complex values to real discards the imaginary part\n",
      "  H_CISS_BLC[S1_offset:,S0_offset:R1_offset] = G\n",
      "/Users/jfoley19/Code/psi4polaritonic/helper_ciss_prism.py:286: ComplexWarning: Casting complex values to real discards the imaginary part\n",
      "  H_CISS_BLC[S0_offset:R1_offset, S1_offset:] = G\n"
     ]
    },
    {
     "name": "stdout",
     "output_type": "stream",
     "text": [
      "102\n",
      "\n",
      "Start SCF iterations:\n",
      "\n",
      "Canonical RHF One-electron energy = -281.6658775836986592\n",
      "CQED-RHF One-electron energy      = -281.6655985601554448\n",
      "Nuclear repulsion energy          = 2.8864211491090908\n",
      "Dipole energy                     = 0.0001514491653101\n",
      "SCF Iteration   1: Energy = -199.8638585083120063   dE = -1.99864E+02   dRMS = 4.05849E-06\n",
      "SCF Iteration   2: Energy = -199.8638585385493514   dE = -3.02373E-08   dRMS = 1.54054E-06\n",
      "Total time for SCF iterations: 0.003 seconds \n",
      "\n",
      "QED-RHF   energy: -199.86385854 hartree\n",
      "Psi4  SCF energy: -199.86395910 hartree\n"
     ]
    },
    {
     "name": "stderr",
     "output_type": "stream",
     "text": [
      "/Users/jfoley19/Code/psi4polaritonic/helper_ciss_prism.py:259: ComplexWarning: Casting complex values to real discards the imaginary part\n",
      "  H_CISS_DSE[S0_offset:R1_offset, S0_offset:R1_offset] = D_matrix\n",
      "/Users/jfoley19/Code/psi4polaritonic/helper_ciss_prism.py:274: ComplexWarning: Casting complex values to real discards the imaginary part\n",
      "  H_CISS_DSE[S1_offset:, S1_offset:] = D_matrix\n",
      "/Users/jfoley19/Code/psi4polaritonic/helper_ciss_prism.py:285: ComplexWarning: Casting complex values to real discards the imaginary part\n",
      "  H_CISS_BLC[S1_offset:,S0_offset:R1_offset] = G\n",
      "/Users/jfoley19/Code/psi4polaritonic/helper_ciss_prism.py:286: ComplexWarning: Casting complex values to real discards the imaginary part\n",
      "  H_CISS_BLC[S0_offset:R1_offset, S1_offset:] = G\n"
     ]
    },
    {
     "name": "stdout",
     "output_type": "stream",
     "text": [
      "102\n",
      "\n",
      "Start SCF iterations:\n",
      "\n",
      "Canonical RHF One-electron energy = -281.6658775836986592\n",
      "CQED-RHF One-electron energy      = -281.6647614895255742\n",
      "Nuclear repulsion energy          = 2.8864211491090908\n",
      "Dipole energy                     = 0.0006057966612405\n",
      "SCF Iteration   1: Energy = -199.8635567206830501   dE = -1.99864E+02   dRMS = 1.61951E-05\n",
      "SCF Iteration   2: Energy = -199.8635572007927692   dE = -4.80110E-07   dRMS = 6.12904E-06\n",
      "SCF Iteration   3: Energy = -199.8635572582209079   dE = -5.74281E-08   dRMS = 2.32199E-06\n",
      "Total time for SCF iterations: 0.004 seconds \n",
      "\n",
      "QED-RHF   energy: -199.86355726 hartree\n",
      "Psi4  SCF energy: -199.86395910 hartree\n"
     ]
    },
    {
     "name": "stderr",
     "output_type": "stream",
     "text": [
      "/Users/jfoley19/Code/psi4polaritonic/helper_ciss_prism.py:259: ComplexWarning: Casting complex values to real discards the imaginary part\n",
      "  H_CISS_DSE[S0_offset:R1_offset, S0_offset:R1_offset] = D_matrix\n",
      "/Users/jfoley19/Code/psi4polaritonic/helper_ciss_prism.py:274: ComplexWarning: Casting complex values to real discards the imaginary part\n",
      "  H_CISS_DSE[S1_offset:, S1_offset:] = D_matrix\n",
      "/Users/jfoley19/Code/psi4polaritonic/helper_ciss_prism.py:285: ComplexWarning: Casting complex values to real discards the imaginary part\n",
      "  H_CISS_BLC[S1_offset:,S0_offset:R1_offset] = G\n",
      "/Users/jfoley19/Code/psi4polaritonic/helper_ciss_prism.py:286: ComplexWarning: Casting complex values to real discards the imaginary part\n",
      "  H_CISS_BLC[S0_offset:R1_offset, S1_offset:] = G\n"
     ]
    },
    {
     "name": "stdout",
     "output_type": "stream",
     "text": [
      "102\n",
      "\n",
      "Start SCF iterations:\n",
      "\n",
      "Canonical RHF One-electron energy = -281.6658775836986592\n",
      "CQED-RHF One-electron energy      = -281.6633663718098433\n",
      "Nuclear repulsion energy          = 2.8864211491090908\n",
      "Dipole energy                     = 0.0013630424877910\n",
      "SCF Iteration   1: Energy = -199.8630537413016839   dE = -1.99863E+02   dRMS = 3.64231E-05\n",
      "SCF Iteration   2: Energy = -199.8630561634764149   dE = -2.42217E-06   dRMS = 1.37306E-05\n",
      "SCF Iteration   3: Energy = -199.8630564512561705   dE = -2.87780E-07   dRMS = 5.19278E-06\n",
      "SCF Iteration   4: Energy = -199.8630564923226132   dE = -4.10664E-08   dRMS = 1.97912E-06\n",
      "Total time for SCF iterations: 0.005 seconds \n",
      "\n",
      "QED-RHF   energy: -199.86305649 hartree\n",
      "Psi4  SCF energy: -199.86395910 hartree\n"
     ]
    },
    {
     "name": "stderr",
     "output_type": "stream",
     "text": [
      "/Users/jfoley19/Code/psi4polaritonic/helper_ciss_prism.py:259: ComplexWarning: Casting complex values to real discards the imaginary part\n",
      "  H_CISS_DSE[S0_offset:R1_offset, S0_offset:R1_offset] = D_matrix\n",
      "/Users/jfoley19/Code/psi4polaritonic/helper_ciss_prism.py:274: ComplexWarning: Casting complex values to real discards the imaginary part\n",
      "  H_CISS_DSE[S1_offset:, S1_offset:] = D_matrix\n",
      "/Users/jfoley19/Code/psi4polaritonic/helper_ciss_prism.py:285: ComplexWarning: Casting complex values to real discards the imaginary part\n",
      "  H_CISS_BLC[S1_offset:,S0_offset:R1_offset] = G\n",
      "/Users/jfoley19/Code/psi4polaritonic/helper_ciss_prism.py:286: ComplexWarning: Casting complex values to real discards the imaginary part\n",
      "  H_CISS_BLC[S0_offset:R1_offset, S1_offset:] = G\n"
     ]
    },
    {
     "name": "stdout",
     "output_type": "stream",
     "text": [
      "102\n",
      "\n",
      "Start SCF iterations:\n",
      "\n",
      "Canonical RHF One-electron energy = -281.6658775836986592\n",
      "CQED-RHF One-electron energy      = -281.6614132070072856\n",
      "Nuclear repulsion energy          = 2.8864211491090908\n",
      "Dipole energy                     = 0.0024231866449618\n",
      "SCF Iteration   1: Energy = -199.8623495701673676   dE = -1.99862E+02   dRMS = 6.47424E-05\n",
      "SCF Iteration   2: Energy = -199.8623571977700806   dE = -7.62760E-06   dRMS = 2.42764E-05\n",
      "SCF Iteration   3: Energy = -199.8623580954398733   dE = -8.97670E-07   dRMS = 9.15923E-06\n",
      "SCF Iteration   4: Energy = -199.8623582227032500   dE = -1.27263E-07   dRMS = 3.48189E-06\n",
      "SCF Iteration   5: Energy = -199.8623582411493089   dE = -1.84461E-08   dRMS = 1.32928E-06\n",
      "Total time for SCF iterations: 0.006 seconds \n",
      "\n",
      "QED-RHF   energy: -199.86235824 hartree\n",
      "Psi4  SCF energy: -199.86395910 hartree\n"
     ]
    },
    {
     "name": "stderr",
     "output_type": "stream",
     "text": [
      "/Users/jfoley19/Code/psi4polaritonic/helper_ciss_prism.py:259: ComplexWarning: Casting complex values to real discards the imaginary part\n",
      "  H_CISS_DSE[S0_offset:R1_offset, S0_offset:R1_offset] = D_matrix\n",
      "/Users/jfoley19/Code/psi4polaritonic/helper_ciss_prism.py:274: ComplexWarning: Casting complex values to real discards the imaginary part\n",
      "  H_CISS_DSE[S1_offset:, S1_offset:] = D_matrix\n",
      "/Users/jfoley19/Code/psi4polaritonic/helper_ciss_prism.py:285: ComplexWarning: Casting complex values to real discards the imaginary part\n",
      "  H_CISS_BLC[S1_offset:,S0_offset:R1_offset] = G\n",
      "/Users/jfoley19/Code/psi4polaritonic/helper_ciss_prism.py:286: ComplexWarning: Casting complex values to real discards the imaginary part\n",
      "  H_CISS_BLC[S0_offset:R1_offset, S1_offset:] = G\n"
     ]
    },
    {
     "name": "stdout",
     "output_type": "stream",
     "text": [
      "102\n",
      "\n",
      "Start SCF iterations:\n",
      "\n",
      "Canonical RHF One-electron energy = -281.6658775836986592\n",
      "CQED-RHF One-electron energy      = -281.6589019951182991\n",
      "Nuclear repulsion energy          = 2.8864211491090908\n",
      "Dipole energy                     = 0.0037862291327528\n",
      "SCF Iteration   1: Energy = -199.8614442072805559   dE = -1.99861E+02   dRMS = 1.01153E-04\n",
      "SCF Iteration   2: Energy = -199.8614627491071758   dE = -1.85418E-05   dRMS = 3.76713E-05\n",
      "SCF Iteration   3: Energy = -199.8614649046413660   dE = -2.15553E-06   dRMS = 1.41700E-05\n",
      "SCF Iteration   4: Energy = -199.8614652077039295   dE = -3.03063E-07   dRMS = 5.36939E-06\n",
      "SCF Iteration   5: Energy = -199.8614652513525130   dE = -4.36486E-08   dRMS = 2.04455E-06\n",
      "Total time for SCF iterations: 0.006 seconds \n",
      "\n",
      "QED-RHF   energy: -199.86146525 hartree\n",
      "Psi4  SCF energy: -199.86395910 hartree\n"
     ]
    },
    {
     "name": "stderr",
     "output_type": "stream",
     "text": [
      "/Users/jfoley19/Code/psi4polaritonic/helper_ciss_prism.py:259: ComplexWarning: Casting complex values to real discards the imaginary part\n",
      "  H_CISS_DSE[S0_offset:R1_offset, S0_offset:R1_offset] = D_matrix\n",
      "/Users/jfoley19/Code/psi4polaritonic/helper_ciss_prism.py:274: ComplexWarning: Casting complex values to real discards the imaginary part\n",
      "  H_CISS_DSE[S1_offset:, S1_offset:] = D_matrix\n",
      "/Users/jfoley19/Code/psi4polaritonic/helper_ciss_prism.py:285: ComplexWarning: Casting complex values to real discards the imaginary part\n",
      "  H_CISS_BLC[S1_offset:,S0_offset:R1_offset] = G\n",
      "/Users/jfoley19/Code/psi4polaritonic/helper_ciss_prism.py:286: ComplexWarning: Casting complex values to real discards the imaginary part\n",
      "  H_CISS_BLC[S0_offset:R1_offset, S1_offset:] = G\n"
     ]
    },
    {
     "name": "stdout",
     "output_type": "stream",
     "text": [
      "102\n",
      "\n",
      "Start SCF iterations:\n",
      "\n",
      "Canonical RHF One-electron energy = -281.6658775836986592\n",
      "CQED-RHF One-electron energy      = -281.6558327361430543\n",
      "Nuclear repulsion energy          = 2.8864211491090908\n",
      "Dipole energy                     = 0.0054521699511641\n",
      "SCF Iteration   1: Energy = -199.8603376526412205   dE = -1.99860E+02   dRMS = 1.45654E-04\n",
      "SCF Iteration   2: Energy = -199.8603759036424776   dE = -3.82510E-05   dRMS = 5.37944E-05\n",
      "SCF Iteration   3: Energy = -199.8603802839882064   dE = -4.38035E-06   dRMS = 2.01606E-05\n",
      "SCF Iteration   4: Energy = -199.8603808936935309   dE = -6.09705E-07   dRMS = 7.61023E-06\n",
      "SCF Iteration   5: Energy = -199.8603809808438143   dE = -8.71503E-08   dRMS = 2.88893E-06\n",
      "Total time for SCF iterations: 0.006 seconds \n",
      "\n",
      "QED-RHF   energy: -199.86038098 hartree\n",
      "Psi4  SCF energy: -199.86395910 hartree\n"
     ]
    },
    {
     "name": "stderr",
     "output_type": "stream",
     "text": [
      "/Users/jfoley19/Code/psi4polaritonic/helper_ciss_prism.py:259: ComplexWarning: Casting complex values to real discards the imaginary part\n",
      "  H_CISS_DSE[S0_offset:R1_offset, S0_offset:R1_offset] = D_matrix\n",
      "/Users/jfoley19/Code/psi4polaritonic/helper_ciss_prism.py:274: ComplexWarning: Casting complex values to real discards the imaginary part\n",
      "  H_CISS_DSE[S1_offset:, S1_offset:] = D_matrix\n",
      "/Users/jfoley19/Code/psi4polaritonic/helper_ciss_prism.py:285: ComplexWarning: Casting complex values to real discards the imaginary part\n",
      "  H_CISS_BLC[S1_offset:,S0_offset:R1_offset] = G\n",
      "/Users/jfoley19/Code/psi4polaritonic/helper_ciss_prism.py:286: ComplexWarning: Casting complex values to real discards the imaginary part\n",
      "  H_CISS_BLC[S0_offset:R1_offset, S1_offset:] = G\n"
     ]
    },
    {
     "name": "stdout",
     "output_type": "stream",
     "text": [
      "102\n",
      "\n",
      "Start SCF iterations:\n",
      "\n",
      "Canonical RHF One-electron energy = -281.6658775836986592\n",
      "CQED-RHF One-electron energy      = -281.6522054300816649\n",
      "Nuclear repulsion energy          = 2.8864211491090908\n",
      "Dipole energy                     = 0.0074210091001956\n",
      "SCF Iteration   1: Energy = -199.8590299062491056   dE = -1.99859E+02   dRMS = 1.98247E-04\n",
      "SCF Iteration   2: Energy = -199.8591003460568629   dE = -7.04398E-05   dRMS = 7.25004E-05\n",
      "SCF Iteration   3: Energy = -199.8591082696537740   dE = -7.92360E-06   dRMS = 2.70553E-05\n",
      "SCF Iteration   4: Energy = -199.8591093596747896   dE = -1.09002E-06   dRMS = 1.01683E-05\n",
      "SCF Iteration   5: Energy = -199.8591095141302958   dE = -1.54456E-07   dRMS = 3.84664E-06\n",
      "SCF Iteration   6: Energy = -199.8591095363295267   dE = -2.21992E-08   dRMS = 1.46155E-06\n",
      "Total time for SCF iterations: 0.007 seconds \n",
      "\n",
      "QED-RHF   energy: -199.85910954 hartree\n",
      "Psi4  SCF energy: -199.86395910 hartree\n"
     ]
    },
    {
     "name": "stderr",
     "output_type": "stream",
     "text": [
      "/Users/jfoley19/Code/psi4polaritonic/helper_ciss_prism.py:259: ComplexWarning: Casting complex values to real discards the imaginary part\n",
      "  H_CISS_DSE[S0_offset:R1_offset, S0_offset:R1_offset] = D_matrix\n",
      "/Users/jfoley19/Code/psi4polaritonic/helper_ciss_prism.py:274: ComplexWarning: Casting complex values to real discards the imaginary part\n",
      "  H_CISS_DSE[S1_offset:, S1_offset:] = D_matrix\n",
      "/Users/jfoley19/Code/psi4polaritonic/helper_ciss_prism.py:285: ComplexWarning: Casting complex values to real discards the imaginary part\n",
      "  H_CISS_BLC[S1_offset:,S0_offset:R1_offset] = G\n",
      "/Users/jfoley19/Code/psi4polaritonic/helper_ciss_prism.py:286: ComplexWarning: Casting complex values to real discards the imaginary part\n",
      "  H_CISS_BLC[S0_offset:R1_offset, S1_offset:] = G\n"
     ]
    },
    {
     "name": "stdout",
     "output_type": "stream",
     "text": [
      "102\n",
      "\n",
      "Start SCF iterations:\n",
      "\n",
      "Canonical RHF One-electron energy = -281.6658775836986592\n",
      "CQED-RHF One-electron energy      = -281.6480200769333351\n",
      "Nuclear repulsion energy          = 2.8864211491090908\n",
      "Dipole energy                     = 0.0096927465798473\n",
      "SCF Iteration   1: Energy = -199.8575209681043532   dE = -1.99858E+02   dRMS = 2.58931E-04\n",
      "SCF Iteration   2: Energy = -199.8576403093694296   dE = -1.19341E-04   dRMS = 9.36209E-05\n",
      "SCF Iteration   3: Energy = -199.8576534583698958   dE = -1.31490E-05   dRMS = 3.47681E-05\n",
      "SCF Iteration   4: Energy = -199.8576552432305959   dE = -1.78486E-06   dRMS = 1.30040E-05\n",
      "SCF Iteration   5: Energy = -199.8576554936960008   dE = -2.50465E-07   dRMS = 4.90077E-06\n",
      "SCF Iteration   6: Energy = -199.8576555294179400   dE = -3.57219E-08   dRMS = 1.85630E-06\n",
      "Total time for SCF iterations: 0.007 seconds \n",
      "\n",
      "QED-RHF   energy: -199.85765553 hartree\n",
      "Psi4  SCF energy: -199.86395910 hartree\n"
     ]
    },
    {
     "name": "stderr",
     "output_type": "stream",
     "text": [
      "/Users/jfoley19/Code/psi4polaritonic/helper_ciss_prism.py:259: ComplexWarning: Casting complex values to real discards the imaginary part\n",
      "  H_CISS_DSE[S0_offset:R1_offset, S0_offset:R1_offset] = D_matrix\n",
      "/Users/jfoley19/Code/psi4polaritonic/helper_ciss_prism.py:274: ComplexWarning: Casting complex values to real discards the imaginary part\n",
      "  H_CISS_DSE[S1_offset:, S1_offset:] = D_matrix\n",
      "/Users/jfoley19/Code/psi4polaritonic/helper_ciss_prism.py:285: ComplexWarning: Casting complex values to real discards the imaginary part\n",
      "  H_CISS_BLC[S1_offset:,S0_offset:R1_offset] = G\n",
      "/Users/jfoley19/Code/psi4polaritonic/helper_ciss_prism.py:286: ComplexWarning: Casting complex values to real discards the imaginary part\n",
      "  H_CISS_BLC[S0_offset:R1_offset, S1_offset:] = G\n"
     ]
    },
    {
     "name": "stdout",
     "output_type": "stream",
     "text": [
      "102\n",
      "\n",
      "Start SCF iterations:\n",
      "\n",
      "Canonical RHF One-electron energy = -281.6658775836986592\n",
      "CQED-RHF One-electron energy      = -281.6432766766988038\n",
      "Nuclear repulsion energy          = 2.8864211491090908\n",
      "Dipole energy                     = 0.0122673823901192\n",
      "SCF Iteration   1: Energy = -199.8558108382070486   dE = -1.99856E+02   dRMS = 3.27707E-04\n",
      "SCF Iteration   2: Energy = -199.8560005175272352   dE = -1.89679E-04   dRMS = 1.16967E-04\n",
      "SCF Iteration   3: Energy = -199.8560209284138978   dE = -2.04109E-05   dRMS = 4.32047E-05\n",
      "SCF Iteration   4: Energy = -199.8560236580724734   dE = -2.72966E-06   dRMS = 1.60754E-05\n",
      "SCF Iteration   5: Energy = -199.8560240370782424   dE = -3.79006E-07   dRMS = 6.03407E-06\n",
      "SCF Iteration   6: Energy = -199.8560240906927561   dE = -5.36145E-08   dRMS = 2.27843E-06\n",
      "Total time for SCF iterations: 0.007 seconds \n",
      "\n",
      "QED-RHF   energy: -199.85602409 hartree\n",
      "Psi4  SCF energy: -199.86395910 hartree\n"
     ]
    },
    {
     "name": "stderr",
     "output_type": "stream",
     "text": [
      "/Users/jfoley19/Code/psi4polaritonic/helper_ciss_prism.py:259: ComplexWarning: Casting complex values to real discards the imaginary part\n",
      "  H_CISS_DSE[S0_offset:R1_offset, S0_offset:R1_offset] = D_matrix\n",
      "/Users/jfoley19/Code/psi4polaritonic/helper_ciss_prism.py:274: ComplexWarning: Casting complex values to real discards the imaginary part\n",
      "  H_CISS_DSE[S1_offset:, S1_offset:] = D_matrix\n",
      "/Users/jfoley19/Code/psi4polaritonic/helper_ciss_prism.py:285: ComplexWarning: Casting complex values to real discards the imaginary part\n",
      "  H_CISS_BLC[S1_offset:,S0_offset:R1_offset] = G\n",
      "/Users/jfoley19/Code/psi4polaritonic/helper_ciss_prism.py:286: ComplexWarning: Casting complex values to real discards the imaginary part\n",
      "  H_CISS_BLC[S0_offset:R1_offset, S1_offset:] = G\n"
     ]
    },
    {
     "name": "stdout",
     "output_type": "stream",
     "text": [
      "102\n",
      "\n",
      "Start SCF iterations:\n",
      "\n",
      "Canonical RHF One-electron energy = -281.6658775836986592\n",
      "CQED-RHF One-electron energy      = -281.6379752293775596\n",
      "Nuclear repulsion energy          = 2.8864211491090908\n",
      "Dipole energy                     = 0.0151449165310114\n",
      "SCF Iteration   1: Energy = -199.8538995165571350   dE = -1.99854E+02   dRMS = 4.04573E-04\n",
      "SCF Iteration   2: Energy = -199.8541861216427264   dE = -2.86605E-04   dRMS = 1.42331E-04\n",
      "SCF Iteration   3: Energy = -199.8542161540092081   dE = -3.00324E-05   dRMS = 5.22648E-05\n",
      "SCF Iteration   4: Energy = -199.8542201054254406   dE = -3.95142E-06   dRMS = 1.93398E-05\n",
      "SCF Iteration   5: Energy = -199.8542206478916512   dE = -5.42466E-07   dRMS = 7.22979E-06\n",
      "SCF Iteration   6: Energy = -199.8542207239890161   dE = -7.60974E-08   dRMS = 2.72183E-06\n",
      "Total time for SCF iterations: 0.007 seconds \n",
      "\n",
      "QED-RHF   energy: -199.85422072 hartree\n",
      "Psi4  SCF energy: -199.86395910 hartree\n",
      "102\n"
     ]
    },
    {
     "name": "stderr",
     "output_type": "stream",
     "text": [
      "/Users/jfoley19/Code/psi4polaritonic/helper_ciss_prism.py:259: ComplexWarning: Casting complex values to real discards the imaginary part\n",
      "  H_CISS_DSE[S0_offset:R1_offset, S0_offset:R1_offset] = D_matrix\n",
      "/Users/jfoley19/Code/psi4polaritonic/helper_ciss_prism.py:274: ComplexWarning: Casting complex values to real discards the imaginary part\n",
      "  H_CISS_DSE[S1_offset:, S1_offset:] = D_matrix\n",
      "/Users/jfoley19/Code/psi4polaritonic/helper_ciss_prism.py:285: ComplexWarning: Casting complex values to real discards the imaginary part\n",
      "  H_CISS_BLC[S1_offset:,S0_offset:R1_offset] = G\n",
      "/Users/jfoley19/Code/psi4polaritonic/helper_ciss_prism.py:286: ComplexWarning: Casting complex values to real discards the imaginary part\n",
      "  H_CISS_BLC[S0_offset:R1_offset, S1_offset:] = G\n"
     ]
    }
   ],
   "source": [
    "\n",
    "ciss_pf = np.zeros((5,len(lam_z)))\n",
    "ciss_jc = np.zeros((5,len(lam_z)))\n",
    "cis_pf = np.zeros((5,len(lam_z)))\n",
    "cis_jc = np.zeros((5,len(lam_z)))\n",
    "\n",
    "# lambda vector\n",
    "#lam = np.array([0,0,lam_z])\n",
    "\n",
    "# loop over the different bond-lengths, create different instances\n",
    "# of MgH+ molecule and compute and store various quantities\n",
    "ctr = 0\n",
    "for l in lam_z:\n",
    "    lam = np.array([0, 0, l])\n",
    "    \n",
    "    cqed_cis_dict = cs_cqed_cis(lam, om, molstr, options_dict)\n",
    "    # get cqed_scf_e\n",
    "    cqed_scf_e = cqed_cis_dict[\"CQED-RHF ENERGY\"]\n",
    "    scf_e = cqed_cis_dict[\"RHF ENERGY\"]\n",
    "    \n",
    "    # get eigenvalues from CISS-PF\n",
    "    ciss_pf_e = cqed_cis_dict[\"CISS-PF ENERGY\"]\n",
    "    # get eigenvalues from CISS-JC\n",
    "    ciss_jc_e = cqed_cis_dict[\"CISS-JC ENERGY\"]\n",
    "    # get eigenvalues from CIS-PF\n",
    "    cis_pf_e = cqed_cis_dict[\"CIS-PF ENERGY\"]\n",
    "    # get eigenvalues from CIS-JC\n",
    "    cis_jc_e = cqed_cis_dict[\"CIS-JC ENERGY\"]\n",
    "    \n",
    "\n",
    "    \n",
    "    ciss_pf[:5,ctr] = cqed_scf_e+ciss_pf_e[:5]\n",
    "    ciss_jc[:5,ctr] = cqed_scf_e+ciss_jc_e[:5]\n",
    "    \n",
    "    cis_pf[0,ctr] = cqed_scf_e\n",
    "    cis_jc[0,ctr] = cqed_scf_e\n",
    "\n",
    "    cis_pf[1:5,ctr] = cqed_scf_e + cis_pf_e[0:4]\n",
    "    cis_jc[1:5,ctr] = cqed_scf_e + cis_jc_e[0:4]\n",
    "    ctr += 1"
   ]
  },
  {
   "cell_type": "code",
   "execution_count": 50,
   "metadata": {},
   "outputs": [
    {
     "data": {
      "image/png": "[encoded data removed]",
      "text/plain": [
       "<Figure size 640x480 with 1 Axes>"
      ]
     },
     "metadata": {},
     "output_type": "display_data"
    }
   ],
   "source": [
    "from matplotlib import pyplot as plt\n",
    "\n",
    "plt.plot(lam_z, ciss_pf[1,:], 'r-o', label='CISS-PF')\n",
    "plt.plot(lam_z, ciss_jc[1,:], 'g-o', label='CISS-JC')\n",
    "plt.plot(lam_z, cis_pf[1,:], 'b-o', label='CIS-PF')\n",
    "plt.plot(lam_z, cis_jc[1,:], 'm-o', label='CIS-JC')\n",
    "plt.plot(lam_z, ciss_pf[2,:], 'r-o')\n",
    "plt.plot(lam_z, ciss_jc[2,:], 'g-o')\n",
    "plt.plot(lam_z, cis_pf[2,:], 'b-o')\n",
    "plt.plot(lam_z, cis_jc[2,:], 'm-o')\n",
    "#plt.plot(lam_z, ciss_pf[0,:], 'r--')\n",
    "#plt.plot(lam_z, ciss_jc[0,:], 'g--')\n",
    "#plt.plot(lam_z, cis_pf[0,:], 'b--')\n",
    "#plt.plot(lam_z, cis_jc[0,:], 'm--')\n",
    "\n",
    "plt.xlabel(\"$\\lambda$ (a.u.)\")\n",
    "plt.ylabel(\"Energy (a.u.)\")\n",
    "plt.legend()\n",
    "#plt.savefig(\"Compare_Prism.png\")\n",
    "plt.show()"
   ]
  },
  {
   "cell_type": "code",
   "execution_count": 7,
   "metadata": {},
   "outputs": [
    {
     "data": {
      "image/png": "[encoded data removed]",
      "text/plain": [
       "<Figure size 640x480 with 1 Axes>"
      ]
     },
     "metadata": {},
     "output_type": "display_data"
    }
   ],
   "source": [
    "plt.plot(lam_z, ciss_pf[0,:], 'r-o', label='CISS-PF')\n",
    "plt.plot(lam_z, ciss_jc[0,:], 'g-o', label='CISS-JC')\n",
    "plt.plot(lam_z, cis_pf[0,:], 'b-o', label='CIS-PF')\n",
    "plt.plot(lam_z, cis_jc[0,:], 'm-o', label='CIS-JC')\n",
    "\n",
    "plt.xlabel(\"$\\lambda$ (a.u.)\")\n",
    "plt.ylabel(\"Energy (a.u.)\")\n",
    "plt.legend()\n",
    "#plt.savefig(\"Compare_Prism.png\")\n",
    "plt.show()"
   ]
  },
  {
   "cell_type": "code",
   "execution_count": 51,
   "metadata": {},
   "outputs": [
    {
     "name": "stdout",
     "output_type": "stream",
     "text": [
      "0.0 -199.86395910419134 -199.69011014186748 -199.6893973460788 -199.86395910419134 -199.69011014186748 -199.6893973460788 -199.86395910419134 -199.69011014186748 -199.6893973460788 -199.86395910419134 -199.69011014186748 -199.6893973460788\n",
      "0.005 -199.86389891805138 -199.69311047856658 -199.6861939611766 -199.8638989419759 -199.69326382448713 -199.68631660718944 -199.86385853854935 -199.69301224891885 -199.68610578915676 -199.86385853854935 -199.69316178571734 -199.68623200627528\n",
      "0.01 -199.86371825435393 -199.69624826906409 -199.68252059625368 -199.86371863688456 -199.69684229112707 -199.68303312341646 -199.8635572582209 -199.69589125223334 -199.68213287859592 -199.8635572582209 -199.69645365014892 -199.68267322882207\n",
      "0.015 -199.86341669740466 -199.69917459517018 -199.67873484605852 -199.86341863108146 -199.7005116421302 -199.67989723759575 -199.8630564923226 -199.69842289787258 -199.6778138199193 -199.8630564923226 -199.69965047006835 -199.679066507739\n",
      "0.02 -199.86299357873241 -199.7018527964889 -199.67486024387102 -199.8629996775727 -199.70425054428947 -199.67692984790068 -199.8623582411493 -199.70059544944235 -199.67315145869742 -199.8623582411493 -199.70272811070433 -199.67542584691955\n",
      "0.025 -199.86244825029397 -199.7042478909698 -199.67090142369818 -199.86246310747592 -199.70803695917118 -199.67413960021412 -199.8614652513525 -199.7024002045613 -199.6681318800596 -199.8614652513525 -199.70566228644992 -199.67175089539052\n",
      "0.03 -199.8617796959779 -199.7063513269445 -199.66689218158174 -199.86181042605614 -199.71187978206203 -199.671563741474 -199.86038098084381 -199.703850332033 -199.6627767706531 -199.86038098084381 -199.70845445252505 -199.66807262245982\n",
      "0.035 -199.86098620770463 -199.7081634785966 -199.66288162490326 -199.8610429548373 -199.71580273494945 -199.66925215318713 -199.85910953632953 -199.70496224066608 -199.65712944868596 -199.85910953632953 -199.71111398409926 -199.66443889572324\n",
      "0.04 -199.86006756400792 -199.70964365680553 -199.65882501093046 -199.86016408317167 -199.71976856548778 -199.66718025496652 -199.85765552941794 -199.70572269355486 -199.65113916664433 -199.85765552941794 -199.71360410875968 -199.6608175922423\n",
      "0.045 -199.8590222783646 -199.71079519598337 -199.6547505410891 -199.8591764280096 -199.72379892652447 -199.66538205039618 -199.85602409069276 -199.7061493516555 -199.6448389615093 -199.85602409069276 -199.71593265425795 -199.65724710814035\n",
      "0.05 -199.85784930837943 -199.71161198326902 -199.65065681964376 -199.85808361862138 -199.7278993035126 -199.66386543165592 -199.85422072398902 -199.70625193760384 -199.63823632041328 -199.85422072398902 -199.71809509124716 -199.6537432430359\n"
     ]
    }
   ],
   "source": [
    "for i in range(len(lam_z)):\n",
    "    print(lam_z[i], ciss_pf[0,i], ciss_pf[1,i], ciss_pf[2,i], \n",
    "          ciss_jc[0,i], ciss_jc[1,i], ciss_jc[2,i],\n",
    "          cis_pf[0,i], cis_pf[1,i], cis_pf[2,i],\n",
    "          cis_jc[0,i], cis_jc[1,i], cis_jc[2,i])"
   ]
  },
  {
   "cell_type": "code",
   "execution_count": 42,
   "metadata": {},
   "outputs": [
    {
     "name": "stdout",
     "output_type": "stream",
     "text": [
      "[1.3  1.35 1.4  1.45 1.5  1.55 1.6  1.65 1.7  1.75 1.8  1.85 1.9  1.95\n",
      " 2.   2.05 2.1  2.15 2.2  2.25 2.3  2.35 2.4  2.45 2.5  2.55 2.6  2.65\n",
      " 2.7 ]\n"
     ]
    }
   ],
   "source": [
    "r_array = np.linspace(1.3, 2.7, 29)\n",
    "print(r_array)"
   ]
  },
  {
   "cell_type": "code",
   "execution_count": 43,
   "metadata": {},
   "outputs": [
    {
     "name": "stdout",
     "output_type": "stream",
     "text": [
      " value of gamma to cross over from weak to strong coupling: 0.026589003748838325\n",
      "\n",
      "Start SCF iterations:\n",
      "\n",
      "Canonical RHF One-electron energy = -285.7424508871265516\n",
      "CQED-RHF One-electron energy      = -285.7418627122085013\n",
      "Nuclear repulsion energy          = 4.8847127138769242\n",
      "Dipole energy                     = 0.0003772529959485\n",
      "SCF Iteration   1: Energy = -199.8572467889073891   dE = -1.99857E+02   dRMS = 9.08650E-06\n",
      "SCF Iteration   2: Energy = -199.8572469005282812   dE = -1.11621E-07   dRMS = 3.29320E-06\n",
      "SCF Iteration   3: Energy = -199.8572469138268843   dE = -1.32986E-08   dRMS = 1.23691E-06\n",
      "Total time for SCF iterations: 0.004 seconds \n",
      "\n",
      "QED-RHF   energy: -199.85724691 hartree\n",
      "Psi4  SCF energy: -199.85744400 hartree\n"
     ]
    },
    {
     "name": "stderr",
     "output_type": "stream",
     "text": [
      "/Users/jfoley19/Code/psi4polaritonic/helper_ciss_prism.py:259: ComplexWarning: Casting complex values to real discards the imaginary part\n",
      "  H_CISS_DSE[S0_offset:R1_offset, S0_offset:R1_offset] = D_matrix\n",
      "/Users/jfoley19/Code/psi4polaritonic/helper_ciss_prism.py:274: ComplexWarning: Casting complex values to real discards the imaginary part\n",
      "  H_CISS_DSE[S1_offset:, S1_offset:] = D_matrix\n",
      "/Users/jfoley19/Code/psi4polaritonic/helper_ciss_prism.py:285: ComplexWarning: Casting complex values to real discards the imaginary part\n",
      "  H_CISS_BLC[S1_offset:,S0_offset:R1_offset] = G\n",
      "/Users/jfoley19/Code/psi4polaritonic/helper_ciss_prism.py:286: ComplexWarning: Casting complex values to real discards the imaginary part\n",
      "  H_CISS_BLC[S0_offset:R1_offset, S1_offset:] = G\n"
     ]
    },
    {
     "name": "stdout",
     "output_type": "stream",
     "text": [
      "102\n",
      "\n",
      "Start SCF iterations:\n",
      "\n",
      "Canonical RHF One-electron energy = -285.3993543336124503\n",
      "CQED-RHF One-electron energy      = -285.3987430805198642\n",
      "Nuclear repulsion energy          = 4.7037974281777784\n",
      "Dipole energy                     = 0.0003926319626991\n",
      "SCF Iteration   1: Energy = -199.8699877209676288   dE = -1.99870E+02   dRMS = 9.30010E-06\n",
      "SCF Iteration   2: Energy = -199.8699878406042103   dE = -1.19637E-07   dRMS = 3.37341E-06\n",
      "SCF Iteration   3: Energy = -199.8699878549503524   dE = -1.43461E-08   dRMS = 1.27264E-06\n",
      "Total time for SCF iterations: 0.004 seconds \n",
      "\n",
      "QED-RHF   energy: -199.86998785 hartree\n",
      "Psi4  SCF energy: -199.87019013 hartree\n"
     ]
    },
    {
     "name": "stderr",
     "output_type": "stream",
     "text": [
      "/Users/jfoley19/Code/psi4polaritonic/helper_ciss_prism.py:259: ComplexWarning: Casting complex values to real discards the imaginary part\n",
      "  H_CISS_DSE[S0_offset:R1_offset, S0_offset:R1_offset] = D_matrix\n",
      "/Users/jfoley19/Code/psi4polaritonic/helper_ciss_prism.py:274: ComplexWarning: Casting complex values to real discards the imaginary part\n",
      "  H_CISS_DSE[S1_offset:, S1_offset:] = D_matrix\n",
      "/Users/jfoley19/Code/psi4polaritonic/helper_ciss_prism.py:285: ComplexWarning: Casting complex values to real discards the imaginary part\n",
      "  H_CISS_BLC[S1_offset:,S0_offset:R1_offset] = G\n",
      "/Users/jfoley19/Code/psi4polaritonic/helper_ciss_prism.py:286: ComplexWarning: Casting complex values to real discards the imaginary part\n",
      "  H_CISS_BLC[S0_offset:R1_offset, S1_offset:] = G\n"
     ]
    },
    {
     "name": "stdout",
     "output_type": "stream",
     "text": [
      "102\n",
      "\n",
      "Start SCF iterations:\n",
      "\n",
      "Canonical RHF One-electron energy = -285.0750814449448853\n",
      "CQED-RHF One-electron energy      = -285.0744464388461097\n",
      "Nuclear repulsion energy          = 4.5358046628857132\n",
      "Dipole energy                     = 0.0004075885467619\n",
      "SCF Iteration   1: Energy = -199.8797421528088023   dE = -1.99880E+02   dRMS = 9.54149E-06\n",
      "SCF Iteration   2: Energy = -199.8797422816004428   dE = -1.28792E-07   dRMS = 3.46653E-06\n",
      "SCF Iteration   3: Energy = -199.8797422971406377   dE = -1.55402E-08   dRMS = 1.31369E-06\n",
      "Total time for SCF iterations: 0.004 seconds \n",
      "\n",
      "QED-RHF   energy: -199.87974230 hartree\n",
      "Psi4  SCF energy: -199.87995048 hartree\n"
     ]
    },
    {
     "name": "stderr",
     "output_type": "stream",
     "text": [
      "/Users/jfoley19/Code/psi4polaritonic/helper_ciss_prism.py:259: ComplexWarning: Casting complex values to real discards the imaginary part\n",
      "  H_CISS_DSE[S0_offset:R1_offset, S0_offset:R1_offset] = D_matrix\n",
      "/Users/jfoley19/Code/psi4polaritonic/helper_ciss_prism.py:274: ComplexWarning: Casting complex values to real discards the imaginary part\n",
      "  H_CISS_DSE[S1_offset:, S1_offset:] = D_matrix\n",
      "/Users/jfoley19/Code/psi4polaritonic/helper_ciss_prism.py:285: ComplexWarning: Casting complex values to real discards the imaginary part\n",
      "  H_CISS_BLC[S1_offset:,S0_offset:R1_offset] = G\n",
      "/Users/jfoley19/Code/psi4polaritonic/helper_ciss_prism.py:286: ComplexWarning: Casting complex values to real discards the imaginary part\n",
      "  H_CISS_BLC[S0_offset:R1_offset, S1_offset:] = G\n"
     ]
    },
    {
     "name": "stdout",
     "output_type": "stream",
     "text": [
      "102\n",
      "\n",
      "Start SCF iterations:\n",
      "\n",
      "Canonical RHF One-electron energy = -284.7689811297603342\n",
      "CQED-RHF One-electron energy      = -284.7683216535133397\n",
      "Nuclear repulsion energy          = 4.3793976055448276\n",
      "Dipole energy                     = 0.0004221825449674\n",
      "SCF Iteration   1: Energy = -199.8870023677418430   dE = -1.99887E+02   dRMS = 9.81045E-06\n",
      "SCF Iteration   2: Energy = -199.8870025069118697   dE = -1.39170E-07   dRMS = 3.57250E-06\n",
      "SCF Iteration   3: Energy = -199.8870025238015558   dE = -1.68897E-08   dRMS = 1.35991E-06\n",
      "Total time for SCF iterations: 0.004 seconds \n",
      "\n",
      "QED-RHF   energy: -199.88700252 hartree\n",
      "Psi4  SCF energy: -199.88721734 hartree\n"
     ]
    },
    {
     "name": "stderr",
     "output_type": "stream",
     "text": [
      "/Users/jfoley19/Code/psi4polaritonic/helper_ciss_prism.py:259: ComplexWarning: Casting complex values to real discards the imaginary part\n",
      "  H_CISS_DSE[S0_offset:R1_offset, S0_offset:R1_offset] = D_matrix\n",
      "/Users/jfoley19/Code/psi4polaritonic/helper_ciss_prism.py:274: ComplexWarning: Casting complex values to real discards the imaginary part\n",
      "  H_CISS_DSE[S1_offset:, S1_offset:] = D_matrix\n",
      "/Users/jfoley19/Code/psi4polaritonic/helper_ciss_prism.py:285: ComplexWarning: Casting complex values to real discards the imaginary part\n",
      "  H_CISS_BLC[S1_offset:,S0_offset:R1_offset] = G\n",
      "/Users/jfoley19/Code/psi4polaritonic/helper_ciss_prism.py:286: ComplexWarning: Casting complex values to real discards the imaginary part\n",
      "  H_CISS_BLC[S0_offset:R1_offset, S1_offset:] = G\n"
     ]
    },
    {
     "name": "stdout",
     "output_type": "stream",
     "text": [
      "102\n",
      "\n",
      "Start SCF iterations:\n",
      "\n",
      "Canonical RHF One-electron energy = -284.4800254993833164\n",
      "CQED-RHF One-electron energy      = -284.4793407985430349\n",
      "Nuclear repulsion energy          = 4.2334176853600001\n",
      "Dipole energy                     = 0.0004364688418178\n",
      "SCF Iteration   1: Energy = -199.8921738692044698   dE = -1.99892E+02   dRMS = 1.01063E-05\n",
      "SCF Iteration   2: Energy = -199.8921740200579222   dE = -1.50853E-07   dRMS = 3.69096E-06\n",
      "SCF Iteration   3: Energy = -199.8921740384599275   dE = -1.84020E-08   dRMS = 1.41102E-06\n",
      "Total time for SCF iterations: 0.004 seconds \n",
      "\n",
      "QED-RHF   energy: -199.89217404 hartree\n",
      "Psi4  SCF energy: -199.89239621 hartree\n"
     ]
    },
    {
     "name": "stderr",
     "output_type": "stream",
     "text": [
      "/Users/jfoley19/Code/psi4polaritonic/helper_ciss_prism.py:259: ComplexWarning: Casting complex values to real discards the imaginary part\n",
      "  H_CISS_DSE[S0_offset:R1_offset, S0_offset:R1_offset] = D_matrix\n",
      "/Users/jfoley19/Code/psi4polaritonic/helper_ciss_prism.py:274: ComplexWarning: Casting complex values to real discards the imaginary part\n",
      "  H_CISS_DSE[S1_offset:, S1_offset:] = D_matrix\n",
      "/Users/jfoley19/Code/psi4polaritonic/helper_ciss_prism.py:285: ComplexWarning: Casting complex values to real discards the imaginary part\n",
      "  H_CISS_BLC[S1_offset:,S0_offset:R1_offset] = G\n",
      "/Users/jfoley19/Code/psi4polaritonic/helper_ciss_prism.py:286: ComplexWarning: Casting complex values to real discards the imaginary part\n",
      "  H_CISS_BLC[S0_offset:R1_offset, S1_offset:] = G\n"
     ]
    },
    {
     "name": "stdout",
     "output_type": "stream",
     "text": [
      "102\n",
      "\n",
      "Start SCF iterations:\n",
      "\n",
      "Canonical RHF One-electron energy = -284.2070000184424430\n",
      "CQED-RHF One-electron energy      = -284.2062893113985638\n",
      "Nuclear repulsion energy          = 4.0968558245419358\n",
      "Dipole energy                     = 0.0004504902836360\n",
      "SCF Iteration   1: Energy = -199.8955911232295648   dE = -1.99896E+02   dRMS = 1.04280E-05\n",
      "SCF Iteration   2: Energy = -199.8955912871480223   dE = -1.63918E-07   dRMS = 3.82124E-06\n",
      "SCF Iteration   3: Energy = -199.8955913072331327   dE = -2.00851E-08   dRMS = 1.46657E-06\n",
      "Total time for SCF iterations: 0.004 seconds \n",
      "\n",
      "QED-RHF   energy: -199.89559131 hartree\n",
      "Psi4  SCF energy: -199.89582155 hartree\n"
     ]
    },
    {
     "name": "stderr",
     "output_type": "stream",
     "text": [
      "/Users/jfoley19/Code/psi4polaritonic/helper_ciss_prism.py:259: ComplexWarning: Casting complex values to real discards the imaginary part\n",
      "  H_CISS_DSE[S0_offset:R1_offset, S0_offset:R1_offset] = D_matrix\n",
      "/Users/jfoley19/Code/psi4polaritonic/helper_ciss_prism.py:274: ComplexWarning: Casting complex values to real discards the imaginary part\n",
      "  H_CISS_DSE[S1_offset:, S1_offset:] = D_matrix\n",
      "/Users/jfoley19/Code/psi4polaritonic/helper_ciss_prism.py:285: ComplexWarning: Casting complex values to real discards the imaginary part\n",
      "  H_CISS_BLC[S1_offset:,S0_offset:R1_offset] = G\n",
      "/Users/jfoley19/Code/psi4polaritonic/helper_ciss_prism.py:286: ComplexWarning: Casting complex values to real discards the imaginary part\n",
      "  H_CISS_BLC[S0_offset:R1_offset, S1_offset:] = G\n"
     ]
    },
    {
     "name": "stdout",
     "output_type": "stream",
     "text": [
      "102\n",
      "\n",
      "Start SCF iterations:\n",
      "\n",
      "Canonical RHF One-electron energy = -283.9486473583834254\n",
      "CQED-RHF One-electron energy      = -283.9479098482628956\n",
      "Nuclear repulsion energy          = 3.9688290800249999\n",
      "Dipole energy                     = 0.0004642742181236\n",
      "SCF Iteration   1: Energy = -199.8975313929963420   dE = -1.99898E+02   dRMS = 1.07740E-05\n",
      "SCF Iteration   2: Energy = -199.8975315714369003   dE = -1.78441E-07   dRMS = 3.96240E-06\n",
      "SCF Iteration   3: Energy = -199.8975315933799379   dE = -2.19430E-08   dRMS = 1.52603E-06\n",
      "Total time for SCF iterations: 0.004 seconds \n",
      "\n",
      "QED-RHF   energy: -199.89753159 hartree\n",
      "Psi4  SCF energy: -199.89777063 hartree\n"
     ]
    },
    {
     "name": "stderr",
     "output_type": "stream",
     "text": [
      "/Users/jfoley19/Code/psi4polaritonic/helper_ciss_prism.py:259: ComplexWarning: Casting complex values to real discards the imaginary part\n",
      "  H_CISS_DSE[S0_offset:R1_offset, S0_offset:R1_offset] = D_matrix\n",
      "/Users/jfoley19/Code/psi4polaritonic/helper_ciss_prism.py:274: ComplexWarning: Casting complex values to real discards the imaginary part\n",
      "  H_CISS_DSE[S1_offset:, S1_offset:] = D_matrix\n",
      "/Users/jfoley19/Code/psi4polaritonic/helper_ciss_prism.py:285: ComplexWarning: Casting complex values to real discards the imaginary part\n",
      "  H_CISS_BLC[S1_offset:,S0_offset:R1_offset] = G\n",
      "/Users/jfoley19/Code/psi4polaritonic/helper_ciss_prism.py:286: ComplexWarning: Casting complex values to real discards the imaginary part\n",
      "  H_CISS_BLC[S0_offset:R1_offset, S1_offset:] = G\n"
     ]
    },
    {
     "name": "stdout",
     "output_type": "stream",
     "text": [
      "102\n",
      "\n",
      "Start SCF iterations:\n",
      "\n",
      "Canonical RHF One-electron energy = -283.7037626236851793\n",
      "CQED-RHF One-electron energy      = -283.7029975098668046\n",
      "Nuclear repulsion energy          = 3.8485615321454540\n",
      "Dipole energy                     = 0.0004778319657781\n",
      "SCF Iteration   1: Energy = -199.8982261934263533   dE = -1.99898E+02   dRMS = 1.11428E-05\n",
      "SCF Iteration   2: Energy = -199.8982263879113077   dE = -1.94485E-07   dRMS = 4.11333E-06\n",
      "SCF Iteration   3: Energy = -199.8982264118910734   dE = -2.39798E-08   dRMS = 1.58876E-06\n",
      "Total time for SCF iterations: 0.004 seconds \n",
      "\n",
      "QED-RHF   energy: -199.89822641 hartree\n",
      "Psi4  SCF energy: -199.89847496 hartree\n"
     ]
    },
    {
     "name": "stderr",
     "output_type": "stream",
     "text": [
      "/Users/jfoley19/Code/psi4polaritonic/helper_ciss_prism.py:259: ComplexWarning: Casting complex values to real discards the imaginary part\n",
      "  H_CISS_DSE[S0_offset:R1_offset, S0_offset:R1_offset] = D_matrix\n",
      "/Users/jfoley19/Code/psi4polaritonic/helper_ciss_prism.py:274: ComplexWarning: Casting complex values to real discards the imaginary part\n",
      "  H_CISS_DSE[S1_offset:, S1_offset:] = D_matrix\n",
      "/Users/jfoley19/Code/psi4polaritonic/helper_ciss_prism.py:285: ComplexWarning: Casting complex values to real discards the imaginary part\n",
      "  H_CISS_BLC[S1_offset:,S0_offset:R1_offset] = G\n",
      "/Users/jfoley19/Code/psi4polaritonic/helper_ciss_prism.py:286: ComplexWarning: Casting complex values to real discards the imaginary part\n",
      "  H_CISS_BLC[S0_offset:R1_offset, S1_offset:] = G\n"
     ]
    },
    {
     "name": "stdout",
     "output_type": "stream",
     "text": [
      "102\n",
      "\n",
      "Start SCF iterations:\n",
      "\n",
      "Canonical RHF One-electron energy = -283.4712468174024025\n",
      "CQED-RHF One-electron energy      = -283.4704533054995181\n",
      "Nuclear repulsion energy          = 3.7353685459058821\n",
      "Dipole energy                     = 0.0004911602434854\n",
      "SCF Iteration   1: Energy = -199.8978703921913507   dE = -1.99898E+02   dRMS = 1.15326E-05\n",
      "SCF Iteration   2: Energy = -199.8978706043042450   dE = -2.12113E-07   dRMS = 4.27283E-06\n",
      "SCF Iteration   3: Energy = -199.8978706305007336   dE = -2.61965E-08   dRMS = 1.65410E-06\n",
      "Total time for SCF iterations: 0.004 seconds \n",
      "\n",
      "QED-RHF   energy: -199.89787063 hartree\n",
      "Psi4  SCF energy: -199.89812942 hartree\n"
     ]
    },
    {
     "name": "stderr",
     "output_type": "stream",
     "text": [
      "/Users/jfoley19/Code/psi4polaritonic/helper_ciss_prism.py:259: ComplexWarning: Casting complex values to real discards the imaginary part\n",
      "  H_CISS_DSE[S0_offset:R1_offset, S0_offset:R1_offset] = D_matrix\n",
      "/Users/jfoley19/Code/psi4polaritonic/helper_ciss_prism.py:274: ComplexWarning: Casting complex values to real discards the imaginary part\n",
      "  H_CISS_DSE[S1_offset:, S1_offset:] = D_matrix\n",
      "/Users/jfoley19/Code/psi4polaritonic/helper_ciss_prism.py:285: ComplexWarning: Casting complex values to real discards the imaginary part\n",
      "  H_CISS_BLC[S1_offset:,S0_offset:R1_offset] = G\n",
      "/Users/jfoley19/Code/psi4polaritonic/helper_ciss_prism.py:286: ComplexWarning: Casting complex values to real discards the imaginary part\n",
      "  H_CISS_BLC[S0_offset:R1_offset, S1_offset:] = G\n"
     ]
    },
    {
     "name": "stdout",
     "output_type": "stream",
     "text": [
      "102\n",
      "\n",
      "Start SCF iterations:\n",
      "\n",
      "Canonical RHF One-electron energy = -283.2501290604232622\n",
      "CQED-RHF One-electron energy      = -283.2493063703335565\n",
      "Nuclear repulsion energy          = 3.6286437303085721\n",
      "Dipole energy                     = 0.0005042436565155\n",
      "SCF Iteration   1: Energy = -199.8966292687463238   dE = -1.99897E+02   dRMS = 1.19416E-05\n",
      "SCF Iteration   2: Energy = -199.8966295001210369   dE = -2.31375E-07   dRMS = 4.43969E-06\n",
      "SCF Iteration   3: Energy = -199.8966295287135608   dE = -2.85925E-08   dRMS = 1.72137E-06\n",
      "Total time for SCF iterations: 0.004 seconds \n",
      "\n",
      "QED-RHF   energy: -199.89662953 hartree\n",
      "Psi4  SCF energy: -199.89689929 hartree\n"
     ]
    },
    {
     "name": "stderr",
     "output_type": "stream",
     "text": [
      "/Users/jfoley19/Code/psi4polaritonic/helper_ciss_prism.py:259: ComplexWarning: Casting complex values to real discards the imaginary part\n",
      "  H_CISS_DSE[S0_offset:R1_offset, S0_offset:R1_offset] = D_matrix\n",
      "/Users/jfoley19/Code/psi4polaritonic/helper_ciss_prism.py:274: ComplexWarning: Casting complex values to real discards the imaginary part\n",
      "  H_CISS_DSE[S1_offset:, S1_offset:] = D_matrix\n",
      "/Users/jfoley19/Code/psi4polaritonic/helper_ciss_prism.py:285: ComplexWarning: Casting complex values to real discards the imaginary part\n",
      "  H_CISS_BLC[S1_offset:,S0_offset:R1_offset] = G\n",
      "/Users/jfoley19/Code/psi4polaritonic/helper_ciss_prism.py:286: ComplexWarning: Casting complex values to real discards the imaginary part\n",
      "  H_CISS_BLC[S0_offset:R1_offset, S1_offset:] = G\n"
     ]
    },
    {
     "name": "stdout",
     "output_type": "stream",
     "text": [
      "102\n",
      "\n",
      "Start SCF iterations:\n",
      "\n",
      "Canonical RHF One-electron energy = -283.0395680667011789\n",
      "CQED-RHF One-electron energy      = -283.0387154387150304\n",
      "Nuclear repulsion energy          = 3.5278480711333331\n",
      "Dipole energy                     = 0.0005170575942439\n",
      "SCF Iteration   1: Energy = -199.8946439410395612   dE = -1.99895E+02   dRMS = 1.23679E-05\n",
      "SCF Iteration   2: Energy = -199.8946441933501603   dE = -2.52311E-07   dRMS = 4.61282E-06\n",
      "SCF Iteration   3: Energy = -199.8946442245160995   dE = -3.11659E-08   dRMS = 1.78992E-06\n",
      "Total time for SCF iterations: 0.004 seconds \n",
      "\n",
      "QED-RHF   energy: -199.89464422 hartree\n",
      "Psi4  SCF energy: -199.89492569 hartree\n"
     ]
    },
    {
     "name": "stderr",
     "output_type": "stream",
     "text": [
      "/Users/jfoley19/Code/psi4polaritonic/helper_ciss_prism.py:259: ComplexWarning: Casting complex values to real discards the imaginary part\n",
      "  H_CISS_DSE[S0_offset:R1_offset, S0_offset:R1_offset] = D_matrix\n",
      "/Users/jfoley19/Code/psi4polaritonic/helper_ciss_prism.py:274: ComplexWarning: Casting complex values to real discards the imaginary part\n",
      "  H_CISS_DSE[S1_offset:, S1_offset:] = D_matrix\n",
      "/Users/jfoley19/Code/psi4polaritonic/helper_ciss_prism.py:285: ComplexWarning: Casting complex values to real discards the imaginary part\n",
      "  H_CISS_BLC[S1_offset:,S0_offset:R1_offset] = G\n",
      "/Users/jfoley19/Code/psi4polaritonic/helper_ciss_prism.py:286: ComplexWarning: Casting complex values to real discards the imaginary part\n",
      "  H_CISS_BLC[S0_offset:R1_offset, S1_offset:] = G\n"
     ]
    },
    {
     "name": "stdout",
     "output_type": "stream",
     "text": [
      "102\n",
      "\n",
      "Start SCF iterations:\n",
      "\n",
      "Canonical RHF One-electron energy = -282.8388415663199567\n",
      "CQED-RHF One-electron energy      = -282.8379582655388731\n",
      "Nuclear repulsion energy          = 3.4325008259675673\n",
      "Dipole energy                     = 0.0005295710872748\n",
      "SCF Iteration   1: Energy = -199.8920355509391129   dE = -1.99892E+02   dRMS = 1.28099E-05\n",
      "SCF Iteration   2: Energy = -199.8920358258867225   dE = -2.74948E-07   dRMS = 4.79120E-06\n",
      "SCF Iteration   3: Energy = -199.8920358597987956   dE = -3.39121E-08   dRMS = 1.85915E-06\n",
      "Total time for SCF iterations: 0.004 seconds \n",
      "\n",
      "QED-RHF   energy: -199.89203586 hartree\n",
      "Psi4  SCF energy: -199.89232977 hartree\n"
     ]
    },
    {
     "name": "stderr",
     "output_type": "stream",
     "text": [
      "/Users/jfoley19/Code/psi4polaritonic/helper_ciss_prism.py:259: ComplexWarning: Casting complex values to real discards the imaginary part\n",
      "  H_CISS_DSE[S0_offset:R1_offset, S0_offset:R1_offset] = D_matrix\n",
      "/Users/jfoley19/Code/psi4polaritonic/helper_ciss_prism.py:274: ComplexWarning: Casting complex values to real discards the imaginary part\n",
      "  H_CISS_DSE[S1_offset:, S1_offset:] = D_matrix\n",
      "/Users/jfoley19/Code/psi4polaritonic/helper_ciss_prism.py:285: ComplexWarning: Casting complex values to real discards the imaginary part\n",
      "  H_CISS_BLC[S1_offset:,S0_offset:R1_offset] = G\n",
      "/Users/jfoley19/Code/psi4polaritonic/helper_ciss_prism.py:286: ComplexWarning: Casting complex values to real discards the imaginary part\n",
      "  H_CISS_BLC[S0_offset:R1_offset, S1_offset:] = G\n"
     ]
    },
    {
     "name": "stdout",
     "output_type": "stream",
     "text": [
      "102\n",
      "\n",
      "Start SCF iterations:\n",
      "\n",
      "Canonical RHF One-electron energy = -282.6473300384986942\n",
      "CQED-RHF One-electron energy      = -282.6464153578467062\n",
      "Nuclear repulsion energy          = 3.3421718568631578\n",
      "Dipole energy                     = 0.0005417493645983\n",
      "SCF Iteration   1: Energy = -199.8889085293932339   dE = -1.99889E+02   dRMS = 1.32657E-05\n",
      "SCF Iteration   2: Energy = -199.8889088286965148   dE = -2.99303E-07   dRMS = 4.97397E-06\n",
      "SCF Iteration   3: Energy = -199.8889088655226089   dE = -3.68261E-08   dRMS = 1.92850E-06\n",
      "Total time for SCF iterations: 0.004 seconds \n",
      "\n",
      "QED-RHF   energy: -199.88890887 hartree\n",
      "Psi4  SCF energy: -199.88921596 hartree\n"
     ]
    },
    {
     "name": "stderr",
     "output_type": "stream",
     "text": [
      "/Users/jfoley19/Code/psi4polaritonic/helper_ciss_prism.py:259: ComplexWarning: Casting complex values to real discards the imaginary part\n",
      "  H_CISS_DSE[S0_offset:R1_offset, S0_offset:R1_offset] = D_matrix\n",
      "/Users/jfoley19/Code/psi4polaritonic/helper_ciss_prism.py:274: ComplexWarning: Casting complex values to real discards the imaginary part\n",
      "  H_CISS_DSE[S1_offset:, S1_offset:] = D_matrix\n",
      "/Users/jfoley19/Code/psi4polaritonic/helper_ciss_prism.py:285: ComplexWarning: Casting complex values to real discards the imaginary part\n",
      "  H_CISS_BLC[S1_offset:,S0_offset:R1_offset] = G\n",
      "/Users/jfoley19/Code/psi4polaritonic/helper_ciss_prism.py:286: ComplexWarning: Casting complex values to real discards the imaginary part\n",
      "  H_CISS_BLC[S0_offset:R1_offset, S1_offset:] = G\n"
     ]
    },
    {
     "name": "stdout",
     "output_type": "stream",
     "text": [
      "102\n",
      "\n",
      "Start SCF iterations:\n",
      "\n",
      "Canonical RHF One-electron energy = -282.4644989546301304\n",
      "CQED-RHF One-electron energy      = -282.4635522167747581\n",
      "Nuclear repulsion energy          = 3.2564751425846152\n",
      "Dipole energy                     = 0.0005535559826324\n",
      "SCF Iteration   1: Energy = -199.8853531829878136   dE = -1.99885E+02   dRMS = 1.37337E-05\n",
      "SCF Iteration   2: Energy = -199.8853535083608506   dE = -3.25373E-07   dRMS = 5.16039E-06\n",
      "SCF Iteration   3: Energy = -199.8853535482620032   dE = -3.99012E-08   dRMS = 1.99745E-06\n",
      "Total time for SCF iterations: 0.004 seconds \n",
      "\n",
      "QED-RHF   energy: -199.88535355 hartree\n",
      "Psi4  SCF energy: -199.88567457 hartree\n"
     ]
    },
    {
     "name": "stderr",
     "output_type": "stream",
     "text": [
      "/Users/jfoley19/Code/psi4polaritonic/helper_ciss_prism.py:259: ComplexWarning: Casting complex values to real discards the imaginary part\n",
      "  H_CISS_DSE[S0_offset:R1_offset, S0_offset:R1_offset] = D_matrix\n",
      "/Users/jfoley19/Code/psi4polaritonic/helper_ciss_prism.py:274: ComplexWarning: Casting complex values to real discards the imaginary part\n",
      "  H_CISS_DSE[S1_offset:, S1_offset:] = D_matrix\n",
      "/Users/jfoley19/Code/psi4polaritonic/helper_ciss_prism.py:285: ComplexWarning: Casting complex values to real discards the imaginary part\n",
      "  H_CISS_BLC[S1_offset:,S0_offset:R1_offset] = G\n",
      "/Users/jfoley19/Code/psi4polaritonic/helper_ciss_prism.py:286: ComplexWarning: Casting complex values to real discards the imaginary part\n",
      "  H_CISS_BLC[S0_offset:R1_offset, S1_offset:] = G\n"
     ]
    },
    {
     "name": "stdout",
     "output_type": "stream",
     "text": [
      "102\n",
      "\n",
      "Start SCF iterations:\n",
      "\n",
      "Canonical RHF One-electron energy = -282.2898820113255738\n",
      "CQED-RHF One-electron energy      = -282.2889025697793954\n",
      "Nuclear repulsion energy          = 3.1750632640200003\n",
      "Dipole energy                     = 0.0005649544902489\n",
      "SCF Iteration   1: Energy = -199.8814477754642382   dE = -1.99881E+02   dRMS = 1.42120E-05\n",
      "SCF Iteration   2: Energy = -199.8814481286042337   dE = -3.53140E-07   dRMS = 5.34985E-06\n",
      "SCF Iteration   3: Energy = -199.8814481717341778   dE = -4.31299E-08   dRMS = 2.06555E-06\n",
      "Total time for SCF iterations: 0.004 seconds \n",
      "\n",
      "QED-RHF   energy: -199.88144817 hartree\n",
      "Psi4  SCF energy: -199.88178387 hartree\n"
     ]
    },
    {
     "name": "stderr",
     "output_type": "stream",
     "text": [
      "/Users/jfoley19/Code/psi4polaritonic/helper_ciss_prism.py:259: ComplexWarning: Casting complex values to real discards the imaginary part\n",
      "  H_CISS_DSE[S0_offset:R1_offset, S0_offset:R1_offset] = D_matrix\n",
      "/Users/jfoley19/Code/psi4polaritonic/helper_ciss_prism.py:274: ComplexWarning: Casting complex values to real discards the imaginary part\n",
      "  H_CISS_DSE[S1_offset:, S1_offset:] = D_matrix\n",
      "/Users/jfoley19/Code/psi4polaritonic/helper_ciss_prism.py:285: ComplexWarning: Casting complex values to real discards the imaginary part\n",
      "  H_CISS_BLC[S1_offset:,S0_offset:R1_offset] = G\n",
      "/Users/jfoley19/Code/psi4polaritonic/helper_ciss_prism.py:286: ComplexWarning: Casting complex values to real discards the imaginary part\n",
      "  H_CISS_BLC[S0_offset:R1_offset, S1_offset:] = G\n"
     ]
    },
    {
     "name": "stdout",
     "output_type": "stream",
     "text": [
      "102\n",
      "\n",
      "Start SCF iterations:\n",
      "\n",
      "Canonical RHF One-electron energy = -282.1230665980479557\n",
      "CQED-RHF One-electron energy      = -282.1220538376824720\n",
      "Nuclear repulsion energy          = 3.0976226966048781\n",
      "Dipole energy                     = 0.0005759096537488\n",
      "SCF Iteration   1: Energy = -199.8772602269631591   dE = -1.99877E+02   dRMS = 1.46989E-05\n",
      "SCF Iteration   2: Energy = -199.8772606095284345   dE = -3.82565E-07   dRMS = 5.54185E-06\n",
      "SCF Iteration   3: Energy = -199.8772606560323482   dE = -4.65039E-08   dRMS = 2.13239E-06\n",
      "Total time for SCF iterations: 0.004 seconds \n",
      "\n",
      "QED-RHF   energy: -199.87726066 hartree\n",
      "Psi4  SCF energy: -199.87761178 hartree\n"
     ]
    },
    {
     "name": "stderr",
     "output_type": "stream",
     "text": [
      "/Users/jfoley19/Code/psi4polaritonic/helper_ciss_prism.py:259: ComplexWarning: Casting complex values to real discards the imaginary part\n",
      "  H_CISS_DSE[S0_offset:R1_offset, S0_offset:R1_offset] = D_matrix\n",
      "/Users/jfoley19/Code/psi4polaritonic/helper_ciss_prism.py:274: ComplexWarning: Casting complex values to real discards the imaginary part\n",
      "  H_CISS_DSE[S1_offset:, S1_offset:] = D_matrix\n",
      "/Users/jfoley19/Code/psi4polaritonic/helper_ciss_prism.py:285: ComplexWarning: Casting complex values to real discards the imaginary part\n",
      "  H_CISS_BLC[S1_offset:,S0_offset:R1_offset] = G\n",
      "/Users/jfoley19/Code/psi4polaritonic/helper_ciss_prism.py:286: ComplexWarning: Casting complex values to real discards the imaginary part\n",
      "  H_CISS_BLC[S0_offset:R1_offset, S1_offset:] = G\n"
     ]
    },
    {
     "name": "stdout",
     "output_type": "stream",
     "text": [
      "102\n",
      "\n",
      "Start SCF iterations:\n",
      "\n",
      "Canonical RHF One-electron energy = -281.9636819305044924\n",
      "CQED-RHF One-electron energy      = -281.9626352676449983\n",
      "Nuclear repulsion energy          = 3.0238697752571420\n",
      "Dipole energy                     = 0.0005863883006885\n",
      "SCF Iteration   1: Energy = -199.8728495187583007   dE = -1.99873E+02   dRMS = 1.51929E-05\n",
      "SCF Iteration   2: Energy = -199.8728499323503627   dE = -4.13592E-07   dRMS = 5.73594E-06\n",
      "SCF Iteration   3: Energy = -199.8728499823671996   dE = -5.00168E-08   dRMS = 2.19762E-06\n",
      "Total time for SCF iterations: 0.004 seconds \n",
      "\n",
      "QED-RHF   energy: -199.87284998 hartree\n",
      "Psi4  SCF energy: -199.87321727 hartree\n"
     ]
    },
    {
     "name": "stderr",
     "output_type": "stream",
     "text": [
      "/Users/jfoley19/Code/psi4polaritonic/helper_ciss_prism.py:259: ComplexWarning: Casting complex values to real discards the imaginary part\n",
      "  H_CISS_DSE[S0_offset:R1_offset, S0_offset:R1_offset] = D_matrix\n",
      "/Users/jfoley19/Code/psi4polaritonic/helper_ciss_prism.py:274: ComplexWarning: Casting complex values to real discards the imaginary part\n",
      "  H_CISS_DSE[S1_offset:, S1_offset:] = D_matrix\n",
      "/Users/jfoley19/Code/psi4polaritonic/helper_ciss_prism.py:285: ComplexWarning: Casting complex values to real discards the imaginary part\n",
      "  H_CISS_BLC[S1_offset:,S0_offset:R1_offset] = G\n",
      "/Users/jfoley19/Code/psi4polaritonic/helper_ciss_prism.py:286: ComplexWarning: Casting complex values to real discards the imaginary part\n",
      "  H_CISS_BLC[S0_offset:R1_offset, S1_offset:] = G\n"
     ]
    },
    {
     "name": "stdout",
     "output_type": "stream",
     "text": [
      "102\n",
      "\n",
      "Start SCF iterations:\n",
      "\n",
      "Canonical RHF One-electron energy = -281.8113897937704451\n",
      "CQED-RHF One-electron energy      = -281.8103086760099245\n",
      "Nuclear repulsion energy          = 2.9535472223441857\n",
      "Dipole energy                     = 0.0005963598577682\n",
      "SCF Iteration   1: Energy = -199.8682668679480798   dE = -1.99868E+02   dRMS = 1.56922E-05\n",
      "SCF Iteration   2: Energy = -199.8682673140875465   dE = -4.46139E-07   dRMS = 5.93179E-06\n",
      "SCF Iteration   3: Energy = -199.8682673677474213   dE = -5.36599E-08   dRMS = 2.26091E-06\n",
      "Total time for SCF iterations: 0.004 seconds \n",
      "\n",
      "QED-RHF   energy: -199.86826737 hartree\n",
      "Psi4  SCF energy: -199.86865157 hartree\n"
     ]
    },
    {
     "name": "stderr",
     "output_type": "stream",
     "text": [
      "/Users/jfoley19/Code/psi4polaritonic/helper_ciss_prism.py:259: ComplexWarning: Casting complex values to real discards the imaginary part\n",
      "  H_CISS_DSE[S0_offset:R1_offset, S0_offset:R1_offset] = D_matrix\n",
      "/Users/jfoley19/Code/psi4polaritonic/helper_ciss_prism.py:274: ComplexWarning: Casting complex values to real discards the imaginary part\n",
      "  H_CISS_DSE[S1_offset:, S1_offset:] = D_matrix\n",
      "/Users/jfoley19/Code/psi4polaritonic/helper_ciss_prism.py:285: ComplexWarning: Casting complex values to real discards the imaginary part\n",
      "  H_CISS_BLC[S1_offset:,S0_offset:R1_offset] = G\n",
      "/Users/jfoley19/Code/psi4polaritonic/helper_ciss_prism.py:286: ComplexWarning: Casting complex values to real discards the imaginary part\n",
      "  H_CISS_BLC[S0_offset:R1_offset, S1_offset:] = G\n"
     ]
    },
    {
     "name": "stdout",
     "output_type": "stream",
     "text": [
      "102\n",
      "\n",
      "Start SCF iterations:\n",
      "\n",
      "Canonical RHF One-electron energy = -281.6658775836986592\n",
      "CQED-RHF One-electron energy      = -281.6647614895255742\n",
      "Nuclear repulsion energy          = 2.8864211491090908\n",
      "Dipole energy                     = 0.0006057966612405\n",
      "SCF Iteration   1: Energy = -199.8635567206830501   dE = -1.99864E+02   dRMS = 1.61951E-05\n",
      "SCF Iteration   2: Energy = -199.8635572007927692   dE = -4.80110E-07   dRMS = 6.12904E-06\n",
      "SCF Iteration   3: Energy = -199.8635572582209079   dE = -5.74281E-08   dRMS = 2.32199E-06\n",
      "Total time for SCF iterations: 0.004 seconds \n",
      "\n",
      "QED-RHF   energy: -199.86355726 hartree\n",
      "Psi4  SCF energy: -199.86395910 hartree\n"
     ]
    },
    {
     "name": "stderr",
     "output_type": "stream",
     "text": [
      "/Users/jfoley19/Code/psi4polaritonic/helper_ciss_prism.py:259: ComplexWarning: Casting complex values to real discards the imaginary part\n",
      "  H_CISS_DSE[S0_offset:R1_offset, S0_offset:R1_offset] = D_matrix\n",
      "/Users/jfoley19/Code/psi4polaritonic/helper_ciss_prism.py:274: ComplexWarning: Casting complex values to real discards the imaginary part\n",
      "  H_CISS_DSE[S1_offset:, S1_offset:] = D_matrix\n",
      "/Users/jfoley19/Code/psi4polaritonic/helper_ciss_prism.py:285: ComplexWarning: Casting complex values to real discards the imaginary part\n",
      "  H_CISS_BLC[S1_offset:,S0_offset:R1_offset] = G\n",
      "/Users/jfoley19/Code/psi4polaritonic/helper_ciss_prism.py:286: ComplexWarning: Casting complex values to real discards the imaginary part\n",
      "  H_CISS_BLC[S0_offset:R1_offset, S1_offset:] = G\n"
     ]
    },
    {
     "name": "stdout",
     "output_type": "stream",
     "text": [
      "102\n",
      "\n",
      "Start SCF iterations:\n",
      "\n",
      "Canonical RHF One-electron energy = -281.5268532325891897\n",
      "CQED-RHF One-electron energy      = -281.5257016708900437\n",
      "Nuclear repulsion energy          = 2.8222784569066670\n",
      "Dipole energy                     = 0.0006146741133671\n",
      "SCF Iteration   1: Energy = -199.8587576011585156   dE = -1.99859E+02   dRMS = 1.67000E-05\n",
      "SCF Iteration   2: Energy = -199.8587581165340339   dE = -5.15376E-07   dRMS = 6.32738E-06\n",
      "SCF Iteration   3: Energy = -199.8587581778497793   dE = -6.13157E-08   dRMS = 2.38060E-06\n",
      "Total time for SCF iterations: 0.004 seconds \n",
      "\n",
      "QED-RHF   energy: -199.85875818 hartree\n",
      "Psi4  SCF energy: -199.85917840 hartree\n"
     ]
    },
    {
     "name": "stderr",
     "output_type": "stream",
     "text": [
      "/Users/jfoley19/Code/psi4polaritonic/helper_ciss_prism.py:259: ComplexWarning: Casting complex values to real discards the imaginary part\n",
      "  H_CISS_DSE[S0_offset:R1_offset, S0_offset:R1_offset] = D_matrix\n",
      "/Users/jfoley19/Code/psi4polaritonic/helper_ciss_prism.py:274: ComplexWarning: Casting complex values to real discards the imaginary part\n",
      "  H_CISS_DSE[S1_offset:, S1_offset:] = D_matrix\n",
      "/Users/jfoley19/Code/psi4polaritonic/helper_ciss_prism.py:285: ComplexWarning: Casting complex values to real discards the imaginary part\n",
      "  H_CISS_BLC[S1_offset:,S0_offset:R1_offset] = G\n",
      "/Users/jfoley19/Code/psi4polaritonic/helper_ciss_prism.py:286: ComplexWarning: Casting complex values to real discards the imaginary part\n",
      "  H_CISS_BLC[S0_offset:R1_offset, S1_offset:] = G\n"
     ]
    },
    {
     "name": "stdout",
     "output_type": "stream",
     "text": [
      "102\n",
      "\n",
      "Start SCF iterations:\n",
      "\n",
      "Canonical RHF One-electron energy = -281.3940415959070833\n",
      "CQED-RHF One-electron energy      = -281.3928541053829804\n",
      "Nuclear repulsion energy          = 2.7609245774086961\n",
      "Dipole energy                     = 0.0006229707482255\n",
      "SCF Iteration   1: Energy = -199.8539028446251393   dE = -1.99854E+02   dRMS = 1.72051E-05\n",
      "SCF Iteration   2: Energy = -199.8539033964136422   dE = -5.51789E-07   dRMS = 6.52643E-06\n",
      "SCF Iteration   3: Energy = -199.8539034617321022   dE = -6.53185E-08   dRMS = 2.43652E-06\n",
      "Total time for SCF iterations: 0.004 seconds \n",
      "\n",
      "QED-RHF   energy: -199.85390346 hartree\n",
      "Psi4  SCF energy: -199.85434279 hartree\n"
     ]
    },
    {
     "name": "stderr",
     "output_type": "stream",
     "text": [
      "/Users/jfoley19/Code/psi4polaritonic/helper_ciss_prism.py:259: ComplexWarning: Casting complex values to real discards the imaginary part\n",
      "  H_CISS_DSE[S0_offset:R1_offset, S0_offset:R1_offset] = D_matrix\n",
      "/Users/jfoley19/Code/psi4polaritonic/helper_ciss_prism.py:274: ComplexWarning: Casting complex values to real discards the imaginary part\n",
      "  H_CISS_DSE[S1_offset:, S1_offset:] = D_matrix\n",
      "/Users/jfoley19/Code/psi4polaritonic/helper_ciss_prism.py:285: ComplexWarning: Casting complex values to real discards the imaginary part\n",
      "  H_CISS_BLC[S1_offset:,S0_offset:R1_offset] = G\n",
      "/Users/jfoley19/Code/psi4polaritonic/helper_ciss_prism.py:286: ComplexWarning: Casting complex values to real discards the imaginary part\n",
      "  H_CISS_BLC[S0_offset:R1_offset, S1_offset:] = G\n"
     ]
    },
    {
     "name": "stdout",
     "output_type": "stream",
     "text": [
      "102\n",
      "\n",
      "Start SCF iterations:\n",
      "\n",
      "Canonical RHF One-electron energy = -281.2671819262505437\n",
      "CQED-RHF One-electron energy      = -281.2659580747716745\n",
      "Nuclear repulsion energy          = 2.7021815012936172\n",
      "Dipole energy                     = 0.0006306682510025\n",
      "SCF Iteration   1: Energy = -199.8490212356724101   dE = -1.99849E+02   dRMS = 1.77086E-05\n",
      "SCF Iteration   2: Energy = -199.8490218248363703   dE = -5.89164E-07   dRMS = 6.72567E-06\n",
      "SCF Iteration   3: Energy = -199.8490218942649790   dE = -6.94286E-08   dRMS = 2.48955E-06\n",
      "Total time for SCF iterations: 0.004 seconds \n",
      "\n",
      "QED-RHF   energy: -199.84902189 hartree\n",
      "Psi4  SCF energy: -199.84948104 hartree\n"
     ]
    },
    {
     "name": "stderr",
     "output_type": "stream",
     "text": [
      "/Users/jfoley19/Code/psi4polaritonic/helper_ciss_prism.py:259: ComplexWarning: Casting complex values to real discards the imaginary part\n",
      "  H_CISS_DSE[S0_offset:R1_offset, S0_offset:R1_offset] = D_matrix\n",
      "/Users/jfoley19/Code/psi4polaritonic/helper_ciss_prism.py:274: ComplexWarning: Casting complex values to real discards the imaginary part\n",
      "  H_CISS_DSE[S1_offset:, S1_offset:] = D_matrix\n",
      "/Users/jfoley19/Code/psi4polaritonic/helper_ciss_prism.py:285: ComplexWarning: Casting complex values to real discards the imaginary part\n",
      "  H_CISS_BLC[S1_offset:,S0_offset:R1_offset] = G\n",
      "/Users/jfoley19/Code/psi4polaritonic/helper_ciss_prism.py:286: ComplexWarning: Casting complex values to real discards the imaginary part\n",
      "  H_CISS_BLC[S0_offset:R1_offset, S1_offset:] = G\n"
     ]
    },
    {
     "name": "stdout",
     "output_type": "stream",
     "text": [
      "102\n",
      "\n",
      "Start SCF iterations:\n",
      "\n",
      "Canonical RHF One-electron energy = -281.1460261674804997\n",
      "CQED-RHF One-electron energy      = -281.1447655513993027\n",
      "Nuclear repulsion energy          = 2.6458860533499999\n",
      "Dipole energy                     = 0.0006377514232722\n",
      "SCF Iteration   1: Energy = -199.8441375672121580   dE = -1.99844E+02   dRMS = 1.82087E-05\n",
      "SCF Iteration   2: Energy = -199.8441381945000614   dE = -6.27288E-07   dRMS = 6.92446E-06\n",
      "SCF Iteration   3: Energy = -199.8441382681396306   dE = -7.36396E-08   dRMS = 2.53949E-06\n",
      "Total time for SCF iterations: 0.004 seconds \n",
      "\n",
      "QED-RHF   energy: -199.84413827 hartree\n",
      "Psi4  SCF energy: -199.84461794 hartree\n"
     ]
    },
    {
     "name": "stderr",
     "output_type": "stream",
     "text": [
      "/Users/jfoley19/Code/psi4polaritonic/helper_ciss_prism.py:259: ComplexWarning: Casting complex values to real discards the imaginary part\n",
      "  H_CISS_DSE[S0_offset:R1_offset, S0_offset:R1_offset] = D_matrix\n",
      "/Users/jfoley19/Code/psi4polaritonic/helper_ciss_prism.py:274: ComplexWarning: Casting complex values to real discards the imaginary part\n",
      "  H_CISS_DSE[S1_offset:, S1_offset:] = D_matrix\n",
      "/Users/jfoley19/Code/psi4polaritonic/helper_ciss_prism.py:285: ComplexWarning: Casting complex values to real discards the imaginary part\n",
      "  H_CISS_BLC[S1_offset:,S0_offset:R1_offset] = G\n",
      "/Users/jfoley19/Code/psi4polaritonic/helper_ciss_prism.py:286: ComplexWarning: Casting complex values to real discards the imaginary part\n",
      "  H_CISS_BLC[S0_offset:R1_offset, S1_offset:] = G\n"
     ]
    },
    {
     "name": "stdout",
     "output_type": "stream",
     "text": [
      "102\n",
      "\n",
      "Start SCF iterations:\n",
      "\n",
      "Canonical RHF One-electron energy = -281.0303379775043595\n",
      "CQED-RHF One-electron energy      = -281.0290402210043226\n",
      "Nuclear repulsion energy          = 2.5918883787918365\n",
      "Dipole energy                     = 0.0006442079694225\n",
      "SCF Iteration   1: Energy = -199.8392731313120976   dE = -1.99839E+02   dRMS = 1.87040E-05\n",
      "SCF Iteration   2: Energy = -199.8392737972767748   dE = -6.65965E-07   dRMS = 7.12227E-06\n",
      "SCF Iteration   3: Energy = -199.8392738752245066   dE = -7.79477E-08   dRMS = 2.58627E-06\n",
      "Total time for SCF iterations: 0.004 seconds \n",
      "\n",
      "QED-RHF   energy: -199.83927388 hartree\n",
      "Psi4  SCF energy: -199.83977477 hartree\n"
     ]
    },
    {
     "name": "stderr",
     "output_type": "stream",
     "text": [
      "/Users/jfoley19/Code/psi4polaritonic/helper_ciss_prism.py:259: ComplexWarning: Casting complex values to real discards the imaginary part\n",
      "  H_CISS_DSE[S0_offset:R1_offset, S0_offset:R1_offset] = D_matrix\n",
      "/Users/jfoley19/Code/psi4polaritonic/helper_ciss_prism.py:274: ComplexWarning: Casting complex values to real discards the imaginary part\n",
      "  H_CISS_DSE[S1_offset:, S1_offset:] = D_matrix\n",
      "/Users/jfoley19/Code/psi4polaritonic/helper_ciss_prism.py:285: ComplexWarning: Casting complex values to real discards the imaginary part\n",
      "  H_CISS_BLC[S1_offset:,S0_offset:R1_offset] = G\n",
      "/Users/jfoley19/Code/psi4polaritonic/helper_ciss_prism.py:286: ComplexWarning: Casting complex values to real discards the imaginary part\n",
      "  H_CISS_BLC[S0_offset:R1_offset, S1_offset:] = G\n"
     ]
    },
    {
     "name": "stdout",
     "output_type": "stream",
     "text": [
      "102\n",
      "\n",
      "Start SCF iterations:\n",
      "\n",
      "Canonical RHF One-electron energy = -280.9198923398474221\n",
      "CQED-RHF One-electron energy      = -280.9185570944135293\n",
      "Nuclear repulsion energy          = 2.5400506112159995\n",
      "Dipole energy                     = 0.0006500280312491\n",
      "SCF Iteration   1: Energy = -199.8344461499303293   dE = -1.99834E+02   dRMS = 1.91947E-05\n",
      "SCF Iteration   2: Energy = -199.8344468550906186   dE = -7.05160E-07   dRMS = 7.31945E-06\n",
      "SCF Iteration   3: Energy = -199.8344469374572725   dE = -8.23667E-08   dRMS = 2.63025E-06\n",
      "Total time for SCF iterations: 0.004 seconds \n",
      "\n",
      "QED-RHF   energy: -199.83444694 hartree\n",
      "Psi4  SCF energy: -199.83496974 hartree\n"
     ]
    },
    {
     "name": "stderr",
     "output_type": "stream",
     "text": [
      "/Users/jfoley19/Code/psi4polaritonic/helper_ciss_prism.py:259: ComplexWarning: Casting complex values to real discards the imaginary part\n",
      "  H_CISS_DSE[S0_offset:R1_offset, S0_offset:R1_offset] = D_matrix\n",
      "/Users/jfoley19/Code/psi4polaritonic/helper_ciss_prism.py:274: ComplexWarning: Casting complex values to real discards the imaginary part\n",
      "  H_CISS_DSE[S1_offset:, S1_offset:] = D_matrix\n",
      "/Users/jfoley19/Code/psi4polaritonic/helper_ciss_prism.py:285: ComplexWarning: Casting complex values to real discards the imaginary part\n",
      "  H_CISS_BLC[S1_offset:,S0_offset:R1_offset] = G\n",
      "/Users/jfoley19/Code/psi4polaritonic/helper_ciss_prism.py:286: ComplexWarning: Casting complex values to real discards the imaginary part\n",
      "  H_CISS_BLC[S0_offset:R1_offset, S1_offset:] = G\n"
     ]
    },
    {
     "name": "stdout",
     "output_type": "stream",
     "text": [
      "102\n",
      "\n",
      "Start SCF iterations:\n",
      "\n",
      "Canonical RHF One-electron energy = -280.8144746759940631\n",
      "CQED-RHF One-electron energy      = -280.8131016196733185\n",
      "Nuclear repulsion energy          = 2.4902456972705886\n",
      "Dipole energy                     = 0.0006552042946595\n",
      "SCF Iteration   1: Energy = -199.8296721520105734   dE = -1.99830E+02   dRMS = 1.96823E-05\n",
      "SCF Iteration   2: Energy = -199.8296728970345271   dE = -7.45024E-07   dRMS = 7.51740E-06\n",
      "SCF Iteration   3: Energy = -199.8296729839727277   dE = -8.69382E-08   dRMS = 2.67221E-06\n",
      "Total time for SCF iterations: 0.004 seconds \n",
      "\n",
      "QED-RHF   energy: -199.82967298 hartree\n",
      "Psi4  SCF energy: -199.83021837 hartree\n"
     ]
    },
    {
     "name": "stderr",
     "output_type": "stream",
     "text": [
      "/Users/jfoley19/Code/psi4polaritonic/helper_ciss_prism.py:259: ComplexWarning: Casting complex values to real discards the imaginary part\n",
      "  H_CISS_DSE[S0_offset:R1_offset, S0_offset:R1_offset] = D_matrix\n",
      "/Users/jfoley19/Code/psi4polaritonic/helper_ciss_prism.py:274: ComplexWarning: Casting complex values to real discards the imaginary part\n",
      "  H_CISS_DSE[S1_offset:, S1_offset:] = D_matrix\n",
      "/Users/jfoley19/Code/psi4polaritonic/helper_ciss_prism.py:285: ComplexWarning: Casting complex values to real discards the imaginary part\n",
      "  H_CISS_BLC[S1_offset:,S0_offset:R1_offset] = G\n",
      "/Users/jfoley19/Code/psi4polaritonic/helper_ciss_prism.py:286: ComplexWarning: Casting complex values to real discards the imaginary part\n",
      "  H_CISS_BLC[S0_offset:R1_offset, S1_offset:] = G\n"
     ]
    },
    {
     "name": "stdout",
     "output_type": "stream",
     "text": [
      "102\n",
      "\n",
      "Start SCF iterations:\n",
      "\n",
      "Canonical RHF One-electron energy = -280.7138788063428478\n",
      "CQED-RHF One-electron energy      = -280.7124676422150173\n",
      "Nuclear repulsion energy          = 2.4423563569384621\n",
      "Dipole energy                     = 0.0006597333225310\n",
      "SCF Iteration   1: Energy = -199.8249643024544184   dE = -1.99825E+02   dRMS = 2.01671E-05\n",
      "SCF Iteration   2: Energy = -199.8249650880433990   dE = -7.85589E-07   dRMS = 7.71675E-06\n",
      "SCF Iteration   3: Energy = -199.8249651797338515   dE = -9.16905E-08   dRMS = 2.71279E-06\n",
      "Total time for SCF iterations: 0.004 seconds \n",
      "\n",
      "QED-RHF   energy: -199.82496518 hartree\n",
      "Psi4  SCF energy: -199.82553380 hartree\n"
     ]
    },
    {
     "name": "stderr",
     "output_type": "stream",
     "text": [
      "/Users/jfoley19/Code/psi4polaritonic/helper_ciss_prism.py:259: ComplexWarning: Casting complex values to real discards the imaginary part\n",
      "  H_CISS_DSE[S0_offset:R1_offset, S0_offset:R1_offset] = D_matrix\n",
      "/Users/jfoley19/Code/psi4polaritonic/helper_ciss_prism.py:274: ComplexWarning: Casting complex values to real discards the imaginary part\n",
      "  H_CISS_DSE[S1_offset:, S1_offset:] = D_matrix\n",
      "/Users/jfoley19/Code/psi4polaritonic/helper_ciss_prism.py:285: ComplexWarning: Casting complex values to real discards the imaginary part\n",
      "  H_CISS_BLC[S1_offset:,S0_offset:R1_offset] = G\n",
      "/Users/jfoley19/Code/psi4polaritonic/helper_ciss_prism.py:286: ComplexWarning: Casting complex values to real discards the imaginary part\n",
      "  H_CISS_BLC[S0_offset:R1_offset, S1_offset:] = G\n"
     ]
    },
    {
     "name": "stdout",
     "output_type": "stream",
     "text": [
      "102\n",
      "\n",
      "Start SCF iterations:\n",
      "\n",
      "Canonical RHF One-electron energy = -280.6179061493743916\n",
      "CQED-RHF One-electron energy      = -280.6164566036863448\n",
      "Nuclear repulsion energy          = 2.3962741615245275\n",
      "Dipole energy                     = 0.0006636159640651\n",
      "SCF Iteration   1: Energy = -199.8203336873017975   dE = -1.99820E+02   dRMS = 2.06474E-05\n",
      "SCF Iteration   2: Energy = -199.8203345139400540   dE = -8.26638E-07   dRMS = 7.91648E-06\n",
      "SCF Iteration   3: Energy = -199.8203346105591436   dE = -9.66191E-08   dRMS = 2.75223E-06\n",
      "Total time for SCF iterations: 0.004 seconds \n",
      "\n",
      "QED-RHF   energy: -199.82033461 hartree\n",
      "Psi4  SCF energy: -199.82092711 hartree\n"
     ]
    },
    {
     "name": "stderr",
     "output_type": "stream",
     "text": [
      "/Users/jfoley19/Code/psi4polaritonic/helper_ciss_prism.py:259: ComplexWarning: Casting complex values to real discards the imaginary part\n",
      "  H_CISS_DSE[S0_offset:R1_offset, S0_offset:R1_offset] = D_matrix\n",
      "/Users/jfoley19/Code/psi4polaritonic/helper_ciss_prism.py:274: ComplexWarning: Casting complex values to real discards the imaginary part\n",
      "  H_CISS_DSE[S1_offset:, S1_offset:] = D_matrix\n",
      "/Users/jfoley19/Code/psi4polaritonic/helper_ciss_prism.py:285: ComplexWarning: Casting complex values to real discards the imaginary part\n",
      "  H_CISS_BLC[S1_offset:,S0_offset:R1_offset] = G\n",
      "/Users/jfoley19/Code/psi4polaritonic/helper_ciss_prism.py:286: ComplexWarning: Casting complex values to real discards the imaginary part\n",
      "  H_CISS_BLC[S0_offset:R1_offset, S1_offset:] = G\n"
     ]
    },
    {
     "name": "stdout",
     "output_type": "stream",
     "text": [
      "102\n",
      "\n",
      "Start SCF iterations:\n",
      "\n",
      "Canonical RHF One-electron energy = -280.5263662025528788\n",
      "CQED-RHF One-electron energy      = -280.5248780230256784\n",
      "Nuclear repulsion energy          = 2.3518987140888892\n",
      "Dipole energy                     = 0.0006668565175650\n",
      "SCF Iteration   1: Energy = -199.8157895598197342   dE = -1.99816E+02   dRMS = 2.11216E-05\n",
      "SCF Iteration   2: Energy = -199.8157904277504997   dE = -8.67931E-07   dRMS = 8.11523E-06\n",
      "SCF Iteration   3: Energy = -199.8157905294577006   dE = -1.01707E-07   dRMS = 2.79077E-06\n",
      "SCF Iteration   4: Energy = -199.8157905429549999   dE = -1.34973E-08   dRMS = 1.06463E-06\n",
      "Total time for SCF iterations: 0.005 seconds \n",
      "\n",
      "QED-RHF   energy: -199.81579054 hartree\n",
      "Psi4  SCF energy: -199.81640753 hartree\n",
      "102\n"
     ]
    },
    {
     "name": "stderr",
     "output_type": "stream",
     "text": [
      "/Users/jfoley19/Code/psi4polaritonic/helper_ciss_prism.py:259: ComplexWarning: Casting complex values to real discards the imaginary part\n",
      "  H_CISS_DSE[S0_offset:R1_offset, S0_offset:R1_offset] = D_matrix\n",
      "/Users/jfoley19/Code/psi4polaritonic/helper_ciss_prism.py:274: ComplexWarning: Casting complex values to real discards the imaginary part\n",
      "  H_CISS_DSE[S1_offset:, S1_offset:] = D_matrix\n",
      "/Users/jfoley19/Code/psi4polaritonic/helper_ciss_prism.py:285: ComplexWarning: Casting complex values to real discards the imaginary part\n",
      "  H_CISS_BLC[S1_offset:,S0_offset:R1_offset] = G\n",
      "/Users/jfoley19/Code/psi4polaritonic/helper_ciss_prism.py:286: ComplexWarning: Casting complex values to real discards the imaginary part\n",
      "  H_CISS_BLC[S0_offset:R1_offset, S1_offset:] = G\n"
     ]
    }
   ],
   "source": [
    "# template for z-matrix\n",
    "mol_tmpl = \"\"\"\n",
    "Mg\n",
    "H 1 **R**\n",
    "symmetry c1\n",
    "1 1\n",
    "\"\"\"\n",
    "\n",
    "# set psi4 options\n",
    "psi4.set_options(options_dict)\n",
    "# array of bondlengths for MgH+\n",
    "r_array = np.linspace(1.3, 2.7, 29)\n",
    "#r_array = np.array([1.3,1.4,1.5,1.6,1.7,1.8,1.9,2.0,2.1,2.2,2.3, 2.4, 2.5, 2.6, 2.7]) #, 2.8, 2.9, 3.0, 3.1, 3.2, 3.3])\n",
    "\n",
    "# arrays for different models\n",
    "ciss_pf_array = np.zeros((5,len(r_array)),dtype=complex)\n",
    "ciss_jc_array = np.zeros((5,len(r_array)),dtype=complex)\n",
    "cis_pf_array = np.zeros((5,len(r_array)),dtype=complex)\n",
    "cis_jc_array = np.zeros((5,len(r_array)),dtype=complex)\n",
    "\n",
    "# electric field strength \n",
    "lam_z = 0.01\n",
    "\n",
    "# photon energy\n",
    "om_r = 4.75 / 27.211\n",
    "\n",
    "# approximate maximum value of transition dipole moment in a.u.\n",
    "max_tdm = 2.25\n",
    "\n",
    "# approximate max value of g\n",
    "g_max = np.sqrt(om_r/2) * lam_z * max_tdm\n",
    "\n",
    "print(\" value of gamma to cross over from weak to strong coupling:\", 4 * g_max)\n",
    "#om = om_r #-> Figure 3a\n",
    "\n",
    "om = om_r - 4 * (g_max/2) * 1j #-> Figure 3b\n",
    "\n",
    "# lambda vector\n",
    "lam = np.array([0,0,lam_z])\n",
    "\n",
    "# loop over the different bond-lengths, create different instances\n",
    "# of MgH+ molecule and compute and store various quantities\n",
    "ctr = 0\n",
    "for r in r_array:\n",
    "    molstr = mol_tmpl.replace(\"**R**\", str(r))\n",
    "    mol = psi4.geometry(molstr)\n",
    "    \n",
    "    # run cqed_ciss prism with real omega\n",
    "    cqed_cis_dict = cs_cqed_cis(lam, om_r, molstr, options_dict)\n",
    "    \n",
    "    cqed_scf_e = cqed_cis_dict[\"CQED-RHF ENERGY\"]\n",
    "    scf_e = cqed_cis_dict[\"RHF ENERGY\"]\n",
    "    \n",
    "    # get eigenvalues from CISS-PF\n",
    "    ciss_pf_e = cqed_cis_dict[\"CISS-PF ENERGY\"]\n",
    "    # get eigenvalues from CISS-JC\n",
    "    ciss_jc_e = cqed_cis_dict[\"CISS-JC ENERGY\"]\n",
    "    # get eigenvalues from CIS-PF\n",
    "    cis_pf_e = cqed_cis_dict[\"CIS-PF ENERGY\"]\n",
    "    # get eigenvalues from CIS-JC\n",
    "    cis_jc_e = cqed_cis_dict[\"CIS-JC ENERGY\"]\n",
    "\n",
    "    \n",
    "    ciss_pf_array[:5,ctr] = cqed_scf_e+ciss_pf_e[:5]\n",
    "    ciss_jc_array[:5,ctr] = cqed_scf_e+ciss_jc_e[:5]\n",
    "    \n",
    "    cis_pf_array[0,ctr] = cqed_scf_e\n",
    "    cis_jc_array[0,ctr] = cqed_scf_e\n",
    "\n",
    "    cis_pf_array[1:5,ctr] = cqed_scf_e + cis_pf_e[0:4]\n",
    "    cis_jc_array[1:5,ctr] = cqed_scf_e + cis_jc_e[0:4]\n",
    "    ctr += 1\n",
    " "
   ]
  },
  {
   "cell_type": "code",
   "execution_count": 44,
   "metadata": {},
   "outputs": [
    {
     "name": "stderr",
     "output_type": "stream",
     "text": [
      "/opt/homebrew/Caskroom/miniforge/base/envs/psi4/lib/python3.9/site-packages/matplotlib/cbook/__init__.py:1298: ComplexWarning: Casting complex values to real discards the imaginary part\n",
      "  return np.asarray(x, float)\n"
     ]
    },
    {
     "data": {
      "text/plain": [
       "<matplotlib.legend.Legend at 0x127dda910>"
      ]
     },
     "execution_count": 44,
     "metadata": {},
     "output_type": "execute_result"
    },
    {
     "data": {
      "image/png": "[encoded data removed]",
      "text/plain": [
       "<Figure size 640x480 with 1 Axes>"
      ]
     },
     "metadata": {},
     "output_type": "display_data"
    }
   ],
   "source": [
    "plt.plot(r_array, ciss_pf_array[1,:], label='ciss-pf')\n",
    "plt.plot(r_array, ciss_pf_array[2,:], label='ciss-pf')\n",
    "plt.plot(r_array, ciss_jc_array[1,:], label='ciss-jc')\n",
    "plt.plot(r_array, ciss_jc_array[2,:], label='ciss-jc')\n",
    "plt.plot(r_array, cis_pf_array[1,:], label='cis-pf')\n",
    "plt.plot(r_array, cis_pf_array[2,:], label='cis-pf')\n",
    "plt.plot(r_array, cis_jc_array[1,:], label='cis-jc')\n",
    "plt.plot(r_array, cis_jc_array[2,:], label='cis-jc')\n",
    "plt.legend()\n"
   ]
  },
  {
   "cell_type": "code",
   "execution_count": 37,
   "metadata": {},
   "outputs": [
    {
     "name": "stdout",
     "output_type": "stream",
     "text": [
      "1.3 -199.85729904404351 -199.68294339509256 -199.6099643564819 -199.8572991099444 -199.68294580550938 -199.6107630211893 -199.85724691382688 -199.68294214134278 -199.60934709706157 -199.85724691382688 -199.68294451694697 -199.61014381853155\n",
      "1.35 -199.8700426723887 -199.69571214861304 -199.6273544697016 -199.87004274384014 -199.69571507720056 -199.6281691714749 -199.86998785495035 -199.69571059900946 -199.62672498822565 -199.86998785495035 -199.6957134810636 -199.62753767483858\n",
      "1.4000000000000001 -199.87980016530048 -199.7055005636994 -199.64186144218183 -199.87980024320802 -199.70550418347457 -199.64269200181195 -199.87974229714064 -199.7054986163646 -199.64122060616205 -199.87974229714064 -199.70550217257153 -199.64204908257327\n",
      "1.4500000000000002 -199.88706380922758 -199.71280220982393 -199.65391734598725 -199.88706389457366 -199.71280675855246 -199.65476350892726 -199.88700252380156 -199.712799723576 -199.65326602809526 -199.88700252380156 -199.7128041836209 -199.6541100459055\n",
      "1.5 -199.89223911334716 -199.71802430054822 -199.6638776945205 -199.89223920720016 -199.71803011040643 -199.66473911861067 -199.89217403845993 -199.71802107687225 -199.6632167916024 -199.89217403845993 -199.71802676041764 -199.66407601887389\n",
      "1.55 -199.89566055085263 -199.72150357343062 -199.67203466835016 -199.89566065437427 -199.72151111609463 -199.67291089072182 -199.89559130723313 -199.72149932913555 -199.67136513019457 -199.89559130723313 -199.72150668811165 -199.67223912129845\n",
      "1.6 -199.89760539277881 -199.72352032575938 -199.67862886294014 -199.89760550722994 -199.72353028215343 -199.6795192365281 -199.89753159337994 -199.7235146508745 -199.67795173738406 -199.89753159337994 -199.72352433444007 -199.67883987443292\n",
      "1.6500000000000001 -199.89830516213996 -199.72431016453118 -199.68385915773686 -199.8983052888849 -199.7243235345668 -199.68476274279388 -199.89822641189107 -199.724302456504 -199.68317566113143 -199.89822641189107 -199.72431541245192 -199.68407705393068\n",
      "1.7000000000000002 -199.8979547346158 -199.72407354356915 -199.68789060230665 -199.89795487512583 -199.7240918215044 -199.68880598847866 -199.89787063050073 -199.72406290302376 -199.6872022296023 -199.89787063050073 -199.72408053841798 -199.68811555251784\n",
      "1.75 -199.8967193972948 -199.72298346895948 -199.69086040656114 -199.89671955315032 -199.72300892698522 -199.6917854241893 -199.89662952871356 -199.7229685328825 -199.69016910446751 -199.89662952871356 -199.72299297140373 -199.6910923340085\n",
      "1.8 -199.89474027511153 -199.72119187981744 -199.6928821908877 -199.89474044800295 -199.72122802848608 -199.6938134440953 -199.8946442245161 -199.72117055391334 -199.69219063169632 -199.8946442245161 -199.7212050497065 -199.69312062620176\n",
      "1.85 -199.8921385160079 -199.7188352081834 -199.69404864941853 -199.89213870773528 -199.7188875342488 -199.69498077141978 -199.8920358597988 -199.71880424305456 -199.6933606602704 -199.8920358597988 -199.7188538384469 -199.69429249534636\n",
      "1.9000000000000001 -199.88901855587008 -199.71603949058948 -199.69443281274664 -199.8890187683413 -199.71611658179668 -199.69535733464468 -199.8889088655226 -199.71599384112193 -199.6937540205519 -199.8889088655226 -199.71606636602013 -199.6946799832653\n",
      "1.9500000000000002 -199.88547070489227 -199.71292499736586 -199.69408838370344 -199.88547094011994 -199.71304003634614 -199.69499223522047 -199.885353548262 -199.7128569673938 -199.69342707339 -199.885353548262 -199.7129643842526 -199.69433531193266\n",
      "2.0 -199.88157322898948 -199.70960927458185 -199.69305058644343 -199.8815734890869 -199.70978132899614 -199.69391480182864 -199.88144817173418 -199.70950772460034 -199.69241849467184 -199.88144817173418 -199.7096673964565 -199.69329174639407\n",
      "2.05 -199.87739404898036 -199.7062054101155 -199.69134097201913 -199.87739433615621 -199.70645866986592 -199.69214145050753 -199.87726065603235 -199.70605596982398 -199.69075307462333 -199.87726065603235 -199.7062903937429 -199.69156893028517\n",
      "2.1 -199.87299214533834 -199.70281085237602 -199.68898104831592 -199.87299246189104 -199.7031690964681 -199.6896940865762 -199.8728499823672 -199.70259871012422 -199.68845276954406 -199.8728499823672 -199.70293129044146 -199.68918789942256\n",
      "2.1500000000000004 -199.86841873293088 -199.69948751308658 -199.6860141561571 -199.86841908124265 -199.6999645761656 -199.68662598258862 -199.86826736774742 -199.6992029760914 -199.68555580605474 -199.86826736774742 -199.69964960624722 -199.68619437899198\n",
      "2.2 -199.86371825435393 -199.69624826906409 -199.68252059625368 -199.86371863688456 -199.69684229112707 -199.68303312341646 -199.8635572582209 -199.69589125223334 -199.68213287859592 -199.8635572582209 -199.69645365014892 -199.68267322882207\n",
      "2.25 -199.85892922901988 -199.69306679129988 -199.6786091702668 -199.85892964830103 -199.69376387182538 -199.6790363439237 -199.85875817784978 -199.6926458957574 -199.6782841001889 -199.85875817784978 -199.69331308637493 -199.67873724801638\n",
      "2.3 -199.85408498629937 -199.6899032588123 -199.67439264604866 -199.8540854449293 -199.6906854535822 -199.67475245223775 -199.8539034617321 -199.68943099965855 -199.67411831806658 -199.8539034617321 -199.69018634260814 -199.67450094618133\n",
      "2.35 -199.8492143039018 -199.68672451566476 -199.6699686358255 -199.84921480454082 -199.68757536530075 -199.67027757662677 -199.84902189426498 -199.6862131861739 -199.6697333552419 -199.84902189426498 -199.68704032608449 -199.67006186275879\n",
      "2.4000000000000004 -199.84434196697958 -199.68351088027038 -199.6654137085277 -199.8443425123465 -199.68441729693996 -199.66568491977446 -199.84413826813963 -199.68297073584674 -199.66520780306544 -199.84413826813963 -199.68385616614538 -199.665495746205\n",
      "2.45 -199.83948925911213 -199.68025478770892 -199.66078557235065 -199.83948985198177 -199.68120696924086 -199.66102891378168 -199.8392738752245 -199.67969380685236 -199.66060162690957 -199.8392738752245 -199.68062719205676 -199.66085940102369\n",
      "2.5 -199.8346743932938 -199.6769571442003 -199.65612745707298 -199.83467503649587 -199.67794789048145 -199.65635019983492 -199.83444693745727 -199.67638139283184 -199.65595994538367 -199.83444693745727 -199.6773550490514 -199.65619530839604\n",
      "2.55 -199.82991288914405 -199.67362404283233 -199.65147206069656 -199.8299135855631 -199.6746480630837 -199.6516795834549 -199.82967298397273 -199.67303813628183 -199.65131687960675 -199.82967298397273 -199.67404638067686 -199.65153560597\n",
      "2.6 -199.82521790159333 -199.67026443694763 -199.64684447697005 -199.82521865417 -199.67131780638016 -199.64704081206386 -199.82496517973385 -199.66967192978856 -199.64669855309617 -199.82496517973385 -199.67071053366726 -199.64690498352198\n",
      "2.6500000000000004 -199.82060050597124 -199.6668886302757 -199.64226422657597 -199.82060131770476 -199.66796839935134 -199.6424524529479 -199.82033461055914 -199.66629230653658 -199.64212522284774 -199.82033461055914 -199.66735808862384 -199.6423226732308\n",
      "2.7 -199.81606989387706 -199.66353585796062 -199.63775324491664 -199.8160707675588 -199.6646402829954 -199.63793531468173 -199.815790542955 -199.66293738348875 -199.63761959469463 -199.815790542955 -199.66402844432153 -199.63781017882707\n"
     ]
    }
   ],
   "source": [
    "for i in range(len(r_array)):\n",
    "    print(r_array[i], np.real(ciss_pf_array[0,i]), np.real(ciss_pf_array[1,i]), np.real(ciss_pf_array[2,i]), \n",
    "          np.real(ciss_jc_array[0,i]), np.real(ciss_jc_array[1,i]), np.real(ciss_jc_array[2,i]),\n",
    "          np.real(cis_pf_array[0,i]), np.real(cis_pf_array[1,i]), np.real(cis_pf_array[2,i]),\n",
    "          np.real(cis_jc_array[0,i]), np.real(cis_jc_array[1,i]), np.real(cis_jc_array[2,i]))"
   ]
  },
  {
   "cell_type": "code",
   "execution_count": null,
   "metadata": {},
   "outputs": [],
   "source": []
  }
 ],
 "metadata": {
  "kernelspec": {
   "display_name": "Python 3 (ipykernel)",
   "language": "python",
   "name": "python3"
  },
  "language_info": {
   "codemirror_mode": {
    "name": "ipython",
    "version": 3
   },
   "file_extension": ".py",
   "mimetype": "text/x-python",
   "name": "python",
   "nbconvert_exporter": "python",
   "pygments_lexer": "ipython3",
   "version": "3.9.13"
  }
 },
 "nbformat": 4,
 "nbformat_minor": 4
}
