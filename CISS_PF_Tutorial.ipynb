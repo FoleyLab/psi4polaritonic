{
 "cells": [
  {
   "cell_type": "markdown",
   "metadata": {
    "collapsed": true
   },
   "source": [
    "# Configuration Interaction with Single Electronic and Photonic Excitations applied to the Pauli-Fierz Hamiltonian"
   ]
  },
  {
   "cell_type": "code",
   "execution_count": 1,
   "metadata": {},
   "outputs": [],
   "source": [
    "\"\"\"Tutorial implementing a CISS-PF program\"\"\"\n",
    "\n",
    "__authors__ = \"J. McTague, J. Foley, A. E. DePrince III\"\n",
    "__credits__ = \"J. McTague, J. Foley, A. E. DePrince III\"\n",
    "__email__   = \"foleyj10@wpunj.edu, deprince@fsu.edu\"\n",
    "\n",
    "__copyright__ = \"(c) 2014-2018, The Psi4NumPy Developers\"\n",
    "__license__   = \"BSD-3-Clause\"\n",
    "__date__      = \"6/15/2022\""
   ]
  },
  {
   "cell_type": "markdown",
   "metadata": {},
   "source": [
    "\n",
    "\n",
    "\n",
    "# I. Theoretical Overview\n",
    "\n",
    "For details on the Pauli-Fierz Hamiltonian and the Hartree-Fock method applied to the Hamiltonian, \n",
    "see the [HF-PF tutorial](HF-PF_Tutorial.ipynb).\n",
    "\n",
    "### *CISS-PF Ansatz*\n",
    "A mean-field description of the excited states of the molecular system strongly interacting with photonic degrees of freedom, and a correction to the ground-state that contains coupling between the PF-HF reference and simultaneous electronic and photonic excitations, may be obtained through a configuration interaction  ansatz that includes up to simultaneous single excitations of the electronic and photonic degrees of freedom.  Although previously referred to as the CQED-CIS ansatz\\cite{Foley_154103}, here we refer to this as the CISS-PF method \n",
    "to denote that simultaneous single excitations on the electron and photon degrees of freedom are included in this ansatz, and to denote the specific application \n",
    "of this ansatz to the PF Hamiltonian in Eq. (1).   In the following presentation, we assume the PF-HF reference which will be computed by a helper function imported by this notebook.\n",
    "\n",
    "The polaritonic energy eigenfunctions for state $I$ in the\n",
    "CISS-PF ansatz can be written as a linear combination of the PF-HF reference and products of all possible single excitations out of the PF-HF reference.  The PF-HF reference involves the product of an electronic Slater determinant with the photon vacuum state $|\\Phi_o\\rangle |0\\rangle$, so single excitations can occur as electronic excitations from an occupied orbital $\\phi_i$ to a virtual orbital $\\phi_a$, the raising of the photon number state from $|0\\rangle \\rightarrow |1\\rangle$, or both.  We therefore write the CISS-PF wavefunction for state $I$ as\n",
    "\\begin{equation}\\label{eq:CISS-PF}\n",
    "\\Psi_I = c_0^0 |\\Phi_0\\rangle |0\\rangle + \n",
    "\\sum_{i,a} c_{ia}^0 |\\Phi_i^a\\rangle |0\\rangle +\n",
    "c_0^1 |\\Phi_0\\rangle |1\\rangle +\n",
    "\\sum_{i,a} c_{ia}^1 |\\Phi_i^a\\rangle |1\\rangle \\tag{9}. \n",
    "\\end{equation}\n",
    "where the coefficients $c$ denote the contribution of a given term to the wavefunction and we have denoted the electronic excitations in the subscript and the photonic excitations in the superscript of these coefficients. For the case of multiple modes, the photonic basis states will be augmented to consider all possible combinations of the occupations of those modes within a maximum photon number.  These coefficients, and the corresponding energy eigenvalues for a given CISS-PF state $I$, may be obtained by diagonalizing the Hamiltonian matrix built in the basis shown below in Eq. (10).  We spin adapt this basis such that $|\\Phi_i^a\\rangle = \\frac{1}{\\sqrt{2}}\\left(|\\Phi_{i\\alpha}^{a \\alpha} \\rangle + |\\Phi_{i\\beta}^{a\\beta}\\rangle \\right)$, where $\\alpha$ and $\\beta$ label the spin orbitals as being occupied by spin-up and spin-down electrons, respectively.  The matrix can be written schematically as \n",
    "\\begin{equation}\n",
    "\\begin{bmatrix}\n",
    "0 & 0 & 0 & \\hbar {\\bf g} \\\\\n",
    "0 & {\\bf A} +\\Delta  & \\hbar {\\bf g}^{\\dagger}  & \\hbar {\\bf G} \\\\\n",
    "0 & \\hbar {\\bf g} & \\hbar \\omega & 0 \\\\\n",
    "\\hbar {\\bf g}^{\\dagger} & \\hbar {\\bf G} & 0 & {\\bf A} + \\Delta + \\hbar \\Omega \n",
    "\\end{bmatrix}\n",
    "\\begin{bmatrix}\n",
    "{\\bf c}^0_0 \\\\\n",
    "{\\bf c}^0_{ia} \\\\\n",
    "{\\bf c}^1_0 \\\\\n",
    "{\\bf c}^1_{ia}\n",
    "\\end{bmatrix}\n",
    "=\n",
    "E_{CISS-PF}\n",
    "\\begin{bmatrix}\n",
    "{\\bf c}^0_0 \\\\\n",
    "{\\bf c}^0_{ia} \\\\\n",
    "{\\bf c}^1_0 \\\\\n",
    "{\\bf c}^1_{ia}, \\tag{10}\n",
    "\\end{bmatrix}\n",
    "\\end{equation}\n",
    "where we have shifted the CISS-PF Hamiltonian by HF-PF energy. \n",
    "\n",
    "\n",
    "In the CISS-PF Hamiltonian matrix above, the elements of ${\\bf A}$ are similar to Canonical CIS theory,\n",
    "\\begin{equation}\n",
    "    A_{ia,jb} = (\\epsilon_a - \\epsilon_i) \\delta_{ij} \\delta_{ab} + \\left( 2(ia|jb) - (ij|ab) \\right) \\tag{11}, \n",
    "\\end{equation}\n",
    "with an important difference being that the two-electron integrals are performed in the HF-PF basis and the orbital energies result from the HF-PF calculation and contain dipole self energy contributions of the reference wavefunction.  The dipole self energy in the subspace of single-excitations is contained in the $\\Delta$ matrix,\n",
    "\\begin{equation}\n",
    "    \\Delta_{ia,jb} = 2\\sum_{\\xi,\\xi'} \\lambda^{\\xi} \\lambda^{\\xi'} \\mu^{\\xi}_{ia} \\mu^{\\xi'}_{jb} \n",
    "    -\\sum_{\\xi,\\xi'} \\lambda^{\\xi} \\lambda^{\\xi'} \\mu^{\\xi}_{ij} \\mu^{\\xi'}_{ab}\\tag{12}. \n",
    "\\end{equation}\n",
    "The photonic energy is contained in $\\hbar \\omega$ and $\\hbar \\Omega$ as follows:\n",
    "\\begin{equation}\n",
    "    \\Omega_{ia,jb} = \\omega \\delta_{ij} \\delta_{ab}\\tag{13}.\n",
    "\\end{equation}\n",
    "The bilinear coupling contributes to blocks that couple singly-excited determinants to the reference, and to blocks that couple singly-excited determinants in the bra and the ket. \n",
    "The coupling between singly-excited determinants and the reference through elements of ${\\bf g}$,\n",
    "\\begin{equation}\n",
    "    g_{ia} = -\\sqrt{\\omega} \\sum_{\\xi} \\lambda^{\\xi} \\mu_{ia}^{\\xi}\\tag{14},\n",
    "\\end{equation}\n",
    "and the coupling between singly-excited determinants are captured through elements of ${\\bf G}$,\n",
    "\\begin{equation}\n",
    "    G_{ia,jb} = \\sqrt{\\frac{\\omega}{2}} \\sum_{\\xi} \\lambda^{\\xi} \\left( \\mu_{ij}^{\\xi} \\delta_{ab} \n",
    "    -  \\mu_{ab}^{\\xi} \\delta_{ij} \\right)\\tag{15}.\n",
    "\\end{equation}"
   ]
  },
  {
   "cell_type": "markdown",
   "metadata": {},
   "source": [
    "## II. Implementation\n",
    "\n",
    "Using the above overview, we will implement the CISS-PF method using <span style=\"font-variant: small-caps\"> Psi4 </span> and NumPy.  We will also import a helper function that\n",
    "will perform an intial HF-PF calculation to get the orbital basis for the subsequent CISS-PF calculations.  First, we need to import these Python modules and set some basic Psi4 options. "
   ]
  },
  {
   "cell_type": "code",
   "execution_count": 2,
   "metadata": {},
   "outputs": [
    {
     "name": "stdout",
     "output_type": "stream",
     "text": [
      "\n",
      "  Memory set to 476.837 MiB by Python driver.\n"
     ]
    }
   ],
   "source": [
    "# ==> Import Psi4, NumPy, linear algebra package from scipy, time,\n",
    "#     and helper_cqed_rhf to perform the requisite HF-PF calculation <==\n",
    "import psi4\n",
    "import numpy as np\n",
    "import scipy.linalg as la\n",
    "import time\n",
    "from helper_cqed_rhf import cqed_rhf\n",
    "\n",
    "# ==> Set Basic Psi4 Options <==\n",
    "# Memory specification\n",
    "psi4.set_memory(int(5e8))\n",
    "numpy_memory = 2\n",
    "\n",
    "# Set output file\n",
    "psi4.core.set_output_file('output.dat', False)\n"
   ]
  },
  {
   "cell_type": "markdown",
   "metadata": {},
   "source": [
    "Next we will define the molecular geometry along\n",
    "with Psi4 options for the basis set and convergence criteria \n",
    "for the HF-PF calculation.  The helper function that performs\n",
    "HF-PF calculations will expect the molecular geometry in a string\n",
    "representation and options as a dictionary."
   ]
  },
  {
   "cell_type": "code",
   "execution_count": 3,
   "metadata": {},
   "outputs": [],
   "source": [
    "# MgH Test Case\n",
    "#molecule_string = \"\"\"\n",
    "#Mg\n",
    "#H 1 2.2\n",
    "#symmetry c1\n",
    "#1 1\n",
    "#\"\"\"\n",
    "\n",
    "# options dict\n",
    "#options_dict = {\n",
    "#    \"basis\": \"cc-pVDZ\",\n",
    "#    \"save_jk\": True,\n",
    "#    \"scf_type\": \"pk\",\n",
    "#    \"e_convergence\": 1e-10,\n",
    "#    \"d_convergence\": 1e-10,\n",
    "#}\n",
    "\n",
    "\n",
    "molecule_string = \"\"\"\n",
    "O\n",
    "H 1 1.1\n",
    "H 1 1.1 2 104\n",
    "symmetry c1\n",
    "\"\"\"\n",
    "\n",
    "\n",
    "options_dict = {'basis': 'sto-3g',\n",
    "                  'scf_type': 'pk',\n",
    "                  'e_convergence': 1e-8,\n",
    "                  'd_convergence': 1e-8}\n",
    "\n"
   ]
  },
  {
   "cell_type": "markdown",
   "metadata": {},
   "source": [
    "Next we will define the parameters that define the photon energy and the coupling\n",
    "vector. In particular, we will define the photon energy as \n",
    "\n",
    "$$ \\hbar \\omega = 4.75  \\: {\\rm eV} = 0.1745 \\: {\\rm a.u.}$$\n",
    "\n",
    "and the coupling vector as \n",
    "\n",
    "$$ \\lambda = (0, 0, 0.0125) \\: {\\rm a.u.} $$"
   ]
  },
  {
   "cell_type": "code",
   "execution_count": 4,
   "metadata": {},
   "outputs": [],
   "source": [
    "# photon energy\n",
    "omega_val = 4.75 / psi4.constants.Hartree_energy_in_eV\n",
    "\n",
    "# coupling vector\n",
    "#lambda_vector = np.array([0, 0, 0.0125])\n",
    "lambda_vector = np.array([0, 0, 0.0])\n"
   ]
  },
  {
   "cell_type": "markdown",
   "metadata": {},
   "source": [
    "We will run a preliminary RHF calculation using Psi4 and save the wavefunction object \n",
    "to help us get 1 and 2-electron integrals.  We will also use the helper_cqed_rhf function to run the HF-PF calculation."
   ]
  },
  {
   "cell_type": "code",
   "execution_count": 5,
   "metadata": {},
   "outputs": [
    {
     "name": "stdout",
     "output_type": "stream",
     "text": [
      "\n",
      "Start SCF iterations:\n",
      "\n",
      "Canonical RHF One-electron energy = -120.1995577633948642\n",
      "CQED-RHF One-electron energy      = -120.1995577633948642\n",
      "Nuclear repulsion energy          = 8.0023664821734215\n",
      "Dipole energy                     = 0.0000000000000000\n",
      "SCF Iteration   1: Energy = -74.9420798986807597   dE = -7.49421E+01   dRMS = 4.46835E-12\n",
      "SCF Iteration   2: Energy = -74.9420798986807597   dE =  0.00000E+00   dRMS = 1.63019E-12\n",
      "Total time for SCF iterations: 0.000 seconds \n",
      "\n",
      "QED-RHF   energy: -74.94207990 hartree\n",
      "Psi4  SCF energy: -74.94207990 hartree\n"
     ]
    }
   ],
   "source": [
    "# set the options in psi4\n",
    "psi4.set_options(options_dict)\n",
    "# define the molecule based on the string representation of the geometry\n",
    "mol = psi4.geometry(molecule_string)\n",
    "# run an RHF calculation with psi4 and save the wavefunction object and RHF energy\n",
    "scf_e, wfn = psi4.energy('scf', return_wfn=True)\n",
    "\n",
    "# compute HF-PF wavefunction and energy \n",
    "cqed_rhf_dict = cqed_rhf(lambda_vector, molecule_string, options_dict)"
   ]
  },
  {
   "cell_type": "markdown",
   "metadata": {},
   "source": [
    "We need to prepare the arrays that will be used in the elements of the CISS-PF matrix.  We will need access to 2-electron repulsion integrals, dipole integrals, and quadrupole integrals all in the HF-PF basis, and we will also need the orbital energies that arise from HF-PF.  The following block will use results from the previously-run HF-PF calculation on the molecule defined above to obtain the HF-PF orbitals and orbital energies needed to transform all integrals to the HF-PF basis.  These quantities are returned as a dictionary from the HF-PF calculation.  If you want to see all of the available keys, you can do so with the following lines of python:\n",
    "\n",
    "`for key, items in cqed_rhf_dict.items():\n",
    "    print(key)`"
   ]
  },
  {
   "cell_type": "code",
   "execution_count": 6,
   "metadata": {},
   "outputs": [],
   "source": [
    "# grab necessary quantities from cqed_rhf_dict\n",
    "# molecular RHF energy\n",
    "scf_e = cqed_rhf_dict[\"RHF ENERGY\"]\n",
    "# energy from the HF-PF calculation\n",
    "cqed_scf_e = cqed_rhf_dict[\"CQED-RHF ENERGY\"]\n",
    "# psi4's wavefunction object\n",
    "wfn = cqed_rhf_dict[\"PSI4 WFN\"]\n",
    "# transformation vectors from HF-PF calculation\n",
    "C = cqed_rhf_dict[\"CQED-RHF C\"]\n",
    "# CQED-RHF Density matrix\n",
    "D = cqed_rhf_dict[\"CQED-RHF DENSITY MATRIX\"]\n",
    "# orbital energies from HF-PF calculation\n",
    "eps = cqed_rhf_dict[\"CQED-RHF EPS\"]\n",
    "# dipole moment from HF-PF calculation\n",
    "cqed_rhf_dipole_moment = cqed_rhf_dict[\"CQED-RHF DIPOLE MOMENT\"]\n"
   ]
  },
  {
   "cell_type": "markdown",
   "metadata": {},
   "source": [
    "We will get some more relevant quantities directly from the wavefunction object\n",
    "that we saved from psi4's RHF calculation.  "
   ]
  },
  {
   "cell_type": "code",
   "execution_count": 7,
   "metadata": {},
   "outputs": [],
   "source": [
    "# Grab data from wavfunction\n",
    "# number of doubly occupied orbitals\n",
    "ndocc = wfn.nalpha()\n",
    "\n",
    "# total number of orbitals\n",
    "nmo = wfn.nmo()\n",
    "\n",
    "# number of virtual orbitals\n",
    "nvirt = nmo - ndocc\n",
    "\n"
   ]
  },
  {
   "cell_type": "markdown",
   "metadata": {},
   "source": [
    "The wavefunction object also has an attribute that contains the transformation vectors that define the AO->MO transformation.  For our CISS-PF calculation, we are interested in the HF-PF transformation vectors rather than the canonical HF transformation vectors. Our HF-PF transformation vectors are now stored to the array `C` from the previous block, and so we can swap these vectors out for the canonical MO vectors by using a set of built-in psi4 functions that maps the wavefunction object to a dictionary, changing the values of the dictionary items that store the canoncal MO transformation vectors to the values that define the HF-PF transformation vectors, and then mapping that dictionary back to a psi4 wavefunction object.  The block below performs these operations.  This seems like a lot of work, but psi4 has some built-in functions that will perform 4-index transformations efficiently utilizing the transformation vectors stored as core Psi4 matrices, so it really benefits us to do this to utilize this machinery!"
   ]
  },
  {
   "cell_type": "code",
   "execution_count": 8,
   "metadata": {},
   "outputs": [],
   "source": [
    "# need to update the Co and Cv core matrix objects so we can\n",
    "# utlize psi4s fast integral transformation!\n",
    "# collect rhf wfn object as dictionary\n",
    "wfn_dict = psi4.core.Wavefunction.to_file(wfn)\n",
    "\n",
    "# update wfn_dict with orbitals from CQED-RHF\n",
    "wfn_dict[\"matrix\"][\"Ca\"] = C\n",
    "wfn_dict[\"matrix\"][\"Cb\"] = C\n",
    "# update wfn object\n",
    "wfn = psi4.core.Wavefunction.from_file(wfn_dict)\n",
    "\n",
    "# get all orbitals\n",
    "Ca = wfn.Ca()\n",
    "# occupied orbitals as psi4 objects but they correspond to CQED-RHF orbitals\n",
    "Co = wfn.Ca_subset(\"AO\", \"OCC\")\n",
    "\n",
    "# virtual orbitals same way\n",
    "Cv = wfn.Ca_subset(\"AO\", \"VIR\")"
   ]
  },
  {
   "cell_type": "markdown",
   "metadata": {},
   "source": [
    "Now that we have the correct HF-PF transformation vectors (`Co` for the occupied subspace and `Cv` for the virtual subspace), we will obtain the 2-electron repulsion integrals (2ERI) in the HF-PF basis.  We can make use of helper functions associated with the Psi4 mints library to transform the integrals from the AO to HF-PF basis given the transformation vectors as arguments.  We need 2ERIs of the type $(ia|jb)$ and $(ij|ab)$ for the CISS-PF equations, and we will store these integrals in arrays called `ovov` and `oovv`, respectively."
   ]
  },
  {
   "cell_type": "code",
   "execution_count": 9,
   "metadata": {},
   "outputs": [],
   "source": [
    "# Create instance of MintsHelper class\n",
    "mints = psi4.core.MintsHelper(wfn.basisset())\n",
    "# 2 electron integrals in CQED-RHF basis\n",
    "\n",
    "MO_spin = np.asarray(mints.mo_spin_eri(Ca, Ca))\n",
    "\n",
    "MO_spat = np.asarray(mints.mo_eri(Ca, Ca, Ca, Ca))\n",
    "\n",
    "# use built-in mints function to build the (ov|ov)\n",
    "# integrals in the HF-PF basis using Co and Cv\n",
    "ovov = np.asarray(mints.mo_eri(Co, Cv, Co, Cv))\n",
    "\n",
    "# use built-in mints function to build the (oo|vv)\n",
    "# integrals in the HF-PF basis using Co and Cv\n",
    "oovv = np.asarray(mints.mo_eri(Co, Co, Cv, Cv))"
   ]
  },
  {
   "cell_type": "markdown",
   "metadata": {},
   "source": [
    "Let's see if we can build an equivalent matrix as `MO_spin` using the entries\n",
    "in `MO_spat` where we have the elements of `MO_spin` given by $\\langle ij||kl \\rangle$ \n",
    "and the elements of `MO_spat` given by $(ij | kl)$"
   ]
  },
  {
   "cell_type": "code",
   "execution_count": 42,
   "metadata": {},
   "outputs": [],
   "source": [
    "def spin_idx_to_spat_idx_and_spin(P):\n",
    "    spin = 1\n",
    "    if P % 2 == 0:\n",
    "        p = P / 2\n",
    "        spin = 1\n",
    "    else:\n",
    "        p = (P-1) / 2\n",
    "        spin = -1\n",
    "    return np.array([p, spin], dtype=int)\n",
    "\n",
    "\n",
    "def map_spin_to_spat(MO, I, J, K, L):\n",
    "    # Phys to Chem: <IJ||KL> -> [IK|JL] - [IL|JK]\n",
    "    i_s = spin_idx_to_spat_idx_and_spin(I)\n",
    "    k_s = spin_idx_to_spat_idx_and_spin(K)\n",
    "    j_s = spin_idx_to_spat_idx_and_spin(J)\n",
    "    l_s = spin_idx_to_spat_idx_and_spin(L)\n",
    "    \n",
    "    #print(i_s[1])\n",
    "    # (ik|jl)\n",
    "    spat_ikjl = MO[i_s[0], k_s[0], j_s[0], l_s[0]] * ( i_s[1] == k_s[1] ) *  ( j_s[1] == l_s[1] )\n",
    "    \n",
    "    # (il|jk)\n",
    "    spat_iljk = MO[i_s[0], l_s[0], j_s[0], k_s[0]] * ( i_s[1] == l_s[1] ) *  ( j_s[1] == k_s[1] )\n",
    "    \n",
    "    return spat_ikjl - spat_iljk\n",
    "\n",
    "\n",
    "\n",
    "for i in range(7):\n",
    "    for j in range(7):\n",
    "        for k in range(7):\n",
    "            for l in range(7):\n",
    "                assert np.isclose(MO_spin[i, j, k, l], map_spin_to_spat(MO_spat, i, j, k, l))\n",
    "#print(MO_spin[2,1,2,1])\n",
    "#print(map_spin_to_spat(MO_spat,2,1,2,1))\n",
    "\n",
    "    \n",
    "\n",
    "#print(MO_spat[0,0,0,0])\n",
    "#print(MO_spin[0,1,0,1])"
   ]
  },
  {
   "cell_type": "markdown",
   "metadata": {},
   "source": [
    "We need the occupied and virtual HF-PF orbital energies, $\\epsilon_i$ and $\\epsilon_a$ respectively, which we will store in arrays called `\\eps_o` and `eps_v`."
   ]
  },
  {
   "cell_type": "code",
   "execution_count": null,
   "metadata": {},
   "outputs": [],
   "source": [
    "# strip out occupied orbital energies, eps_o spans 0..ndocc-1\n",
    "eps_o = eps[:ndocc]\n",
    "\n",
    "# strip out virtual orbital energies, eps_v spans 0..nvirt-1\n",
    "eps_v = eps[ndocc:]"
   ]
  },
  {
   "cell_type": "markdown",
   "metadata": {},
   "source": [
    "Terms of the form $\\lambda^{\\xi} \\mu_{pq}^{\\xi}$ require dipole integrals in the HF-PF basis dotted into the electric field vector $\\vec{\\lambda}$. \n",
    "\n",
    "Here we will obtain the Cartesian components of the dipole integrals in the AO basis using the mints helper class and store them in arrays `mu_ao_x`, `mu_ao_y`, and `mu_ao_z`.  We will then transform them to the HF-PF basis using the transformation vectors stored in an array called `C`. Finally, we will accumulate the dot product of these integrals and the $\\lambda$ vector and store the result in an array called `l_dot_mu_el`.  The terms shown in Eqs. (12), (14), and (15) will utilize the `l_dot_mu_el` array."
   ]
  },
  {
   "cell_type": "code",
   "execution_count": null,
   "metadata": {},
   "outputs": [],
   "source": [
    "# dipole arrays in AO basis\n",
    "mu_ao_x = np.asarray(mints.ao_dipole()[0])\n",
    "mu_ao_y = np.asarray(mints.ao_dipole()[1])\n",
    "mu_ao_z = np.asarray(mints.ao_dipole()[2])\n",
    "\n",
    "# transform dipole array to HF-PF basis\n",
    "mu_cmo_x = np.dot(C.T, mu_ao_x).dot(C)\n",
    "mu_cmo_y = np.dot(C.T, mu_ao_y).dot(C)\n",
    "mu_cmo_z = np.dot(C.T, mu_ao_z).dot(C)\n",
    "\n",
    "# electronic dipole expectation value with CQED-RHF density\n",
    "mu_exp_x = np.einsum(\"pq,pq->\", 2 * mu_ao_x, D)\n",
    "mu_exp_y = np.einsum(\"pq,pq->\", 2 * mu_ao_y, D)\n",
    "mu_exp_z = np.einsum(\"pq,pq->\", 2 * mu_ao_z, D)\n",
    "\n",
    "# get electronic dipole expectation value\n",
    "mu_exp_el = np.array([mu_exp_x, mu_exp_y, mu_exp_z])\n",
    "\n",
    "# \\lambda \\cdot < \\mu > where < \\mu > contains only electronic terms \n",
    "l_dot_mu_exp = np.dot(lambda_vector, mu_exp_el)\n",
    "\n",
    "# \\lambda \\cdot \\mu_{el}\n",
    "l_dot_mu_el = lambda_vector[0] * mu_cmo_x\n",
    "l_dot_mu_el += lambda_vector[1] * mu_cmo_y\n",
    "l_dot_mu_el += lambda_vector[2] * mu_cmo_z"
   ]
  },
  {
   "cell_type": "markdown",
   "metadata": {},
   "source": [
    "Additionally, we will need the electric field vector dotted into the nuclear dipole moment and the dipole expectation value computed at the HF-PF level."
   ]
  },
  {
   "cell_type": "code",
   "execution_count": null,
   "metadata": {},
   "outputs": [],
   "source": [
    "# dipole constants to add to CISS-PF Energ\n",
    "d_c = 0.5 * l_dot_mu_exp**2\n",
    "\n",
    "# If we have done these transformations correctly, the d_c above\n",
    "# will agree with what we have from HF-PF calculation\n",
    "assert np.isclose(d_c, cqed_rhf_dict[\"DIPOLE ENERGY\"])"
   ]
  },
  {
   "cell_type": "markdown",
   "metadata": {},
   "source": [
    "Build the ${\\bf g}$ and ${\\bf g}^{\\dagger}$ matrices (Eq. (14)). "
   ]
  },
  {
   "cell_type": "code",
   "execution_count": null,
   "metadata": {},
   "outputs": [],
   "source": [
    "# build g matrix and its adjoint\n",
    "g = np.zeros((1,ndocc * nvirt), dtype=complex)\n",
    "g_dag = np.zeros((ndocc * nvirt, 1), dtype=complex)\n",
    "for i in range(0, ndocc):\n",
    "    for a in range(0, nvirt):\n",
    "        A = a + ndocc\n",
    "        ia = i * nvirt + a \n",
    "        g[0,ia] = (\n",
    "            -np.sqrt(omega_val) * l_dot_mu_el[i, A]\n",
    "        )\n",
    "\n",
    "# Now compute the adjoint of g\n",
    "g_dag = np.conj(g).T"
   ]
  },
  {
   "cell_type": "markdown",
   "metadata": {},
   "source": [
    "Build the ${\\bf A}$, $\\Delta$, $\\Omega$, and ${\\bf G}$ matrices from Eqs. (11), (12), (13), and (15), respectively. "
   ]
  },
  {
   "cell_type": "code",
   "execution_count": null,
   "metadata": {},
   "outputs": [],
   "source": [
    "# A\n",
    "A_matrix = np.zeros((ndocc * nvirt, ndocc * nvirt), dtype=complex)\n",
    "# Delta\n",
    "D_matrix = np.zeros((ndocc * nvirt, ndocc * nvirt), dtype=complex)\n",
    "# G\n",
    "G = np.zeros((ndocc * nvirt, ndocc * nvirt), dtype=complex)\n",
    "# \\Omega\n",
    "Omega = np.zeros((ndocc * nvirt, ndocc * nvirt), dtype=complex)\n",
    "\n",
    "for i in range(0, ndocc):\n",
    "    for a in range(0, nvirt):\n",
    "        A = a + ndocc\n",
    "        ia = i * nvirt + a\n",
    "        \n",
    "        for j in range(0, ndocc):\n",
    "            for b in range(0, nvirt):\n",
    "                B = b + ndocc\n",
    "                jb = j * nvirt + b\n",
    "                \n",
    "                # ERI contribution to A + \\Delta\n",
    "                A_matrix[ia, jb] = (2.0 * ovov[i, a, j, b] - oovv[i, j, a, b])\n",
    "                \n",
    "                # 2-electron dipole contribution to A + \\Delta\n",
    "                D_matrix[ia, jb] += 2.0 * l_dot_mu_el[i, A] * l_dot_mu_el[j, B]\n",
    "                D_matrix[ia, jb] -= l_dot_mu_el[i, j] * l_dot_mu_el[A, B]\n",
    "                \n",
    "                # bilinear coupling contributions to G\n",
    "                # off-diagonal terms (plus occasional diagonal terms)\n",
    "                G[ia, jb] += np.sqrt(omega_val / 2) * l_dot_mu_el[i, j] * (a == b)\n",
    "                G[ia, jb] -= np.sqrt(omega_val / 2) * l_dot_mu_el[A, B] * (i == j)\n",
    "                \n",
    "                # diagonal contributions to A_p_D, G, and \\Omega matrix\n",
    "                if i == j and a == b:\n",
    "                    # orbital energy contribution to A + \\Delta ... this also includes \n",
    "                    # the DSE terms that contributed to the CQED-RHF energy \n",
    "                    A_matrix[ia, jb] += eps_v[a] \n",
    "                    A_matrix[ia, jb] -= eps_o[i] \n",
    "                    \n",
    "                    # diagonal \\omega term\n",
    "                    Omega[ia, jb] = omega_val"
   ]
  },
  {
   "cell_type": "markdown",
   "metadata": {},
   "source": [
    "Now that we have the sub-blocks formed, we can map these subblocks to the supermatrix that comprises the\n",
    "CISS-PF matrix.  The ordering of the basis vectors can be illustrated schematically as follows:\n",
    "\n",
    "\\begin{equation}\n",
    "|R,0\\rangle, |S,0\\rangle, |R,1\\rangle, |S,1\\rangle\n",
    "\\end{equation}\n",
    "where $|R\\rangle$ denotes the reference electronic basis state (of which there is only 1) and $|S\\rangle$ denotes all singly-excited electronic basis states (of which there are $N_v N_o$ states).  Therefore, we can define \n",
    "offsets for the blocks of the matrices as follows:\n",
    "\n",
    "$|R,0\\rangle$ offset = $0$\n",
    "\n",
    "$|S,0\\rangle$ offset = $1$\n",
    "\n",
    "$|R,1\\rangle$ offset = $N_v N_o + 1$\n",
    "\n",
    "$|S,1\\rangle$ offset = $N_v N_o + 2$\n",
    "\n",
    "Using the same basis states but neglecting the $\\Delta$ matrix from the CISS-PF method, we arrive at a CISS approach to the Jaynes-Cummings Hamiltonian:\n",
    "\\begin{equation}\\label{eq:H-CISS-JC}\n",
    "\\begin{bmatrix}\n",
    "0 & 0 & 0 & \\hbar {\\bf g} \\\\\n",
    "0 & {\\bf A}  & \\hbar {\\bf g}^{\\dagger}  & \\hbar {\\bf G} \\\\\n",
    "0 & \\hbar {\\bf g} & \\hbar \\omega & 0 \\\\\n",
    "\\hbar {\\bf g}^{\\dagger} & \\hbar {\\bf G} & 0 & {\\bf A} + \\hbar \\Omega \n",
    "\\end{bmatrix}\n",
    "\\begin{bmatrix}\n",
    "{\\bf c}^0_0 \\\\\n",
    "{\\bf c}^0_{ia} \\\\\n",
    "{\\bf c}^1_0 \\\\\n",
    "{\\bf c}^1_{ia}\n",
    "\\end{bmatrix}\n",
    "=\n",
    "E_{CISS-JC}\n",
    "\\begin{bmatrix}\n",
    "{\\bf c}^0_0 \\\\\n",
    "{\\bf c}^0_{ia} \\\\\n",
    "{\\bf c}^1_0 \\\\\n",
    "{\\bf c}^1_{ia}, \\tag{16}\n",
    "\\end{bmatrix}\n",
    "\\end{equation}"
   ]
  },
  {
   "cell_type": "code",
   "execution_count": null,
   "metadata": {},
   "outputs": [],
   "source": [
    "# define the offsets\n",
    "R0_offset = 0\n",
    "S0_offset = 1\n",
    "R1_offset = ndocc * nvirt + 1\n",
    "S1_offset = ndocc * nvirt + 2"
   ]
  },
  {
   "cell_type": "code",
   "execution_count": null,
   "metadata": {},
   "outputs": [],
   "source": [
    "# CISS Hamiltonians\n",
    "H_CISS_PF = np.zeros((ndocc * nvirt * 2 + 2, ndocc * nvirt * 2 + 2), dtype=complex)\n",
    "H_CISS_JC = np.zeros((ndocc * nvirt * 2 + 2, ndocc * nvirt * 2 + 2), dtype=complex)\n",
    "\n",
    "# build the supermatrix\n",
    "# g coupling\n",
    "# PF\n",
    "H_CISS_PF[R0_offset:S0_offset, S1_offset:] = g\n",
    "H_CISS_PF[S0_offset:R1_offset, R1_offset:S1_offset] = g_dag\n",
    "H_CISS_PF[R1_offset:S1_offset, S0_offset:R1_offset] = g\n",
    "H_CISS_PF[S1_offset:,          R0_offset:S0_offset] = g_dag\n",
    "# JC\n",
    "H_CISS_JC[R0_offset:S0_offset, S1_offset:] = g\n",
    "H_CISS_JC[S0_offset:R1_offset, R1_offset:S1_offset] = g_dag\n",
    "H_CISS_JC[R1_offset:S1_offset, S0_offset:R1_offset] = g\n",
    "H_CISS_JC[S1_offset:,          R0_offset:S0_offset] = g_dag\n",
    "\n",
    "# A + \\Delta for PF\n",
    "H_CISS_PF[S0_offset:R1_offset, S0_offset:R1_offset] = A_matrix + D_matrix\n",
    "\n",
    "# A for JC\n",
    "H_CISS_JC[S0_offset:R1_offset, S0_offset:R1_offset] = A_matrix\n",
    "\n",
    "# omega\n",
    "# PF\n",
    "H_CISS_PF[R1_offset, R1_offset] = omega_val\n",
    "# JC\n",
    "H_CISS_JC[R1_offset, R1_offset] = omega_val\n",
    "\n",
    "# A + \\Delta + \\Omega for PF\n",
    "H_CISS_PF[S1_offset:, S1_offset:] = A_matrix + D_matrix + Omega\n",
    "\n",
    "# A + \\Omega for JC\n",
    "H_CISS_JC[S1_offset:, S1_offset:] = A_matrix + Omega\n",
    "\n",
    "# G coupling\n",
    "# PF\n",
    "H_CISS_PF[S1_offset:,S0_offset:R1_offset] = G\n",
    "H_CISS_PF[S0_offset:R1_offset, S1_offset:] = G\n",
    "# JC\n",
    "H_CISS_JC[S1_offset:,S0_offset:R1_offset] = G\n",
    "H_CISS_JC[S0_offset:R1_offset, S1_offset:] = G"
   ]
  },
  {
   "cell_type": "markdown",
   "metadata": {},
   "source": [
    "If we eliminate the simultaneous single-excitations in the photonic and electronic\n",
    "degrees of freedom, we arrive at the CIS-PF method which has direct analogy to the TDA-PF\n",
    "method described by Shao and co-workers:\n",
    "\\begin{equation}\n",
    "\\begin{bmatrix}\n",
    "{\\bf A} +\\Delta  & \\hbar {\\bf g}^{\\dagger}  \\\\\n",
    " \\hbar {\\bf g} & \\hbar \\omega\n",
    "\\end{bmatrix}\n",
    "\\begin{bmatrix}\n",
    "{\\bf c}^0_{ia} \\\\\n",
    "{\\bf c}^1_0 \n",
    "\\end{bmatrix}\n",
    "=\n",
    "E_{CIS-PF}\n",
    "\\begin{bmatrix}\n",
    "{\\bf c}^0_{ia} \\\\\n",
    "{\\bf c}^1_0\n",
    "\\end{bmatrix}. \\tag{17}\n",
    "\\end{equation}\n",
    "\n",
    "If we neglect the $\\Delta$ matrix in the CIS-PF Hamiltonian, we arrive at the CIS-JC method in direct analogy with the TDA-JC method described by Shao and co-workers:\n",
    "\\begin{equation}\n",
    "\\begin{bmatrix}\n",
    "{\\bf A}  & \\hbar {\\bf g}^{\\dagger}  \\\\\n",
    " \\hbar {\\bf g} & \\hbar \\omega\n",
    "\\end{bmatrix}\n",
    "\\begin{bmatrix}\n",
    "{\\bf c}^0_{ia} \\\\\n",
    "{\\bf c}^1_0 \n",
    "\\end{bmatrix}\n",
    "=\n",
    "E_{CIS-JC}\n",
    "\\begin{bmatrix}\n",
    "{\\bf c}^0_{ia} \\\\\n",
    "{\\bf c}^1_0\n",
    "\\end{bmatrix}. \\tag{18}\n",
    "\\end{equation}\n"
   ]
  },
  {
   "cell_type": "markdown",
   "metadata": {},
   "source": [
    "The ordering of the basis vectors for the two CIS methods above can be illustrated schematically as follows:\n",
    "\n",
    "\\begin{equation}\n",
    "|S,0\\rangle, |R,1\\rangle\n",
    "\\end{equation}\n",
    "We can define \n",
    "offsets for the blocks of the matrices as follows:\n",
    "\n",
    "$|S,0\\rangle$ offset = $0$\n",
    "\n",
    "$|R,1\\rangle$ offset = $N_v N_o$"
   ]
  },
  {
   "cell_type": "code",
   "execution_count": null,
   "metadata": {},
   "outputs": [],
   "source": [
    "# define the CIS offsets\n",
    "CIS_S0_offset = 0\n",
    "CIS_R1_offset = ndocc * nvirt\n",
    "\n",
    "# CIS Hamiltonians\n",
    "H_CIS_PF = np.zeros((ndocc * nvirt + 1, ndocc * nvirt + 1), dtype=complex)\n",
    "H_CIS_JC = np.zeros((ndocc * nvirt + 1, ndocc * nvirt + 1), dtype=complex)\n",
    "\n",
    "# build the supermatrix\n",
    "# g coupling\n",
    "# PF\n",
    "H_CIS_PF[CIS_R1_offset:, CIS_S0_offset:CIS_R1_offset] = g\n",
    "H_CIS_PF[CIS_S0_offset:CIS_R1_offset, CIS_R1_offset:] = g_dag\n",
    "# JC\n",
    "H_CIS_JC[CIS_R1_offset:, CIS_S0_offset:CIS_R1_offset] = g\n",
    "H_CIS_JC[CIS_S0_offset:CIS_R1_offset, CIS_R1_offset:] = g_dag\n",
    "\n",
    "# A + \\Delta for PF\n",
    "H_CIS_PF[CIS_S0_offset:CIS_R1_offset, CIS_S0_offset:CIS_R1_offset] = A_matrix + D_matrix\n",
    "# A  for JF\n",
    "H_CIS_JC[CIS_S0_offset:CIS_R1_offset, CIS_S0_offset:CIS_R1_offset] = A_matrix\n",
    "\n",
    "# omega\n",
    "# PF\n",
    "H_CIS_PF[CIS_R1_offset, CIS_R1_offset] = omega_val\n",
    "# JC\n",
    "H_CIS_JC[CIS_R1_offset, CIS_R1_offset] = omega_val\n",
    "\n",
    "# diagonalize the total QED-CIS matrix and the \n",
    "E_CISS_PF, C_CISS_PF = np.linalg.eigh(H_CISS_PF)\n",
    "E_CISS_JC, C_CISS_JC = np.linalg.eigh(H_CISS_JC)\n",
    "\n",
    "E_CIS_PF, C_CIS_PF = np.linalg.eigh(H_CIS_PF)\n",
    "E_CIS_JC, C_CIS_JC = np.linalg.eigh(H_CIS_JC)\n",
    "\n"
   ]
  },
  {
   "cell_type": "markdown",
   "metadata": {},
   "source": [
    "Now we can diagonalize the different supermatrices formed above to obtain the\n",
    "eigenvalues and eigenvectors from these 4 related levels of theory."
   ]
  },
  {
   "cell_type": "code",
   "execution_count": null,
   "metadata": {},
   "outputs": [],
   "source": [
    "# diagonalize the 4 different supermatrices formed above\n",
    "E_CISS_PF, C_CISS_PF = np.linalg.eigh(H_CISS_PF)\n",
    "E_CISS_JC, C_CISS_JC = np.linalg.eigh(H_CISS_JC)\n",
    "\n",
    "E_CIS_PF, C_CIS_PF = np.linalg.eigh(H_CIS_PF)\n",
    "E_CIS_JC, C_CIS_JC = np.linalg.eigh(H_CIS_JC)\n",
    "\n",
    "# store the results in a dictionary\n",
    "cqed_cis_dict = {\n",
    "    \"RHF ENERGY\": scf_e,\n",
    "    \"CQED-RHF ENERGY\": cqed_scf_e,\n",
    "    \"CISS-PF ENERGY\": E_CISS_PF,\n",
    "    \"CISS-JC ENERGY\": E_CISS_JC,\n",
    "    \"CIS-PF ENERGY\": E_CIS_PF,\n",
    "    \"CIS-JC ENERGY\": E_CIS_JC,\n",
    "}\n"
   ]
  },
  {
   "cell_type": "markdown",
   "metadata": {},
   "source": [
    "#### NEED SOME VALIDATION CHECKS HERE!"
   ]
  },
  {
   "cell_type": "code",
   "execution_count": null,
   "metadata": {},
   "outputs": [],
   "source": [
    "expected_vals = np.array([-2.50831265e-04,  \n",
    "                          1.65570838e-01,\n",
    "                          1.82666685e-01,\n",
    "                          2.33013344e-01,\n",
    "                          2.33013344e-01])\n",
    "\n",
    "\n",
    "assert np.allclose(expected_vals, cqed_cis_dict['CISS-PF ENERGY'][0:5],1e-6)"
   ]
  },
  {
   "cell_type": "markdown",
   "metadata": {},
   "source": [
    "### References\n",
    "\n",
    "   - [[McTague:2022:154103]](https://aip.scitation.org/doi/10.1063/5.0091953)] J. McTague, J. J. Foley IV, *J. Chem. Phys.* **156**, 154103 (2022)\n",
    "   - [[Shao:2021:064107]](https://aip.scitation.org/doi/full/10.1063/5.0057542) J. Yang, Q. Ou, Z. Pei, H. Wang, B. Weng, Z. Shuai, K. Mullen, Y. Shao, *J. Chem. Phys.* **155**, 064107 (2021)"
   ]
  }
 ],
 "metadata": {
  "kernelspec": {
   "display_name": "Python 3 (ipykernel)",
   "language": "python",
   "name": "python3"
  },
  "language_info": {
   "codemirror_mode": {
    "name": "ipython",
    "version": 3
   },
   "file_extension": ".py",
   "mimetype": "text/x-python",
   "name": "python",
   "nbconvert_exporter": "python",
   "pygments_lexer": "ipython3",
   "version": "3.9.13"
  },
  "latex_envs": {
   "LaTeX_envs_menu_present": true,
   "bibliofile": "biblio.bib",
   "cite_by": "apalike",
   "current_citInitial": 1,
   "eqLabelWithNumbers": true,
   "eqNumInitial": 1,
   "labels_anchors": false,
   "latex_user_defs": false,
   "report_style_numbering": false,
   "user_envs_cfg": false
  }
 },
 "nbformat": 4,
 "nbformat_minor": 1
}
