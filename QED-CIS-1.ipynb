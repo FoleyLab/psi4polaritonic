{
 "cells": [
  {
   "cell_type": "markdown",
   "metadata": {
    "collapsed": true
   },
   "source": [
    "# Configuration Interaction with Single Electronic and Photonic Excitations applied to the Pauli-Fierz Hamiltonian"
   ]
  },
  {
   "cell_type": "code",
   "execution_count": 1,
   "metadata": {},
   "outputs": [],
   "source": [
    "\"\"\"Tutorial implementing a QED-CIS-1 and related methods\"\"\"\n",
    "\n",
    "__authors__ = \"J. McTague, J. Foley, A. E. DePrince III\"\n",
    "__credits__ = \"J. McTague, J. Foley, A. E. DePrince III\"\n",
    "__email__   = \"jfoley19@uncc.edu, deprince@fsu.edu\"\n",
    "\n",
    "__copyright__ = \"(c) 2014-2018, The Psi4NumPy Developers\"\n",
    "__license__   = \"BSD-3-Clause\"\n",
    "__date__      = \"6/15/2022\""
   ]
  },
  {
   "cell_type": "markdown",
   "metadata": {},
   "source": [
    "\n",
    "\n",
    "\n",
    "# I. Theoretical Overview\n",
    "\n",
    "For details on the Pauli-Fierz Hamiltonian and the Hartree-Fock method applied to the Hamiltonian, \n",
    "see the [QED-HF tutorial](QED-HF_Tutorial.ipynb).\n",
    "\n",
    "### *QED-CIS-1 Ansatz*\n",
    "A mean-field description of the excited states of the molecular system strongly interacting with photonic degrees of freedom, and a correction to the ground-state that contains coupling between the QED-HF reference and simultaneous electronic and photonic excitations, may be obtained through a configuration interaction  ansatz that includes up to simultaneous single excitations of the electronic and photonic degrees of freedom.  Although previously referred to as the CQED-CIS method, here we refer to this as the QED-CIS-1 method \n",
    "to denote that simultaneous single excitations on the electron and photon degrees of freedom are included in this ansatz.   In the following presentation, we assume the QED-HF reference which will be computed by a helper function imported by this notebook.\n",
    "\n",
    "The polaritonic energy eigenfunctions for state $I$ in the\n",
    "QED-CIS-1 ansatz can be written as a linear combination of the QED-HF reference and products of all possible single excitations out of the QED-HF reference.  The QED-HF reference involves the product of an electronic Slater determinant with the photon vacuum state $|\\Phi_o\\rangle |0\\rangle$, so single excitations can occur as electronic excitations from an occupied orbital $\\phi_i$ to a virtual orbital $\\phi_a$, the raising of the photon number state from $|0\\rangle \\rightarrow |1\\rangle$, or both.  We therefore write the QED-CIS-1 wavefunction for state $I$ as\n",
    "\\begin{equation}\\label{eq:QED-CIS-1}\n",
    "\\Psi_I = c_0^0 |\\Phi_0\\rangle |0\\rangle + \n",
    "\\sum_{i,a} c_{ia}^0 |\\Phi_i^a\\rangle |0\\rangle +\n",
    "c_0^1 |\\Phi_0\\rangle |1\\rangle +\n",
    "\\sum_{i,a} c_{ia}^1 |\\Phi_i^a\\rangle |1\\rangle \\tag{9}. \n",
    "\\end{equation}\n",
    "where the coefficients $c$ denote the contribution of a given term to the wavefunction and we have denoted the electronic excitations in the subscript and the photonic excitations in the superscript of these coefficients. For the case of multiple modes, the photonic basis states will be augmented to consider all possible combinations of the occupations of those modes within a maximum photon number.  These coefficients, and the corresponding energy eigenvalues for a given QED-CIS-1 state $I$, may be obtained by diagonalizing the Hamiltonian matrix built in the basis shown below in Eq. (10).  We spin adapt this basis such that $|\\Phi_i^a\\rangle = \\frac{1}{\\sqrt{2}}\\left(|\\Phi_{i\\alpha}^{a \\alpha} \\rangle + |\\Phi_{i\\beta}^{a\\beta}\\rangle \\right)$, where $\\alpha$ and $\\beta$ label the spin orbitals as being occupied by spin-up and spin-down electrons, respectively.  The matrix can be written schematically as \n",
    "\\begin{equation}\n",
    "\\begin{bmatrix}\n",
    "0 & 0 & 0 & \\hbar {\\bf g} \\\\\n",
    "0 & {\\bf A} +\\Delta  & \\hbar {\\bf g}^{\\dagger}  & \\hbar {\\bf G} \\\\\n",
    "0 & \\hbar {\\bf g} & \\hbar \\omega & 0 \\\\\n",
    "\\hbar {\\bf g}^{\\dagger} & \\hbar {\\bf G} & 0 & {\\bf A} + \\Delta + \\hbar \\Omega \n",
    "\\end{bmatrix}\n",
    "\\begin{bmatrix}\n",
    "{\\bf c}^0_0 \\\\\n",
    "{\\bf c}^0_{ia} \\\\\n",
    "{\\bf c}^1_0 \\\\\n",
    "{\\bf c}^1_{ia}\n",
    "\\end{bmatrix}\n",
    "=\n",
    "E_{\\rm QED-CIS-1}\n",
    "\\begin{bmatrix}\n",
    "{\\bf c}^0_0 \\\\\n",
    "{\\bf c}^0_{ia} \\\\\n",
    "{\\bf c}^1_0 \\\\\n",
    "{\\bf c}^1_{ia}, \\tag{10}\n",
    "\\end{bmatrix}\n",
    "\\end{equation}\n",
    "where we have shifted the QED-CIS-1 Hamiltonian by QED-HF energy. \n",
    "\n",
    "\n",
    "In the QED-CIS-1 Hamiltonian matrix above, the elements of ${\\bf A}$ are similar to Canonical CIS theory,\n",
    "\\begin{equation}\n",
    "    A_{ia,jb} = F^{\\rm C}_{ab} \\delta_{ij} -  F^{\\rm C}_{ij }\\delta_{ab} + 2(ia|jb) - (ij|ab) \\tag{11}, \n",
    "\\end{equation}\n",
    "with an important difference being that the two-electron integrals are performed in the QED-HF basis and the orbital energies result from the QED-HF calculation and contain dipole self energy contributions of the reference wavefunction.  The dipole self energy in the subspace of single-excitations is contained in the $\\Delta$ matrix,\n",
    "\\begin{equation}\n",
    "    \\Delta_{ia,jb} =F^{\\rm DSE}_{ab} \\delta_{ij} -  F^{\\rm DSE}_{ij }\\delta_{ab} + 2 d_{ia} d_{jb} \n",
    "    -d_{ij} d_{ab} \\tag{12}. \n",
    "\\end{equation}\n",
    "The photonic energy is contained in $\\hbar \\omega$ and $\\hbar \\Omega$ as follows:\n",
    "\\begin{equation}\n",
    "    \\Omega_{ia,jb} = \\omega \\delta_{ij} \\delta_{ab} \\tag{13}.\n",
    "\\end{equation}\n",
    "The bilinear coupling contributes to blocks that couple singly-excited determinants to the reference, and to blocks that couple singly-excited determinants in the bra and the ket. \n",
    "The coupling between singly-excited determinants and the reference through elements of ${\\bf g}$,\n",
    "\\begin{equation}\n",
    "    g_{ia} = -\\sqrt{\\omega} d_{ia}\\tag{14},\n",
    "\\end{equation}\n",
    "and the coupling between singly-excited determinants are captured through elements of ${\\bf G}$,\n",
    "\\begin{equation}\n",
    "    G_{ia,jb} = \\sqrt{\\frac{\\omega}{2}} \\left( d_{ij} \\delta_{ab} \n",
    "    -  d_{ab} \\delta_{ij} \\right)\\tag{15}.\n",
    "\\end{equation}"
   ]
  },
  {
   "cell_type": "markdown",
   "metadata": {},
   "source": [
    "## II. Implementation\n",
    "\n",
    "Using the above overview, we will implement the QED-CIS-1 method using <span style=\"font-variant: small-caps\"> Psi4 </span> and NumPy.  We will also import a helper function that\n",
    "will perform an intial QED-HF calculation to get the orbital basis for the subsequent QED-CIS-1 calculations.  First, we need to import these Python modules and set some basic <span style=\"font-variant: small-caps\"> Psi4 </span> options. "
   ]
  },
  {
   "cell_type": "code",
   "execution_count": 2,
   "metadata": {},
   "outputs": [
    {
     "name": "stdout",
     "output_type": "stream",
     "text": [
      "\n",
      "  Memory set to 476.837 MiB by Python driver.\n"
     ]
    }
   ],
   "source": [
    "# ==> Import Psi4, NumPy, linear algebra package from scipy, time,\n",
    "#     and helper_cqed_rhf to perform the requisite HF-PF calculation <==\n",
    "import psi4\n",
    "import numpy as np\n",
    "import time\n",
    "from helper_cqed_rhf import cqed_rhf\n",
    "\n",
    "# ==> Set Basic Psi4 Options <==\n",
    "# Memory specification\n",
    "psi4.set_memory(int(5e8))\n",
    "numpy_memory = 2\n",
    "\n",
    "# Set output file\n",
    "psi4.core.set_output_file('output.dat', False)\n"
   ]
  },
  {
   "cell_type": "markdown",
   "metadata": {},
   "source": [
    "Next we will define the molecular geometry along\n",
    "with <span style=\"font-variant: small-caps\"> Psi4 </span> options for the basis set and convergence criteria \n",
    "for the QED-HF calculation.  The helper function that performs\n",
    "QED-HF calculations will expect the molecular geometry in a string\n",
    "representation and options as a dictionary."
   ]
  },
  {
   "cell_type": "code",
   "execution_count": 3,
   "metadata": {},
   "outputs": [],
   "source": [
    "# MgH Test Case\n",
    "molecule_string = \"\"\"\n",
    "Mg\n",
    "H 1 2.2\n",
    "symmetry c1\n",
    "1 1\n",
    "\"\"\"\n",
    "\n",
    "# options dict\n",
    "options_dict = {\n",
    "    \"basis\": \"cc-pVDZ\",\n",
    "    \"save_jk\": True,\n",
    "    \"scf_type\": \"pk\",\n",
    "    \"e_convergence\": 1e-10,\n",
    "    \"d_convergence\": 1e-10,\n",
    "}\n"
   ]
  },
  {
   "cell_type": "markdown",
   "metadata": {},
   "source": [
    "Next we will define the parameters that define the photon energy and the coupling\n",
    "vector. In particular, we will define the photon energy as \n",
    "\n",
    "$$ \\hbar \\omega = 4.75  \\: {\\rm eV} = 0.1745 \\: {\\rm a.u.}$$\n",
    "\n",
    "and the coupling vector as \n",
    "\n",
    "$$ \\lambda = (0, 0, 0.0125) \\: {\\rm a.u.} $$"
   ]
  },
  {
   "cell_type": "code",
   "execution_count": 4,
   "metadata": {},
   "outputs": [],
   "source": [
    "# photon energy\n",
    "omega_val = 4.75 / psi4.constants.Hartree_energy_in_eV\n",
    "\n",
    "# coupling vector\n",
    "lambda_vector = np.array([0, 0, 0.0125])\n"
   ]
  },
  {
   "cell_type": "markdown",
   "metadata": {},
   "source": [
    "We will run a preliminary RHF calculation using <span style=\"font-variant: small-caps\"> Psi4 </span> and save the wavefunction object \n",
    "to help us get 1 and 2-electron integrals.  We will also use the helper_cqed_rhf function to run the QED-HF calculation."
   ]
  },
  {
   "cell_type": "code",
   "execution_count": 5,
   "metadata": {},
   "outputs": [
    {
     "name": "stdout",
     "output_type": "stream",
     "text": [
      "\n",
      "Start SCF iterations:\n",
      "\n",
      "Canonical RHF One-electron energy = -281.6658725092592590\n",
      "CQED-RHF One-electron energy      = -281.6660217365259200\n",
      "Nuclear repulsion energy          = 2.8864211491090908\n",
      "Dipole energy                     = 0.0009465637016117\n",
      "SCF Iteration   1: Energy = -199.8633303817347553   dE = -1.99863E+02   dRMS = 2.52850E-05\n",
      "SCF Iteration   2: Energy = -199.8633315502312939   dE = -1.16850E-06   dRMS = 9.55045E-06\n",
      "SCF Iteration   3: Energy = -199.8633316895820826   dE = -1.39351E-07   dRMS = 3.61517E-06\n",
      "SCF Iteration   4: Energy = -199.8633317095166433   dE = -1.99346E-08   dRMS = 1.37921E-06\n",
      "SCF Iteration   5: Energy = -199.8633317124261168   dE = -2.90947E-09   dRMS = 5.28065E-07\n",
      "SCF Iteration   6: Energy = -199.8633317128546310   dE = -4.28514E-10   dRMS = 2.02751E-07\n",
      "SCF Iteration   7: Energy = -199.8633317129178977   dE = -6.32667E-11   dRMS = 7.79875E-08\n",
      "SCF Iteration   8: Energy = -199.8633317129273053   dE = -9.40759E-12   dRMS = 3.00308E-08\n",
      "SCF Iteration   9: Energy = -199.8633317129288400   dE = -1.53477E-12   dRMS = 1.15716E-08\n",
      "SCF Iteration  10: Energy = -199.8633317129289537   dE = -1.13687E-13   dRMS = 4.46056E-09\n",
      "SCF Iteration  11: Energy = -199.8633317129291811   dE = -2.27374E-13   dRMS = 1.71984E-09\n",
      "SCF Iteration  12: Energy = -199.8633317129291811   dE =  0.00000E+00   dRMS = 6.63203E-10\n",
      "SCF Iteration  13: Energy = -199.8633317129290958   dE =  8.52651E-14   dRMS = 2.55767E-10\n",
      "SCF Iteration  14: Energy = -199.8633317129289253   dE =  1.70530E-13   dRMS = 9.86428E-11\n",
      "Total time for SCF iterations: 0.020 seconds \n",
      "\n",
      "QED-RHF   energy: -199.86333171 hartree\n",
      "Psi4  SCF energy: -199.86395910 hartree\n"
     ]
    }
   ],
   "source": [
    "# set the options in psi4\n",
    "psi4.set_options(options_dict)\n",
    "# define the molecule based on the string representation of the geometry\n",
    "mol = psi4.geometry(molecule_string)\n",
    "# run an RHF calculation with psi4 and save the wavefunction object and RHF energy\n",
    "scf_e, wfn = psi4.energy('scf', return_wfn=True)\n",
    "\n",
    "# compute QED-HF wavefunction and energy \n",
    "cqed_rhf_dict = cqed_rhf(lambda_vector, molecule_string, options_dict)"
   ]
  },
  {
   "cell_type": "markdown",
   "metadata": {},
   "source": [
    "We need to prepare the arrays that will be used in the elements of the QED-CIS-1 matrix.  We will need access to 2-electron repulsion integrals, dipole integrals, and quadrupole integrals all in the QED-HF basis, and we will also need the orbital energies that arise from QED-HF.  The following block will use results from the previously-run QED-HF calculation on the molecule defined above to obtain the QED-HF orbitals and orbital energies needed to transform all integrals to the QED-HF basis.  These quantities are returned as a dictionary from the QED-HF calculation.  If you want to see all of the available keys, you can do so with the following lines of python:\n",
    "\n",
    "`for key, items in cqed_rhf_dict.items():\n",
    "    print(key)`"
   ]
  },
  {
   "cell_type": "code",
   "execution_count": 6,
   "metadata": {},
   "outputs": [],
   "source": [
    "# grab necessary quantities from cqed_rhf_dict\n",
    "# molecular RHF energy\n",
    "scf_e = cqed_rhf_dict[\"RHF ENERGY\"]\n",
    "# energy from the HF-PF calculation\n",
    "cqed_scf_e = cqed_rhf_dict[\"CQED-RHF ENERGY\"]\n",
    "# psi4's wavefunction object\n",
    "wfn = cqed_rhf_dict[\"PSI4 WFN\"]\n",
    "# transformation vectors from HF-PF calculation\n",
    "C = cqed_rhf_dict[\"CQED-RHF C\"]\n",
    "# CQED-RHF Density matrix\n",
    "D = cqed_rhf_dict[\"CQED-RHF DENSITY MATRIX\"]\n",
    "# orbital energies from HF-PF calculation\n",
    "eps = cqed_rhf_dict[\"CQED-RHF EPS\"]\n",
    "# dipole moment from HF-PF calculation\n",
    "cqed_rhf_dipole_moment = cqed_rhf_dict[\"CQED-RHF DIPOLE MOMENT\"]\n"
   ]
  },
  {
   "cell_type": "markdown",
   "metadata": {},
   "source": [
    "We will get some more relevant quantities directly from the wavefunction object\n",
    "that we saved from <span style=\"font-variant: small-caps\"> Psi4's </span> RHF calculation.  "
   ]
  },
  {
   "cell_type": "code",
   "execution_count": 7,
   "metadata": {},
   "outputs": [],
   "source": [
    "# Grab data from wavfunction\n",
    "# number of doubly occupied orbitals\n",
    "ndocc = wfn.nalpha()\n",
    "\n",
    "# total number of orbitals\n",
    "nmo = wfn.nmo()\n",
    "\n",
    "# number of virtual orbitals\n",
    "nvirt = nmo - ndocc\n",
    "\n"
   ]
  },
  {
   "cell_type": "markdown",
   "metadata": {},
   "source": [
    "The wavefunction object also has an attribute that contains the transformation vectors that define the AO->MO transformation.  For our QED-CIS-1 calculation, we are interested in the HF-PF transformation vectors rather than the canonical HF transformation vectors. Our QED-HF transformation vectors are now stored to the array `C` from the previous block, and so we can swap these vectors out for the canonical MO vectors by using a set of built-in <span style=\"font-variant: small-caps\"> Psi4 </span> functions that maps the wavefunction object to a dictionary, changing the values of the dictionary items that store the canoncal MO transformation vectors to the values that define the QED-HF transformation vectors, and then mapping that dictionary back to a <span style=\"font-variant: small-caps\"> Psi4's </span> wavefunction object.  The block below performs these operations.  This seems like a lot of work, but <span style=\"font-variant: small-caps\"> Psi4 </span> has some built-in functions that will perform 4-index transformations efficiently utilizing the transformation vectors stored as core <span style=\"font-variant: small-caps\"> Psi4 </span> matrices, so it really benefits us to do this to utilize this machinery!"
   ]
  },
  {
   "cell_type": "code",
   "execution_count": 8,
   "metadata": {},
   "outputs": [],
   "source": [
    "# need to update the Co and Cv core matrix objects so we can\n",
    "# utlize psi4s fast integral transformation!\n",
    "# collect rhf wfn object as dictionary\n",
    "wfn_dict = psi4.core.Wavefunction.to_file(wfn)\n",
    "\n",
    "# update wfn_dict with orbitals from CQED-RHF\n",
    "wfn_dict[\"matrix\"][\"Ca\"] = C\n",
    "wfn_dict[\"matrix\"][\"Cb\"] = C\n",
    "# update wfn object\n",
    "wfn = psi4.core.Wavefunction.from_file(wfn_dict)\n",
    "\n",
    "# get all orbitals\n",
    "Ca = wfn.Ca()\n",
    "# occupied orbitals as psi4 objects but they correspond to CQED-RHF orbitals\n",
    "Co = wfn.Ca_subset(\"AO\", \"OCC\")\n",
    "\n",
    "# virtual orbitals same way\n",
    "Cv = wfn.Ca_subset(\"AO\", \"VIR\")"
   ]
  },
  {
   "cell_type": "markdown",
   "metadata": {},
   "source": [
    "Now that we have the correct QED-HF transformation vectors (`Co` for the occupied subspace and `Cv` for the virtual subspace), we will obtain the 2-electron repulsion integrals (2ERI) in the QED-HF basis.  We can make use of helper functions associated with the <span style=\"font-variant: small-caps\"> Psi4 </span> mints library to transform the integrals from the AO to QED-HF basis given the transformation vectors as arguments.  We need 2ERIs of the type $(ia|jb)$ and $(ij|ab)$ for the QED-CIS-1 equations, and we will store these integrals in arrays called `ovov` and `oovv`, respectively."
   ]
  },
  {
   "cell_type": "code",
   "execution_count": 9,
   "metadata": {},
   "outputs": [],
   "source": [
    "# Create instance of MintsHelper class\n",
    "mints = psi4.core.MintsHelper(wfn.basisset())\n",
    "# use built-in mints function to build the (ov|ov)\n",
    "# integrals in the HF-PF basis using Co and Cv\n",
    "ovov = np.asarray(mints.mo_eri(Co, Cv, Co, Cv))\n",
    "\n",
    "# use built-in mints function to build the (oo|vv)\n",
    "# integrals in the HF-PF basis using Co and Cv\n",
    "oovv = np.asarray(mints.mo_eri(Co, Co, Cv, Cv))"
   ]
  },
  {
   "cell_type": "markdown",
   "metadata": {},
   "source": [
    "We need the occupied and virtual QED-HF orbital energies, $\\epsilon_i$ and $\\epsilon_a$ respectively, which we will store in arrays called `\\eps_o` and `eps_v`."
   ]
  },
  {
   "cell_type": "code",
   "execution_count": 10,
   "metadata": {},
   "outputs": [],
   "source": [
    "# strip out occupied orbital energies, eps_o spans 0..ndocc-1\n",
    "eps_o = eps[:ndocc]\n",
    "\n",
    "# strip out virtual orbital energies, eps_v spans 0..nvirt-1\n",
    "eps_v = eps[ndocc:]"
   ]
  },
  {
   "cell_type": "markdown",
   "metadata": {},
   "source": [
    "Terms of the form $d_{pq}^{\\xi} = \\lambda^{\\xi} \\mu_{pq}^{\\xi}$ require dipole integrals in the QED-HF basis dotted into the electric field vector $\\vec{\\lambda}$. \n",
    "\n",
    "Here we will obtain the Cartesian components of the dipole integrals in the AO basis using the mints helper class and store them in arrays `mu_ao_x`, `mu_ao_y`, and `mu_ao_z`.  We will then transform them to the QED-HF basis using the transformation vectors stored in an array called `C`. Finally, we will accumulate the dot product of these integrals and the $\\lambda$ vector and store the result in an array called `d_el`.  The terms shown in Eqs. (12), (14), and (15) will utilize the `d_el` array.  The expectation value of $\\hat{d}$ with respect to the QED-HF wavefunction will \n",
    "be stored in the variable `d_exp`.  The constant contribution from the dipole self energy to the electronic energy \n",
    "is given by $d_e = \\frac{1}{2} \\langle d \\rangle ^2$ and is stored in the variable `d_c`."
   ]
  },
  {
   "cell_type": "code",
   "execution_count": 11,
   "metadata": {},
   "outputs": [],
   "source": [
    "# dipole arrays in AO basis\n",
    "mu_ao_x = np.asarray(mints.ao_dipole()[0])\n",
    "mu_ao_y = np.asarray(mints.ao_dipole()[1])\n",
    "mu_ao_z = np.asarray(mints.ao_dipole()[2])\n",
    "\n",
    "# transform dipole array to QED-HF basis\n",
    "mu_cmo_x = np.dot(C.T, mu_ao_x).dot(C)\n",
    "mu_cmo_y = np.dot(C.T, mu_ao_y).dot(C)\n",
    "mu_cmo_z = np.dot(C.T, mu_ao_z).dot(C)\n",
    "\n",
    "# electronic dipole expectation value with QED-HF density\n",
    "mu_exp_x = np.einsum(\"pq,pq->\", 2 * mu_ao_x, D)\n",
    "mu_exp_y = np.einsum(\"pq,pq->\", 2 * mu_ao_y, D)\n",
    "mu_exp_z = np.einsum(\"pq,pq->\", 2 * mu_ao_z, D)\n",
    "\n",
    "# get electronic dipole expectation value\n",
    "mu_exp_el = np.array([mu_exp_x, mu_exp_y, mu_exp_z])\n",
    "\n",
    "# \\lambda \\cdot < \\mu > where < \\mu > contains only electronic terms \n",
    "d_exp = np.dot(lambda_vector, mu_exp_el)\n",
    "\n",
    "# \\lambda \\cdot \\mu_{el}\n",
    "d_el = lambda_vector[0] * mu_cmo_x\n",
    "d_el += lambda_vector[1] * mu_cmo_y\n",
    "d_el += lambda_vector[2] * mu_cmo_z\n",
    "\n",
    "# dipole constants to add to QED-CIS-1 Energy\n",
    "d_c = 0.5 * d_exp**2\n",
    "\n",
    "# If we have done these transformations correctly, the d_c above\n",
    "# will agree with what we have from QED-HF calculation\n",
    "assert np.isclose(d_c, cqed_rhf_dict[\"DIPOLE ENERGY\"])"
   ]
  },
  {
   "cell_type": "markdown",
   "metadata": {},
   "source": [
    "Build the ${\\bf g}$ and ${\\bf g}^{\\dagger}$ matrices (Eq. (14)). "
   ]
  },
  {
   "cell_type": "code",
   "execution_count": 12,
   "metadata": {},
   "outputs": [],
   "source": [
    "# build g matrix and its adjoint\n",
    "g = np.zeros((1,ndocc * nvirt))\n",
    "g_dag = np.zeros((ndocc * nvirt, 1))\n",
    "for i in range(0, ndocc):\n",
    "    for a in range(0, nvirt):\n",
    "        A = a + ndocc\n",
    "        ia = i * nvirt + a \n",
    "        g[0,ia] = (\n",
    "            -np.sqrt(omega_val) * d_el[i, A]\n",
    "        )\n",
    "\n",
    "# Now compute the adjoint of g\n",
    "g_dag = np.conj(g).T\n",
    "#print(g_dag)"
   ]
  },
  {
   "cell_type": "markdown",
   "metadata": {},
   "source": [
    "Build the ${\\bf A}$, $\\Delta$, $\\Omega$, and ${\\bf G}$ matrices from Eqs. (11), (12), (13), and (15), respectively. "
   ]
  },
  {
   "cell_type": "code",
   "execution_count": 13,
   "metadata": {},
   "outputs": [],
   "source": [
    "# A\n",
    "A_matrix = np.zeros((ndocc * nvirt, ndocc * nvirt))\n",
    "# Delta\n",
    "D_matrix = np.zeros((ndocc * nvirt, ndocc * nvirt))\n",
    "# G\n",
    "G = np.zeros((ndocc * nvirt, ndocc * nvirt))\n",
    "# \\Omega\n",
    "Omega = np.zeros((ndocc * nvirt, ndocc * nvirt))\n",
    "\n",
    "for i in range(0, ndocc):\n",
    "    for a in range(0, nvirt):\n",
    "        A = a + ndocc\n",
    "        ia = i * nvirt + a\n",
    "        for j in range(0, ndocc):\n",
    "            for b in range(0, nvirt):\n",
    "                B = b + ndocc\n",
    "                jb = j * nvirt + b\n",
    "                \n",
    "                # ERI contribution to A + \\Delta\n",
    "                A_matrix[ia, jb] = (2.0 * ovov[i, a, j, b] - oovv[i, j, a, b])\n",
    "                \n",
    "                # 2-electron dipole contribution to A + \\Delta\n",
    "                D_matrix[ia, jb] += 2.0 * d_el[i, A] * d_el[j, B]\n",
    "                D_matrix[ia, jb] -= d_el[i, j] * d_el[A, B]\n",
    "                \n",
    "                # bilinear coupling contributions to G\n",
    "                # off-diagonal terms (plus occasional diagonal terms)\n",
    "                G[ia, jb] += np.sqrt(omega_val / 2) * d_el[i, j] * (a == b)\n",
    "                G[ia, jb] -= np.sqrt(omega_val / 2) * d_el[A, B] * (i == j)\n",
    "                \n",
    "                # diagonal contributions to A_p_D, G, and \\Omega matrix\n",
    "                if i == j and a == b:\n",
    "                    # orbital energy contribution to A + \\Delta ... this also includes \n",
    "                    # the DSE terms that contributed to the CQED-RHF energy \n",
    "                    A_matrix[ia, jb] += eps_v[a]\n",
    "                    A_matrix[ia, jb] -= eps_o[i] \n",
    "                    \n",
    "                    # diagonal \\omega term\n",
    "                    Omega[ia, jb] = omega_val\n",
    "                    \n",
    "# Optional printing\n",
    "#print(G)\n",
    "#print(Omega)\n",
    "#print(A_matrix)\n",
    "#print(A_matrix + D_matrix)"
   ]
  },
  {
   "cell_type": "markdown",
   "metadata": {},
   "source": [
    "Now that we have the sub-blocks formed, we can map these subblocks to the supermatrix that comprises the\n",
    "QED-CIS-1 matrix.  The ordering of the basis vectors can be illustrated schematically as follows:\n",
    "\n",
    "\\begin{equation}\n",
    "|R,0\\rangle, |S,0\\rangle, |R,1\\rangle, |S,1\\rangle\n",
    "\\end{equation}\n",
    "where $|R\\rangle$ denotes the reference electronic basis state (of which there is only 1) and $|S\\rangle$ denotes all singly-excited electronic basis states (of which there are $N_v N_o$ states).  Therefore, we can define \n",
    "offsets for the blocks of the matrices as follows:\n",
    "\n",
    "$|R,0\\rangle$ offset = $0$\n",
    "\n",
    "$|S,0\\rangle$ offset = $1$\n",
    "\n",
    "$|R,1\\rangle$ offset = $N_v N_o + 1$\n",
    "\n",
    "$|S,1\\rangle$ offset = $N_v N_o + 2$\n",
    "\n",
    "Using the same basis states but neglecting the $\\Delta$ matrix from the QED-CIS-1 method, we arrive at a QED-CIS-1 approach to the Jaynes-Cummings Hamiltonian:\n",
    "\\begin{equation}\\label{eq:QED-CIS-1-JC}\n",
    "\\begin{bmatrix}\n",
    "0 & 0 & 0 & \\hbar {\\bf g} \\\\\n",
    "0 & {\\bf A}  & \\hbar {\\bf g}^{\\dagger}  & \\hbar {\\bf G} \\\\\n",
    "0 & \\hbar {\\bf g} & \\hbar \\omega & 0 \\\\\n",
    "\\hbar {\\bf g}^{\\dagger} & \\hbar {\\bf G} & 0 & {\\bf A} + \\hbar \\Omega \n",
    "\\end{bmatrix}\n",
    "\\begin{bmatrix}\n",
    "{\\bf c}^0_0 \\\\\n",
    "{\\bf c}^0_{ia} \\\\\n",
    "{\\bf c}^1_0 \\\\\n",
    "{\\bf c}^1_{ia}\n",
    "\\end{bmatrix}\n",
    "=\n",
    "E_{\\rm JC-CIS-1}\n",
    "\\begin{bmatrix}\n",
    "{\\bf c}^0_0 \\\\\n",
    "{\\bf c}^0_{ia} \\\\\n",
    "{\\bf c}^1_0 \\\\\n",
    "{\\bf c}^1_{ia}, \\tag{16}\n",
    "\\end{bmatrix}\n",
    "\\end{equation}"
   ]
  },
  {
   "cell_type": "code",
   "execution_count": 14,
   "metadata": {},
   "outputs": [],
   "source": [
    "# define the offsets\n",
    "R0_offset = 0\n",
    "S0_offset = 1\n",
    "R1_offset = ndocc * nvirt + 1\n",
    "S1_offset = ndocc * nvirt + 2"
   ]
  },
  {
   "cell_type": "code",
   "execution_count": 15,
   "metadata": {},
   "outputs": [],
   "source": [
    "# CISS Hamiltonians\n",
    "H_QED_CIS_1 = np.zeros((ndocc * nvirt * 2 + 2, ndocc * nvirt * 2 + 2))\n",
    "H_JC_CIS_1 = np.zeros((ndocc * nvirt * 2 + 2, ndocc * nvirt * 2 + 2))\n",
    "\n",
    "# build the supermatrix\n",
    "# g coupling\n",
    "# QED-CIS-1\n",
    "H_QED_CIS_1[R0_offset:S0_offset, S1_offset:] = g\n",
    "H_QED_CIS_1[S0_offset:R1_offset, R1_offset:S1_offset] = g_dag\n",
    "H_QED_CIS_1[R1_offset:S1_offset, S0_offset:R1_offset] = g \n",
    "H_QED_CIS_1[S1_offset:,          R0_offset:S0_offset] = g_dag \n",
    "# JC-CIS-1\n",
    "H_JC_CIS_1[R0_offset:S0_offset, S1_offset:] = g\n",
    "H_JC_CIS_1[S0_offset:R1_offset, R1_offset:S1_offset] = g_dag\n",
    "H_JC_CIS_1[R1_offset:S1_offset, S0_offset:R1_offset] = g\n",
    "H_JC_CIS_1[S1_offset:,          R0_offset:S0_offset] = g_dag\n",
    "\n",
    "# A + \\Delta for QED-CIS-1\n",
    "H_QED_CIS_1[S0_offset:R1_offset, S0_offset:R1_offset] = A_matrix + D_matrix\n",
    "\n",
    "# A for JC\n",
    "H_JC_CIS_1[S0_offset:R1_offset, S0_offset:R1_offset] = A_matrix\n",
    "\n",
    "# omega\n",
    "# QED-CIS-1\n",
    "H_QED_CIS_1[R1_offset, R1_offset] = omega_val\n",
    "# JC-CIS-1\n",
    "H_JC_CIS_1[R1_offset, R1_offset] = omega_val\n",
    "\n",
    "# A + \\Delta + \\Omega for QED-CIS-1\n",
    "H_QED_CIS_1[S1_offset:, S1_offset:] = A_matrix + D_matrix + Omega\n",
    "\n",
    "# A + \\Omega for JC-CIS-1\n",
    "H_JC_CIS_1[S1_offset:, S1_offset:] = A_matrix + Omega\n",
    "\n",
    "# G coupling\n",
    "# QED-CIS-1\n",
    "H_QED_CIS_1[S1_offset:,S0_offset:R1_offset] = G \n",
    "H_QED_CIS_1[S0_offset:R1_offset, S1_offset:] = G \n",
    "# JC-CIS-1\n",
    "H_JC_CIS_1[S1_offset:,S0_offset:R1_offset] = G\n",
    "H_JC_CIS_1[S0_offset:R1_offset, S1_offset:] = G"
   ]
  },
  {
   "cell_type": "markdown",
   "metadata": {},
   "source": [
    "If we eliminate the simultaneous single-excitations in the photonic and electronic\n",
    "degrees of freedom, we arrive at the QED-CIS method which has direct analogy to the TDA-PF\n",
    "method described by Shao and co-workers:\n",
    "\\begin{equation}\n",
    "\\begin{bmatrix}\n",
    "{\\bf A} +\\Delta  & \\hbar {\\bf g}^{\\dagger}  \\\\\n",
    " \\hbar {\\bf g} & \\hbar \\omega\n",
    "\\end{bmatrix}\n",
    "\\begin{bmatrix}\n",
    "{\\bf c}^0_{ia} \\\\\n",
    "{\\bf c}^1_0 \n",
    "\\end{bmatrix}\n",
    "=\n",
    "E_{\\rm QED-CIS}\n",
    "\\begin{bmatrix}\n",
    "{\\bf c}^0_{ia} \\\\\n",
    "{\\bf c}^1_0\n",
    "\\end{bmatrix}. \\tag{17}\n",
    "\\end{equation}\n",
    "\n",
    "If we neglect the $\\Delta$ matrix in the QED-CIS Hamiltonian, we arrive at the JC-CIS method in direct analogy with the TDA-JC method described by Shao and co-workers:\n",
    "\\begin{equation}\n",
    "\\begin{bmatrix}\n",
    "{\\bf A}  & \\hbar {\\bf g}^{\\dagger}  \\\\\n",
    " \\hbar {\\bf g} & \\hbar \\omega\n",
    "\\end{bmatrix}\n",
    "\\begin{bmatrix}\n",
    "{\\bf c}^0_{ia} \\\\\n",
    "{\\bf c}^1_0 \n",
    "\\end{bmatrix}\n",
    "=\n",
    "E_{\\rm JC-CIS}\n",
    "\\begin{bmatrix}\n",
    "{\\bf c}^0_{ia} \\\\\n",
    "{\\bf c}^1_0\n",
    "\\end{bmatrix}. \\tag{18}\n",
    "\\end{equation}\n"
   ]
  },
  {
   "cell_type": "markdown",
   "metadata": {},
   "source": [
    "The ordering of the basis vectors for the two CIS methods above can be illustrated schematically as follows:\n",
    "\n",
    "\\begin{equation}\n",
    "|S,0\\rangle, |R,1\\rangle\n",
    "\\end{equation}\n",
    "We can define \n",
    "offsets for the blocks of the matrices as follows:\n",
    "\n",
    "$|S,0\\rangle$ offset = $0$\n",
    "\n",
    "$|R,1\\rangle$ offset = $N_v N_o$"
   ]
  },
  {
   "cell_type": "code",
   "execution_count": 16,
   "metadata": {},
   "outputs": [],
   "source": [
    "# define the CIS offsets\n",
    "CIS_S0_offset = 0\n",
    "CIS_R1_offset = ndocc * nvirt\n",
    "\n",
    "# CIS Hamiltonians\n",
    "H_QED_CIS = np.zeros((ndocc * nvirt + 1, ndocc * nvirt + 1))\n",
    "H_JC_CIS = np.zeros((ndocc * nvirt + 1, ndocc * nvirt + 1))\n",
    "\n",
    "# build the supermatrix\n",
    "# g coupling\n",
    "# QED-CIS\n",
    "H_QED_CIS[CIS_R1_offset:, CIS_S0_offset:CIS_R1_offset] = g \n",
    "H_QED_CIS[CIS_S0_offset:CIS_R1_offset, CIS_R1_offset:] = g_dag \n",
    "# JC-CIS\n",
    "H_JC_CIS[CIS_R1_offset:, CIS_S0_offset:CIS_R1_offset] = g\n",
    "H_JC_CIS[CIS_S0_offset:CIS_R1_offset, CIS_R1_offset:] = g_dag \n",
    "\n",
    "# A + \\Delta for QED-CIS\n",
    "H_QED_CIS[CIS_S0_offset:CIS_R1_offset, CIS_S0_offset:CIS_R1_offset] = A_matrix + D_matrix\n",
    "# A  for JC-CIS\n",
    "H_JC_CIS[CIS_S0_offset:CIS_R1_offset, CIS_S0_offset:CIS_R1_offset] = A_matrix\n",
    "\n",
    "# omega\n",
    "# QED-CIS\n",
    "H_QED_CIS[CIS_R1_offset, CIS_R1_offset] = omega_val\n",
    "# JC-CIS\n",
    "H_QED_CIS[CIS_R1_offset, CIS_R1_offset] = omega_val\n",
    "\n",
    "\n"
   ]
  },
  {
   "cell_type": "markdown",
   "metadata": {},
   "source": [
    "Now we can diagonalize the different supermatrices formed above to obtain the\n",
    "eigenvalues and eigenvectors from these 4 related levels of theory."
   ]
  },
  {
   "cell_type": "code",
   "execution_count": 17,
   "metadata": {},
   "outputs": [],
   "source": [
    "# diagonalize tall of the matrices!\n",
    "E_QED_CIS_1, C_QED_CIS_1 = np.linalg.eigh(H_QED_CIS_1)\n",
    "E_JC_CIS_1, C_JC_CIS_1 = np.linalg.eigh(H_JC_CIS_1)\n",
    "\n",
    "E_QED_CIS, C_QED_CIS = np.linalg.eigh(H_QED_CIS)\n",
    "E_JC_CIS, C_JC_CIS = np.linalg.eigh(H_JC_CIS)\n",
    "\n",
    "\n",
    "# store the results in a dictionary\n",
    "prism_dict = {\n",
    "    \"RHF ENERGY\": scf_e,\n",
    "    \"CQED-RHF ENERGY\": cqed_scf_e,\n",
    "    \"QED-CIS-1 ENERGY\": E_QED_CIS_1,\n",
    "    \"JC-CIS-1 ENERGY\": E_JC_CIS_1,\n",
    "    \"QED-CIS ENERGY\": E_QED_CIS,\n",
    "    \"JC-CIS ENERGY\": E_JC_CIS,\n",
    "}\n"
   ]
  },
  {
   "cell_type": "markdown",
   "metadata": {},
   "source": [
    "#### Check the first 3 states of the QED-CIS-1 Calculation"
   ]
  },
  {
   "cell_type": "code",
   "execution_count": 18,
   "metadata": {},
   "outputs": [
    {
     "name": "stdout",
     "output_type": "stream",
     "text": [
      "    QED-CIS-1 Ground State................................................................PASSED\n",
      "    QED-CIS-1 Lower Polariton State.......................................................PASSED\n",
      "    QED-CIS-1 Upper Polariton State.......................................................PASSED\n"
     ]
    },
    {
     "data": {
      "text/plain": [
       "True"
      ]
     },
     "execution_count": 18,
     "metadata": {},
     "output_type": "execute_result"
    }
   ],
   "source": [
    "# expected QED-CIS-1 Energies relative to QED-HF Energy\n",
    "expected_vals = np.array([-2.50831265e-04,  \n",
    "                          1.65570838e-01,\n",
    "                          1.82666685e-01,\n",
    "                          2.33013344e-01,\n",
    "                          2.33013344e-01])\n",
    "\n",
    "psi4.compare_values(expected_vals[0], prism_dict['QED-CIS-1 ENERGY'][0], 10, 'QED-CIS-1 Ground State')\n",
    "psi4.compare_values(expected_vals[1], prism_dict['QED-CIS-1 ENERGY'][1], 10, 'QED-CIS-1 Lower Polariton State')\n",
    "psi4.compare_values(expected_vals[2], prism_dict['QED-CIS-1 ENERGY'][2], 10, 'QED-CIS-1 Upper Polariton State')"
   ]
  },
  {
   "cell_type": "markdown",
   "metadata": {},
   "source": [
    "### References\n",
    "\n",
    "   - [[McTague:2022:154103]](https://aip.scitation.org/doi/10.1063/5.0091953)] J. McTague, J. J. Foley IV, *J. Chem. Phys.* **156**, 154103 (2022)\n",
    "   - [[Shao:2021:064107]](https://aip.scitation.org/doi/full/10.1063/5.0057542) J. Yang, Q. Ou, Z. Pei, H. Wang, B. Weng, Z. Shuai, K. Mullen, Y. Shao, *J. Chem. Phys.* **155**, 064107 (2021)"
   ]
  }
 ],
 "metadata": {
  "kernelspec": {
   "display_name": "Python 3 (ipykernel)",
   "language": "python",
   "name": "python3"
  },
  "language_info": {
   "codemirror_mode": {
    "name": "ipython",
    "version": 3
   },
   "file_extension": ".py",
   "mimetype": "text/x-python",
   "name": "python",
   "nbconvert_exporter": "python",
   "pygments_lexer": "ipython3",
   "version": "3.9.13"
  },
  "latex_envs": {
   "LaTeX_envs_menu_present": true,
   "bibliofile": "biblio.bib",
   "cite_by": "apalike",
   "current_citInitial": 1,
   "eqLabelWithNumbers": true,
   "eqNumInitial": 1,
   "labels_anchors": false,
   "latex_user_defs": false,
   "report_style_numbering": false,
   "user_envs_cfg": false
  }
 },
 "nbformat": 4,
 "nbformat_minor": 1
}
