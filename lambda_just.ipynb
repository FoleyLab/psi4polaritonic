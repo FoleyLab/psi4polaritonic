{
 "cells": [
  {
   "cell_type": "code",
   "execution_count": 7,
   "metadata": {},
   "outputs": [
    {
     "name": "stdout",
     "output_type": "stream",
     "text": [
      "9.187460953290949e-05\n"
     ]
    },
    {
     "data": {
      "text/plain": [
       "7.957747154594768e-10"
      ]
     },
     "execution_count": 7,
     "metadata": {},
     "output_type": "execute_result"
    }
   ],
   "source": [
    "import numpy as np\n",
    "# Take a dissipation energy scale of 0.01 eV -> lifetime of 400 fs\n",
    "# 4 \\hbar g > 0.01 eV\n",
    "# \\hbar g > 0.0025 eV\n",
    "threshold_ev = 0.0025\n",
    "threshold_au = 0.0025 / 27.211\n",
    "print(threshold_au)\n",
    "threshold_au = 1e-4\n",
    "threshold_au ** 2 / (4 * np.pi)"
   ]
  },
  {
   "cell_type": "markdown",
   "metadata": {},
   "source": [
    "\n",
    "\n",
    "$$\\hbar\\omega = \\frac{1}{2}\\epsilon_{cav}\\epsilon_0E^2_{peak}V\\tag{1}$$\n",
    "\n",
    "$$\\hbar\\omega = E = h\\nu = \\frac{hc}{\\tilde{\\lambda}}\\tag{2}$$\n",
    "where $\\tilde{\\lambda}$ represents the wavelength, to prevent confusion against the polarization vector.\n",
    "\n",
    "$$\\tilde{\\lambda}=\\frac{hc}{E}\\tag{3}$$\n",
    "\n",
    "Converting to volume gives us:\n",
    "\n",
    "$$V = \\frac{\\tilde{\\lambda}}{2}^3\\tag{4}$$\n",
    "\n",
    "\n",
    "Compared against the equation for the polarization vector\n",
    "$$\\lambda = \\sqrt{\\frac{16\\pi N}{V}}\\tag{5}$$\n",
    "\n",
    "Where we want $N < 1\\cdot 10^{12}$\n",
    "\n",
    "$$(0.2)^2 = \\frac{16\\pi N}{V}\\tag{6}$$\n",
    "\n",
    "$$N = \\frac{0.04V}{16\\pi}\\tag{7}$$"
   ]
  },
  {
   "cell_type": "code",
   "execution_count": 1,
   "metadata": {},
   "outputs": [],
   "source": [
    "from __future__ import print_function\n",
    "\n",
    "\"\"\"\n",
    "A script to run the cqed_rhf and cqed_cis method on MgH+ potential energy surface in a cc-pVDZ basis set,\n",
    "reproducing data from Figure 3 by McTague and Foley.\n",
    "\"\"\"\n",
    "\n",
    "__authors__   = [\"Jon McTague\", \"Jonathan Foley\"]\n",
    "__credits__   = [\"Jon McTague\", \"Jonathan Foley\"]\n",
    "\n",
    "__copyright_amp__ = \"(c) 2014-2018, The Psi4NumPy Developers\"\n",
    "__license__   = \"BSD-3-Clause\"\n",
    "__date__      = \"2021-01-15\"\n",
    "\n",
    "# ==> Import Psi4, NumPy, & SciPy <==\n",
    "import psi4\n",
    "import numpy as np\n",
    "from helper_cqed_rhf import *\n",
    "from helper_cis import *\n",
    "from helper_cs_cqed_cis import *\n",
    "from psi4.driver.procrouting.response.scf_response import tdscf_excitations\n",
    "from matplotlib import pyplot as plt\n",
    "# Set Psi4 & NumPy Memory Options\n",
    "psi4.set_memory('2 GB')\n",
    "psi4.core.set_output_file('output.dat', False)\n",
    "\n",
    "numpy_memory = 2"
   ]
  },
  {
   "cell_type": "code",
   "execution_count": 2,
   "metadata": {},
   "outputs": [
    {
     "name": "stdout",
     "output_type": "stream",
     "text": [
      "Test(Photon energy: 4.75 | Lambda Strength: 0.2) Number of molecules is less than 1e12 threshold. Actual amount: 12010931.882257767\n",
      "Constant Photon Energy, Changing Coupling Strength\n",
      " True \n",
      "\n",
      "Test(Photon energy: 4.75 | Lambda Strength: 0.05) Number of molecules is less than 1e12 threshold. Actual amount: 750683.2426411104\n",
      "True \n",
      "\n",
      "Test(Photon energy: 4.75 | Lambda Strength: 57) Number of molecules is less than 1e12 threshold. Actual amount: 975587942136.387\n",
      "True \n",
      "\n",
      "Test(Photon energy: 4.75 | Lambda Strength: 58) Number of molecules is greater than 1e12 threshold. Actual amount: 1010119371297.878.\n",
      "False \n",
      "\n",
      "Test(Photon energy: 2.0 | Lambda Strength: 0.2) Number of molecules is less than 1e12 threshold. Actual amount: 160904261.28985554\n",
      "\n",
      "Changing Omega:  True\n"
     ]
    }
   ],
   "source": [
    "import numpy as np\n",
    "def chk(energy,lam):\n",
    "    energy_J = energy*1.6e-19\n",
    "    c = 3e8\n",
    "    h = 6.626e-34\n",
    "    wl = h*c/energy_J\n",
    "    wl *= 1e9\n",
    "\n",
    "    vol = (wl*9.44865)**3 ##conversion to amu, considers the division by 2\n",
    "    N = (lam**2)*vol/(16*np.pi)\n",
    "    if bool(N>1e12):\n",
    "        print(\"Test(Photon energy: {} | Lambda Strength: {}) Number of molecules is greater than 1e12 threshold. Actual amount: {}.\".format(energy, lam, N))\n",
    "        return False\n",
    "    else:\n",
    "        print(\"Test(Photon energy: {} | Lambda Strength: {}) Number of molecules is less than 1e12 threshold. Actual amount: {}\".format(energy, lam, N))\n",
    "        return True\n",
    "\n",
    "## Test photon energy, lambda strength\n",
    "print(\"Constant Photon Energy, Changing Coupling Strength\\n\",chk(4.75,0.2),'\\n')\n",
    "print(chk(4.75,0.05),'\\n')\n",
    "print(chk(4.75, 57),'\\n')\n",
    "print(chk(4.75, 58),'\\n')\n",
    "\n",
    "## Checking with lowered omega\n",
    "\n",
    "print(\"\\nChanging Omega: \", chk(2.00,0.2))\n",
    "\n",
    "\n",
    "\n",
    "\n"
   ]
  },
  {
   "cell_type": "markdown",
   "metadata": {},
   "source": [
    "CQED Paper Revisions\n",
    "\n",
    "1.\tWhile dissipation is explicity included in the Hamiltonian, its value is still an empirical parameter. What determines the magnitude of that parameter? While for optical cavities photon lifetimes, or Q-factors, can be obtained from the cavity linewidth, focussing on only a single molecule as in this work, seems more in line with experiemnts of molecules inside (plasmonic) nano cavities. However, it is less clear to me what values of the dissipation are reasonable in such systems. Would the authors mind to spent a few words on how to choose suitable lifetimes, in particular when comparing resutls to such nano-cavity experiments?\n",
    "\n",
    "The magnitude of the dissipation value is representative of the lifetime of occupied photonic modes present within the cavity. Therefore, the values chosen to model the dissipation should take into consideration factors that might ultimately influence cavity lifetime. In our paper, our chosen dissipation of 0.22eV indicates a lifetime of approximately 20 femtoseconds, which is in line with an average plasmonic resonance. \n",
    "\n",
    "\n",
    "2.\tIt seems to me that the electromagnetic fields used in this work are extremely strong, much stronger I think than in micro or nano cavities. In particiular the energy shifts reported due to the light-matter interaction are huge, and hence should have probably been detected somehow in such experiments? Can the authors comment on that? Furthermore, in order to eventually verify the validity of the approach in future experiments, it would be helpful is the authors could also aim for including fields that are more in line with the fields in recent nanocavities, such as the nanoparticle-on-mirror by Baumberg and co-workers, or the nanoparticle dimer by Bidault and co-workers? Perhaps the authors could also speculate (!) on what type of experiment woudl be needed to validate the findings in their study?\n",
    "\n",
    "\n",
    "The values chosen for the EM field strength, while high, should still be achievable in a physical setting. To justify this statement, we have tested the achievability of reaching our field strength given a relation between the cavity volume and the number of independent molecules within the cavity—which we adapted from the bilinear coupling term present within Eq. 4—using an upper boundary of 1e12 molecules within our cavity volume to achieve our polarization strength. Given the cavity volume tested, this coupling strength would be achievable with 1.2e7 independent molecules within the cavity. We also tested our coupling strength against a reduced omega value that is more in-line with contemporary papers (ACS Nano 2021, 15, 14732−14743, J. Phys. Chem. Lett. 2020, 11, 21, 9063–9069) and achieve results supportive of this coupling strength.\n",
    "\n",
    "\n",
    "\n",
    "3.\tIs it possible to optimize the geometry? Or transition states and reaction paths? Perhaps this is the next step, but it would be essential to map out how strong coupling affects chemistry. For the Mg-Br system, is there an effect of the strong coupling on the ground state equilibrium?\n",
    "\n",
    "\n",
    "Ask Dr. Foley: Wouldn’t optimizing geometry/charting out TS & Reaction paths influence factors such as dissipation rate? Also, is it safe to state that Mg-Br would also be affected in G.S. Eq, as we observe pronounced changes when looking at the RHF case of strong coupling?\n",
    "\n",
    "\n",
    "4.\tTypically cavities support multiple modes. Can the authors share how their apprioach could be adapted to account for multiple modes?\n",
    "\n",
    "J. Chem. Phys. 153, 104103 (2020) goes into depth about this, although neglecting cavity loss effects—possible ideas to model multiple mode systems?\n",
    "\n",
    "\n",
    "\t\n",
    "5.\tOn page 5, if i understood correctly, in the aldehyde NH-CQED-CIS computation, there is no cavity loss included. Why then is the tilde still added to the cavity mode frequency?\n",
    "\n",
    "Typo, this has been corrected.\n",
    "    \n",
    "    \n",
    "    \n",
    "6.\tSomewhat related to my previous comments on the field strength: The diffference between the simple Jaynes-Cummings-like model (eq. 22) and the CQED-CIS method is very interesting to see, but how strong does the field need to be in order to see these differences. Might it be that for moderate fields, which may be more in line with experiment, in particular for optical cavities, the differences would dissappear?\n",
    "\n",
    "\n",
    "Still needs to be addressed.\n"
   ]
  },
  {
   "cell_type": "markdown",
   "metadata": {},
   "source": [
    "$$E = h\\nu = \\hbar\\omega = \\frac{hc}{\\lambda}$$"
   ]
  },
  {
   "cell_type": "markdown",
   "metadata": {},
   "source": [
    "\n",
    "\n",
    "Notes: \n",
    "1)\n",
    "Factors impacting cavity lifetime: a) availability of material DoF available for coupling through the photon; and b) scattering DoF for the photon to leak out of cavity--imperfections for example -> decrease Q factor. Spherical/no pores/no imperfections increase Q factor.\n",
    "\n",
    "3)\n",
    "Compare bond length PES for G.S RHF, QED/CIS, QEDRHF\n",
    "\n",
    "4)\n",
    "Yes its possible--difficulties due to Hamiltonian matrix size\n",
    "\n",
    "6)\n",
    "\n",
    "diags = RHF[0,0] E_excited from CIS [1,1], \n",
    "\n",
    "$$\\mu_{ge}\\cdot\\lambda = g$$\n",
    "if lambda goes to zero, off diags = 0\n",
    "For CIS, if all lambda values go to zero then we just have diags. \n",
    "Question: how large does lambda need to be to observe divergence between Jaynes-Cummings and our CIS."
   ]
  }
 ],
 "metadata": {
  "interpreter": {
   "hash": "581d61fde898a965a46b31c378b815b82e2a3325ec2dbce3e5f4ad528f055dab"
  },
  "kernelspec": {
   "display_name": "Python 3",
   "language": "python",
   "name": "python3"
  },
  "language_info": {
   "codemirror_mode": {
    "name": "ipython",
    "version": 3
   },
   "file_extension": ".py",
   "mimetype": "text/x-python",
   "name": "python",
   "nbconvert_exporter": "python",
   "pygments_lexer": "ipython3",
   "version": "3.8.5"
  }
 },
 "nbformat": 4,
 "nbformat_minor": 2
}
