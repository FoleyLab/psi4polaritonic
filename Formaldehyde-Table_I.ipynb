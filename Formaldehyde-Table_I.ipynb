{
 "cells": [
  {
   "cell_type": "code",
   "execution_count": 2,
   "metadata": {},
   "outputs": [
    {
     "name": "stdout",
     "output_type": "stream",
     "text": [
      "\n",
      "  Memory set to   1.863 GiB by Python driver.\n"
     ]
    }
   ],
   "source": [
    "from __future__ import print_function\n",
    "\n",
    "\"\"\"\n",
    "A script to run cqed_rhf method on the formaldehyde coupled to a photon with \n",
    "different polarizations and coupling magnitude |\\lambda| = 0.2 atomic units\n",
    "to produce data from Table I of McTague and Foley \n",
    "\"\"\"\n",
    "\n",
    "__authors__   = [\"Jon McTague\", \"Jonathan Foley\"]\n",
    "__credits__   = [\"Jon McTague\", \"Jonathan Foley\"]\n",
    "\n",
    "__copyright_amp__ = \"(c) 2014-2018, The Psi4NumPy Developers\"\n",
    "__license__   = \"BSD-3-Clause\"\n",
    "__date__      = \"2021-01-15\"\n",
    "\n",
    "# ==> Import Psi4, NumPy, & SciPy <==\n",
    "import psi4\n",
    "import numpy as np\n",
    "from helper_cqed_rhf import *\n",
    "from helper_cs_cqed_cis import *\n",
    "from matplotlib import pyplot as plt\n",
    "\n",
    "# Set Psi4 & NumPy Memory Options\n",
    "psi4.set_memory('2 GB')\n",
    "psi4.core.set_output_file('output.dat', False)\n",
    "\n",
    "numpy_memory = 2\n"
   ]
  },
  {
   "cell_type": "code",
   "execution_count": 7,
   "metadata": {},
   "outputs": [
    {
     "name": "stdout",
     "output_type": "stream",
     "text": [
      "    units Angstrom\n",
      "    symmetry c1\n",
      "    no_reorient\n",
      "    0 1\n",
      "    --\n",
      "    0 1\n",
      "    O                0.000000000000000     0.000000000000000     0.591268219658198\n",
      "    C                0.000000000000000     0.000000000000000    -0.590400099341802\n",
      "    H                0.000000000000000     0.932184336000000    -1.177031440341803\n",
      "    H                0.000000000000000    -0.932184336000000    -1.177031440341803\n",
      "\n",
      "\n"
     ]
    }
   ],
   "source": [
    "\n",
    "# rhf/cc-pVDZ optimized geometry of formaldehyde\n",
    "molstr = \"\"\"\n",
    "\n",
    "0 1\n",
    "O 0.0000000000 0.0000000000 5.91268220e-01\n",
    "C 0.0000000000 0.0000000000 -5.90400099e-01\n",
    "H 0.0000000000 9.32184336e-01 -1.17703144e+00\n",
    "H 0.0000000000 -9.32184336e-01 -1.17703144e+00\n",
    "no_reorient\n",
    "symmetry c1\n",
    "\"\"\"\n",
    "\n",
    "# options dict\n",
    "options_dict = {'basis': 'cc-pVTZ',\n",
    "               'save_jk': True, \n",
    "               'scf_type': 'pk',\n",
    "               'e_convergence' : 1e-8,\n",
    "               'd_convergence' : 1e-7}\n",
    "\n",
    "# to verify this geometry is optimal, you can run the block below\n",
    "psi4.set_options(options_dict)\n",
    "mol = psi4.geometry(molstr)\n",
    "\n",
    "opt_geometry = mol.geometry()\n",
    "#print(opt_geometry.np *0.529)\n",
    "\n",
    "string = psi4.core.Molecule.create_psi4_string_from_molecule(mol)\n",
    "print(string)"
   ]
  },
  {
   "cell_type": "markdown",
   "metadata": {},
   "source": [
    "Run the calculations below to compute the CQED-RHF energy for various polarizations and\n",
    "without coupling to a photon.  "
   ]
  },
  {
   "cell_type": "code",
   "execution_count": null,
   "metadata": {},
   "outputs": [],
   "source": [
    "from numpy import linalg \n",
    "# different magnitudes of the lambda vector\n",
    "l = 0.1\n",
    "\n",
    "\n",
    "lam_y = np.array([0, l, 0])\n",
    "lam_z = np.array([0, 0, l])\n",
    "lam_yz = np.array([0, l/np.sqrt(2), l/np.sqrt(2)])\n",
    "no_lam = np.array([0, 0, 0])\n",
    "  \n",
    "n = linalg.norm(lam_yz)\n",
    "print(\"norm is \",n)\n",
    "# results for y-polarized\n",
    "cqed_dict_y = cqed_rhf(lam_y, molstr, options_dict)\n",
    "# results for z-polarized\n",
    "cqed_dict_z = cqed_rhf(lam_z, molstr, options_dict)\n",
    "# results for yz-polarized\n",
    "cqed_dict_yz = cqed_rhf(lam_yz, molstr, options_dict)\n",
    "# results for no photon\n",
    "cqed_dict_no_lam = cqed_rhf(no_lam, molstr, options_dict)\n"
   ]
  },
  {
   "cell_type": "markdown",
   "metadata": {},
   "source": [
    "Run the cell below to decompose the changes in CQED-RHF energy to the different 1- and 2-electron\n",
    "components reported in Table I of McTague and Foley."
   ]
  },
  {
   "cell_type": "code",
   "execution_count": null,
   "metadata": {},
   "outputs": [],
   "source": [
    "print(\"Delta E \\lambda_y:\",cqed_dict_y['CQED-RHF ENERGY']-cqed_dict_no_lam['CQED-RHF ENERGY'])\n",
    "print(\"Delta E \\lambda_z:\",cqed_dict_z['CQED-RHF ENERGY']-cqed_dict_no_lam['CQED-RHF ENERGY'])\n",
    "print(\"Delta E \\lambda_yz:\",cqed_dict_yz['CQED-RHF ENERGY']-cqed_dict_no_lam['CQED-RHF ENERGY'])\n",
    "print('\\n')\n",
    "\n",
    "print(\"% Delta E 1E \\lambda_y:\", 100*(cqed_dict_y['1E ENERGY']-cqed_dict_no_lam['1E ENERGY'])/(cqed_dict_y['CQED-RHF ENERGY']-cqed_dict_no_lam['CQED-RHF ENERGY']))\n",
    "print(\"% Delta E 1E \\lambda_z:\", 100*(cqed_dict_z['1E ENERGY']-cqed_dict_no_lam['1E ENERGY'])/(cqed_dict_z['CQED-RHF ENERGY']-cqed_dict_no_lam['CQED-RHF ENERGY']))\n",
    "print(\"% Delta E 1E \\lambda_yz:\", 100*(cqed_dict_yz['1E ENERGY']-cqed_dict_no_lam['1E ENERGY'])/(cqed_dict_yz['CQED-RHF ENERGY']-cqed_dict_no_lam['CQED-RHF ENERGY']))\n",
    "print('\\n')\n",
    "\n",
    "print(\"% Delta E 2E \\lambda_y:\", 100*(cqed_dict_y['2E ENERGY']-cqed_dict_no_lam['2E ENERGY'])/(cqed_dict_y['CQED-RHF ENERGY']-cqed_dict_no_lam['CQED-RHF ENERGY']))\n",
    "print(\"% Delta E 2E \\lambda_z:\", 100*(cqed_dict_z['2E ENERGY']-cqed_dict_no_lam['2E ENERGY'])/(cqed_dict_z['CQED-RHF ENERGY']-cqed_dict_no_lam['CQED-RHF ENERGY']))\n",
    "print(\"% Delta E 2E \\lambda_yz:\", 100*(cqed_dict_yz['2E ENERGY']-cqed_dict_no_lam['2E ENERGY'])/(cqed_dict_yz['CQED-RHF ENERGY']-cqed_dict_no_lam['CQED-RHF ENERGY']))\n",
    "print('\\n')\n",
    "\n",
    "print(\"% Delta E 1DE \\lambda_y:\", 100*(cqed_dict_y['1E DIPOLE ENERGY']-cqed_dict_no_lam['1E DIPOLE ENERGY'])/(cqed_dict_y['CQED-RHF ENERGY']-cqed_dict_no_lam['CQED-RHF ENERGY']))\n",
    "print(\"% Delta E 1DE \\lambda_z:\", 100*(cqed_dict_z['1E DIPOLE ENERGY']-cqed_dict_no_lam['1E DIPOLE ENERGY'])/(cqed_dict_z['CQED-RHF ENERGY']-cqed_dict_no_lam['CQED-RHF ENERGY']))\n",
    "print(\"% Delta E 1DE \\lambda_yz:\", 100*(cqed_dict_yz['1E DIPOLE ENERGY']-cqed_dict_no_lam['1E DIPOLE ENERGY'])/(cqed_dict_yz['CQED-RHF ENERGY']-cqed_dict_no_lam['CQED-RHF ENERGY']))\n",
    "print('\\n')\n",
    "\n",
    "print(\"% Delta E 1QE \\lambda_y:\", 100*(cqed_dict_y['1E QUADRUPOLE ENERGY']-cqed_dict_no_lam['1E QUADRUPOLE ENERGY'])/(cqed_dict_y['CQED-RHF ENERGY']-cqed_dict_no_lam['CQED-RHF ENERGY']))\n",
    "print(\"% Delta E 1QE \\lambda_z:\", 100*(cqed_dict_z['1E QUADRUPOLE ENERGY']-cqed_dict_no_lam['1E QUADRUPOLE ENERGY'])/(cqed_dict_z['CQED-RHF ENERGY']-cqed_dict_no_lam['CQED-RHF ENERGY']))\n",
    "print(\"% Delta E 1QE \\lambda_yz:\", 100*(cqed_dict_yz['1E QUADRUPOLE ENERGY']-cqed_dict_no_lam['1E QUADRUPOLE ENERGY'])/(cqed_dict_yz['CQED-RHF ENERGY']-cqed_dict_no_lam['CQED-RHF ENERGY']))\n",
    "print('\\n')\n",
    "\n",
    "print(\"% Delta E 2DE \\lambda_y:\", 100*(cqed_dict_y['2E DIPOLE ENERGY']-cqed_dict_no_lam['2E DIPOLE ENERGY'])/(cqed_dict_y['CQED-RHF ENERGY']-cqed_dict_no_lam['CQED-RHF ENERGY']))\n",
    "print(\"% Delta E 2DE \\lambda_z:\", 100*(cqed_dict_z['2E DIPOLE ENERGY']-cqed_dict_no_lam['2E DIPOLE ENERGY'])/(cqed_dict_z['CQED-RHF ENERGY']-cqed_dict_no_lam['CQED-RHF ENERGY']))\n",
    "print(\"% Delta E 2DE \\lambda_yz:\", 100*(cqed_dict_yz['2E DIPOLE ENERGY']-cqed_dict_no_lam['2E DIPOLE ENERGY'])/(cqed_dict_yz['CQED-RHF ENERGY']-cqed_dict_no_lam['CQED-RHF ENERGY']))\n",
    "print('\\n')\n",
    "\n",
    "print(\"% Delta E Dc \\lambda_y:\", 100*(cqed_dict_y['DIPOLE ENERGY']-cqed_dict_no_lam['DIPOLE ENERGY'])/(cqed_dict_y['CQED-RHF ENERGY']-cqed_dict_no_lam['CQED-RHF ENERGY']))\n",
    "print(\"% Delta E Dc \\lambda_z:\", 100*(cqed_dict_z['DIPOLE ENERGY']-cqed_dict_no_lam['DIPOLE ENERGY'])/(cqed_dict_z['CQED-RHF ENERGY']-cqed_dict_no_lam['CQED-RHF ENERGY']))\n",
    "print(\"% Delta E Dc \\lambda_yz:\", 100*(cqed_dict_yz['DIPOLE ENERGY']-cqed_dict_no_lam['DIPOLE ENERGY'])/(cqed_dict_yz['CQED-RHF ENERGY']-cqed_dict_no_lam['CQED-RHF ENERGY']))"
   ]
  },
  {
   "cell_type": "code",
   "execution_count": null,
   "metadata": {},
   "outputs": [],
   "source": [
    "cavity_free_dipole = cqed_dict_no_lam['RHF DIPOLE MOMENT']\n",
    "polariton_dipole = cqed_dict_yz['CQED-RHF DIPOLE MOMENT']\n",
    "\n",
    "print(cavity_free_dipole)\n",
    "print(polariton_dipole)\n",
    "print(polariton_dipole-cavity_free_dipole)"
   ]
  },
  {
   "cell_type": "code",
   "execution_count": null,
   "metadata": {},
   "outputs": [],
   "source": []
  }
 ],
 "metadata": {
  "kernelspec": {
   "display_name": "Python 3 (ipykernel)",
   "language": "python",
   "name": "python3"
  },
  "language_info": {
   "codemirror_mode": {
    "name": "ipython",
    "version": 3
   },
   "file_extension": ".py",
   "mimetype": "text/x-python",
   "name": "python",
   "nbconvert_exporter": "python",
   "pygments_lexer": "ipython3",
   "version": "3.9.13"
  }
 },
 "nbformat": 4,
 "nbformat_minor": 4
}
