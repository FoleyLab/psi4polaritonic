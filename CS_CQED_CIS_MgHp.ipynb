{
 "cells": [
  {
   "cell_type": "code",
   "execution_count": null,
   "metadata": {},
   "outputs": [],
   "source": [
    "from __future__ import print_function\n",
    "\n",
    "\"\"\"\n",
    "A script to run cs_cqed_cis method and compare results to benchmark values provided by Marco Bauer's update\n",
    "to the psi4numpy implementation in PR 128: https://github.com/psi4/psi4numpy/pull/128 \n",
    "\"\"\"\n",
    "\n",
    "__authors__   = [\"Jon McTague\", \"Jonathan Foley\"]\n",
    "__credits__   = [\"Jon McTague\", \"Jonathan Foley\"]\n",
    "\n",
    "__copyright_amp__ = \"(c) 2014-2018, The Psi4NumPy Developers\"\n",
    "__license__   = \"BSD-3-Clause\"\n",
    "__date__      = \"2021-01-15\"\n",
    "\n",
    "# ==> Import Psi4, NumPy, & SciPy <==\n",
    "import psi4\n",
    "import numpy as np\n",
    "from helper_cqed_rhf import *\n",
    "from helper_cs_cqed_cis import *\n",
    "from matplotlib import pyplot as plt\n",
    "\n",
    "# Set Psi4 & NumPy Memory Options\n",
    "psi4.set_memory('2 GB')\n",
    "psi4.core.set_output_file('output.dat', False)\n",
    "\n",
    "numpy_memory = 2"
   ]
  },
  {
   "cell_type": "code",
   "execution_count": null,
   "metadata": {},
   "outputs": [],
   "source": [
    "# rhf/cc-pVDZ optimized geometry of formaldehyde\n",
    "molstr = \"\"\"\n",
    "Mg\n",
    "H 1 2.2\n",
    "symmetry c1\n",
    "1 1\n",
    "\"\"\"\n",
    "\n",
    "# options dict\n",
    "options_dict = {\n",
    "    \"basis\": \"cc-pVDZ\",\n",
    "    \"save_jk\": True,\n",
    "    \"scf_type\": \"pk\",\n",
    "    \"e_convergence\": 1e-10,\n",
    "    \"d_convergence\": 1e-10,\n",
    "}\n"
   ]
  },
  {
   "cell_type": "code",
   "execution_count": null,
   "metadata": {},
   "outputs": [],
   "source": [
    "om = 4.75 / psi4.constants.Hartree_energy_in_eV \n",
    "lam = np.array([0.0, 0.0, 0.0125])\n",
    "\n",
    "# cqed-cis\n",
    "cqed_cis_dict = cs_cqed_cis(lam, om, molstr, options_dict)"
   ]
  },
  {
   "cell_type": "code",
   "execution_count": null,
   "metadata": {},
   "outputs": [],
   "source": [
    "# check to see if first CQED-CIS excitation energy matches value from [McTague:2021:ChemRxiv] Figure 3 for case 2\n",
    "# This still needs to be corrected in the paper!\n",
    "cqed_cis_e = cqed_cis_dict[\"CQED-CIS ENERGY\"]\n",
    "print(cqed_cis_e)\n",
    "psi4.compare_values(cqed_cis_e[1], 0.1655708380, 8, \"CASE 2 CQED-CIS E\")"
   ]
  }
 ],
 "metadata": {
  "kernelspec": {
   "display_name": "Python 3 (ipykernel)",
   "language": "python",
   "name": "python3"
  },
  "language_info": {
   "codemirror_mode": {
    "name": "ipython",
    "version": 3
   },
   "file_extension": ".py",
   "mimetype": "text/x-python",
   "name": "python",
   "nbconvert_exporter": "python",
   "pygments_lexer": "ipython3",
   "version": "3.9.13"
  }
 },
 "nbformat": 4,
 "nbformat_minor": 4
}
