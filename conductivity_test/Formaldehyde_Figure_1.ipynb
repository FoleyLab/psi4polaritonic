{
 "cells": [
  {
   "cell_type": "code",
   "execution_count": 1,
   "metadata": {},
   "outputs": [],
   "source": [
    "from __future__ import print_function\n",
    "\n",
    "\"\"\"\n",
    "A script to run cqed_rhf method on the formaldehyde molecule in a cc-pVDZ basis set\n",
    "and plot the HOMO and LUMO+1 orbitals under strong and no-coupling to a photon\n",
    "polarized along the $y-z$ axis, as shown in Figure 1 of McTague and Foley.\n",
    "\"\"\"\n",
    "\n",
    "__authors__   = [\"Jon McTague\", \"Jonathan Foley\"]\n",
    "__credits__   = [\"Jon McTague\", \"Jonathan Foley\"]\n",
    "\n",
    "__copyright_amp__ = \"(c) 2014-2018, The Psi4NumPy Developers\"\n",
    "__license__   = \"BSD-3-Clause\"\n",
    "__date__      = \"2021-01-15\"\n",
    "\n",
    "# ==> Import Psi4, NumPy, & SciPy <==\n",
    "import psi4\n",
    "import numpy as np\n",
    "from helper_cqed_rhf import *\n",
    "from helper_cs_cqed_cis import *\n",
    "from matplotlib import pyplot as plt\n",
    "\n",
    "# Set Psi4 & NumPy Memory Options\n",
    "psi4.set_memory('2 GB')\n",
    "psi4.core.set_output_file('output.dat', False)\n",
    "\n",
    "numpy_memory = 2\n"
   ]
  },
  {
   "cell_type": "markdown",
   "metadata": {},
   "source": [
    "First get the orbitals with full $C_{2v}$ symmetry using canonical RHF"
   ]
  },
  {
   "cell_type": "code",
   "execution_count": 3,
   "metadata": {},
   "outputs": [
    {
     "name": "stdout",
     "output_type": "stream",
     "text": [
      "CubeViewer: listing cube files from the directory .\n",
      "Reading 5 cube files\n"
     ]
    },
    {
     "name": "stderr",
     "output_type": "stream",
     "text": [
      "/opt/anaconda3/lib//python3.8/site-packages/fortecubeview/py3js_renderer.py:1096: FutureWarning: marching_cubes_lewiner is deprecated in favor of marching_cubes. marching_cubes_lewiner will be removed in version 0.19\n",
      "  values = skimage.measure.marching_cubes_lewiner(data, level * 0.995)\n"
     ]
    },
    {
     "data": {
      "application/vnd.jupyter.widget-view+json": {
       "model_id": "464a831c75554e88ac8606659decd7ef",
       "version_major": 2,
       "version_minor": 0
      },
      "text/plain": [
       "VBox(children=(HTML(value=''), Renderer(camera=OrthographicCamera(bottom=-5.0, children=(DirectionalLight(colo…"
      ]
     },
     "metadata": {},
     "output_type": "display_data"
    },
    {
     "data": {
      "application/vnd.jupyter.widget-view+json": {
       "model_id": "9093aad2b6364df889f7f4c38f5af134",
       "version_major": 2,
       "version_minor": 0
      },
      "text/plain": [
       "HTML(value='\\n        <style>\\n           .jupyter-widgets-output-area .output_scroll {\\n                heigh…"
      ]
     },
     "metadata": {},
     "output_type": "display_data"
    },
    {
     "data": {
      "application/vnd.jupyter.widget-view+json": {
       "model_id": "23660b3b2a07457aa1caf0dfeb065933",
       "version_major": 2,
       "version_minor": 0
      },
      "text/plain": [
       "interactive(children=(Select(description='Cube files:', options=('MO    8a (2-B2)', 'MO    8a (8-A)', 'MO    9…"
      ]
     },
     "metadata": {},
     "output_type": "display_data"
    },
    {
     "data": {
      "text/plain": [
       "<fortecubeview.cube_viewer.CubeViewer at 0x7fb4b1971fa0>"
      ]
     },
     "execution_count": 3,
     "metadata": {},
     "output_type": "execute_result"
    }
   ],
   "source": [
    "import fortecubeview\n",
    "\n",
    "# options dict\n",
    "options_dict = {'basis': 'cc-pVDZ',\n",
    "               'save_jk': True, \n",
    "               'scf_type': 'pk',\n",
    "               'e_convergence' : 1e-10,\n",
    "               'd_convergence' : 1e-10}\n",
    "\n",
    "psi4.set_options(options_dict)\n",
    "mol = psi4.geometry(molstr)\n",
    "\n",
    "molstr = \"\"\"\n",
    "\n",
    "0 1\n",
    "O 0.0000000000 0.0000000000 5.91268220e-01\n",
    "C 0.0000000000 0.0000000000 -5.90400099e-01\n",
    "H 0.0000000000 9.32184336e-01 -1.17703144e+00\n",
    "H 0.0000000000 -9.32184336e-01 -1.17703144e+00\n",
    "no_reorient\n",
    "symmetry c2v\n",
    "\"\"\"\n",
    "\n",
    "energy, wfn = psi4.energy(\"scf/cc-pVDZ\", molecule=mol, return_wfn=True)\n",
    "psi4.set_options({\n",
    "    'CUBEPROP_TASKS': ['ORBITALS'], \n",
    "    'CUBEPROP_ORBITALS': [8, 9],\n",
    "})\n",
    "cube = psi4.cubeprop(wfn)\n",
    "fortecubeview.plot()"
   ]
  },
  {
   "cell_type": "markdown",
   "metadata": {},
   "source": [
    "Now get the orbitals when there is a photon polarized along the $y-z$ axis with coupling\n",
    "vector $\\lambda_{yz} = \\left(0, \\frac{0.2}{\\sqrt{2}}, \\frac{0.2}{\\sqrt{2}} \\right) $.\n",
    "Since our CQED-RHF code does not make use of symmetry, we will set the point group to be $C_1$, even\n",
    "though in reality it is $C_s$ with this polarization.  To get a plot of the resulting orbitals,\n",
    "we will create a dictionary from the internal `Psi4` wavefunction object (which contains information\n",
    "about the RHF orbitals), and modify this dictionary using the orbitals from our CQED-RHF calculation.\n",
    "We will then use this modified wavefunction object to generate cube files and then plot the cube\n",
    "files using fortecubeview."
   ]
  },
  {
   "cell_type": "code",
   "execution_count": null,
   "metadata": {},
   "outputs": [],
   "source": [
    "\n",
    "# rhf/cc-pVDZ optimized geometry of formaldehyde\n",
    "molstr = \"\"\"\n",
    "\n",
    "0 1\n",
    "O 0.0000000000 0.0000000000 5.91268220e-01\n",
    "C 0.0000000000 0.0000000000 -5.90400099e-01\n",
    "H 0.0000000000 9.32184336e-01 -1.17703144e+00\n",
    "H 0.0000000000 -9.32184336e-01 -1.17703144e+00\n",
    "no_reorient\n",
    "symmetry c1\n",
    "\"\"\"\n",
    "\n",
    "# options dict\n",
    "options_dict = {'basis': 'cc-pVDZ',\n",
    "               'save_jk': True, \n",
    "               'scf_type': 'pk',\n",
    "               'e_convergence' : 1e-10,\n",
    "               'd_convergence' : 1e-10}\n",
    "\n",
    "psi4.set_options(options_dict)\n",
    "mol = psi4.geometry(molstr)\n",
    "\n",
    "# this wavefunction object is generated by psi4 and contains\n",
    "# the canonical RHF orbitals\n",
    "energy, wfn = psi4.energy(\"scf/cc-pVDZ\", molecule=mol, return_wfn=True)\n",
    "\n",
    "# define the magnitude of the coupling vector\n",
    "l = 0.2\n",
    "\n",
    "lam_yz = np.array([0, l/np.sqrt(2), l/np.sqrt(2)])\n",
    "\n",
    "# run our CQED-RHF calculation and store the results in a dictionary called 'yz_dict'\n",
    "yz_dict = cqed_rhf(lam_yz, molstr, options_dict)\n",
    "\n",
    "# get the CQED-RHF orbitals from yz_dict\n",
    "C_yz = yz_dict['CQED-RHF C']\n",
    "\n",
    "# get the psi4 wavefunction as a dictionary\n",
    "rhf_wfn_dict = psi4.core.Wavefunction.to_file(wfn)\n",
    "\n",
    "# swap out orbitals in the dictionary with our orbitals from CQED-RHF\n",
    "rhf_wfn_dict['matrix']['Ca'] = C_yz\n",
    "rhf_wfn_dict['matrix']['Cb'] = C_yz\n",
    "\n",
    "# Now create a new wavefunction object that has the CQED-RHF orbitals 'cqedrhf_wfn'\n",
    "cqedrhf_wfn = psi4.core.Wavefunction.from_file(rhf_wfn_dict) \n",
    "\n",
    "# Confirm you have copied the CQED-RHF orbitals properly \n",
    "# by again getting a dic of the wavefunction and comparing\n",
    "# the orbitals to the original numpy array 'C' that resulted\n",
    "# from the CQED-RHF iterations\n",
    "cqedrhf_wfn_dict = psi4.core.Wavefunction.to_file(cqedrhf_wfn)\n",
    "\n",
    "assert np.allclose(cqedrhf_wfn_dict['matrix']['Ca'], C_yz, 1e-6)\n",
    "\n",
    "\n",
    "\n",
    "# homo\n",
    "HOMO = 8\n",
    "# lumo+1\n",
    "LUMOp1 = 10     # These are is the HOMO and LUMO+1 for formaldehyde\n",
    "\n",
    "\n",
    "psi4.set_options({\n",
    "    'CUBEPROP_TASKS': ['ORBITALS'], # calculate orbitals\n",
    "    'CUBEPROP_ORBITALS': [HOMO, LUMOp1],\n",
    "})\n",
    "\n",
    "# create cube files using our modified wavefunction object\n",
    "cube = psi4.cubeprop(cqedrhf_wfn)\n",
    "\n",
    "# plot the cube files with fortecubeview\n",
    "import fortecubeview\n",
    "fortecubeview.plot(colorscheme='emory', opacity=.95)"
   ]
  },
  {
   "cell_type": "code",
   "execution_count": null,
   "metadata": {},
   "outputs": [],
   "source": []
  }
 ],
 "metadata": {
  "kernelspec": {
   "display_name": "Python 3 (ipykernel)",
   "language": "python",
   "name": "python3"
  },
  "language_info": {
   "codemirror_mode": {
    "name": "ipython",
    "version": 3
   },
   "file_extension": ".py",
   "mimetype": "text/x-python",
   "name": "python",
   "nbconvert_exporter": "python",
   "pygments_lexer": "ipython3",
   "version": "3.9.13"
  }
 },
 "nbformat": 4,
 "nbformat_minor": 4
}
