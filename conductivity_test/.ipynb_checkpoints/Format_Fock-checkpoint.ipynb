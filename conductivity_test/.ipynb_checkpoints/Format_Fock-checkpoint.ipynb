{
 "cells": [
  {
   "cell_type": "code",
   "execution_count": 10,
   "id": "af56af2b",
   "metadata": {},
   "outputs": [],
   "source": [
    "import numpy as np\n",
    "S_read = np.loadtxt(\"S_no_lam.out\")\n",
    "F_read = np.loadtxt(\"F_no_lam.out\")\n",
    "#print(len(F_read))\n",
    "#F_read[22154,:]"
   ]
  },
  {
   "cell_type": "code",
   "execution_count": 11,
   "id": "1b7397ed",
   "metadata": {},
   "outputs": [],
   "source": [
    "F = np.zeros((210,210))\n",
    "S = np.zeros((210,210))\n",
    "for i in range(len(F_read)):\n",
    "    p = int( F_read[i, 0] )\n",
    "    q = int( F_read[i, 1] )\n",
    "    F_pq = F_read[i, 2]\n",
    "    S_pq = S_read[i, 2]\n",
    "    F[p, q] = F_pq\n",
    "    F[q, p] = F_pq\n",
    "    S[p, q] = S_pq\n",
    "    S[q, p] = S_pq"
   ]
  },
  {
   "cell_type": "code",
   "execution_count": 12,
   "id": "aa7f335a",
   "metadata": {},
   "outputs": [
    {
     "name": "stdout",
     "output_type": "stream",
     "text": [
      "[[-5.44685980e+00 -1.21432314e+01 -4.69009201e+00 ... -1.00420886e-06\n",
      "   4.09878056e-04 -1.22184101e-05]\n",
      " [-1.21432314e+01 -7.98725949e+00 -4.22471196e+00 ...  7.80681762e-07\n",
      "  -3.52685140e-04  3.23217425e-05]\n",
      " [-4.69009201e+00 -4.22471196e+00 -2.45553176e+00 ...  4.65973938e-06\n",
      "  -2.36041571e-03  3.32941816e-04]\n",
      " ...\n",
      " [-1.00420886e-06  7.80681762e-07  4.65973938e-06 ...  1.54911728e+00\n",
      "  -1.74550993e-04  1.33278486e-03]\n",
      " [ 4.09878056e-04 -3.52685140e-04 -2.36041571e-03 ... -1.74550993e-04\n",
      "   1.54808704e+00  4.75880667e-02]\n",
      " [-1.22184101e-05  3.23217425e-05  3.32941816e-04 ...  1.33278486e-03\n",
      "   4.75880667e-02  1.16387070e+00]]\n",
      "[[ 1.00000000e+00  6.85598762e-01  1.87968824e-01 ... -1.66042269e-15\n",
      "  -3.78842002e-13  7.02638693e-13]\n",
      " [ 6.85598762e-01  1.00000000e+00  5.28931145e-01 ... -5.63983711e-13\n",
      "  -1.28678510e-10  2.38660179e-10]\n",
      " [ 1.87968824e-01  5.28931145e-01  1.00000000e+00 ... -3.13023362e-08\n",
      "  -7.14194028e-06  1.32461648e-05]\n",
      " ...\n",
      " [-1.66042269e-15 -5.63983711e-13 -3.13023362e-08 ...  1.00000000e+00\n",
      "   0.00000000e+00  0.00000000e+00]\n",
      " [-3.78842002e-13 -1.28678510e-10 -7.14194028e-06 ...  0.00000000e+00\n",
      "   1.00000000e+00  0.00000000e+00]\n",
      " [ 7.02638693e-13  2.38660179e-10  1.32461648e-05 ...  0.00000000e+00\n",
      "   0.00000000e+00  1.00000000e+00]]\n",
      "35.0\n"
     ]
    }
   ],
   "source": [
    "print(F)\n",
    "print(S)\n",
    "print(210/6)"
   ]
  },
  {
   "cell_type": "code",
   "execution_count": 13,
   "id": "210c3a3a",
   "metadata": {},
   "outputs": [],
   "source": [
    "f_file = open('no_lambda_pyrimidine_formatted_F_and_S.out', 'w')"
   ]
  },
  {
   "cell_type": "code",
   "execution_count": 14,
   "id": "5aef0be5",
   "metadata": {},
   "outputs": [],
   "source": [
    "base = np.array([0, 1, 2, 3, 4, 5], dtype=int)\n",
    "increment = np.array([6, 6, 6, 6, 6, 6], dtype=int)\n",
    "\n"
   ]
  },
  {
   "cell_type": "code",
   "execution_count": 15,
   "id": "afa2df6d",
   "metadata": {},
   "outputs": [],
   "source": [
    "print('--------------', file=f_file)\n",
    "print('OVERLAP MATRIX', file=f_file)\n",
    "print('--------------', file=f_file)\n",
    "for j in range(35):\n",
    "    idx = base + j * increment\n",
    "    print(F' {idx[0]:13} {idx[1]:12} {idx[2]:12} {idx[3]:12} {idx[4]:12} {idx[5]:12}', file=f_file )\n",
    "    for i in range(0, 210):\n",
    "        print(F' {i:4} {S[i, idx[0]]:12.6f} {S[i, idx[1]]:12.6f} {S[i, idx[2]]:12.6f} {S[i, idx[3]]:12.6f} {S[i, idx[4]]:12.6f} {S[i, idx[5]]:12.6f}', file=f_file)"
   ]
  },
  {
   "cell_type": "code",
   "execution_count": 16,
   "id": "900d0faf",
   "metadata": {},
   "outputs": [],
   "source": [
    "print('Fock matrix for operator 0', file=f_file)"
   ]
  },
  {
   "cell_type": "code",
   "execution_count": 17,
   "id": "c190e5f3",
   "metadata": {},
   "outputs": [],
   "source": [
    "for j in range(35):\n",
    "    idx = base + j * increment\n",
    "    print(F' {idx[0]:13} {idx[1]:12} {idx[2]:12} {idx[3]:12} {idx[4]:12} {idx[5]:12}', file=f_file)\n",
    "    for i in range(0, 210):\n",
    "        print(F' {i:4} {F[i, idx[0]]:12.6f} {F[i, idx[1]]:12.6f} {F[i, idx[2]]:12.6f} {F[i, idx[3]]:12.6f} {F[i, idx[4]]:12.6f} {F[i, idx[5]]:12.6f}', file=f_file)"
   ]
  },
  {
   "cell_type": "code",
   "execution_count": 18,
   "id": "b9b43dc3",
   "metadata": {},
   "outputs": [],
   "source": [
    "f_file.close()"
   ]
  },
  {
   "cell_type": "code",
   "execution_count": null,
   "id": "9e66e1ce",
   "metadata": {},
   "outputs": [],
   "source": []
  }
 ],
 "metadata": {
  "kernelspec": {
   "display_name": "Python 3 (ipykernel)",
   "language": "python",
   "name": "python3"
  },
  "language_info": {
   "codemirror_mode": {
    "name": "ipython",
    "version": 3
   },
   "file_extension": ".py",
   "mimetype": "text/x-python",
   "name": "python",
   "nbconvert_exporter": "python",
   "pygments_lexer": "ipython3",
   "version": "3.9.13"
  }
 },
 "nbformat": 4,
 "nbformat_minor": 5
}
