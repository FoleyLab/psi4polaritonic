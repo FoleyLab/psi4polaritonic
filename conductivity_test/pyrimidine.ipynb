{
 "cells": [
  {
   "cell_type": "code",
   "execution_count": null,
   "metadata": {},
   "outputs": [],
   "source": [
    "from __future__ import print_function\n",
    "\n",
    "\"\"\"\n",
    "A script to run cqed-rhf calculation of pyrimidine in the def2-TZVP basis\n",
    "\"\"\"\n",
    "\n",
    "__copyright_amp__ = \"(c) 2014-2018, The Psi4NumPy Developers\"\n",
    "__license__   = \"BSD-3-Clause\"\n",
    "__date__      = \"2021-01-15\"\n",
    "\n",
    "# ==> Import Psi4, NumPy, & SciPy <==\n",
    "import psi4\n",
    "import numpy as np\n",
    "from helper_cqed_rhf import *\n",
    "from matplotlib import pyplot as plt\n",
    "\n",
    "# Set Psi4 & NumPy Memory Options\n",
    "psi4.set_memory('2 GB')\n",
    "psi4.core.set_output_file('output.dat', False)\n",
    "\n",
    "numpy_memory = 2\n"
   ]
  },
  {
   "cell_type": "code",
   "execution_count": null,
   "metadata": {},
   "outputs": [],
   "source": [
    "\n",
    "# geometry for pyrimidine from Ryan's ORCA calculation\n",
    "molstr = \"\"\"\n",
    "\n",
    "0 1\n",
    "C     -3.138301    1.766784    0.005631\n",
    "C     -2.051429    2.626262   -0.001165\n",
    "C     -0.789779    2.053301   -0.001873\n",
    "N     -0.631660    0.734101    0.003549\n",
    "C     -1.729565   -0.011689    0.008655\n",
    "N     -2.974582    0.448259    0.009994\n",
    "H     -4.159547    2.136475    0.004056\n",
    "H     -2.182537    3.700840   -0.006430\n",
    "H      0.112609    2.657688   -0.007194\n",
    "H     -1.597993   -1.090027    0.012382\n",
    "no_reorient\n",
    "symmetry c1\n",
    "\"\"\"\n",
    "\n",
    "# options dict\n",
    "#options_dict = {'basis': 'def2-TZVP',\n",
    "#               'save_jk': True, \n",
    "#               'scf_type': 'pk',\n",
    "#               'e_convergence' : 1e-8,\n",
    "#               'd_convergence' : 1e-7}\n",
    "\n",
    "options_dict = {'basis': 'def2-TZVP',\n",
    "               'save_jk': True, \n",
    "               'scf_type': 'pk',\n",
    "               'e_convergence' : 1e-8,\n",
    "               'd_convergence' : 1e-7}\n",
    "\n",
    "# to verify this geometry is optimal, you can run the block below\n",
    "#psi4.set_options(options_dict)\n",
    "#mol = psi4.geometry(molstr)\n",
    "\n",
    "#opt_geometry = mol.geometry()\n",
    "#print(opt_geometry.np*0.529)"
   ]
  },
  {
   "cell_type": "markdown",
   "metadata": {},
   "source": [
    "Run the calculations below to compute the CQED-RHF energy for various polarizations and\n",
    "without coupling to a photon.  "
   ]
  },
  {
   "cell_type": "markdown",
   "metadata": {},
   "source": [
    "Run the cell below to decompose the changes in CQED-RHF energy to the different 1- and 2-electron\n",
    "components reported in Table I of McTague and Foley."
   ]
  },
  {
   "cell_type": "code",
   "execution_count": null,
   "metadata": {},
   "outputs": [],
   "source": [
    "# different magnitudes of the lambda vector\n",
    "l = 0.1\n",
    "\n",
    "\n",
    "lam_y = np.array([0, l, 0])\n",
    "lam_xy = np.array([l/np.sqrt(2), l/np.sqrt(2), 0])\n",
    "    \n",
    "# results for y-polarized\n",
    "cqed_dict_y = cqed_rhf(lam_y, molstr, options_dict)\n",
    "# results for z-polarized\n",
    "\n",
    "F = cqed_dict_y[\"PF FOCK MATRIX\"]\n",
    "S = np.array(cqed_dict_y[\"OVERLAP MATRIX\"])\n",
    "\n",
    "f_file = open('lambda_y_0.1_pyrimidine.out', 'w')\n",
    "print(F'Fock Matrix for lambda_y = {l}', file=f_file)\n",
    "for i in range(0,len(F)):\n",
    "    for j in range(i, len(F)):\n",
    "        F_val = F[i,j]\n",
    "        print(F' {i} {j} {F_val}', file=f_file)\n",
    "        \n",
    "print(F'Overlap Matrix for lambda_y = {l}', file=f_file)\n",
    "for i in range(0,len(S)):\n",
    "    for j in range(i, len(S)):\n",
    "        F_val = S[i,j]\n",
    "        print(F' {i} {j} {F_val}', file=f_file)\n",
    "\n",
    "f_file.close()"
   ]
  },
  {
   "cell_type": "code",
   "execution_count": null,
   "metadata": {},
   "outputs": [],
   "source": [
    "print(cqed_dict_y[\"CQED-RHF DIPOLE MOMENT\"])"
   ]
  },
  {
   "cell_type": "code",
   "execution_count": null,
   "metadata": {},
   "outputs": [],
   "source": [
    "F = cqed_dict_y[\"PF FOCK MATRIX\"]\n",
    "S = np.array(cqed_dict_y[\"OVERLAP MATRIX\"])\n",
    "\n",
    "f_file = open('no_lambda_pyrimidine.out', 'w')\n",
    "print(F'Fock Matrix for lambda_y = {l}', file=f_file)\n",
    "for i in range(0,len(F)):\n",
    "    for j in range(i, len(F)):\n",
    "        F_val = F[i,j]\n",
    "        print(F' {i} {j} {F_val}', file=f_file)\n",
    "        \n",
    "print(F'Overlap Matrix for lambda_y = {l}', file=f_file)\n",
    "for i in range(0,len(S)):\n",
    "    for j in range(i, len(S)):\n",
    "        F_val = S[i,j]\n",
    "        print(F' {i} {j} {F_val}', file=f_file)\n",
    "\n",
    "f_file.close()"
   ]
  },
  {
   "cell_type": "code",
   "execution_count": null,
   "metadata": {},
   "outputs": [],
   "source": [
    "\n",
    "#S = np.array(cqed_dict_y[\"OVERLAP MATRIX\"])"
   ]
  },
  {
   "cell_type": "code",
   "execution_count": null,
   "metadata": {},
   "outputs": [],
   "source": [
    "count = 0\n",
    "for i in range(0,6):\n",
    "    print(F'{count} \\t')\n",
    "    count += 1\n",
    "    for j in range(0, 35):\n",
    "        Sv = S[i, j]\n",
    "        print(F' {Sv:.6f} ')\n",
    "    "
   ]
  },
  {
   "cell_type": "code",
   "execution_count": null,
   "metadata": {},
   "outputs": [],
   "source": []
  }
 ],
 "metadata": {
  "kernelspec": {
   "display_name": "Python 3 (ipykernel)",
   "language": "python",
   "name": "python3"
  },
  "language_info": {
   "codemirror_mode": {
    "name": "ipython",
    "version": 3
   },
   "file_extension": ".py",
   "mimetype": "text/x-python",
   "name": "python",
   "nbconvert_exporter": "python",
   "pygments_lexer": "ipython3",
   "version": "3.9.13"
  }
 },
 "nbformat": 4,
 "nbformat_minor": 4
}
