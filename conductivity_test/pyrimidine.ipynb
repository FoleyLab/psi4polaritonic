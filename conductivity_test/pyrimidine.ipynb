{
 "cells": [
  {
   "cell_type": "code",
   "execution_count": 1,
   "metadata": {},
   "outputs": [
    {
     "name": "stdout",
     "output_type": "stream",
     "text": [
      "\n",
      "  Memory set to   1.863 GiB by Python driver.\n"
     ]
    }
   ],
   "source": [
    "from __future__ import print_function\n",
    "\n",
    "\"\"\"\n",
    "A script to run cqed-rhf calculation of pyrimidine in the def2-TZVP basis\n",
    "\"\"\"\n",
    "\n",
    "__copyright_amp__ = \"(c) 2014-2018, The Psi4NumPy Developers\"\n",
    "__license__   = \"BSD-3-Clause\"\n",
    "__date__      = \"2021-01-15\"\n",
    "\n",
    "# ==> Import Psi4, NumPy, & SciPy <==\n",
    "import psi4\n",
    "import numpy as np\n",
    "from helper_cqed_rhf import *\n",
    "from matplotlib import pyplot as plt\n",
    "\n",
    "# Set Psi4 & NumPy Memory Options\n",
    "psi4.set_memory('2 GB')\n",
    "psi4.core.set_output_file('output.dat', False)\n",
    "\n",
    "numpy_memory = 2\n"
   ]
  },
  {
   "cell_type": "code",
   "execution_count": 9,
   "metadata": {},
   "outputs": [],
   "source": [
    "\n",
    "# geometry for pyrimidine from Ryan's ORCA calculation\n",
    "molstr = \"\"\"\n",
    "\n",
    "0 1\n",
    "C     -3.138301    1.766784    0.005631\n",
    "C     -2.051429    2.626262   -0.001165\n",
    "C     -0.789779    2.053301   -0.001873\n",
    "N     -0.631660    0.734101    0.003549\n",
    "C     -1.729565   -0.011689    0.008655\n",
    "N     -2.974582    0.448259    0.009994\n",
    "H     -4.159547    2.136475    0.004056\n",
    "H     -2.182537    3.700840   -0.006430\n",
    "H      0.112609    2.657688   -0.007194\n",
    "H     -1.597993   -1.090027    0.012382\n",
    "no_reorient\n",
    "symmetry c1\n",
    "\"\"\"\n",
    "\n",
    "# options dict\n",
    "#options_dict = {'basis': 'def2-TZVP',\n",
    "#               'save_jk': True, \n",
    "#               'scf_type': 'pk',\n",
    "#               'e_convergence' : 1e-8,\n",
    "#               'd_convergence' : 1e-7}\n",
    "\n",
    "options_dict = {'basis': 'cc-pVDZ',\n",
    "               'save_jk': True, \n",
    "               'scf_type': 'pk',\n",
    "               'e_convergence' : 1e-8,\n",
    "               'd_convergence' : 1e-7}\n",
    "\n",
    "# to verify this geometry is optimal, you can run the block below\n",
    "#psi4.set_options(options_dict)\n",
    "#mol = psi4.geometry(molstr)\n",
    "\n",
    "#opt_geometry = mol.geometry()\n",
    "#print(opt_geometry.np*0.529)"
   ]
  },
  {
   "cell_type": "markdown",
   "metadata": {},
   "source": [
    "Run the calculations below to compute the CQED-RHF energy for various polarizations and\n",
    "without coupling to a photon.  "
   ]
  },
  {
   "cell_type": "code",
   "execution_count": 12,
   "metadata": {},
   "outputs": [
    {
     "name": "stdout",
     "output_type": "stream",
     "text": [
      "\n",
      "Start SCF iterations:\n",
      "\n",
      "Canonical RHF One-electron energy = -770.9392917217023751\n",
      "CQED-RHF One-electron energy      = -770.0055480942083932\n",
      "Nuclear repulsion energy          = 209.9586846065319037\n",
      "Dipole energy                     = 0.0088772559623470\n",
      "SCF Iteration   1: Energy = -262.5872003511169623   dE = -2.62587E+02   dRMS = 4.66469E-04\n",
      "SCF Iteration   2: Energy = -262.5897912936140983   dE = -2.59094E-03   dRMS = 1.43565E-04\n",
      "SCF Iteration   3: Energy = -262.5899768540757577   dE = -1.85560E-04   dRMS = 5.05938E-05\n",
      "SCF Iteration   4: Energy = -262.5900072645623595   dE = -3.04105E-05   dRMS = 3.51691E-05\n",
      "SCF Iteration   5: Energy = -262.5900165783441480   dE = -9.31378E-06   dRMS = 1.78096E-05\n",
      "SCF Iteration   6: Energy = -262.5900203701122564   dE = -3.79177E-06   dRMS = 1.47108E-05\n",
      "SCF Iteration   7: Energy = -262.5900220594709253   dE = -1.68936E-06   dRMS = 8.16454E-06\n",
      "SCF Iteration   8: Energy = -262.5900228340720446   dE = -7.74601E-07   dRMS = 6.73508E-06\n",
      "SCF Iteration   9: Energy = -262.5900231932534439   dE = -3.59181E-07   dRMS = 3.90587E-06\n",
      "SCF Iteration  10: Energy = -262.5900233607876544   dE = -1.67534E-07   dRMS = 3.19466E-06\n",
      "SCF Iteration  11: Energy = -262.5900234392839252   dE = -7.84963E-08   dRMS = 1.92770E-06\n",
      "SCF Iteration  12: Energy = -262.5900234762275431   dE = -3.69436E-08   dRMS = 1.56923E-06\n",
      "SCF Iteration  13: Energy = -262.5900234937042796   dE = -1.74767E-08   dRMS = 9.91393E-07\n",
      "SCF Iteration  14: Energy = -262.5900235020291120   dE = -8.32483E-09   dRMS = 8.05310E-07\n",
      "SCF Iteration  15: Energy = -262.5900235060269097   dE = -3.99780E-09   dRMS = 5.36432E-07\n",
      "SCF Iteration  16: Energy = -262.5900235079695904   dE = -1.94268E-09   dRMS = 4.35174E-07\n",
      "SCF Iteration  17: Energy = -262.5900235089244461   dE = -9.54856E-10   dRMS = 3.05760E-07\n",
      "SCF Iteration  18: Energy = -262.5900235094040909   dE = -4.79645E-10   dRMS = 2.47662E-07\n",
      "SCF Iteration  19: Energy = -262.5900235096477786   dE = -2.43688E-10   dRMS = 1.82053E-07\n",
      "SCF Iteration  20: Energy = -262.5900235097751647   dE = -1.27386E-10   dRMS = 1.47174E-07\n",
      "SCF Iteration  21: Energy = -262.5900235098432063   dE = -6.80416E-11   dRMS = 1.11785E-07\n",
      "SCF Iteration  22: Energy = -262.5900235098803819   dE = -3.71756E-11   dRMS = 9.01826E-08\n",
      "Total time for SCF iterations: 12.072 seconds \n",
      "\n",
      "QED-RHF   energy: -262.59002351 hartree\n",
      "Psi4  SCF energy: -262.71380963 hartree\n"
     ]
    }
   ],
   "source": [
    "# different magnitudes of the lambda vector\n",
    "l = 0.1\n",
    "\n",
    "\n",
    "lam_y = np.array([0, l, 0])\n",
    "lam_xy = np.array([l/np.sqrt(2), l/np.sqrt(2), 0])\n",
    "    \n",
    "# results for y-polarized\n",
    "cqed_dict_y = cqed_rhf(lam_y, molstr, options_dict)\n",
    "# results for z-polarized\n",
    "\n"
   ]
  },
  {
   "cell_type": "markdown",
   "metadata": {},
   "source": [
    "Run the cell below to decompose the changes in CQED-RHF energy to the different 1- and 2-electron\n",
    "components reported in Table I of McTague and Foley."
   ]
  },
  {
   "cell_type": "code",
   "execution_count": 11,
   "metadata": {},
   "outputs": [
    {
     "name": "stdout",
     "output_type": "stream",
     "text": [
      "[-0.1061939   0.87035288 -0.00434713]\n"
     ]
    }
   ],
   "source": [
    "print(cqed_dict_y[\"RHF DIPOLE MOMENT\"])"
   ]
  },
  {
   "cell_type": "code",
   "execution_count": null,
   "metadata": {},
   "outputs": [],
   "source": []
  }
 ],
 "metadata": {
  "kernelspec": {
   "display_name": "Python 3 (ipykernel)",
   "language": "python",
   "name": "python3"
  },
  "language_info": {
   "codemirror_mode": {
    "name": "ipython",
    "version": 3
   },
   "file_extension": ".py",
   "mimetype": "text/x-python",
   "name": "python",
   "nbconvert_exporter": "python",
   "pygments_lexer": "ipython3",
   "version": "3.9.13"
  }
 },
 "nbformat": 4,
 "nbformat_minor": 4
}
